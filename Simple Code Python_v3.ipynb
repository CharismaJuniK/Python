{
  "nbformat": 4,
  "nbformat_minor": 0,
  "metadata": {
    "colab": {
      "provenance": [],
      "toc_visible": true,
      "authorship_tag": "ABX9TyMKQy2w9bFm7IwBe5l6KB9S"
    },
    "kernelspec": {
      "name": "python3",
      "display_name": "Python 3"
    },
    "language_info": {
      "name": "python"
    }
  },
  "cells": [
    {
      "cell_type": "markdown",
      "source": [
        "#Set.union() Operation"
      ],
      "metadata": {
        "id": "zTMbEmChqAfO"
      }
    },
    {
      "cell_type": "markdown",
      "source": [
        "##Cara 1"
      ],
      "metadata": {
        "id": "DPTdwjrgqEZN"
      }
    },
    {
      "cell_type": "code",
      "execution_count": null,
      "metadata": {
        "colab": {
          "base_uri": "https://localhost:8080/"
        },
        "id": "zQvVeTsOoB4N",
        "outputId": "b4b10a53-9638-43c8-bc8b-d1e78815499e"
      },
      "outputs": [
        {
          "output_type": "stream",
          "name": "stdout",
          "text": [
            "9\n",
            "1 2 3 4 5 6 7 8 9\n",
            "9\n",
            "10 1 2 3 11 21 55 6 8\n",
            "13\n"
          ]
        }
      ],
      "source": [
        "n = int(input())\n",
        "set1 = set(map(int,input().split()))\n",
        "b = int(input())\n",
        "set2 = set(map(int,input().split()))\n",
        "u = set1.union(set2)\n",
        "print(len(u))"
      ]
    },
    {
      "cell_type": "markdown",
      "source": [
        "##Cara 2"
      ],
      "metadata": {
        "id": "p_Iq0ZR1qGJ8"
      }
    },
    {
      "cell_type": "code",
      "source": [
        "n, n_set, b, b_set = int(input()), set(map(int, input().split())), int(input()), set(map(int, input().split()))\n",
        "f = n_set.union(b_set)\n",
        "print(len(f))"
      ],
      "metadata": {
        "colab": {
          "base_uri": "https://localhost:8080/"
        },
        "id": "kMHx6SgaoVfl",
        "outputId": "db245a1a-6361-4fd7-a8c8-a5ca0314f6fe"
      },
      "execution_count": null,
      "outputs": [
        {
          "output_type": "stream",
          "name": "stdout",
          "text": [
            "9\n",
            "1 2 3 4 5 6 7 8 9\n",
            "9\n",
            "10 1 2 3 11 21 55 6 8\n",
            "13\n"
          ]
        }
      ]
    },
    {
      "cell_type": "markdown",
      "source": [
        "##Cara 3"
      ],
      "metadata": {
        "id": "5QHuFZ3DqIS9"
      }
    },
    {
      "cell_type": "code",
      "source": [
        "var1 = int(input()) \n",
        "set1 = set(map(int, input().split())) \n",
        "var2 = int(input()) \n",
        "set2 = set(map(int,input().split())) \n",
        "print(len(set1.union(set2)))"
      ],
      "metadata": {
        "colab": {
          "base_uri": "https://localhost:8080/"
        },
        "id": "O-ejpUyhondG",
        "outputId": "a93e10a2-722a-4402-9358-fbbdd4f4bd0d"
      },
      "execution_count": null,
      "outputs": [
        {
          "output_type": "stream",
          "name": "stdout",
          "text": [
            "9\n",
            "1 2 3 4 5 6 7 8 9\n",
            "9\n",
            "10 1 2 3 11 21 55 6 8\n",
            "13\n"
          ]
        }
      ]
    },
    {
      "cell_type": "markdown",
      "source": [
        "#Set .intersection() Operation\n"
      ],
      "metadata": {
        "id": "lXf_K-0Bx0rh"
      }
    },
    {
      "cell_type": "markdown",
      "source": [
        "##Cara 1"
      ],
      "metadata": {
        "id": "H4NmNOp8x2F4"
      }
    },
    {
      "cell_type": "code",
      "source": [
        "n = int(input()) \n",
        "set1= set(input().split())\n",
        "\n",
        "b = int(input()) \n",
        "set2= set(input().split())\n",
        "\n",
        "u = set1.intersection(set2) \n",
        "print(len(u))"
      ],
      "metadata": {
        "colab": {
          "base_uri": "https://localhost:8080/"
        },
        "id": "MGPvaiUbtBKB",
        "outputId": "1ba13b05-885a-4887-b928-563662a57279"
      },
      "execution_count": null,
      "outputs": [
        {
          "output_type": "stream",
          "name": "stdout",
          "text": [
            "9\n",
            "1 2 3 4 5 6 7 8 9\n",
            "9\n",
            "10 1 2 3 11 21 55 6 8\n",
            "5\n"
          ]
        }
      ]
    },
    {
      "cell_type": "markdown",
      "source": [
        "##Cara 2"
      ],
      "metadata": {
        "id": "1GXb61J5x39Z"
      }
    },
    {
      "cell_type": "code",
      "source": [
        "contents1 = int(input())\n",
        "nums1 = input()\n",
        "nums1 = list(map(int, nums1.split()))\n",
        "contents2 = int(input())\n",
        "nums2 = input()\n",
        "nums2 = list(map(int, nums2.split()))\n",
        "overlaps = 0\n",
        "for nums in nums1:\n",
        "    for digits in nums2:\n",
        "        if digits == nums:\n",
        "            overlaps = overlaps + 1\n",
        "print(overlaps)"
      ],
      "metadata": {
        "colab": {
          "base_uri": "https://localhost:8080/"
        },
        "id": "hWddOiVsvjyh",
        "outputId": "8e5195da-dada-4151-94cc-14fd14e6aa74"
      },
      "execution_count": null,
      "outputs": [
        {
          "output_type": "stream",
          "name": "stdout",
          "text": [
            "9\n",
            "1 2 3 4 5 6 7 8 9\n",
            "9\n",
            "10 1 2 3 11 21 55 6 8\n",
            "5\n"
          ]
        }
      ]
    },
    {
      "cell_type": "markdown",
      "source": [
        "##Cara 3"
      ],
      "metadata": {
        "id": "C9BCMSQox5rI"
      }
    },
    {
      "cell_type": "code",
      "source": [
        "n, English, b, French = int(input()), set(map(int, input().split())), int(input()), set(map(int, input().split()))\n",
        "print(len(English.intersection(French)))"
      ],
      "metadata": {
        "colab": {
          "base_uri": "https://localhost:8080/"
        },
        "id": "uK_ANvR0vl8Z",
        "outputId": "cc04dc3b-aee1-4157-e40f-0a88c439c2b2"
      },
      "execution_count": null,
      "outputs": [
        {
          "output_type": "stream",
          "name": "stdout",
          "text": [
            "9\n",
            "1 2 3 4 5 6 7 8 9\n",
            "9\n",
            "10 1 2 3 11 21 55 6 8\n",
            "5\n"
          ]
        }
      ]
    },
    {
      "cell_type": "markdown",
      "source": [
        "#Set.difference() Operation"
      ],
      "metadata": {
        "id": "_b4WgFWm0GiP"
      }
    },
    {
      "cell_type": "markdown",
      "source": [
        "##Cara 1"
      ],
      "metadata": {
        "id": "87NLm_aU0K0F"
      }
    },
    {
      "cell_type": "code",
      "source": [
        "n_English = input()\n",
        "r_English = set(map(int, input().split()))\n",
        "n_French = input()\n",
        "r_French = set(map(int, input().split()))\n",
        "print(len(r_English.difference(r_English.intersection(r_French))))"
      ],
      "metadata": {
        "colab": {
          "base_uri": "https://localhost:8080/"
        },
        "id": "gOqXsEnvyU8X",
        "outputId": "8e83a6f9-9d03-4ab4-a3d9-1d573b105c62"
      },
      "execution_count": null,
      "outputs": [
        {
          "output_type": "stream",
          "name": "stdout",
          "text": [
            "9\n",
            "1 2 3 4 5 6 7 8 9\n",
            "9\n",
            "10 1 2 3 11 21 55 6 8\n",
            "4\n"
          ]
        }
      ]
    },
    {
      "cell_type": "markdown",
      "source": [
        "##Cara 2"
      ],
      "metadata": {
        "id": "eHhtzc200Ml6"
      }
    },
    {
      "cell_type": "code",
      "source": [
        "n, English, b, French = int(input()), set(map(int, input().split())), int(input()), set(map(int, input().split()))\n",
        "print(len(English.difference(French)))"
      ],
      "metadata": {
        "colab": {
          "base_uri": "https://localhost:8080/"
        },
        "id": "F0M8mbz1yXdn",
        "outputId": "d0c67835-f320-4e3d-c061-b7210f9f837c"
      },
      "execution_count": null,
      "outputs": [
        {
          "output_type": "stream",
          "name": "stdout",
          "text": [
            "9\n",
            "1 2 3 4 5 6 7 8 9\n",
            "9\n",
            "10 1 2 3 11 21 55 6 8\n",
            "4\n"
          ]
        }
      ]
    },
    {
      "cell_type": "markdown",
      "source": [
        "##Cara 3"
      ],
      "metadata": {
        "id": "5fIdS2AQ0Oca"
      }
    },
    {
      "cell_type": "code",
      "source": [
        "var1 = int(input()) \n",
        "set1 = set(map(int, input().split())) \n",
        "var2 = int(input()) \n",
        "set2 = set(map(int,input().split())) \n",
        "print(len(set1-set2))"
      ],
      "metadata": {
        "colab": {
          "base_uri": "https://localhost:8080/"
        },
        "id": "MF9mpV_8ycWf",
        "outputId": "f2b01df1-d868-4cf7-fad9-4a3e9c0ecf35"
      },
      "execution_count": null,
      "outputs": [
        {
          "output_type": "stream",
          "name": "stdout",
          "text": [
            "9\n",
            "1 2 3 4 5 6 7 8 9\n",
            "9\n",
            "10 1 2 3 11 21 55 6 8\n",
            "4\n"
          ]
        }
      ]
    },
    {
      "cell_type": "markdown",
      "source": [
        "##Cara 4"
      ],
      "metadata": {
        "id": "scAaf7bG0QST"
      }
    },
    {
      "cell_type": "code",
      "source": [
        "n = int(input()) \n",
        "E_N_S = input().split() \n",
        "s = set() \n",
        "for item in E_N_S: s.add(int(item))\n",
        "\n",
        "b = int(input()) \n",
        "F_N_S = input().split() \n",
        "fs = set() \n",
        "for item in F_N_S: fs.add(int(item))\n",
        "\n",
        "deference = s.difference(fs) \n",
        "deference_list = [] \n",
        "for deferences in deference: deference_list.append(deferences)\n",
        "\n",
        "length_of_deference = len(deference_list) \n",
        "print(length_of_deference)"
      ],
      "metadata": {
        "colab": {
          "base_uri": "https://localhost:8080/"
        },
        "id": "V6nCNCXKyyqd",
        "outputId": "69cc334c-3959-4f79-e250-7ba07f94da84"
      },
      "execution_count": null,
      "outputs": [
        {
          "output_type": "stream",
          "name": "stdout",
          "text": [
            "9\n",
            "1 2 3 4 5 6 7 8 9\n",
            "9\n",
            "10 1 2 3 11 21 55 6 8\n",
            "4\n"
          ]
        }
      ]
    },
    {
      "cell_type": "markdown",
      "source": [
        "##Cara 5"
      ],
      "metadata": {
        "id": "W8fCxBrf0Ssz"
      }
    },
    {
      "cell_type": "code",
      "source": [
        "n=int(input())\n",
        "english=set(map(int,input().split()))\n",
        "\n",
        "b=int(input())\n",
        "french=set(map(int,input().split()))\n",
        "\n",
        "    \n",
        "common_students=english.difference(french)\n",
        "\n",
        "print(len(common_students))"
      ],
      "metadata": {
        "colab": {
          "base_uri": "https://localhost:8080/"
        },
        "id": "lufwnP1Oy_kR",
        "outputId": "ffbd606b-e33c-4f90-b7b0-f1b7e33d0e7c"
      },
      "execution_count": null,
      "outputs": [
        {
          "output_type": "stream",
          "name": "stdout",
          "text": [
            "9\n",
            "1 2 3 4 5 6 7 8 9\n",
            "9\n",
            "10 1 2 3 11 21 55 6 8\n",
            "4\n"
          ]
        }
      ]
    },
    {
      "cell_type": "markdown",
      "source": [
        "#Set.symmetric.difference() Operation"
      ],
      "metadata": {
        "id": "-SzBR9uz1mod"
      }
    },
    {
      "cell_type": "markdown",
      "source": [
        "##Cara 1"
      ],
      "metadata": {
        "id": "jFjcm3JE1z_I"
      }
    },
    {
      "cell_type": "code",
      "source": [
        "E=int(input())\n",
        "E_r=set(map(int,input().split()))\n",
        "f=int(input())\n",
        "f_r=set(map(int,input().split()))\n",
        "\n",
        "sym_diff=E_r.symmetric_difference(f_r)\n",
        "\n",
        "tos=len(sym_diff)\n",
        "\n",
        "print(tos)"
      ],
      "metadata": {
        "colab": {
          "base_uri": "https://localhost:8080/"
        },
        "id": "pIF3zvQ41AB-",
        "outputId": "31e240be-e49d-467b-deaf-596e0c247386"
      },
      "execution_count": null,
      "outputs": [
        {
          "output_type": "stream",
          "name": "stdout",
          "text": [
            "9\n",
            "1 2 3 4 5 6 7 8 9\n",
            "9\n",
            "10 1 2 3 11 21 55 6 8\n",
            "8\n"
          ]
        }
      ]
    },
    {
      "cell_type": "markdown",
      "source": [
        "##Cara 2"
      ],
      "metadata": {
        "id": "QO7IGDjH11uZ"
      }
    },
    {
      "cell_type": "code",
      "source": [
        "n, English, b, French = int(input()), set(map(int, input().split())), int(input()), set(map(int, input().split()))\n",
        "print(len(English.symmetric_difference(French)))"
      ],
      "metadata": {
        "colab": {
          "base_uri": "https://localhost:8080/"
        },
        "id": "DKoSobq31CIe",
        "outputId": "76483b9c-7e62-4e4d-88fc-1753503b82d5"
      },
      "execution_count": null,
      "outputs": [
        {
          "output_type": "stream",
          "name": "stdout",
          "text": [
            "9\n",
            "1 2 3 4 5 6 7 8 9\n",
            "9\n",
            "10 1 2 3 11 21 55 6 8\n",
            "8\n"
          ]
        }
      ]
    },
    {
      "cell_type": "markdown",
      "source": [
        "##Cara 3"
      ],
      "metadata": {
        "id": "DPodh3cc13YR"
      }
    },
    {
      "cell_type": "code",
      "source": [
        "var1 = int(input()) \n",
        "set1 = set(map(int, input().split())) \n",
        "var2 = int(input()) \n",
        "set2 = set(map(int,input().split())) \n",
        "print(len(set1.symmetric_difference(set2)))"
      ],
      "metadata": {
        "colab": {
          "base_uri": "https://localhost:8080/"
        },
        "id": "liC24pBf1FDq",
        "outputId": "f7a1ad86-fd35-4b7e-b37d-008a13df753c"
      },
      "execution_count": null,
      "outputs": [
        {
          "output_type": "stream",
          "name": "stdout",
          "text": [
            "9\n",
            "1 2 3 4 5 6 7 8 9\n",
            "9\n",
            "10 1 2 3 11 21 55 6 8\n",
            "8\n"
          ]
        }
      ]
    },
    {
      "cell_type": "markdown",
      "source": [
        "#Set Mutations"
      ],
      "metadata": {
        "id": "Ysj02NMv2fP7"
      }
    },
    {
      "cell_type": "markdown",
      "source": [
        "##Cara 1"
      ],
      "metadata": {
        "id": "ABYw8gyXCuHA"
      }
    },
    {
      "cell_type": "code",
      "source": [
        "n = int(input()) \n",
        "A_set_l = input().split() \n",
        "A_set = set()\n",
        "\n",
        "for i in A_set_l: \n",
        "  A_set.add(int(i))\n",
        "\n",
        "for _ in range(int(input())): \n",
        "  operation, length = input().split() \n",
        "  other_set = set(map(int, input().split()))\n",
        "\n",
        "if operation == \"intersection_update\":\n",
        "    A_set.intersection_update(other_set)\n",
        "if operation == \"update\":\n",
        "    A_set.update(other_set)\n",
        "if operation == \"symmetric_difference_update\":\n",
        "    A_set.symmetric_difference_update(other_set)\n",
        "if operation == \"difference_update\":\n",
        "    A_set.difference_update(other_set)"
      ],
      "metadata": {
        "colab": {
          "base_uri": "https://localhost:8080/"
        },
        "id": "3aTHcxEx2q7H",
        "outputId": "a6885182-968e-4508-8533-93209b5d3787"
      },
      "execution_count": null,
      "outputs": [
        {
          "name": "stdout",
          "output_type": "stream",
          "text": [
            "16\n",
            "1 2 3 4 5 6 7 8 9 10 11 12 13 14 24 52\n",
            "4\n",
            "intersection_update 10\n",
            "2 3 5 6 8 9 1 4 7 11\n",
            "update 2\n",
            "55 66\n",
            "symmetric_difference_update 5\n",
            "22 7 35 62 58\n",
            "difference_update 7\n",
            "11 22 35 55 58 62 66\n"
          ]
        }
      ]
    },
    {
      "cell_type": "markdown",
      "source": [
        "##Cara 2"
      ],
      "metadata": {
        "id": "H7_KnH6fCvvo"
      }
    },
    {
      "cell_type": "code",
      "source": [
        "n = int(input())\n",
        "\n",
        "lst = set(map(int,input().split()))\n",
        "\n",
        "t = int(input())\n",
        "\n",
        "for _ in range(t):\n",
        "    a,b = input().split()\n",
        "    b_lst = map(int,input().split())\n",
        "    getattr(lst,a)(b_lst)\n",
        "    \n",
        "print(sum(lst))"
      ],
      "metadata": {
        "colab": {
          "base_uri": "https://localhost:8080/"
        },
        "id": "cAiSxeNJ22ML",
        "outputId": "38010fcc-c563-4a39-c7cf-ad6ff552f121"
      },
      "execution_count": null,
      "outputs": [
        {
          "output_type": "stream",
          "name": "stdout",
          "text": [
            "16\n",
            "1 2 3 4 5 6 7 8 9 10 11 12 13 14 24 52\n",
            "4\n",
            "intersection_update 10\n",
            "2 3 5 6 8 9 1 4 7 11\n",
            "update 2\n",
            "55 66\n",
            "symmetric_difference_update 5\n",
            "22 7 35 62 58\n",
            "difference_update 7\n",
            "11 22 35 55 58 62 66\n",
            "38\n"
          ]
        }
      ]
    },
    {
      "cell_type": "markdown",
      "source": [
        "##Cara 3"
      ],
      "metadata": {
        "id": "A0HTz6iGCxmf"
      }
    },
    {
      "cell_type": "code",
      "source": [
        "A=int(input())\n",
        "set_A=set(map(int,input().split()))\n",
        "n=int(input())\n",
        "\n",
        "for i in range(n):\n",
        "    op=input().split()\n",
        "    o=set(map(int,input().split()))\n",
        "    if op[0]=='update':\n",
        "        set_A.update(o)\n",
        "    elif op[0]=='intersection_update':\n",
        "        set_A.intersection_update(o)\n",
        "    elif op[0]=='difference_update':\n",
        "        set_A.difference_update(o)\n",
        "    elif op[0]=='symmetric_difference_update':\n",
        "        set_A.symmetric_difference_update(o)\n",
        "\n",
        "print(sum(set_A))"
      ],
      "metadata": {
        "colab": {
          "base_uri": "https://localhost:8080/"
        },
        "id": "dGYP0dju24nj",
        "outputId": "46f8b7bc-b789-4b27-db0c-cf9cbb60b93d"
      },
      "execution_count": null,
      "outputs": [
        {
          "output_type": "stream",
          "name": "stdout",
          "text": [
            "16\n",
            "1 2 3 4 5 6 7 8 9 10 11 12 13 14 24 52\n",
            "4\n",
            "intersection_update 10\n",
            "2 3 5 6 8 9 1 4 7 11\n",
            "update 2\n",
            "55 66\n",
            "symmetric_difference_update 5\n",
            "22 7 35 62 58\n",
            "difference_update 7\n",
            "11 22 35 55 58 62 66\n",
            "38\n"
          ]
        }
      ]
    },
    {
      "cell_type": "markdown",
      "source": [
        "#Iterables and Iterators"
      ],
      "metadata": {
        "id": "r501xwTi8mVl"
      }
    },
    {
      "cell_type": "markdown",
      "source": [
        "##Cara 1"
      ],
      "metadata": {
        "id": "hy5TTYF38pUS"
      }
    },
    {
      "cell_type": "code",
      "source": [
        "from itertools import combinations\n",
        "n,word, k = int(input()), input().split(), int(input())\n",
        "word_per = list(combinations(word,k))\n",
        "count=0\n",
        "for i in word_per:\n",
        "    if ('a' in i):\n",
        "        count+=1\n",
        "print(count/len(word_per))"
      ],
      "metadata": {
        "colab": {
          "base_uri": "https://localhost:8080/"
        },
        "id": "utHNWOp39d4E",
        "outputId": "5a7b8265-7287-4fc7-d8e2-c8a7e9cd99bb"
      },
      "execution_count": null,
      "outputs": [
        {
          "output_type": "stream",
          "name": "stdout",
          "text": [
            "4\n",
            "a a c d\n",
            "2\n",
            "0.8333333333333334\n"
          ]
        }
      ]
    },
    {
      "cell_type": "markdown",
      "source": [
        "##Cara 2"
      ],
      "metadata": {
        "id": "3Epfwph38q8j"
      }
    },
    {
      "cell_type": "code",
      "source": [
        "import math\n",
        "a=input()\n",
        "b=input()\n",
        "c=input()\n",
        "our_str=''.join(b.split())\n",
        "c=int(c)\n",
        "a=our_str.count('a')\n",
        "l=len(our_str)\n",
        "if c > l-a:\n",
        "    answer=1\n",
        "else:\n",
        "    answer=1-math.factorial(l-a)/math.factorial(l-a-c)/math.factorial(l)*math.factorial(l-c)\n",
        "    \n",
        "print(answer)"
      ],
      "metadata": {
        "colab": {
          "base_uri": "https://localhost:8080/"
        },
        "id": "PwbaoU1M7F79",
        "outputId": "3ad428d2-05c2-4470-ef25-af2cf112b64a"
      },
      "execution_count": null,
      "outputs": [
        {
          "output_type": "stream",
          "name": "stdout",
          "text": [
            "4\n",
            "a a c d\n",
            "2\n",
            "0.8333333333333334\n"
          ]
        }
      ]
    },
    {
      "cell_type": "markdown",
      "source": [
        "##Cara 3"
      ],
      "metadata": {
        "id": "g2qv-cV88sui"
      }
    },
    {
      "cell_type": "code",
      "source": [
        "import itertools\n",
        "\n",
        "num = int(input()) \n",
        "new = input().replace(\" \", \"\") \n",
        "group = int(input())\n",
        "\n",
        "combinations = list(itertools.combinations(new, group))\n",
        "\n",
        "repeatation = 0 \n",
        "for i in combinations: \n",
        "  if \"a\" in i: repeatation = repeatation + 1\n",
        "\n",
        "result = float(repeatation/ len(combinations)) \n",
        "print(\"{:.3}\".format(result))"
      ],
      "metadata": {
        "colab": {
          "base_uri": "https://localhost:8080/"
        },
        "id": "sxt9kXkL7Iae",
        "outputId": "a3fcdedb-fceb-4df3-f62d-be2b5318668b"
      },
      "execution_count": null,
      "outputs": [
        {
          "output_type": "stream",
          "name": "stdout",
          "text": [
            "4\n",
            "a a c d\n",
            "2\n",
            "0.833\n"
          ]
        }
      ]
    },
    {
      "cell_type": "markdown",
      "source": [
        "##Cara 4"
      ],
      "metadata": {
        "id": "J8lSLVgJ8unj"
      }
    },
    {
      "cell_type": "code",
      "source": [
        "from math import comb\n",
        "n = input()\n",
        "l = input().split()\n",
        "k = int(input())\n",
        "\n",
        "print(\"{:.3f}\".format(1- comb(len(l)-l.count('a'),2)/comb(len(l),2)))"
      ],
      "metadata": {
        "colab": {
          "base_uri": "https://localhost:8080/"
        },
        "id": "00tFCOKR7LEv",
        "outputId": "9c37ac6f-353e-4a6c-f8eb-952f29a50350"
      },
      "execution_count": null,
      "outputs": [
        {
          "output_type": "stream",
          "name": "stdout",
          "text": [
            "4\n",
            "a a c d\n",
            "2\n",
            "0.833\n"
          ]
        }
      ]
    },
    {
      "cell_type": "markdown",
      "source": [
        "##Cara 5"
      ],
      "metadata": {
        "id": "XzO-ID-A8wyL"
      }
    },
    {
      "cell_type": "code",
      "source": [
        "# we are an int N, a split() string and another int K\n",
        "from itertools import permutations, combinations\n",
        "\n",
        "N, arr, K, num_arr = int(input()), input().split(), int(input()), []\n",
        "for i in range(len(arr)):\n",
        "    if arr[i] == 'a':\n",
        "        num_arr.append(i + 1)\n",
        "\n",
        "count = 0\n",
        "for i in combinations(range(1, N + 1), K):\n",
        "    if len(set(i).intersection(set(num_arr))) > 0:\n",
        "        count += 1\n",
        "\n",
        "list1 = list(combinations(range(1, N+1), K))\n",
        "print(round(count/len(list1), 3))"
      ],
      "metadata": {
        "colab": {
          "base_uri": "https://localhost:8080/"
        },
        "id": "_l0xAUnA7NBQ",
        "outputId": "e49c02cf-eb76-4106-fcf1-dd3a753f46f3"
      },
      "execution_count": null,
      "outputs": [
        {
          "output_type": "stream",
          "name": "stdout",
          "text": [
            "4\n",
            "a a c d\n",
            "2\n",
            "0.833\n"
          ]
        }
      ]
    },
    {
      "cell_type": "markdown",
      "source": [
        "#Mximize It!"
      ],
      "metadata": {
        "id": "mQfpyWcaASzp"
      }
    },
    {
      "cell_type": "markdown",
      "source": [
        "##Cara 1"
      ],
      "metadata": {
        "id": "U8qrsmw7AWWP"
      }
    },
    {
      "cell_type": "code",
      "source": [
        "import itertools\n",
        "\n",
        "#The first line contains 2 space separated integers K and M. \n",
        "#The next K lines each contains an N-integer denoting the number of elements in list and follow by the N number input\n",
        "\n",
        "K, M = map(int, input().split())\n",
        "\n",
        "lst = []\n",
        "K_lst = []\n",
        "for i in range(K):\n",
        "  lst = list(map(int, input().split()))\n",
        "  #extract N-integer list in 'lst' \n",
        "  K_lst.append(lst[1:1+lst[0]])\n",
        "\n",
        "#Get all possible combinations from number from each sublist\n",
        "combination = list(itertools.product(*K_lst))\n",
        "combination = list(set(combination))\n",
        "\n",
        "#Take exactly one element from each list, not necessarily the largest element. \n",
        "#You add the squares of the chosen elements and perform the modulo operation. \n",
        "#The maximum value that you can obtain, will be the answer to the problem\n",
        "\n",
        "result = []\n",
        "for subtuple in combination:\n",
        "  fx = list(map(lambda x: x**2, subtuple))\n",
        "  modulus = sum(fx)%M\n",
        "  result.append(modulus)\n",
        "print(max(result))"
      ],
      "metadata": {
        "colab": {
          "base_uri": "https://localhost:8080/"
        },
        "id": "OpkA0nnz-Cl0",
        "outputId": "63192576-d6be-459c-efcc-8fd2b761cf6b"
      },
      "execution_count": null,
      "outputs": [
        {
          "output_type": "stream",
          "name": "stdout",
          "text": [
            "3 1000\n",
            "2 5 4\n",
            "3 7 8 9\n",
            "5 5 7 8 9 10\n",
            "206\n"
          ]
        }
      ]
    },
    {
      "cell_type": "markdown",
      "source": [
        "##Cara 2"
      ],
      "metadata": {
        "id": "YJ0ZS61PAX-5"
      }
    },
    {
      "cell_type": "code",
      "source": [
        "from itertools import product\n",
        "K, M = list(map(int, input().split()))\n",
        "lst, opt = [], []\n",
        "\n",
        "for i in range(K):\n",
        "    lst.append(list(map(int, input().split()[1:])))\n",
        "for i in product(*lst):\n",
        "    opt.append(sum([x**2 for x in i]) % M)\n",
        "    \n",
        "print(max(opt))"
      ],
      "metadata": {
        "colab": {
          "base_uri": "https://localhost:8080/"
        },
        "id": "R0yW0S6D-E3i",
        "outputId": "8f457516-dcd0-446e-9ab3-ee1681d0ed3e"
      },
      "execution_count": null,
      "outputs": [
        {
          "output_type": "stream",
          "name": "stdout",
          "text": [
            "3 1000\n",
            "2 5 4\n",
            "3 7 8 9\n",
            "5 5 7 8 9 10\n",
            "206\n"
          ]
        }
      ]
    },
    {
      "cell_type": "markdown",
      "source": [
        "##Cara 3"
      ],
      "metadata": {
        "id": "2Z06ItYmAbBB"
      }
    },
    {
      "cell_type": "code",
      "source": [
        "import itertools\n",
        "\n",
        "k, m = list(map(int, input().split()))\n",
        "squares = []\n",
        "for _ in range(k):\n",
        "    _, *square = [i**2 for i in list(map(int, input().split()))]\n",
        "    squares.append(square)\n",
        "\n",
        "max_f = 0\n",
        "for p in itertools.product(*squares):\n",
        "    max_f = max(max_f, sum(p) % m)\n",
        "print(max_f)"
      ],
      "metadata": {
        "colab": {
          "base_uri": "https://localhost:8080/"
        },
        "id": "W6GGalGW-I76",
        "outputId": "61a4d28d-669a-4038-b6a2-2d93cf7e6aaa"
      },
      "execution_count": null,
      "outputs": [
        {
          "output_type": "stream",
          "name": "stdout",
          "text": [
            "3 1000\n",
            "2 5 4\n",
            "3 7 8 9\n",
            "5 5 7 8 9 10\n",
            "206\n"
          ]
        }
      ]
    },
    {
      "cell_type": "markdown",
      "source": [
        "##Cara 4"
      ],
      "metadata": {
        "id": "lcp3Rm4DAdzJ"
      }
    },
    {
      "cell_type": "code",
      "source": [
        "import itertools\n",
        "req_list=[]\n",
        "k,m=input().split()\n",
        "m=int(m)\n",
        "k=int(k)\n",
        "lists=[]\n",
        "for i in range(k):\n",
        "    lists+=[[int(a)**2 for a in input().split()[1:]]]\n",
        "for item in itertools.product(*lists):\n",
        "    req_list.append(sum(item)%m)\n",
        "print(max(req_list))"
      ],
      "metadata": {
        "colab": {
          "base_uri": "https://localhost:8080/"
        },
        "id": "Rp1XPq3y-LRz",
        "outputId": "07356d9b-5106-4623-b8d7-f8532ea26fdf"
      },
      "execution_count": null,
      "outputs": [
        {
          "output_type": "stream",
          "name": "stdout",
          "text": [
            "3 1000\n",
            "2 5 4\n",
            "3 7 8 9\n",
            "5 5 7 8 9 10\n",
            "206\n"
          ]
        }
      ]
    },
    {
      "cell_type": "markdown",
      "source": [
        "##Cara 5"
      ],
      "metadata": {
        "id": "c9Vj8pJPAf3Z"
      }
    },
    {
      "cell_type": "code",
      "source": [
        "from itertools import groupby, product\n",
        "\n",
        "\n",
        "K, M = list(map(int, input().split()))\n",
        "\n",
        "def f(x):\n",
        "    return (int(x)**2)%M #since (a+b)mod(c) = a mod(c) + b mod(c)\n",
        "\t\t\n",
        "Nels, vals= [], []\n",
        "for i in range(K):\n",
        "    ipt = input().split()\n",
        "    newval = [k for k, g in groupby(map(f, ipt[1:]))] #The groupby is to get rid of redundant values \n",
        "    Nels.append(len(newval))\n",
        "    vals.append(newval)\n",
        "prd = product(*vals)\n",
        "resum = [sum(list(sub))%M for sub in prd]\n",
        "print(max(resum))"
      ],
      "metadata": {
        "colab": {
          "base_uri": "https://localhost:8080/"
        },
        "id": "kB_9KrCn-NsK",
        "outputId": "b06bffbc-e7e9-4c69-e005-9f5bfaf92ad6"
      },
      "execution_count": null,
      "outputs": [
        {
          "output_type": "stream",
          "name": "stdout",
          "text": [
            "3 1000\n",
            "2 5 4\n",
            "3 7 8 9\n",
            "5 5 7 8 9 10\n",
            "206\n"
          ]
        }
      ]
    },
    {
      "cell_type": "markdown",
      "source": [
        "#Linear Algebra"
      ],
      "metadata": {
        "id": "YGrN4r9DCrGP"
      }
    },
    {
      "cell_type": "markdown",
      "source": [
        "##Cara 1"
      ],
      "metadata": {
        "id": "hw0V3xpZC2d_"
      }
    },
    {
      "cell_type": "code",
      "source": [
        "import numpy\n",
        "n=int(input())\n",
        "array_A=[]\n",
        "for i in range(1,n+1):\n",
        "    element=list(map(float,input().split()))\n",
        "    array_A.append(element)\n",
        "    \n",
        "print(round(numpy.linalg.det(array_A),2))"
      ],
      "metadata": {
        "colab": {
          "base_uri": "https://localhost:8080/"
        },
        "id": "Ux4pvvNCCFtT",
        "outputId": "8891c409-2c95-47c3-abc2-d3eab4334bde"
      },
      "execution_count": null,
      "outputs": [
        {
          "output_type": "stream",
          "name": "stdout",
          "text": [
            "2\n",
            "1.1 1.1\n",
            "1.1 1.1\n",
            "0.0\n"
          ]
        }
      ]
    },
    {
      "cell_type": "markdown",
      "source": [
        "##Cara 2"
      ],
      "metadata": {
        "id": "yaB3Rm0RC4T2"
      }
    },
    {
      "cell_type": "code",
      "source": [
        "from numpy.linalg import det\n",
        "\n",
        "print(round(det([[float(x) for x in input().split()] for _ in range(int(input()))]), 2))"
      ],
      "metadata": {
        "colab": {
          "base_uri": "https://localhost:8080/"
        },
        "id": "Vli0cxn8CKgf",
        "outputId": "12b46152-1bb1-45f6-97f3-aac9994f9799"
      },
      "execution_count": null,
      "outputs": [
        {
          "output_type": "stream",
          "name": "stdout",
          "text": [
            "2\n",
            "1.1 1.1\n",
            "1.1 1.1\n",
            "0.0\n"
          ]
        }
      ]
    },
    {
      "cell_type": "markdown",
      "source": [
        "##Cara 3"
      ],
      "metadata": {
        "id": "JXwqDXRYC6Bn"
      }
    },
    {
      "cell_type": "code",
      "source": [
        "import numpy\n",
        "\n",
        "N = int(input())\n",
        "\n",
        "A = numpy.array([input().split() for _ in range(N)], float)\n",
        "\n",
        "print(round(numpy.linalg.det(A), 2))"
      ],
      "metadata": {
        "colab": {
          "base_uri": "https://localhost:8080/"
        },
        "id": "ce5A5hPmCPVn",
        "outputId": "da7bd1f3-d73d-4aac-8532-d96a2b07e9cf"
      },
      "execution_count": null,
      "outputs": [
        {
          "output_type": "stream",
          "name": "stdout",
          "text": [
            "2\n",
            "1.1 1.1\n",
            "1.1 1.1\n",
            "0.0\n"
          ]
        }
      ]
    },
    {
      "cell_type": "markdown",
      "source": [
        "##Cara 4"
      ],
      "metadata": {
        "id": "ie7a5SOFC7z2"
      }
    },
    {
      "cell_type": "code",
      "source": [
        "import numpy\n",
        "\n",
        "arr = []\n",
        "for _ in range(int(input())):\n",
        "    arr.append(list(map(float,input().split())))\n",
        "out = numpy.linalg.det(numpy.array(arr))\n",
        "#print(\"{0:.2f}\".format(out))\n",
        "print(round(out,2))"
      ],
      "metadata": {
        "colab": {
          "base_uri": "https://localhost:8080/"
        },
        "id": "k9Gaw-83CVe2",
        "outputId": "bc80b956-3bd7-4766-882e-ba8ddb8b75c3"
      },
      "execution_count": null,
      "outputs": [
        {
          "output_type": "stream",
          "name": "stdout",
          "text": [
            "2\n",
            "1.1 1.1\n",
            "1.1 1.1\n",
            "0.0\n"
          ]
        }
      ]
    },
    {
      "cell_type": "markdown",
      "source": [
        "#Arrays"
      ],
      "metadata": {
        "id": "QuUq_-RLEldl"
      }
    },
    {
      "cell_type": "markdown",
      "source": [
        "##Cara 1"
      ],
      "metadata": {
        "id": "M526C1SlEnY2"
      }
    },
    {
      "cell_type": "code",
      "source": [
        "import numpy\n",
        "\n",
        "def arrays(arr):\n",
        "    # complete this function\n",
        "    # use numpy.array\n",
        "    return numpy.array(arr[::-1], float)\n",
        "\n",
        "arr = input().strip().split(' ')\n",
        "result = arrays(arr)\n",
        "print(result)"
      ],
      "metadata": {
        "colab": {
          "base_uri": "https://localhost:8080/"
        },
        "id": "LbR3GoYLD8ku",
        "outputId": "62ca4577-3999-4984-c7b6-538c188585ca"
      },
      "execution_count": null,
      "outputs": [
        {
          "output_type": "stream",
          "name": "stdout",
          "text": [
            "1 2 3 4 -8 -10\n",
            "[-10.  -8.   4.   3.   2.   1.]\n"
          ]
        }
      ]
    },
    {
      "cell_type": "markdown",
      "source": [
        "##Cara 2"
      ],
      "metadata": {
        "id": "5K3EZcOAEpIF"
      }
    },
    {
      "cell_type": "code",
      "source": [
        "import numpy\n",
        "\n",
        "def arrays(arr):\n",
        "    # complete this function\n",
        "    # use numpy.array\n",
        "    my_array = []\n",
        "    a = numpy.array(arr, float)\n",
        "    for i in range(len(a)):\n",
        "        my_array.append(a[(len(a)-1)-i])\n",
        "        \n",
        "    return numpy.array(my_array,float)\n",
        "\n",
        "arr = input().strip().split(' ')\n",
        "result = arrays(arr)\n",
        "print(result)"
      ],
      "metadata": {
        "colab": {
          "base_uri": "https://localhost:8080/"
        },
        "id": "njCONkMJEQd-",
        "outputId": "ae7ca83c-ca82-4ffb-fd77-eeb8eb027ffb"
      },
      "execution_count": null,
      "outputs": [
        {
          "output_type": "stream",
          "name": "stdout",
          "text": [
            "1 2 3 4 -8 -10\n",
            "[-10.  -8.   4.   3.   2.   1.]\n"
          ]
        }
      ]
    },
    {
      "cell_type": "markdown",
      "source": [
        "#Shape and Reshape"
      ],
      "metadata": {
        "id": "ozODt9XuGHCk"
      }
    },
    {
      "cell_type": "markdown",
      "source": [
        "##Cara 1"
      ],
      "metadata": {
        "id": "GAqFZ8e6Eu1K"
      }
    },
    {
      "cell_type": "code",
      "source": [
        "import numpy \n",
        "arr = list(map(int, input().split())) \n",
        "my_array = numpy.array(arr) \n",
        "print(numpy.reshape(my_array,(3,3)))"
      ],
      "metadata": {
        "colab": {
          "base_uri": "https://localhost:8080/"
        },
        "id": "U7wCCF-BFW9V",
        "outputId": "a5d760b8-ac39-4df5-c7b4-6f047ffea2a0"
      },
      "execution_count": null,
      "outputs": [
        {
          "output_type": "stream",
          "name": "stdout",
          "text": [
            "1 2 3 4 5 6 7 8 9\n",
            "[[1 2 3]\n",
            " [4 5 6]\n",
            " [7 8 9]]\n"
          ]
        }
      ]
    },
    {
      "cell_type": "markdown",
      "source": [
        "##Cara 2"
      ],
      "metadata": {
        "id": "CXHtW0c_GNjN"
      }
    },
    {
      "cell_type": "code",
      "source": [
        "import numpy as np\n",
        "inp_arr = np.array([int(i) for i in input().strip().split(' ')], dtype = int).reshape(3, 3)\n",
        "print(inp_arr)"
      ],
      "metadata": {
        "colab": {
          "base_uri": "https://localhost:8080/"
        },
        "id": "6w7TeGzdFcE4",
        "outputId": "6f996125-531a-41df-c3c8-78c708046c48"
      },
      "execution_count": null,
      "outputs": [
        {
          "output_type": "stream",
          "name": "stdout",
          "text": [
            "1 2 3 4 5 6 7 8 9\n",
            "[[1 2 3]\n",
            " [4 5 6]\n",
            " [7 8 9]]\n"
          ]
        }
      ]
    },
    {
      "cell_type": "markdown",
      "source": [
        "##Cara 3"
      ],
      "metadata": {
        "id": "8fxsHdwQGO0U"
      }
    },
    {
      "cell_type": "code",
      "source": [
        "import numpy\n",
        "\n",
        "ar1=input().strip().split(' ') \n",
        "ar=numpy.array(ar1,int) \n",
        "ar2=numpy.reshape(ar,(3,3)) \n",
        "print(ar2)"
      ],
      "metadata": {
        "colab": {
          "base_uri": "https://localhost:8080/"
        },
        "id": "Ov6rN6z4Fmn0",
        "outputId": "a3f19c4f-7670-4e57-fdc5-4e40374c15ab"
      },
      "execution_count": null,
      "outputs": [
        {
          "output_type": "stream",
          "name": "stdout",
          "text": [
            "1 2 3 4 5 6 7 8 9\n",
            "[[1 2 3]\n",
            " [4 5 6]\n",
            " [7 8 9]]\n"
          ]
        }
      ]
    },
    {
      "cell_type": "markdown",
      "source": [
        "##Cara 4"
      ],
      "metadata": {
        "id": "sgslRUx0GS8G"
      }
    },
    {
      "cell_type": "code",
      "source": [
        "l = list(map(int,input().split()))\n",
        "l1 = \"[{0} {1} {2}]\".format(l[0], l[1], l[2])\n",
        "l2 = \"[{0} {1} {2}]\".format(l[3], l[4], l[5])\n",
        "l3 = \"[{0} {1} {2}]\".format(l[6], l[7], l[8])\n",
        "\n",
        "print(\"[{0}\\n {1}\\n {2}]\".format(l1, l2, l3))"
      ],
      "metadata": {
        "colab": {
          "base_uri": "https://localhost:8080/"
        },
        "id": "2KCimgTEFVC8",
        "outputId": "06062558-f12d-4143-c6f0-7576cc0e9ad7"
      },
      "execution_count": null,
      "outputs": [
        {
          "output_type": "stream",
          "name": "stdout",
          "text": [
            "1 2 3 4 5 6 7 8 9\n",
            "[[1 2 3]\n",
            " [4 5 6]\n",
            " [7 8 9]]\n"
          ]
        }
      ]
    },
    {
      "cell_type": "markdown",
      "source": [
        "#The Captain's Room"
      ],
      "metadata": {
        "id": "BrqDi6uNV2h7"
      }
    },
    {
      "cell_type": "markdown",
      "source": [
        "##Cara 1"
      ],
      "metadata": {
        "id": "SmQ22Uk3ZL0m"
      }
    },
    {
      "cell_type": "code",
      "source": [
        "from collections import Counter\n",
        "\n",
        "_ = input()\n",
        "rooms = Counter(input().split())\n",
        "\n",
        "print(sorted(rooms.items(), key=lambda x: x[1])[0][0])"
      ],
      "metadata": {
        "colab": {
          "base_uri": "https://localhost:8080/"
        },
        "id": "FpH9BA89YmpW",
        "outputId": "c42703cd-7f86-4fe1-98f0-c36217952fa4"
      },
      "execution_count": null,
      "outputs": [
        {
          "output_type": "stream",
          "name": "stdout",
          "text": [
            "5\n",
            "1 2 3 6 5 4 4 2 5 3 6 1 6 5 3 2 4 1 2 5 1 4 3 6 8 4 3 1 5 6 2\n",
            "8\n"
          ]
        }
      ]
    },
    {
      "cell_type": "markdown",
      "source": [
        "##Cara 2"
      ],
      "metadata": {
        "id": "ToFkat9ZZM1K"
      }
    },
    {
      "cell_type": "code",
      "source": [
        "from collections import Counter\n",
        "\n",
        "K = input()\n",
        "rooms = Counter(input().split())\n",
        "print(rooms.most_common()[-1][0])"
      ],
      "metadata": {
        "colab": {
          "base_uri": "https://localhost:8080/"
        },
        "id": "WgMgzGsSV5sN",
        "outputId": "6d4c5a94-aae2-4e48-9bac-ce940d9d4027"
      },
      "execution_count": null,
      "outputs": [
        {
          "output_type": "stream",
          "name": "stdout",
          "text": [
            "5\n",
            "1 2 3 6 5 4 4 2 5 3 6 1 6 5 3 2 4 1 2 5 1 4 3 6 8 4 3 1 5 6 2 \n",
            "8\n"
          ]
        }
      ]
    },
    {
      "cell_type": "markdown",
      "source": [
        "##Cara 3"
      ],
      "metadata": {
        "id": "2zjd1sbaZOe1"
      }
    },
    {
      "cell_type": "code",
      "source": [
        "from collections import Counter\n",
        "\n",
        "groups = input()\n",
        "rooms: list = input().split()\n",
        "\n",
        "rooms_count = Counter(rooms)\n",
        "sorted_rooms = sorted(rooms_count.items(), key=lambda x: x[1])\n",
        "print(sorted_rooms[0][0])"
      ],
      "metadata": {
        "colab": {
          "base_uri": "https://localhost:8080/"
        },
        "id": "Elb8fWkxWUox",
        "outputId": "7a203117-ddae-4158-822a-075348680c0f"
      },
      "execution_count": null,
      "outputs": [
        {
          "output_type": "stream",
          "name": "stdout",
          "text": [
            "5\n",
            "1 2 3 6 5 4 4 2 5 3 6 1 6 5 3 2 4 1 2 5 1 4 3 6 8 4 3 1 5 6 2\n",
            "8\n"
          ]
        }
      ]
    },
    {
      "cell_type": "markdown",
      "source": [
        "##Cara 4"
      ],
      "metadata": {
        "id": "3Xsln5A5ZPxl"
      }
    },
    {
      "cell_type": "code",
      "source": [
        "from collections import Counter\n",
        "\n",
        "k=int(input())\n",
        "lst=input().split()\n",
        "\n",
        "captains_key=[]\n",
        "\n",
        "counts=Counter(lst)\n",
        "\n",
        "for element,count in counts.items():\n",
        "    if count==1:\n",
        "        captains_key.append(element)\n",
        "        \n",
        "print(*captains_key)"
      ],
      "metadata": {
        "colab": {
          "base_uri": "https://localhost:8080/"
        },
        "id": "0nwNAJcJX50H",
        "outputId": "91927f3a-f529-4f1a-c835-f696272ae288"
      },
      "execution_count": null,
      "outputs": [
        {
          "output_type": "stream",
          "name": "stdout",
          "text": [
            "5\n",
            "1 2 3 6 5 4 4 2 5 3 6 1 6 5 3 2 4 1 2 5 1 4 3 6 8 4 3 1 5 6 2\n",
            "8\n"
          ]
        }
      ]
    },
    {
      "cell_type": "markdown",
      "source": [
        "##Cara 5"
      ],
      "metadata": {
        "id": "MqBpq5BjZRdU"
      }
    },
    {
      "cell_type": "code",
      "source": [
        "K = int(input())\n",
        "RmNumLst = [int(i) for i in input().split()]\n",
        "RmSet = set(RmNumLst)\n",
        "\n",
        "sum_lst = sum(RmNumLst)\n",
        "sum_set = sum(RmSet)\n",
        "\n",
        "CptRmNum = int(sum_set - ((sum_lst - sum_set) / (K - 1)))\n",
        "\n",
        "print(CptRmNum)"
      ],
      "metadata": {
        "colab": {
          "base_uri": "https://localhost:8080/"
        },
        "id": "4o7sRwHCX-v9",
        "outputId": "36b293a3-9031-44fb-9df9-48b294f6d813"
      },
      "execution_count": null,
      "outputs": [
        {
          "output_type": "stream",
          "name": "stdout",
          "text": [
            "5\n",
            "1 2 3 6 5 4 4 2 5 3 6 1 6 5 3 2 4 1 2 5 1 4 3 6 8 4 3 1 5 6 2\n",
            "8\n"
          ]
        }
      ]
    },
    {
      "cell_type": "markdown",
      "source": [
        "#Check Subset"
      ],
      "metadata": {
        "id": "l1YnzN79ZXBl"
      }
    },
    {
      "cell_type": "markdown",
      "source": [
        "##Cara 1"
      ],
      "metadata": {
        "id": "DLtsnNXAcEfr"
      }
    },
    {
      "cell_type": "code",
      "source": [
        "n = int(input())\n",
        "for i in range(n):\n",
        "  k, A = input(), set(map(int, input().split()))\n",
        "  j, B = input(), set(map(int, input().split()))\n",
        "  print(A.issubset(B))"
      ],
      "metadata": {
        "colab": {
          "base_uri": "https://localhost:8080/"
        },
        "id": "wGUQ2tc3axRe",
        "outputId": "6b402c4b-a0c4-4648-d744-81a342e0ddf8"
      },
      "execution_count": null,
      "outputs": [
        {
          "output_type": "stream",
          "name": "stdout",
          "text": [
            "3\n",
            "5\n",
            "1 2 3 5 6\n",
            "9\n",
            "9 8 5 6 3 2 1 4 7\n",
            "True\n",
            "1\n",
            "2\n",
            "5\n",
            "3 6 5 4 1\n",
            "False\n",
            "7\n",
            "1 2 3 5 6 8 9\n",
            "3\n",
            "9 8 2\n",
            "False\n"
          ]
        }
      ]
    },
    {
      "cell_type": "markdown",
      "source": [
        "##Cara 2"
      ],
      "metadata": {
        "id": "lhduF_3zcGT5"
      }
    },
    {
      "cell_type": "code",
      "source": [
        "n=int(input())\n",
        "\n",
        "for i in range(n):\n",
        "    k,A=input(),set(map(int,input().split()))    \n",
        "    j,B=input(),set(map(int,input().split()))\n",
        "    if A.issubset(B): print(True)\n",
        "    else:print(False)"
      ],
      "metadata": {
        "colab": {
          "base_uri": "https://localhost:8080/"
        },
        "id": "8CUC6WZwZY8s",
        "outputId": "028d246d-0f77-4b69-acf9-e9032f97c58b"
      },
      "execution_count": null,
      "outputs": [
        {
          "output_type": "stream",
          "name": "stdout",
          "text": [
            "3\n",
            "5\n",
            "1 2 3 5 6\n",
            "9\n",
            "9 8 5 6 3 2 1 4 7\n",
            "True\n",
            "1\n",
            "2\n",
            "5\n",
            "3 6 5 4 1\n",
            "False\n",
            "7\n",
            "1 2 3 5 6 8 9\n",
            "3\n",
            "9 8 2\n",
            "False\n"
          ]
        }
      ]
    },
    {
      "cell_type": "markdown",
      "source": [
        "##Cara 3"
      ],
      "metadata": {
        "id": "UB3aU6YTcIaU"
      }
    },
    {
      "cell_type": "code",
      "source": [
        "T=int(input())\n",
        "\n",
        "for _ in range(T):\n",
        "    cardA=int(input())\n",
        "    A=set(input().split())\n",
        "    cardB=int(input())\n",
        "    B=set(input().split())\n",
        "    \n",
        "    union=A.union(B)\n",
        "    if(union==B):\n",
        "        print(True)\n",
        "    else:\n",
        "        print(False)"
      ],
      "metadata": {
        "colab": {
          "base_uri": "https://localhost:8080/"
        },
        "id": "q7AwszvMZsjd",
        "outputId": "6a3b3eb6-b619-466c-e23a-8b47e7af9587"
      },
      "execution_count": null,
      "outputs": [
        {
          "output_type": "stream",
          "name": "stdout",
          "text": [
            "3\n",
            "5\n",
            "1 2 3 5 6\n",
            "9\n",
            "9 8 5 6 3 2 1 4 7\n",
            "True\n",
            "1\n",
            "2\n",
            "5\n",
            "3 6 5 4 1\n",
            "False\n",
            "7\n",
            "1 2 3 5 6 8 9\n",
            "3\n",
            "9 8 2\n",
            "False\n"
          ]
        }
      ]
    },
    {
      "cell_type": "markdown",
      "source": [
        "##Cara 4"
      ],
      "metadata": {
        "id": "Oq5q04ybcKWs"
      }
    },
    {
      "cell_type": "code",
      "source": [
        "n_tests=int(input())\n",
        "for i in range(n_tests):\n",
        "    string1_len=input()\n",
        "    string1=input().split(\" \")\n",
        "    srings2_len=input()\n",
        "    string2=input().split(\" \")\n",
        "\n",
        "    is_subset= [x in string2 for x in string1]\n",
        "    if False in is_subset:\n",
        "        print(False)\n",
        "    else:\n",
        "        print(True)"
      ],
      "metadata": {
        "colab": {
          "base_uri": "https://localhost:8080/"
        },
        "id": "16xG17nYZugW",
        "outputId": "29d7799d-30fb-4314-da64-45ebd9674a20"
      },
      "execution_count": null,
      "outputs": [
        {
          "output_type": "stream",
          "name": "stdout",
          "text": [
            "3\n",
            "5\n",
            "1 2 3 5 6\n",
            "9\n",
            "9 8 5 6 3 2 1 4 7\n",
            "True\n",
            "1\n",
            "2\n",
            "5\n",
            "3 6 5 4 1\n",
            "False\n",
            "7\n",
            "1 2 3 5 6 8 9\n",
            "3\n",
            "9 8 2\n",
            "False\n"
          ]
        }
      ]
    },
    {
      "cell_type": "markdown",
      "source": [
        "#Check Strict Superset"
      ],
      "metadata": {
        "id": "I4Mrevxmdy7C"
      }
    },
    {
      "cell_type": "markdown",
      "source": [
        "##Cara 1"
      ],
      "metadata": {
        "id": "5qO1nVP1d0VJ"
      }
    },
    {
      "cell_type": "code",
      "source": [
        "set_A = set(map(int, input().split()))\n",
        "flag = all(set(map(int, input().split())).issubset(set_A) for _ in range(int(input())))\n",
        "print(flag)"
      ],
      "metadata": {
        "colab": {
          "base_uri": "https://localhost:8080/"
        },
        "id": "O_G7Ejj1daZo",
        "outputId": "f4d6a944-b10c-4682-d05f-aacc24652b2b"
      },
      "execution_count": null,
      "outputs": [
        {
          "output_type": "stream",
          "name": "stdout",
          "text": [
            "1 2 3 4 5 6 7 8 9 10 11 12 23 45 84 78\n",
            "2\n",
            "1 2 3 4 5\n",
            "100 11 12\n",
            "False\n"
          ]
        }
      ]
    },
    {
      "cell_type": "markdown",
      "source": [
        "## Cara 2"
      ],
      "metadata": {
        "id": "UHZ7xi-Od1_a"
      }
    },
    {
      "cell_type": "code",
      "source": [
        "A=set(map(int,input().split()))\n",
        "n=int(input())\n",
        "other_set=[]\n",
        "\n",
        "flag=0\n",
        "for i in range(n):\n",
        "    s=set(map(int,input().split()))\n",
        "    other_set.append(s)\n",
        "    if A.issuperset(other_set[i]):\n",
        "        if len(A.difference(other_set[i]))>=1:\n",
        "            flag+=1\n",
        "        else:\n",
        "            print(\"False\")\n",
        "    else:\n",
        "        print(\"False\")\n",
        "        break\n",
        "if flag==n:\n",
        "    print(\"True\")"
      ],
      "metadata": {
        "colab": {
          "base_uri": "https://localhost:8080/"
        },
        "id": "WSASnqH6cbYi",
        "outputId": "5e3a4f50-07ed-44b0-a23d-089262cf7ddf"
      },
      "execution_count": null,
      "outputs": [
        {
          "output_type": "stream",
          "name": "stdout",
          "text": [
            "1 2 3 4 5 6 7 8 9 10 11 12 23 45 84 78\n",
            "2\n",
            "1 2 3 4 5\n",
            "100 11 12\n",
            "False\n"
          ]
        }
      ]
    },
    {
      "cell_type": "markdown",
      "source": [
        "##Cara 3"
      ],
      "metadata": {
        "id": "zEpwS3V8d31q"
      }
    },
    {
      "cell_type": "code",
      "source": [
        "set_A=set(map(int,input().split()))\n",
        "n=int(input())\n",
        "other=set()\n",
        "for i in range(n):\n",
        "    element=map(int,input().split())\n",
        "    other.update(element)\n",
        "    \n",
        "print(set_A.issuperset(other))"
      ],
      "metadata": {
        "colab": {
          "base_uri": "https://localhost:8080/"
        },
        "id": "v2LD7TjTcdRq",
        "outputId": "d8f810a6-3cfa-42f0-f894-3629dd73b251"
      },
      "execution_count": null,
      "outputs": [
        {
          "output_type": "stream",
          "name": "stdout",
          "text": [
            "1 2 3 4 5 6 7 8 9 10 11 12 23 45 84 78\n",
            "2\n",
            "1 2 3 4 5\n",
            "100 11 12\n",
            "False\n"
          ]
        }
      ]
    },
    {
      "cell_type": "markdown",
      "source": [
        "##Cara 4"
      ],
      "metadata": {
        "id": "4nmFl-w6d6Bh"
      }
    },
    {
      "cell_type": "code",
      "source": [
        "set_A = set(map(int, input().split()))\n",
        "\n",
        "flag = True\n",
        "for _ in range(int(input())):\n",
        "    set_n = set(map(int, input().split()))\n",
        "    if not set_A.issuperset(set_n):\n",
        "        flag = False\n",
        "print(flag)"
      ],
      "metadata": {
        "colab": {
          "base_uri": "https://localhost:8080/"
        },
        "id": "-HWv1eDwcfjC",
        "outputId": "be9bbc7b-67ee-4ad5-d499-03c9c55cd4a4"
      },
      "execution_count": null,
      "outputs": [
        {
          "output_type": "stream",
          "name": "stdout",
          "text": [
            "1 2 3 4 5 6 7 8 9 10 11 12 23 45 84 78\n",
            "2\n",
            "1 2 3 4 5\n",
            "100 11 12\n",
            "False\n"
          ]
        }
      ]
    },
    {
      "cell_type": "markdown",
      "source": [
        "##Cara 5"
      ],
      "metadata": {
        "id": "PgaZGSXYd8BK"
      }
    },
    {
      "cell_type": "code",
      "source": [
        "set_A = set(map(int, input().split()))\n",
        "flag = True\n",
        "for _ in range(int(input())):\n",
        "    set_n = set(map(int, input().split()))\n",
        "    if not set_A.issuperset(set_n):\n",
        "        flag = False\n",
        "print(flag)"
      ],
      "metadata": {
        "colab": {
          "base_uri": "https://localhost:8080/"
        },
        "id": "0_Czljkncho6",
        "outputId": "bcd92d54-21fd-45c9-b570-6adab9f9f293"
      },
      "execution_count": null,
      "outputs": [
        {
          "output_type": "stream",
          "name": "stdout",
          "text": [
            "1 2 3 4 5 6 7 8 9 10 11 12 23 45 84 78\n",
            "2\n",
            "1 2 3 4 5\n",
            "100 11 12\n",
            "False\n"
          ]
        }
      ]
    },
    {
      "cell_type": "markdown",
      "source": [
        "#Zeros and Ones"
      ],
      "metadata": {
        "id": "TLRUO52Kfqpp"
      }
    },
    {
      "cell_type": "markdown",
      "source": [
        "##Cara 1"
      ],
      "metadata": {
        "id": "HgEovfhOftJ_"
      }
    },
    {
      "cell_type": "code",
      "source": [
        "import numpy as np\n",
        "dim = tuple(map(int, input().strip().split(' ')))\n",
        "print(np.zeros(dim, dtype = np.int32), np.ones(dim, dtype = np.int32), sep = '\\n')"
      ],
      "metadata": {
        "colab": {
          "base_uri": "https://localhost:8080/"
        },
        "id": "JU-09wrSeNmD",
        "outputId": "0c69f52e-911b-42c1-be0f-face2f0f858f"
      },
      "execution_count": null,
      "outputs": [
        {
          "output_type": "stream",
          "name": "stdout",
          "text": [
            "3 3 3\n",
            "[[[0 0 0]\n",
            "  [0 0 0]\n",
            "  [0 0 0]]\n",
            "\n",
            " [[0 0 0]\n",
            "  [0 0 0]\n",
            "  [0 0 0]]\n",
            "\n",
            " [[0 0 0]\n",
            "  [0 0 0]\n",
            "  [0 0 0]]]\n",
            "[[[1 1 1]\n",
            "  [1 1 1]\n",
            "  [1 1 1]]\n",
            "\n",
            " [[1 1 1]\n",
            "  [1 1 1]\n",
            "  [1 1 1]]\n",
            "\n",
            " [[1 1 1]\n",
            "  [1 1 1]\n",
            "  [1 1 1]]]\n"
          ]
        }
      ]
    },
    {
      "cell_type": "markdown",
      "source": [
        "##Cara 2"
      ],
      "metadata": {
        "id": "LNiv6jYmfvEB"
      }
    },
    {
      "cell_type": "code",
      "source": [
        "import numpy\n",
        "\n",
        "shape = list(map(int, input().split()))\n",
        "print(numpy.zeros(shape, int))\n",
        "print(numpy.ones(shape, int))"
      ],
      "metadata": {
        "colab": {
          "base_uri": "https://localhost:8080/"
        },
        "id": "1Dxb021MePWy",
        "outputId": "c0085de0-daa3-4af4-b84d-209698959209"
      },
      "execution_count": null,
      "outputs": [
        {
          "output_type": "stream",
          "name": "stdout",
          "text": [
            "3 3 3\n",
            "[[[0 0 0]\n",
            "  [0 0 0]\n",
            "  [0 0 0]]\n",
            "\n",
            " [[0 0 0]\n",
            "  [0 0 0]\n",
            "  [0 0 0]]\n",
            "\n",
            " [[0 0 0]\n",
            "  [0 0 0]\n",
            "  [0 0 0]]]\n",
            "[[[1 1 1]\n",
            "  [1 1 1]\n",
            "  [1 1 1]]\n",
            "\n",
            " [[1 1 1]\n",
            "  [1 1 1]\n",
            "  [1 1 1]]\n",
            "\n",
            " [[1 1 1]\n",
            "  [1 1 1]\n",
            "  [1 1 1]]]\n"
          ]
        }
      ]
    },
    {
      "cell_type": "markdown",
      "source": [
        "##Cara 3"
      ],
      "metadata": {
        "id": "30v4PLnvfwq7"
      }
    },
    {
      "cell_type": "code",
      "source": [
        "import numpy\n",
        "\n",
        "arr = [int(x) for x in input().split()]\n",
        "print(numpy.zeros(arr, dtype=int), numpy.ones(arr, dtype=int), sep=\"\\n\")"
      ],
      "metadata": {
        "colab": {
          "base_uri": "https://localhost:8080/"
        },
        "id": "ZwZQwm4HeWBT",
        "outputId": "a57dda3e-6892-4dee-d583-9c74b7e139c2"
      },
      "execution_count": null,
      "outputs": [
        {
          "output_type": "stream",
          "name": "stdout",
          "text": [
            "3 3 3\n",
            "[[[0 0 0]\n",
            "  [0 0 0]\n",
            "  [0 0 0]]\n",
            "\n",
            " [[0 0 0]\n",
            "  [0 0 0]\n",
            "  [0 0 0]]\n",
            "\n",
            " [[0 0 0]\n",
            "  [0 0 0]\n",
            "  [0 0 0]]]\n",
            "[[[1 1 1]\n",
            "  [1 1 1]\n",
            "  [1 1 1]]\n",
            "\n",
            " [[1 1 1]\n",
            "  [1 1 1]\n",
            "  [1 1 1]]\n",
            "\n",
            " [[1 1 1]\n",
            "  [1 1 1]\n",
            "  [1 1 1]]]\n"
          ]
        }
      ]
    },
    {
      "cell_type": "markdown",
      "source": [
        "#Eye and Identify"
      ],
      "metadata": {
        "id": "lrhkACqLgL3Y"
      }
    },
    {
      "cell_type": "markdown",
      "source": [
        "##Cara 1"
      ],
      "metadata": {
        "id": "2x0kSxfshgog"
      }
    },
    {
      "cell_type": "code",
      "source": [
        "import numpy as np\n",
        "np.set_printoptions(legacy = '1.13')\n",
        "n, m = list(map(int, input().strip().split(' ')))\n",
        "print(np.eye(n, m))"
      ],
      "metadata": {
        "colab": {
          "base_uri": "https://localhost:8080/"
        },
        "id": "Pjw453N2geDs",
        "outputId": "2ff322d6-1ab4-447b-a25b-03078a8ca3fb"
      },
      "execution_count": null,
      "outputs": [
        {
          "output_type": "stream",
          "name": "stdout",
          "text": [
            "3 3\n",
            "[[ 1.  0.  0.]\n",
            " [ 0.  1.  0.]\n",
            " [ 0.  0.  1.]]\n"
          ]
        }
      ]
    },
    {
      "cell_type": "markdown",
      "source": [
        "##Cara 2"
      ],
      "metadata": {
        "id": "5sSXzackhiKI"
      }
    },
    {
      "cell_type": "code",
      "source": [
        "import numpy as np\n",
        "np.set_printoptions(legacy='1.13')\n",
        "print(np.eye(*(map(int,input().split()))))"
      ],
      "metadata": {
        "colab": {
          "base_uri": "https://localhost:8080/"
        },
        "id": "NhG69P-1gg_p",
        "outputId": "1baa3676-247c-4130-f795-4f583b3052a7"
      },
      "execution_count": null,
      "outputs": [
        {
          "output_type": "stream",
          "name": "stdout",
          "text": [
            "3 3\n",
            "[[ 1.  0.  0.]\n",
            " [ 0.  1.  0.]\n",
            " [ 0.  0.  1.]]\n"
          ]
        }
      ]
    },
    {
      "cell_type": "markdown",
      "source": [
        "##Cara 3"
      ],
      "metadata": {
        "id": "PRNZXgaPhjTp"
      }
    },
    {
      "cell_type": "code",
      "source": [
        "import numpy\n",
        "\n",
        "numpy.set_printoptions(legacy='1.13')\n",
        "\n",
        "read=list(map(int,input().split()))\n",
        "\n",
        "print(numpy.eye(read[0],read[1]))"
      ],
      "metadata": {
        "colab": {
          "base_uri": "https://localhost:8080/"
        },
        "id": "zmNTLJxdgl5p",
        "outputId": "9e57a46f-5542-4d4b-9f82-edd71d8bd7a9"
      },
      "execution_count": null,
      "outputs": [
        {
          "output_type": "stream",
          "name": "stdout",
          "text": [
            "3 3\n",
            "[[ 1.  0.  0.]\n",
            " [ 0.  1.  0.]\n",
            " [ 0.  0.  1.]]\n"
          ]
        }
      ]
    },
    {
      "cell_type": "markdown",
      "source": [
        "##Cara 4"
      ],
      "metadata": {
        "id": "y6swRX_khleI"
      }
    },
    {
      "cell_type": "code",
      "source": [
        "import numpy \n",
        "numpy.set_printoptions(legacy='1.13') \n",
        "N,M = map (int, input().split()) \n",
        "arr= numpy.eye(N,M) \n",
        "print(arr)"
      ],
      "metadata": {
        "colab": {
          "base_uri": "https://localhost:8080/"
        },
        "id": "As9ACJZ-gpTw",
        "outputId": "5ba33dfe-9614-4e39-bc53-f6dd6e514964"
      },
      "execution_count": null,
      "outputs": [
        {
          "output_type": "stream",
          "name": "stdout",
          "text": [
            "3 3\n",
            "[[ 1.  0.  0.]\n",
            " [ 0.  1.  0.]\n",
            " [ 0.  0.  1.]]\n"
          ]
        }
      ]
    },
    {
      "cell_type": "markdown",
      "source": [
        "##Cara 5"
      ],
      "metadata": {
        "id": "aiWjE6V0hm1A"
      }
    },
    {
      "cell_type": "code",
      "source": [
        "import numpy \n",
        "numpy.set_printoptions(legacy='1.13')\n",
        "\n",
        "N,M=(input().split()) \n",
        "N=int(N) \n",
        "M=int(M) \n",
        "print(numpy.eye(N,M,k=0)) "
      ],
      "metadata": {
        "colab": {
          "base_uri": "https://localhost:8080/"
        },
        "id": "SZkTQv7XgwBG",
        "outputId": "310f3a43-7f6d-42ad-f957-84a15a81bde9"
      },
      "execution_count": null,
      "outputs": [
        {
          "output_type": "stream",
          "name": "stdout",
          "text": [
            "3 3\n",
            "[[ 1.  0.  0.]\n",
            " [ 0.  1.  0.]\n",
            " [ 0.  0.  1.]]\n"
          ]
        }
      ]
    },
    {
      "cell_type": "markdown",
      "source": [
        "#Classes: Dealing with Complex Number"
      ],
      "metadata": {
        "id": "W0LfM8uw7AYm"
      }
    },
    {
      "cell_type": "markdown",
      "source": [
        "##Cara 1"
      ],
      "metadata": {
        "id": "UFC02haV7Bqx"
      }
    },
    {
      "cell_type": "code",
      "source": [
        "import math\n",
        "class Complex(object):\n",
        "    def __init__(self, real, imaginary):\n",
        "        self.complex = complex(real, imaginary)\n",
        "        self.real = self.complex.real\n",
        "        self.imaginary = self.complex.imag\n",
        "\n",
        "    def __add__(self, no):\n",
        "        res = self.complex + complex(no.real, no.imaginary)\n",
        "\n",
        "        return Complex(res.real, res.imag)\n",
        "\n",
        "    def __sub__(self, no):\n",
        "        res = self.complex - complex(no.real, no.imaginary)\n",
        "\n",
        "        return Complex(res.real, res.imag)\n",
        "\n",
        "    def __mul__(self, no):\n",
        "        res = self.complex * complex(no.real, no.imaginary)\n",
        "\n",
        "        return Complex(res.real, res.imag)\n",
        "\n",
        "    def __truediv__(self, no):\n",
        "        res = self.complex / complex(no.real, no.imaginary)\n",
        "\n",
        "        return Complex(res.real, res.imag)\n",
        "\n",
        "    def mod(self):\n",
        "        res = abs(self.complex)\n",
        "\n",
        "        return Complex(res.real, res.imag)\n",
        "    \n",
        "    def __str__(self):\n",
        "        if self.imaginary == 0:\n",
        "            result = \"%.2f+0.00i\" % (self.real)\n",
        "        elif self.real == 0:\n",
        "            if self.imaginary >= 0:\n",
        "                result = \"0.00+%.2fi\" % (self.imaginary)\n",
        "            else:\n",
        "                result = \"0.00-%.2fi\" % (abs(self.imaginary))\n",
        "        elif self.imaginary > 0:\n",
        "            result = \"%.2f+%.2fi\" % (self.real, self.imaginary)\n",
        "        else:\n",
        "            result = \"%.2f-%.2fi\" % (self.real, abs(self.imaginary))\n",
        "        return result\n",
        "\n",
        "if __name__ == '__main__':\n",
        "    c = map(float, input().split())\n",
        "    d = map(float, input().split())\n",
        "    x = Complex(*c)\n",
        "    y = Complex(*d)\n",
        "    print(*map(str, [x+y, x-y, x*y, x/y, x.mod(), y.mod()]), sep='\\n')"
      ],
      "metadata": {
        "colab": {
          "base_uri": "https://localhost:8080/"
        },
        "id": "1jqAlyWI5S3W",
        "outputId": "cf69f94f-4e09-41a7-e032-5a85bf91c5ad"
      },
      "execution_count": null,
      "outputs": [
        {
          "output_type": "stream",
          "name": "stdout",
          "text": [
            "2 1\n",
            "5 6\n",
            "7.00+7.00i\n",
            "-3.00-5.00i\n",
            "4.00+17.00i\n",
            "0.26-0.11i\n",
            "2.24+0.00i\n",
            "7.81+0.00i\n"
          ]
        }
      ]
    },
    {
      "cell_type": "markdown",
      "source": [
        "##Cara 2"
      ],
      "metadata": {
        "id": "MrpBgw3Y7Ddn"
      }
    },
    {
      "cell_type": "code",
      "source": [
        "import math\n",
        "class Complex(object):\n",
        "    def __init__(self, real, imaginary):\n",
        "        self.real = real\n",
        "        self.imaginary = imaginary\n",
        "    def __add__(self, no):\n",
        "        real = self.real + no.real\n",
        "        imaginary = self.imaginary + no.imaginary\n",
        "        return Complex(real, imaginary)\n",
        "    def __sub__(self, no):\n",
        "        real = self.real - no.real\n",
        "        imaginary = self.imaginary - no.imaginary\n",
        "        return Complex(real, imaginary)\n",
        "    def __mul__(self, no):\n",
        "        real = self.real * no.real - self.imaginary * no.imaginary\n",
        "        imaginary = self.real * no.imaginary + self.imaginary * no.real\n",
        "        return Complex(real, imaginary)\n",
        "    def __truediv__(self, no):\n",
        "        x = float(no.real ** 2 + no.imaginary ** 2)\n",
        "        y = self * Complex(no.real, -no.imaginary)\n",
        "        real = y.real / x\n",
        "        imaginary = y.imaginary / x\n",
        "        return Complex(real, imaginary)\n",
        "\n",
        "    def mod(self):\n",
        "        real = math.sqrt(self.real ** 2 + self.imaginary ** 2)\n",
        "        return Complex(real, 0)\n",
        "\n",
        "    def __str__(self):\n",
        "        if self.imaginary == 0:\n",
        "            result = \"%.2f+0.00i\" % (self.real)\n",
        "        elif self.real == 0:\n",
        "            if self.imaginary >= 0:\n",
        "                result = \"0.00+%.2fi\" % (self.imaginary)\n",
        "            else:\n",
        "                result = \"0.00-%.2fi\" % (abs(self.imaginary))\n",
        "        elif self.imaginary > 0:\n",
        "            result = \"%.2f+%.2fi\" % (self.real, self.imaginary)\n",
        "        else:\n",
        "            result = \"%.2f-%.2fi\" % (self.real, abs(self.imaginary))\n",
        "        return result\n",
        "if __name__ == '__main__':\n",
        "    c = map(float, input().split())\n",
        "    d = map(float, input().split())\n",
        "    x = Complex(*c)\n",
        "    y = Complex(*d)\n",
        "    print(*map(str, [x+y, x-y, x*y, x/y, x.mod(), y.mod()]), sep='\\n')"
      ],
      "metadata": {
        "colab": {
          "base_uri": "https://localhost:8080/"
        },
        "id": "RT3_8fzs5hkI",
        "outputId": "7d017eae-252b-4554-b76d-c0ffb1e3e2a6"
      },
      "execution_count": null,
      "outputs": [
        {
          "output_type": "stream",
          "name": "stdout",
          "text": [
            "2 1\n",
            "5 6\n",
            "7.00+7.00i\n",
            "-3.00-5.00i\n",
            "4.00+17.00i\n",
            "0.26-0.11i\n",
            "2.24+0.00i\n",
            "7.81+0.00i\n"
          ]
        }
      ]
    },
    {
      "cell_type": "markdown",
      "source": [
        "##Cara 3"
      ],
      "metadata": {
        "id": "vdZZZTuR7FG3"
      }
    },
    {
      "cell_type": "code",
      "source": [
        "import math\n",
        "def __add__(self, no):\n",
        "    result = Complex(self.real + no.real , self.imaginary + no.imaginary)\n",
        "    return result\n",
        "\n",
        "def __sub__(self, no):\n",
        "    result = Complex(self.real-no.real, self.imaginary-no.imaginary)\n",
        "    return result\n",
        "\n",
        "def __mul__(self, no):\n",
        "    result = complex(self.real, self.imaginary)* complex(no.real,no.imaginary)\n",
        "    return Complex(result.real, result.imag)\n",
        "\n",
        "def __truediv__(self, no):\n",
        "    result = complex(self.real,self.imaginary)/ complex(no.real, no.imaginary)\n",
        "    return Complex(result.real, result.imag)\n",
        "\n",
        "def mod(self):\n",
        "    result = Complex((self.real**2 + self.imaginary**2)**0.5, 0)\n",
        "    return result\n",
        "\n",
        "\n",
        "def __str__(self):\n",
        "    if self.imaginary == 0:\n",
        "        result = \"%.2f+0.00i\" % (self.real)\n",
        "    elif self.real == 0:\n",
        "        if self.imaginary >= 0:\n",
        "            result = \"0.00+%.2fi\" % (self.imaginary)\n",
        "        else:\n",
        "            result = \"0.00-%.2fi\" % (abs(self.imaginary))\n",
        "    elif self.imaginary > 0:\n",
        "        result = \"%.2f+%.2fi\" % (self.real, self.imaginary)\n",
        "    else:\n",
        "        result = \"%.2f-%.2fi\" % (self.real, abs(self.imaginary))\n",
        "    return result\n",
        "if __name__ == '__main__':\n",
        "    c = map(float, input().split())\n",
        "    d = map(float, input().split())\n",
        "    x = Complex(*c)\n",
        "    y = Complex(*d)\n",
        "    print(*map(str, [x+y, x-y, x*y, x/y, x.mod(), y.mod()]), sep='\\n')"
      ],
      "metadata": {
        "colab": {
          "base_uri": "https://localhost:8080/"
        },
        "id": "wBrzmIYR5kAQ",
        "outputId": "95df4c6d-5497-458a-9656-3552e40a1f10"
      },
      "execution_count": null,
      "outputs": [
        {
          "output_type": "stream",
          "name": "stdout",
          "text": [
            "2 1\n",
            "5 6\n",
            "7.00+7.00i\n",
            "-3.00-5.00i\n",
            "4.00+17.00i\n",
            "0.26-0.11i\n",
            "2.24+0.00i\n",
            "7.81+0.00i\n"
          ]
        }
      ]
    },
    {
      "cell_type": "markdown",
      "source": [
        "##Cara 4"
      ],
      "metadata": {
        "id": "DsT_2JYe7Hcn"
      }
    },
    {
      "cell_type": "code",
      "source": [
        "import math\n",
        "\n",
        "class Complex(object):\n",
        "    def __init__(self, real, imaginary):\n",
        "        self.real = real\n",
        "        self.imaginary = imaginary\n",
        "        \n",
        "    def __add__(self, no):\n",
        "        return Complex(self.real + no.real, self.imaginary + no.imaginary)\n",
        "        \n",
        "    def __sub__(self, no):\n",
        "        return Complex(self.real - no.real, self.imaginary - no.imaginary)\n",
        "        \n",
        "    def __mul__(self, no):\n",
        "        return Complex(self.real * no.real - self.imaginary * no.imaginary, \\\n",
        "        self.imaginary * no.real + self.real * no.imaginary)\n",
        "        \n",
        "    def __truediv__(self, no):\n",
        "        return Complex((self.real*no.real + self.imaginary*no.imaginary)/(no.real**2 + no.imaginary**2),\\\n",
        "        (self.imaginary*no.real - self.real*no.imaginary)/(no.real**2 + no.imaginary**2))\n",
        "        \n",
        "    def mod(self):\n",
        "        return Complex((self.real**2 + self.imaginary**2)**0.5, 0)\n",
        "        \n",
        "    def __str__(self):\n",
        "        if self.imaginary == 0:\n",
        "            result = \"%.2f+0.00i\" % (self.real)\n",
        "        elif self.real == 0:\n",
        "            if self.imaginary >= 0:\n",
        "                result = \"0.00+%.2fi\" % (self.imaginary)\n",
        "            else:\n",
        "                result = \"0.00-%.2fi\" % (abs(self.imaginary))\n",
        "        elif self.imaginary > 0:\n",
        "            result = \"%.2f+%.2fi\" % (self.real, self.imaginary)\n",
        "        else:\n",
        "            result = \"%.2f-%.2fi\" % (self.real, abs(self.imaginary))\n",
        "        return result\n",
        "\n",
        "if __name__ == '__main__':\n",
        "    c = map(float, input().split())\n",
        "    d = map(float, input().split())\n",
        "    x = Complex(*c)\n",
        "    y = Complex(*d)\n",
        "    print(*map(str, [x+y, x-y, x*y, x/y, x.mod(), y.mod()]), sep='\\n')"
      ],
      "metadata": {
        "colab": {
          "base_uri": "https://localhost:8080/"
        },
        "id": "f0Zf-nab5mfu",
        "outputId": "459ea58b-d448-4548-f845-85cb1b487d1e"
      },
      "execution_count": null,
      "outputs": [
        {
          "output_type": "stream",
          "name": "stdout",
          "text": [
            "2 1\n",
            "5 6\n",
            "7.00+7.00i\n",
            "-3.00-5.00i\n",
            "4.00+17.00i\n",
            "0.26-0.11i\n",
            "2.24+0.00i\n",
            "7.81+0.00i\n"
          ]
        }
      ]
    },
    {
      "cell_type": "markdown",
      "source": [
        "#Find the Torsional Angle"
      ],
      "metadata": {
        "id": "0Bow12Wn-Cql"
      }
    },
    {
      "cell_type": "code",
      "source": [
        "import math\n",
        "\n",
        "class Points(object):\n",
        "    def __init__(self, x, y, z):\n",
        "        self.x = x\n",
        "        self.y = y\n",
        "        self.z = z\n",
        "    def __sub__(self, no):\n",
        "        return Points(self.x - no.x, self.y - no.y,self.z - no.z)\n",
        "    def dot(self, no):\n",
        "        return self.x*no.x + self.y*no.y + self.z*no.z\n",
        "    def cross(self, no):\n",
        "        return Points((self.y*no.z - self.z*no.y),(self.z*no.x - self.x*no.z),(self.x*no.y - self.y*no.x))\n",
        "    def absolute(self):\n",
        "        return pow((self.x ** 2 + self.y ** 2 + self.z ** 2), 0.5)\n",
        "\n",
        "if __name__ == '__main__':\n",
        "    points = list()\n",
        "    for i in range(4):\n",
        "        a = list(map(float, input().split()))\n",
        "        points.append(a)\n",
        "\n",
        "    a, b, c, d = Points(*points[0]), Points(*points[1]), Points(*points[2]), Points(*points[3])\n",
        "    x = (b - a).cross(c - b)\n",
        "    y = (c - b).cross(d - c)\n",
        "    angle = math.acos(x.dot(y) / (x.absolute() * y.absolute()))\n",
        "\n",
        "    print(\"%.2f\" % math.degrees(angle))"
      ],
      "metadata": {
        "colab": {
          "base_uri": "https://localhost:8080/"
        },
        "id": "fIxuOabK-Bqe",
        "outputId": "3c2a3cde-fc52-40e8-a522-69ead8d7d281"
      },
      "execution_count": null,
      "outputs": [
        {
          "output_type": "stream",
          "name": "stdout",
          "text": [
            "0 4 5\n",
            "1 7 6\n",
            "0 5 9\n",
            "1 7 2\n",
            "8.19\n"
          ]
        }
      ]
    },
    {
      "cell_type": "markdown",
      "source": [
        "#Hex Color Code"
      ],
      "metadata": {
        "id": "qTtqBzxrJilg"
      }
    },
    {
      "cell_type": "markdown",
      "source": [
        "##Cara 1"
      ],
      "metadata": {
        "id": "iGEVQ1UBRW20"
      }
    },
    {
      "cell_type": "code",
      "source": [
        "# we are supposed to print out valid hex color codes\n",
        "# which has either 3 or 6 characters, that fall under[A-Fa-f0-9]\n",
        "# they also have to begin with #\n",
        "# we first find all the items between { and }, then find the hex codes\n",
        "# we are given int N, and N lines of css code\n",
        "import re\n",
        "css_code = \"\"\"\"\"\"\n",
        "for i in range(int(input())):\n",
        "    css_code += input() # the css code in one variable\n",
        "\n",
        "neccessary_css_code = re.findall(r\"[{][^}]+\", css_code)\n",
        "for item in neccessary_css_code:\n",
        "    for i in re.findall(r\"#[A-Fa-f0-9]{6}|#[A-Fa-f0-9]{3}\", item):\n",
        "        print(i)\n",
        "    # print(*re.findall(r\"#[A-Fa-f0-9]{6}|#[A-Fa-f0-9]{3}\", item), sep=\"\\n\")\n",
        "    "
      ],
      "metadata": {
        "colab": {
          "base_uri": "https://localhost:8080/"
        },
        "id": "PfN3e19RJQdA",
        "outputId": "a02e5017-9234-4a09-abdd-fd3d7909ee97"
      },
      "execution_count": null,
      "outputs": [
        {
          "output_type": "stream",
          "name": "stdout",
          "text": [
            "11\n",
            "#BED\n",
            "{\n",
            "color: #FfFdF8; background-color:#aef;\n",
            "font-size: 123px;\n",
            "background: -webkit-linear-gradient(top, #f9f9f9, #fff); }\n",
            "#Cab\n",
            "{\n",
            "background-color: #ABC;\n",
            "border: 2px dashed #fff;\n",
            "}\n",
            "\n",
            "#FfFdF8\n",
            "#aef\n",
            "#f9f9f9\n",
            "#fff\n",
            "#ABC\n",
            "#fff\n"
          ]
        }
      ]
    },
    {
      "cell_type": "markdown",
      "source": [
        "##Cara 2"
      ],
      "metadata": {
        "id": "lTsUWeCeRZf0"
      }
    },
    {
      "cell_type": "code",
      "source": [
        "import re\n",
        "p=r'(?<=[:\\s])(#{1}[0-9a-fA-F]{3,6}(?=[;\\s,)]))'\n",
        "for i in range(int(input())):\n",
        "    html=input()\n",
        "    m=re.findall(p,html)\n",
        "    if len(m)>0:\n",
        "        [print (i) for i in m]"
      ],
      "metadata": {
        "colab": {
          "base_uri": "https://localhost:8080/"
        },
        "id": "Rht7_zyVJS6I",
        "outputId": "54d32626-6696-494a-a0b4-4422a693315d"
      },
      "execution_count": null,
      "outputs": [
        {
          "name": "stdout",
          "output_type": "stream",
          "text": [
            "11\n",
            "#BED\n",
            "{\n",
            "color: #FfFdF8; background-color:#aef;\n",
            "#FfFdF8\n",
            "#aef\n",
            "font-size: 123px;\n",
            "background: -webkit-linear-gradient(top, #f9f9f9, #fff); }\n",
            "#f9f9f9\n",
            "#fff\n",
            "#Cab\n",
            "{\n",
            "background-color: #ABC;\n",
            "#ABC\n",
            "border: 2px dashed #fff;\n",
            "#fff\n",
            "}\n",
            "\n"
          ]
        }
      ]
    },
    {
      "cell_type": "markdown",
      "source": [
        "##Cara 3"
      ],
      "metadata": {
        "id": "k9wgqTckRbWl"
      }
    },
    {
      "cell_type": "code",
      "source": [
        "import re\n",
        "no_input = int(input())\n",
        "pattern = r'\\#[a-fA-F0-9]{3,6}[;,)]'\n",
        "for _ in range(no_input):\n",
        "    user_input = input()\n",
        "    matches = re.findall(pattern, user_input)\n",
        "    for match in matches:\n",
        "        if match[-1] == ',' or match[-1] == ')' or match[-1] == ';':\n",
        "            match = match.replace(match[-1], '')\n",
        "        print(match)"
      ],
      "metadata": {
        "colab": {
          "base_uri": "https://localhost:8080/"
        },
        "id": "A5UooN6wJWA3",
        "outputId": "39d3d920-d2bd-4da9-f04a-1df09f7ee3c2"
      },
      "execution_count": null,
      "outputs": [
        {
          "name": "stdout",
          "output_type": "stream",
          "text": [
            "11\n",
            "#BED\n",
            "{\n",
            "color: #FfFdF8; background-color:#aef;\n",
            "#FfFdF8\n",
            "#aef\n",
            "font-size: 123px;\n",
            "background: -webkit-linear-gradient(top, #f9f9f9, #fff); }\n",
            "#f9f9f9\n",
            "#fff\n",
            "#Cab\n",
            "{\n",
            "background-color: #ABC;\n",
            "#ABC\n",
            "border: 2px dashed #fff\n",
            "}\n",
            "\n"
          ]
        }
      ]
    },
    {
      "cell_type": "markdown",
      "source": [
        "##Cara 4"
      ],
      "metadata": {
        "id": "ZpKQnbGORdIU"
      }
    },
    {
      "cell_type": "code",
      "source": [
        "import re\n",
        "p=re.compile(r'[ \\:]+(\\#[\\da-fA-F]{3,6})')\n",
        "for _ in range(int(input())):\n",
        "    [print(i) for i in p.findall(input())]"
      ],
      "metadata": {
        "colab": {
          "base_uri": "https://localhost:8080/"
        },
        "id": "BCzCQeQ2JY3K",
        "outputId": "c6eaa912-ecab-48eb-81fe-c61c17423516"
      },
      "execution_count": null,
      "outputs": [
        {
          "name": "stdout",
          "output_type": "stream",
          "text": [
            "11\n",
            "#BED\n",
            "{\n",
            "color: #FfFdF8; background-color:#aef;\n",
            "#FfFdF8\n",
            "#aef\n",
            "font-size: 123px;\n",
            "background: -webkit-linear-gradient(top, #f9f9f9, #fff); }\n",
            "#f9f9f9\n",
            "#fff\n",
            "#Cab\n",
            "{\n",
            "background-color: #ABC;\n",
            "#ABC\n",
            "border: 2px dashed #fff\n",
            "#fff\n",
            "}\n",
            "\n"
          ]
        }
      ]
    },
    {
      "cell_type": "markdown",
      "source": [
        "#HTML Parser Part 1"
      ],
      "metadata": {
        "id": "EA5FaRLwTtws"
      }
    },
    {
      "cell_type": "markdown",
      "source": [
        "##Cara 1"
      ],
      "metadata": {
        "id": "mnzJkBqqTu5G"
      }
    },
    {
      "cell_type": "code",
      "source": [
        "from html.parser import HTMLParser\n",
        "import re\n",
        "\n",
        "class MyHtmlParser(HTMLParser):\n",
        "    def handle_starttag(self, tag, attrs):\n",
        "        print(f'Start : {tag}')\n",
        "        [print(f'-> {i[0]} > {i[1]}') for i in attrs]\n",
        "    def handle_endtag(self, tag):\n",
        "        print(f'End   : {tag}')\n",
        "    def handle_startendtag(self, tag, attrs):\n",
        "        print(f'Empty : {tag}')\n",
        "        [print(f'-> {i[0]} > {i[1]}') for i in attrs]\n",
        "\n",
        "sec=re.compile(r'\\<\\!\\-\\-(.*)\\-\\-\\>')\n",
        "sc=re.compile(r'^(.*)(\\<\\!\\-\\-.*)$')\n",
        "se=re.compile(r'^(.*\\-\\-\\>)(.*)$')\n",
        "isCommentStart=False\n",
        "for _ in range(int(input())):\n",
        "    s=input()\n",
        "    s=sec.sub('',s)\n",
        "    \n",
        "    if(not isCommentStart and sc.match(s)):\n",
        "        isCommentStart=True\n",
        "        s=sc.sub(r'\\1',s)\n",
        "    \n",
        "    if(isCommentStart and se.match(s)):\n",
        "        isCommentStart=False\n",
        "        s=se.sub(r'\\2',s)\n",
        "    elif(isCommentStart):\n",
        "        continue\n",
        "    \n",
        "    parser = MyHtmlParser()\n",
        "    parser.feed(s)"
      ],
      "metadata": {
        "colab": {
          "base_uri": "https://localhost:8080/"
        },
        "id": "OCdNAEZwSHay",
        "outputId": "56018750-3ae0-4986-cc6d-9f3509f480ca"
      },
      "execution_count": null,
      "outputs": [
        {
          "output_type": "stream",
          "name": "stdout",
          "text": [
            "2\n",
            "<html><head><title>HTML Parser - I</title></head>\n",
            "Start : html\n",
            "Start : head\n",
            "Start : title\n",
            "End   : title\n",
            "End   : head\n",
            "<body data-modal-target class='1'><h1>HackerRank</h1><br /></body></html>\n",
            "Start : body\n",
            "-> data-modal-target > None\n",
            "-> class > 1\n",
            "Start : h1\n",
            "End   : h1\n",
            "Empty : br\n",
            "End   : body\n",
            "End   : html\n"
          ]
        }
      ]
    },
    {
      "cell_type": "markdown",
      "source": [
        "##Cara 2"
      ],
      "metadata": {
        "id": "ztHzkFxQTxBZ"
      }
    },
    {
      "cell_type": "code",
      "source": [
        "# Enter your code here. Read input from STDIN. Print output to STDOUT\n",
        "from html.parser import HTMLParser\n",
        "\n",
        "# create a subclass and override the handler methods\n",
        "class MyHTMLParser(HTMLParser):\n",
        "    def handle_starttag(self, tag, attrs):\n",
        "        print(\"Start :\", tag)\n",
        "        for i in attrs:\n",
        "            print(f\"-> {i[0]} > {i[1]}\")\n",
        "    def handle_endtag(self, tag):\n",
        "        print(\"End   :\", tag)\n",
        "    def handle_startendtag(self, tag, attrs):\n",
        "        print(\"Empty :\", tag)\n",
        "        for i in attrs:\n",
        "            print(f\"-> {i[0]} > {i[1]}\")\n",
        "\n",
        "# instantiate the parser and fed it some HTML\n",
        "parser = MyHTMLParser()\n",
        "for _ in range(int(input())):\n",
        "    parser.feed(input())"
      ],
      "metadata": {
        "colab": {
          "base_uri": "https://localhost:8080/"
        },
        "id": "-n32QcHzSKUq",
        "outputId": "58ad4858-b749-4a3d-a983-5ff174ff9d1d"
      },
      "execution_count": null,
      "outputs": [
        {
          "output_type": "stream",
          "name": "stdout",
          "text": [
            "2\n",
            "<html><head><title>HTML Parser - I</title></head>\n",
            "Start : html\n",
            "Start : head\n",
            "Start : title\n",
            "End   : title\n",
            "End   : head\n",
            "<body data-modal-target class='1'><h1>HackerRank</h1><br /></body></html>\n",
            "Start : body\n",
            "-> data-modal-target > None\n",
            "-> class > 1\n",
            "Start : h1\n",
            "End   : h1\n",
            "Empty : br\n",
            "End   : body\n",
            "End   : html\n"
          ]
        }
      ]
    },
    {
      "cell_type": "markdown",
      "source": [
        "#HTML Parser Part 1"
      ],
      "metadata": {
        "id": "yfDrQORVWtra"
      }
    },
    {
      "cell_type": "markdown",
      "source": [
        "##Cara 1"
      ],
      "metadata": {
        "id": "1WNj3CwNT0K5"
      }
    },
    {
      "cell_type": "code",
      "source": [
        "from html.parser import HTMLParser\n",
        "import re\n",
        "\n",
        "class MyHTMLParser(HTMLParser):\n",
        "  \n",
        "      def handle_comment(self, data):\n",
        "        if re.search(r'\\n', data):\n",
        "            print('>>> Multi-line Comment')\n",
        "            print(data)\n",
        "        else:\n",
        "            print('>>> Single-line Comment')\n",
        "            print(data)\n",
        "\n",
        "      def handle_data(self, data):\n",
        "        if data!='\\n':\n",
        "            print(\">>> Data\")\n",
        "            print(data)\n",
        "  \n",
        "html = \"\"       \n",
        "for i in range(int(input())):\n",
        "    html += input().rstrip()\n",
        "    html += '\\n'\n",
        "    \n",
        "parser = MyHTMLParser()\n",
        "parser.feed(html)\n",
        "parser.close()"
      ],
      "metadata": {
        "colab": {
          "base_uri": "https://localhost:8080/"
        },
        "id": "7wXLa80fVQ2g",
        "outputId": "965b19b4-ba23-4c9a-a69d-24e560acf190"
      },
      "execution_count": null,
      "outputs": [
        {
          "output_type": "stream",
          "name": "stdout",
          "text": [
            "4\n",
            "<!--[if IE 9]>IE9-specific content\n",
            "<![endif]-->\n",
            "<div> Welcome to HackerRank</div>\n",
            "<!--[if IE 9]>IE9-specific content<![endif]-->\n",
            ">>> Multi-line Comment\n",
            "[if IE 9]>IE9-specific content\n",
            "<![endif]\n",
            ">>> Data\n",
            " Welcome to HackerRank\n",
            ">>> Single-line Comment\n",
            "[if IE 9]>IE9-specific content<![endif]\n"
          ]
        }
      ]
    },
    {
      "cell_type": "markdown",
      "source": [
        "##Cara 2"
      ],
      "metadata": {
        "id": "ECWzMMNeWvwV"
      }
    },
    {
      "cell_type": "code",
      "source": [
        "from html.parser import HTMLParser\n",
        "import re\n",
        "\n",
        "class myparser(HTMLParser):\n",
        "    def handle_comment(self, data1):\n",
        "        if '\\n' in data1:\n",
        "            print('>>> Multi-line Comment',data1,sep='\\n')\n",
        "        else:\n",
        "            print('>>> Single-line Comment',data1,sep='\\n')\n",
        "    def handle_data(self, data2):\n",
        "        if data2:\n",
        "            if re.findall(r'\\n+',data2):\n",
        "                data2=re.sub(r'\\n+','',data2)\n",
        "            else:\n",
        "                print('>>> Data',data2,sep='\\n')\n",
        "                \n",
        "html = \"\"       \n",
        "\n",
        "for i in range(int(input())):\n",
        "    html += input().rstrip()\n",
        "    html += '\\n'\n",
        "    \n",
        "parser = myparser()\n",
        "parser.feed(html)\n",
        "parser.close()"
      ],
      "metadata": {
        "colab": {
          "base_uri": "https://localhost:8080/"
        },
        "id": "sWtiFMSFV36J",
        "outputId": "db68ee51-1458-4d3d-b15a-ed9e7725a298"
      },
      "execution_count": null,
      "outputs": [
        {
          "output_type": "stream",
          "name": "stdout",
          "text": [
            "4\n",
            "<!--[if IE 9]>IE9-specific content\n",
            "<![endif]-->\n",
            "<!--[if IE 9]>IE9-specific content<![endif]-->\n",
            ">>> Multi-line Comment\n",
            ">>> Multi-line Comment\n",
            "[if IE 9]>IE9-specific content\n",
            "<![endif]\n",
            ">>> Single-line Comment\n",
            "[if IE 9]>IE9-specific content<![endif]\n"
          ]
        }
      ]
    },
    {
      "cell_type": "markdown",
      "source": [
        "##Cara 3"
      ],
      "metadata": {
        "id": "mDPIOomjWy8N"
      }
    },
    {
      "cell_type": "code",
      "source": [
        "from html.parser import HTMLParser\n",
        "\n",
        "class MyHTMLParser(HTMLParser):\n",
        "    def handle_comment(self, data):\n",
        "        if '\\n' in data:\n",
        "            print (\">>> Multi-line Comment\", data,sep='\\n')\n",
        "        else:\n",
        "            print (\">>> Single-line Comment\", data,sep='\\n')\n",
        "    def handle_data(self, data):\n",
        "        if data != '\\n':\n",
        "            print (\">>> Data\", data,sep='\\n')\n",
        "\n",
        "  \n",
        "html = \"\"       \n",
        "for i in range(int(input())):\n",
        "    html += input().rstrip()\n",
        "    html += '\\n'\n",
        "    \n",
        "parser = MyHTMLParser()\n",
        "parser.feed(html)\n",
        "parser.close()"
      ],
      "metadata": {
        "colab": {
          "base_uri": "https://localhost:8080/"
        },
        "id": "_vFDY8CTWNAp",
        "outputId": "47b79829-da47-4acd-9382-0b8275a5f1ec"
      },
      "execution_count": null,
      "outputs": [
        {
          "output_type": "stream",
          "name": "stdout",
          "text": [
            "4\n",
            "<!--[if IE 9]>IE9-specific content\n",
            "<![endif]-->\n",
            "<!--[if IE 9]>IE9-specific content<![endif]-->\n",
            ">>> Multi-line Comment\n",
            ">>> Multi-line Comment\n",
            "[if IE 9]>IE9-specific content\n",
            "<![endif]\n",
            ">>> Single-line Comment\n",
            "[if IE 9]>IE9-specific content<![endif]\n",
            ">>> Data\n",
            "\n",
            ">>> Multi-line Comment\n",
            "\n"
          ]
        }
      ]
    },
    {
      "cell_type": "markdown",
      "source": [
        "#Zipped"
      ],
      "metadata": {
        "id": "TGiAXpcj-zDY"
      }
    },
    {
      "cell_type": "markdown",
      "source": [
        "##Cara 1"
      ],
      "metadata": {
        "id": "6u93hShZBFrT"
      }
    },
    {
      "cell_type": "code",
      "source": [
        "_, X = input().split()\n",
        "for s in zip(*[map(float, input().split()) for _ in range(int(X))]):\n",
        "    print(f\"{sum(s)/len(s):.1f}\")"
      ],
      "metadata": {
        "colab": {
          "base_uri": "https://localhost:8080/"
        },
        "id": "istVsyqeBeG5",
        "outputId": "af6894ac-417e-4638-ff9e-7bbca257d1f1"
      },
      "execution_count": null,
      "outputs": [
        {
          "output_type": "stream",
          "name": "stdout",
          "text": [
            "5 3\n",
            "89 90 78 93 80\n",
            "90 91 85 88 86\n",
            "91 92 83 89 90.5\n",
            "90.0\n",
            "91.0\n",
            "82.0\n",
            "90.0\n",
            "85.5\n"
          ]
        }
      ]
    },
    {
      "cell_type": "markdown",
      "source": [
        "##Cara 2"
      ],
      "metadata": {
        "id": "1bXbwatKBlys"
      }
    },
    {
      "cell_type": "code",
      "source": [
        "_, X = input().split()\n",
        "for s in zip(*[list(map(float, input().split())) for _ in range(int(X))]):\n",
        "    print(f\"{sum(s)/len(s):.1f}\")"
      ],
      "metadata": {
        "colab": {
          "base_uri": "https://localhost:8080/"
        },
        "id": "G1N_qK-I-0h0",
        "outputId": "19d862e2-ac34-424c-c508-b5e1b8519d28"
      },
      "execution_count": null,
      "outputs": [
        {
          "output_type": "stream",
          "name": "stdout",
          "text": [
            "5 3\n",
            "89 90 78 93 80\n",
            "90 91 85 88 86\n",
            "91 92 83 89 90.5\n",
            "90.0\n",
            "91.0\n",
            "82.0\n",
            "90.0\n",
            "85.5\n"
          ]
        }
      ]
    },
    {
      "cell_type": "markdown",
      "source": [
        "##Cara 3"
      ],
      "metadata": {
        "id": "Gi_n-CDZBH_s"
      }
    },
    {
      "cell_type": "code",
      "source": [
        "n,x=map(int,input().split())\n",
        "student_marks=[]\n",
        "\n",
        "for i in range(x):\n",
        "    marks=map(float,input().split())\n",
        "    student_marks.append(marks)\n",
        "    \n",
        "asd=list(zip(*student_marks))\n",
        "\n",
        "for _ in asd:\n",
        "    print(round(sum(_)/x,2))"
      ],
      "metadata": {
        "colab": {
          "base_uri": "https://localhost:8080/"
        },
        "id": "z3-QAd0a-2nU",
        "outputId": "7ee4d639-7cf8-49d7-9fd8-5c21aa3aef50"
      },
      "execution_count": null,
      "outputs": [
        {
          "output_type": "stream",
          "name": "stdout",
          "text": [
            "5 3\n",
            "89 90 78 93 80\n",
            "90 91 85 88 86\n",
            "91 92 83 89 90.5\n",
            "90.0\n",
            "91.0\n",
            "82.0\n",
            "90.0\n",
            "85.5\n"
          ]
        }
      ]
    },
    {
      "cell_type": "markdown",
      "source": [
        "##Cara 4"
      ],
      "metadata": {
        "id": "EYBdmwEwBJ3s"
      }
    },
    {
      "cell_type": "code",
      "source": [
        "N, X = map(int, input().split())\n",
        "lst = []\n",
        "for _ in range(X):\n",
        "    lst.append(list(map(float, input().split())))\n",
        "print(*map(lambda i:sum(i)/X, zip(*lst)), sep='\\n')"
      ],
      "metadata": {
        "colab": {
          "base_uri": "https://localhost:8080/"
        },
        "id": "8WbCYTH_-5Ok",
        "outputId": "f69faaa9-b417-43ae-c4ad-79773a198874"
      },
      "execution_count": null,
      "outputs": [
        {
          "output_type": "stream",
          "name": "stdout",
          "text": [
            "5 3\n",
            "89 90 78 93 80\n",
            "90 91 85 88 86\n",
            "91 92 83 89 90.5\n",
            "90.0\n",
            "91.0\n",
            "82.0\n",
            "90.0\n",
            "85.5\n"
          ]
        }
      ]
    },
    {
      "cell_type": "markdown",
      "source": [
        "#Input()"
      ],
      "metadata": {
        "id": "NoRrfgBYI5gY"
      }
    },
    {
      "cell_type": "markdown",
      "source": [
        "##Cara 1"
      ],
      "metadata": {
        "id": "GLwpAVmaI7Zi"
      }
    },
    {
      "cell_type": "code",
      "source": [
        "x, k = map(int, input().split())\n",
        "exec('result =' + input())\n",
        "print('True') if result == k else print('False')"
      ],
      "metadata": {
        "colab": {
          "base_uri": "https://localhost:8080/"
        },
        "id": "7PTQ8WZRC_kc",
        "outputId": "83883226-9264-437e-f494-4fa27c185f4b"
      },
      "execution_count": null,
      "outputs": [
        {
          "output_type": "stream",
          "name": "stdout",
          "text": [
            "1 4\n",
            "x**3 + x**2 + x + 1\n",
            "True\n"
          ]
        }
      ]
    },
    {
      "cell_type": "markdown",
      "source": [
        "##Cara 2"
      ],
      "metadata": {
        "id": "Mv_oFkfNI9Ko"
      }
    },
    {
      "cell_type": "code",
      "source": [
        "x, k = map(int, input().split())\n",
        "exec('result =' + input())\n",
        "print(result == k)"
      ],
      "metadata": {
        "colab": {
          "base_uri": "https://localhost:8080/"
        },
        "id": "odlVOfDADLkp",
        "outputId": "263e4b3d-8fdb-40f9-c68d-e72bc0845f60"
      },
      "execution_count": null,
      "outputs": [
        {
          "output_type": "stream",
          "name": "stdout",
          "text": [
            "1 4\n",
            "x**3 + x**2 + x + 1\n",
            "True\n"
          ]
        }
      ]
    },
    {
      "cell_type": "markdown",
      "source": [
        "##Cara 3"
      ],
      "metadata": {
        "id": "1ipDsbUZJSri"
      }
    },
    {
      "cell_type": "code",
      "source": [
        "x,k = input().split()\n",
        "\n",
        "polynomial = input() \n",
        "result = eval(polynomial.replace(\"x\",str(x))) \n",
        "if result == int(k): \n",
        "  print(True) \n",
        "else: \n",
        "  print(False)"
      ],
      "metadata": {
        "colab": {
          "base_uri": "https://localhost:8080/"
        },
        "id": "-PnMci1ODS3k",
        "outputId": "2a50a2ff-8394-41d2-c9be-30bfbbf75c22"
      },
      "execution_count": null,
      "outputs": [
        {
          "output_type": "stream",
          "name": "stdout",
          "text": [
            "1 4\n",
            "x**3 + x**2 + x + 1\n",
            "True\n"
          ]
        }
      ]
    },
    {
      "cell_type": "markdown",
      "source": [
        "##Cara 4"
      ],
      "metadata": {
        "id": "7LdQwSgDJUYC"
      }
    },
    {
      "cell_type": "code",
      "source": [
        "x,k = input().split()\n",
        "\n",
        "p = input()\n",
        "\n",
        "print(eval(p.replace(\"x\",x)) == int(k))"
      ],
      "metadata": {
        "colab": {
          "base_uri": "https://localhost:8080/"
        },
        "id": "UcdIQLLjDkar",
        "outputId": "5a6d8019-fee9-4ace-b40e-2b6592e81af2"
      },
      "execution_count": null,
      "outputs": [
        {
          "output_type": "stream",
          "name": "stdout",
          "text": [
            "1 4\n",
            "x**3 + x**2 + x + 1\n",
            "True\n"
          ]
        }
      ]
    },
    {
      "cell_type": "markdown",
      "source": [
        "#Python Evaluation"
      ],
      "metadata": {
        "id": "PCWBPkhEKoIM"
      }
    },
    {
      "cell_type": "code",
      "source": [
        "#print(eval(input().strip()))\n",
        "eval(input().strip())"
      ],
      "metadata": {
        "colab": {
          "base_uri": "https://localhost:8080/"
        },
        "id": "E0HFvcmnJ0Sn",
        "outputId": "007cd29f-73d0-4522-99f4-964ec4f11085"
      },
      "execution_count": null,
      "outputs": [
        {
          "output_type": "stream",
          "name": "stdout",
          "text": [
            "print(2 + 3)\n",
            "5\n"
          ]
        }
      ]
    },
    {
      "cell_type": "markdown",
      "source": [
        "#Athlete Sort"
      ],
      "metadata": {
        "id": "CHS3rJ5uLB8H"
      }
    },
    {
      "cell_type": "code",
      "source": [
        "#!/bin/python3\n",
        "\n",
        "import math\n",
        "import os\n",
        "import random\n",
        "import re\n",
        "import sys\n",
        "\n",
        "\n",
        "\n",
        "if __name__ == '__main__':\n",
        "    nm = input().split()\n",
        "\n",
        "    n = int(nm[0])\n",
        "\n",
        "    m = int(nm[1])\n",
        "\n",
        "    arr = []\n",
        "\n",
        "    for _ in range(n):\n",
        "        arr.append(list(map(int, input().rstrip().split())))\n",
        "\n",
        "    k = int(input())\n",
        "#answer#-----------------------------------------------\n",
        "    arr.sort(key=lambda x: x[k])\n",
        "\n",
        "    for line in arr:\n",
        "      print(*line)"
      ],
      "metadata": {
        "colab": {
          "base_uri": "https://localhost:8080/"
        },
        "id": "sHa_IHSLLF9A",
        "outputId": "c376a4b8-2353-4b35-fa3f-c2d6c0e4d8c4"
      },
      "execution_count": null,
      "outputs": [
        {
          "output_type": "stream",
          "name": "stdout",
          "text": [
            "5 3\n",
            "10 2 5\n",
            "7 1 0\n",
            "9 9 9\n",
            "1 23 12\n",
            "6 5 9\n",
            "1\n",
            "7 1 0\n",
            "10 2 5\n",
            "6 5 9\n",
            "9 9 9\n",
            "1 23 12\n"
          ]
        }
      ]
    },
    {
      "cell_type": "markdown",
      "source": [
        "#Any or All"
      ],
      "metadata": {
        "id": "Wc9NaI6YSjJj"
      }
    },
    {
      "cell_type": "markdown",
      "source": [
        "##Cara 1"
      ],
      "metadata": {
        "id": "7IHeaAUiTLSQ"
      }
    },
    {
      "cell_type": "code",
      "source": [
        "_, nums = input(), input().split()\n",
        "print(all(n[0] != '-' for n in nums) and any(n == n[::-1] for n in nums))"
      ],
      "metadata": {
        "colab": {
          "base_uri": "https://localhost:8080/"
        },
        "id": "qHutFv_PRNKJ",
        "outputId": "5f1c8d7b-9aef-4a13-c230-bb12057f610d"
      },
      "execution_count": null,
      "outputs": [
        {
          "output_type": "stream",
          "name": "stdout",
          "text": [
            "5\n",
            "12 9 61 5 14 \n",
            "True\n"
          ]
        }
      ]
    },
    {
      "cell_type": "markdown",
      "source": [
        "##Cara 2"
      ],
      "metadata": {
        "id": "esmj2w7iTMq4"
      }
    },
    {
      "cell_type": "code",
      "source": [
        "N, lst = int(input()), list(map(int, input().split()))\n",
        "print(all([i>0 for i in lst]) and any([str(j)==str(j)[::-1] for j in lst]))"
      ],
      "metadata": {
        "colab": {
          "base_uri": "https://localhost:8080/"
        },
        "id": "h6BpJ7j2SpXy",
        "outputId": "2cb4293c-44f2-4704-cf19-8a37cdef9d37"
      },
      "execution_count": null,
      "outputs": [
        {
          "output_type": "stream",
          "name": "stdout",
          "text": [
            "5\n",
            "12 9 61 5 14 \n",
            "True\n"
          ]
        }
      ]
    },
    {
      "cell_type": "markdown",
      "source": [
        "##Cara 3"
      ],
      "metadata": {
        "id": "QNuKpNfKTOL_"
      }
    },
    {
      "cell_type": "code",
      "source": [
        "n, num_list = int(input()), input().split()\n",
        "\n",
        "print(all(int(number) > 0 for number in num_list) and any(str(number) == str(number)[::-1] for number in num_list))"
      ],
      "metadata": {
        "colab": {
          "base_uri": "https://localhost:8080/"
        },
        "id": "XfVhezmKSrfD",
        "outputId": "9dec82e0-0b31-4e70-edd2-d78f2a0fdda3"
      },
      "execution_count": null,
      "outputs": [
        {
          "output_type": "stream",
          "name": "stdout",
          "text": [
            "5\n",
            "12 9 61 5 14 \n",
            "True\n"
          ]
        }
      ]
    },
    {
      "cell_type": "markdown",
      "source": [
        "##Cara 4"
      ],
      "metadata": {
        "id": "d3PZRTK0TP5T"
      }
    },
    {
      "cell_type": "code",
      "source": [
        "rng, ls = [list(map(int, input().split())) for _ in range(2)] \n",
        "print(\"False\"  if  not  all(list(map(lambda x: x>0, ls)))  else \\\n",
        " \"True\" if  any(list(map(lambda  no:  no  ==  int(str(no)[::-1]),  ls  ))) else  \"False\")"
      ],
      "metadata": {
        "colab": {
          "base_uri": "https://localhost:8080/"
        },
        "id": "mVZ7m5tcSwiN",
        "outputId": "4ca427fb-2219-491f-cad8-b97b0d8f8061"
      },
      "execution_count": null,
      "outputs": [
        {
          "output_type": "stream",
          "name": "stdout",
          "text": [
            "5\n",
            "12 9 61 5 14 \n",
            "True\n"
          ]
        }
      ]
    },
    {
      "cell_type": "markdown",
      "source": [
        "#Ginorts"
      ],
      "metadata": {
        "id": "smp18e3lUMng"
      }
    },
    {
      "cell_type": "markdown",
      "source": [
        "##Cara 1"
      ],
      "metadata": {
        "id": "7WKaXI5-Vlxx"
      }
    },
    {
      "cell_type": "code",
      "source": [
        "s=input()\n",
        "L0=[]\n",
        "L1=[]\n",
        "L2=[]\n",
        "L3=[]\n",
        "L4=[]\n",
        "for i in sorted(s):\n",
        "    \n",
        "    if i.isupper():\n",
        "        L2.append(i)\n",
        "    elif i.islower():\n",
        "        L1.append(i)\n",
        "    elif i.isdigit() and int(i)%2!=0:\n",
        "        L3.append(i)\n",
        "    elif i.isdigit() and int(i)%2==0:\n",
        "        L4.append(i)\n",
        "        \n",
        "\n",
        "L0=L1+L2+L3+L4\n",
        "for _ in L0:\n",
        "    print(_,end='')"
      ],
      "metadata": {
        "colab": {
          "base_uri": "https://localhost:8080/"
        },
        "id": "ChLrSXcxUONY",
        "outputId": "fcb00da4-6151-4dd8-f5ee-e95970d99046"
      },
      "execution_count": null,
      "outputs": [
        {
          "output_type": "stream",
          "name": "stdout",
          "text": [
            "Sorting1234\n",
            "ginortS1324"
          ]
        }
      ]
    },
    {
      "cell_type": "markdown",
      "source": [
        "##Cara 2"
      ],
      "metadata": {
        "id": "28K8h94wVnLC"
      }
    },
    {
      "cell_type": "code",
      "source": [
        "chars = sorted(input())\n",
        "chars.sort(key=lambda x: (x.isdigit(), x.isupper(), x.islower(), x in \"24680\"))\n",
        "print(*chars, sep=\"\")"
      ],
      "metadata": {
        "colab": {
          "base_uri": "https://localhost:8080/"
        },
        "id": "FLi8RJaGUWWI",
        "outputId": "a1f21335-8ac9-4e04-835e-09d451e89a98"
      },
      "execution_count": null,
      "outputs": [
        {
          "output_type": "stream",
          "name": "stdout",
          "text": [
            "Sorting1234\n",
            "ginortS1324\n"
          ]
        }
      ]
    },
    {
      "cell_type": "markdown",
      "source": [
        "#Detect Floating Point Number"
      ],
      "metadata": {
        "id": "7ikUAbGaWLGc"
      }
    },
    {
      "cell_type": "markdown",
      "source": [
        "##Cara 1"
      ],
      "metadata": {
        "id": "zqEYjOWiULv8"
      }
    },
    {
      "cell_type": "code",
      "source": [
        "import re\n",
        "for _ in range(int(input())):\n",
        "    print(re.fullmatch(r'[+-]?\\d*\\.\\d+', input()) != None)"
      ],
      "metadata": {
        "colab": {
          "base_uri": "https://localhost:8080/"
        },
        "id": "COKiH35HTqW1",
        "outputId": "a01b3177-b699-405e-af85-8169dd58a403"
      },
      "execution_count": null,
      "outputs": [
        {
          "output_type": "stream",
          "name": "stdout",
          "text": [
            "4\n",
            "4.000\n",
            "True\n",
            "-1.00\n",
            "True\n",
            "+4.54\n",
            "True\n",
            "SomeRandomStuff\n",
            "False\n"
          ]
        }
      ]
    },
    {
      "cell_type": "markdown",
      "source": [
        "##Cara 2"
      ],
      "metadata": {
        "id": "UGa0i9HaUNRW"
      }
    },
    {
      "cell_type": "code",
      "source": [
        "import re\n",
        "for _ in range(int(input())):\n",
        "    print(bool(re.fullmatch('[+-]?\\d*\\.\\d+', input())))"
      ],
      "metadata": {
        "colab": {
          "base_uri": "https://localhost:8080/"
        },
        "id": "ZRwMLpfxSdMq",
        "outputId": "71063d90-484e-42a6-e6f1-8f57be1b2d61"
      },
      "execution_count": null,
      "outputs": [
        {
          "output_type": "stream",
          "name": "stdout",
          "text": [
            "4\n",
            "4.0O0\n",
            "False\n",
            "-1.00\n",
            "True\n",
            "+4.54\n",
            "True\n",
            "SomeRandomStuff\n",
            "False\n"
          ]
        }
      ]
    },
    {
      "cell_type": "markdown",
      "source": [
        "##Cara 3"
      ],
      "metadata": {
        "id": "Xm40UZEmUO4H"
      }
    },
    {
      "cell_type": "code",
      "source": [
        "import re\n",
        "for _ in range(int(input())):\n",
        "    print(re.fullmatch(r'[+-]?\\d*\\.\\d+', input()) is not None)"
      ],
      "metadata": {
        "colab": {
          "base_uri": "https://localhost:8080/"
        },
        "id": "QwzRwnQjSfJc",
        "outputId": "26808fa8-cb1b-4d56-804b-d33803f53db3"
      },
      "execution_count": null,
      "outputs": [
        {
          "output_type": "stream",
          "name": "stdout",
          "text": [
            "4\n",
            "4.000\n",
            "True\n",
            "-1.00\n",
            "True\n",
            "+4.54\n",
            "True\n",
            "SomeRandomStuff\n",
            "False\n"
          ]
        }
      ]
    },
    {
      "cell_type": "markdown",
      "source": [
        "##Cara 4"
      ],
      "metadata": {
        "id": "8Y0-2cH4UQeL"
      }
    },
    {
      "cell_type": "code",
      "source": [
        "def main():\n",
        "    pattern = r\"^[+-]?\\d*\\.\\d+$\"\n",
        "    t = int(input())\n",
        "    for _ in range(t):\n",
        "        s = input()\n",
        "        print(True if re.match(pattern, s) else False)\n",
        "#finding float value is true or false\n",
        "t=int(input())\n",
        "k=[]\n",
        "for i in range(t):\n",
        "    n=input()\n",
        "    c=n.count('.')\n",
        "\n",
        "    if c==1:\n",
        "        \n",
        "        ind=n.index('.')\n",
        "        if n[-1]=='.' or n.isalnum() or n.isalpha() or '.' not in n or '-+' in n or '+-' in n: #return False\n",
        "            k.append(False)\n",
        "        elif (n[0]=='+' or n[0]=='-') and n[1:ind].isdigit() and n[ind+1:].isdigit():\n",
        "            \n",
        "            k.append(True)\n",
        "        elif n[0]=='.' and n[1:].isdigit():\n",
        "            k.append(True)\n",
        "        elif (n[0]=='+' or n[0]=='-') and n[1]=='.' and n[2:].isdigit():\n",
        "           k.append(True)\n",
        "        elif n[0].isdigit() and n[:-1].isdigit():\n",
        "           k.append(True)\n",
        "        elif n[0].isdigit() and n[ind+1:].isdigit() and n[:ind].isdigit():\n",
        "            k.append(True)\n",
        "        else:\n",
        "            k.append(False)\n",
        "    else:\n",
        "        k.append(False)\n",
        "for j in k:\n",
        "    print(j)"
      ],
      "metadata": {
        "colab": {
          "base_uri": "https://localhost:8080/"
        },
        "id": "KKLNplyySh7J",
        "outputId": "f628ddbe-3f91-40f9-e056-dd32723fbec3"
      },
      "execution_count": null,
      "outputs": [
        {
          "output_type": "stream",
          "name": "stdout",
          "text": [
            "4\n",
            "4.000\n",
            "-1.00\n",
            "+4.54\n",
            "SomeRandomStuff\n",
            "True\n",
            "True\n",
            "True\n",
            "False\n"
          ]
        }
      ]
    },
    {
      "cell_type": "markdown",
      "source": [
        "#Re.split()"
      ],
      "metadata": {
        "id": "ohjQznuVUWef"
      }
    },
    {
      "cell_type": "markdown",
      "source": [
        "##Cara 1"
      ],
      "metadata": {
        "id": "kGUIPB9jYG80"
      }
    },
    {
      "cell_type": "code",
      "source": [
        "regex_pattern = r\"[,.]\" # Do not delete 'r'.\n",
        "\n",
        "import re \n",
        "print(\"\\n\".join(re.split(regex_pattern, input())))"
      ],
      "metadata": {
        "colab": {
          "base_uri": "https://localhost:8080/"
        },
        "id": "i2nkw4K4Ukev",
        "outputId": "de5fa843-e350-47be-ff76-dde1a3f599c4"
      },
      "execution_count": null,
      "outputs": [
        {
          "output_type": "stream",
          "name": "stdout",
          "text": [
            "100,000,000.000\n",
            "100\n",
            "000\n",
            "000\n",
            "000\n"
          ]
        }
      ]
    },
    {
      "cell_type": "markdown",
      "source": [
        "##Cara 2"
      ],
      "metadata": {
        "id": "9VwhwfcjYIo4"
      }
    },
    {
      "cell_type": "code",
      "source": [
        "regex_pattern = r\"[\\b\\W\\b]+\" # Do not delete 'r'.\n",
        "\n",
        "import re\n",
        "\n",
        "print(\"\\n\".join(re.split(regex_pattern, input())))"
      ],
      "metadata": {
        "colab": {
          "base_uri": "https://localhost:8080/"
        },
        "id": "bihjfrpEUo0Y",
        "outputId": "c1d6a0ac-49e5-41ce-8de6-b36522c124b4"
      },
      "execution_count": null,
      "outputs": [
        {
          "output_type": "stream",
          "name": "stdout",
          "text": [
            "100,000,000.000\n",
            "100\n",
            "000\n",
            "000\n",
            "000\n"
          ]
        }
      ]
    },
    {
      "cell_type": "markdown",
      "source": [
        "##Cara 3"
      ],
      "metadata": {
        "id": "KraMR2j7YKN1"
      }
    },
    {
      "cell_type": "code",
      "source": [
        "regex_pattern = r\"\\W\" # Do not delete 'r'.\n",
        "\n",
        "import re \n",
        "print(\"\\n\".join(re.split(regex_pattern, input())))"
      ],
      "metadata": {
        "colab": {
          "base_uri": "https://localhost:8080/"
        },
        "id": "S4ky6qCdUtH3",
        "outputId": "e5ad8767-de85-42a2-a6ce-b45dabc7be5a"
      },
      "execution_count": null,
      "outputs": [
        {
          "output_type": "stream",
          "name": "stdout",
          "text": [
            "100,000,000.000\n",
            "100\n",
            "000\n",
            "000\n",
            "000\n"
          ]
        }
      ]
    },
    {
      "cell_type": "markdown",
      "source": [
        "#Group(),Groups and Groupdict()"
      ],
      "metadata": {
        "id": "Dkxp9lvwYBdO"
      }
    },
    {
      "cell_type": "markdown",
      "source": [
        "##Cara 1"
      ],
      "metadata": {
        "id": "2X1nBXkhZPWj"
      }
    },
    {
      "cell_type": "code",
      "source": [
        "import re\n",
        "\n",
        "S = input()\n",
        "if 0 < len(S) < 100:\n",
        "    out = re.search(r\"([0-9a-zA-Z])\\1+\", S)\n",
        "    print(out.group(1)) if out else print(-1)"
      ],
      "metadata": {
        "colab": {
          "base_uri": "https://localhost:8080/"
        },
        "id": "t3geLFjQYb_5",
        "outputId": "b170c7be-55f9-498e-af03-6b692b1e6bef"
      },
      "execution_count": null,
      "outputs": [
        {
          "output_type": "stream",
          "name": "stdout",
          "text": [
            "..12345678910111213141516171820212223\n",
            "1\n"
          ]
        }
      ]
    },
    {
      "cell_type": "markdown",
      "source": [
        "##Cara 2"
      ],
      "metadata": {
        "id": "R4xRRePSZQ4u"
      }
    },
    {
      "cell_type": "code",
      "source": [
        "import re\n",
        "try: print(re.search(r'([^\\W_])\\1+',input()).group(1))\n",
        "except AttributeError: print(-1)"
      ],
      "metadata": {
        "colab": {
          "base_uri": "https://localhost:8080/"
        },
        "id": "Huy0WT5IYd70",
        "outputId": "bf01a530-e43d-44c5-ce9c-f25c46f3584f"
      },
      "execution_count": null,
      "outputs": [
        {
          "output_type": "stream",
          "name": "stdout",
          "text": [
            "..12345678910111213141516171820212223\n",
            "1\n"
          ]
        }
      ]
    },
    {
      "cell_type": "markdown",
      "source": [
        "##Cara 3"
      ],
      "metadata": {
        "id": "DD6MfQy9ZSpj"
      }
    },
    {
      "cell_type": "code",
      "source": [
        "from re import search\n",
        "\n",
        "regex = search(r\"([0-9a-zA-Z])\\1+\", input())\n",
        "\n",
        "print(regex.group(1)) if regex is not None else print(\"-1\")"
      ],
      "metadata": {
        "colab": {
          "base_uri": "https://localhost:8080/"
        },
        "id": "nfiMzEoWYgSM",
        "outputId": "0670aad2-dddb-425a-e792-e2f402544da3"
      },
      "execution_count": null,
      "outputs": [
        {
          "output_type": "stream",
          "name": "stdout",
          "text": [
            "..12345678910111213141516171820212223\n",
            "1\n"
          ]
        }
      ]
    },
    {
      "cell_type": "markdown",
      "source": [
        "##Cara 4"
      ],
      "metadata": {
        "id": "Oin0PC_yZURu"
      }
    },
    {
      "cell_type": "code",
      "source": [
        "s = str(input())\n",
        "\n",
        "found = False\n",
        "for i in range(len(s)-1):\n",
        "    if s[i].isalnum():\n",
        "        if s[i] == s[i+1]:\n",
        "            found = True\n",
        "            print(s[i])\n",
        "            break\n",
        "if not found:\n",
        "    print(-1)"
      ],
      "metadata": {
        "colab": {
          "base_uri": "https://localhost:8080/"
        },
        "id": "igAzV58EYikU",
        "outputId": "bc7c2d08-0f04-418f-a637-e9c021b2a340"
      },
      "execution_count": null,
      "outputs": [
        {
          "output_type": "stream",
          "name": "stdout",
          "text": [
            "..12345678910111213141516171820212223\n",
            "1\n"
          ]
        }
      ]
    },
    {
      "cell_type": "markdown",
      "source": [
        "##Cara 5"
      ],
      "metadata": {
        "id": "l9b3kYxNZV-y"
      }
    },
    {
      "cell_type": "code",
      "source": [
        "import re \n",
        "m = re.search(r\"([a-z0-9])\\1{1,}\", input()) \n",
        "if m: print(m.group(1)) \n",
        "else: print(-1)"
      ],
      "metadata": {
        "colab": {
          "base_uri": "https://localhost:8080/"
        },
        "id": "8EFqMaA6Ykpu",
        "outputId": "a0a59295-00a4-4f08-eb27-9fe987a06c75"
      },
      "execution_count": null,
      "outputs": [
        {
          "output_type": "stream",
          "name": "stdout",
          "text": [
            "..12345678910111213141516171820212223\n",
            "1\n"
          ]
        }
      ]
    },
    {
      "cell_type": "markdown",
      "source": [
        "#Re.findall() & Re.finditer()"
      ],
      "metadata": {
        "id": "9huqDzxeaqRM"
      }
    },
    {
      "cell_type": "markdown",
      "source": [
        "##Cara 1"
      ],
      "metadata": {
        "id": "aN8BmYpHbt_r"
      }
    },
    {
      "cell_type": "code",
      "source": [
        "import re\n",
        "v, c = '[aeiou]', '[qwrtypsdfghjklzxcvbnm]'\n",
        "pt = '(?<=' + c +')' + v + '{2,}(?=' + c + ')'\n",
        "lst = [i.group() for i in re.finditer(pt, input(), flags=re.I)]\n",
        "print(*lst, sep='\\n') if len(lst)>0 else print(-1)"
      ],
      "metadata": {
        "colab": {
          "base_uri": "https://localhost:8080/"
        },
        "id": "sNGA6kxjbP_D",
        "outputId": "ba6c6e0b-7cac-45e4-85fa-4f880e223dca"
      },
      "execution_count": null,
      "outputs": [
        {
          "output_type": "stream",
          "name": "stdout",
          "text": [
            "rabcdeefgyYhFjkIoomnpOeorteeeeet\n",
            "ee\n",
            "Ioo\n",
            "Oeo\n",
            "eeeee\n"
          ]
        }
      ]
    },
    {
      "cell_type": "markdown",
      "source": [
        "##Cara 2"
      ],
      "metadata": {
        "id": "ZfkzBIbhbvTr"
      }
    },
    {
      "cell_type": "code",
      "source": [
        "import re\n",
        "\n",
        "result = re.findall(r'(?<=[^aeiou])[aeiou]{2,}(?=[^aeiou])', input(), flags=re.I)\n",
        "print(\"\\n\".join(result) if result else \"-1\")"
      ],
      "metadata": {
        "colab": {
          "base_uri": "https://localhost:8080/"
        },
        "id": "C8Qk2ACObSG0",
        "outputId": "bba9c02b-d919-4741-eba3-7cdbd7a96be0"
      },
      "execution_count": null,
      "outputs": [
        {
          "output_type": "stream",
          "name": "stdout",
          "text": [
            "rabcdeefgyYhFjkIoomnpOeorteeeeet\n",
            "ee\n",
            "Ioo\n",
            "Oeo\n",
            "eeeee\n"
          ]
        }
      ]
    },
    {
      "cell_type": "markdown",
      "source": [
        "##Cara 3"
      ],
      "metadata": {
        "id": "dSg0DFsTbxZL"
      }
    },
    {
      "cell_type": "code",
      "source": [
        "import re\n",
        "\n",
        "S=input()\n",
        "#print(S)\n",
        "\n",
        "m=re.findall(r'(?=([^AEIOUaeiou])([AEIOUaeiou]{2,})([^AEIOUaeiou]))',S)\n",
        "#print(m)\n",
        "\n",
        "if m:\n",
        "    for _ in m:\n",
        "        print(_[1])\n",
        "else:\n",
        "    print(-1)"
      ],
      "metadata": {
        "colab": {
          "base_uri": "https://localhost:8080/"
        },
        "id": "z72KBJGJbVdb",
        "outputId": "17480edb-b3ba-4559-9acc-47a22548ecab"
      },
      "execution_count": null,
      "outputs": [
        {
          "output_type": "stream",
          "name": "stdout",
          "text": [
            "rabcdeefgyYhFjkIoomnpOeorteeeeet\n",
            "ee\n",
            "Ioo\n",
            "Oeo\n",
            "eeeee\n"
          ]
        }
      ]
    },
    {
      "cell_type": "markdown",
      "source": [
        "##Cara 4"
      ],
      "metadata": {
        "id": "WdfP4ktZbzpP"
      }
    },
    {
      "cell_type": "code",
      "source": [
        "from re import findall\n",
        "\n",
        "pattern = (\n",
        "    r\"[qwrtypsdfghjklzxcvbnmQWRTYPSDFGHJKLZXCVBNM]\"\n",
        "    r\"([aeiouAEIOU]{2,})\"\n",
        "    r\"(?=[qwrtypsdfghjklzxcvbnmQWRTYPSDFGHJKLZXCVBNM])\"\n",
        ")\n",
        "regex = findall(pattern, input())\n",
        "\n",
        "print(\"\\n\".join(regex)) if regex else print(\"-1\")"
      ],
      "metadata": {
        "colab": {
          "base_uri": "https://localhost:8080/"
        },
        "id": "PjCy1LUZbXkq",
        "outputId": "af3e54f4-7d68-43c7-861b-6c627ca7c03c"
      },
      "execution_count": null,
      "outputs": [
        {
          "output_type": "stream",
          "name": "stdout",
          "text": [
            "rabcdeefgyYhFjkIoomnpOeorteeeeet\n",
            "ee\n",
            "Ioo\n",
            "Oeo\n",
            "eeeee\n"
          ]
        }
      ]
    },
    {
      "cell_type": "markdown",
      "source": [
        "#Validating phone numbers\n"
      ],
      "metadata": {
        "id": "u1YhttPpc5Wz"
      }
    },
    {
      "cell_type": "markdown",
      "source": [
        "##Cara 1"
      ],
      "metadata": {
        "id": "favG0nBndp5B"
      }
    },
    {
      "cell_type": "code",
      "source": [
        "import re\n",
        "for _ in range(int(input())):\n",
        "    print(\"YES\" if re.fullmatch(r'[789][0-9]{9}', input()) else \"NO\")"
      ],
      "metadata": {
        "colab": {
          "base_uri": "https://localhost:8080/"
        },
        "id": "6VhLx9NWcT7z",
        "outputId": "a565de6d-2eef-4073-a560-a9d71503b3a7"
      },
      "execution_count": null,
      "outputs": [
        {
          "output_type": "stream",
          "name": "stdout",
          "text": [
            "2\n",
            "9587456281\n",
            "YES\n",
            "1252478965\n",
            "NO\n"
          ]
        }
      ]
    },
    {
      "cell_type": "markdown",
      "source": [
        "##Cara 2"
      ],
      "metadata": {
        "id": "JQVIjiuhdrKr"
      }
    },
    {
      "cell_type": "code",
      "source": [
        "N = int(input()) \n",
        "pattern = '[789][0-9]{9}$' \n",
        "for i in range(N): \n",
        "  if (re.match(pattern,input())): \n",
        "    print('YES')\n",
        "  else:\n",
        "    print('NO')"
      ],
      "metadata": {
        "colab": {
          "base_uri": "https://localhost:8080/"
        },
        "id": "sqZIlH90cV4i",
        "outputId": "894abadf-a3c3-432c-a05c-8a38a7a6f73a"
      },
      "execution_count": null,
      "outputs": [
        {
          "output_type": "stream",
          "name": "stdout",
          "text": [
            "2\n",
            "9587456281\n",
            "YES\n",
            "1252478965\n",
            "NO\n"
          ]
        }
      ]
    },
    {
      "cell_type": "markdown",
      "source": [
        "##Cara 3"
      ],
      "metadata": {
        "id": "lg0Tv1MSdsoM"
      }
    },
    {
      "cell_type": "code",
      "source": [
        "print(*['YES' if bool(__import__('re').search(\"^[789]{1}\\d{9}$\", input())) else 'NO' for _ in range(int(input()))], sep='\\n')"
      ],
      "metadata": {
        "colab": {
          "base_uri": "https://localhost:8080/"
        },
        "id": "CGkzEfkCcjhK",
        "outputId": "bbe3a7e7-2307-420b-e9ce-66220c0c4a8d"
      },
      "execution_count": null,
      "outputs": [
        {
          "output_type": "stream",
          "name": "stdout",
          "text": [
            "2\n",
            "9587456281\n",
            "1252478965\n",
            "YES\n",
            "NO\n"
          ]
        }
      ]
    },
    {
      "cell_type": "markdown",
      "source": [
        "##Cara 4"
      ],
      "metadata": {
        "id": "uCiVBdZBduGq"
      }
    },
    {
      "cell_type": "code",
      "source": [
        "if __name__=='__main__':\n",
        "    for i in range(int(input())):\n",
        "        a=input()\n",
        "        if len(a)==10 and a.isnumeric()==True and int(a[0]) in [7,8,9]:print(\"YES\")\n",
        "        else:print(\"NO\")"
      ],
      "metadata": {
        "colab": {
          "base_uri": "https://localhost:8080/"
        },
        "id": "PCFceW7pcmY0",
        "outputId": "c64d6847-3b9f-4813-d3c9-5caeb53116b6"
      },
      "execution_count": null,
      "outputs": [
        {
          "output_type": "stream",
          "name": "stdout",
          "text": [
            "2\n",
            "9587456281\n",
            "YES\n",
            "1252478965\n",
            "NO\n"
          ]
        }
      ]
    },
    {
      "cell_type": "markdown",
      "source": [
        "##Cara 5"
      ],
      "metadata": {
        "id": "7iyI0J2Cdv7w"
      }
    },
    {
      "cell_type": "code",
      "source": [
        "import re\n",
        "\n",
        "regex_pattern = r\"^(9|8|7)(\\d{9})$\"    # Do not delete 'r'.\n",
        "\n",
        "a = int(input())\n",
        "b = []\n",
        "for _ in range(a):\n",
        "    m = re.match(regex_pattern, input())\n",
        "    if m: \n",
        "        print(\"YES\") \n",
        "    else: \n",
        "        print(\"NO\")"
      ],
      "metadata": {
        "colab": {
          "base_uri": "https://localhost:8080/"
        },
        "id": "q3b533ONcoqU",
        "outputId": "0a4d772c-a1cb-4585-a5a0-8668d7e71e60"
      },
      "execution_count": null,
      "outputs": [
        {
          "output_type": "stream",
          "name": "stdout",
          "text": [
            "2\n",
            "9587456281\n",
            "YES\n",
            "1252478965\n",
            "NO\n"
          ]
        }
      ]
    },
    {
      "cell_type": "markdown",
      "source": [
        "#Map and Lambda Function"
      ],
      "metadata": {
        "id": "w1PbkU3VcBre"
      }
    },
    {
      "cell_type": "markdown",
      "source": [
        "##Cara 1"
      ],
      "metadata": {
        "id": "TkZkVIqq0UhJ"
      }
    },
    {
      "cell_type": "code",
      "source": [
        "cube = lambda x: x **3 # complete the lambda function \n",
        "\n",
        "def fibonacci(n):\n",
        "    # return a list of fibonacci numbers\n",
        "    x1 = 0 \n",
        "    x2 = 1\n",
        "    list1 = []\n",
        "    \n",
        "    count = 0\n",
        "    while count < n:\n",
        "        list1.append(x1)\n",
        "        nth = x1+x2\n",
        "        x1 = x2\n",
        "        x2 = nth\n",
        "        count += 1\n",
        "    return list1\n",
        "    \n",
        "if __name__ == '__main__':\n",
        "    n = int(input())\n",
        "    print(list(map(cube, fibonacci(n))))"
      ],
      "metadata": {
        "colab": {
          "base_uri": "https://localhost:8080/"
        },
        "id": "C7DOsDXCa0Wd",
        "outputId": "bbd8a265-eed1-4d23-be30-d4ce975c1b1b"
      },
      "execution_count": null,
      "outputs": [
        {
          "output_type": "stream",
          "name": "stdout",
          "text": [
            "5\n",
            "[0, 1, 1, 8, 27]\n"
          ]
        }
      ]
    },
    {
      "cell_type": "markdown",
      "source": [
        "##Cara 2"
      ],
      "metadata": {
        "id": "KJghVLmk0W4I"
      }
    },
    {
      "cell_type": "code",
      "source": [
        "cube = lambda x: x **3 # complete the lambda function \n",
        "\n",
        "def fibonacci(n):\n",
        "    \"\"\"Return a Fibonacci sequence with n components\"\"\"\n",
        "    fibonacci_list = []\n",
        "    for i in range(n):\n",
        "        if len(fibonacci_list) > 1:\n",
        "            fibonacci_list.append(fibonacci_list[-1]+fibonacci_list[-2])\n",
        "        else:\n",
        "            fibonacci_list.append(i)\n",
        "    # return a list of fibonacci numbers\n",
        "    return fibonacci_list\n",
        "    \n",
        "if __name__ == '__main__':\n",
        "    n = int(input())\n",
        "    print(list(map(cube, fibonacci(n))))"
      ],
      "metadata": {
        "colab": {
          "base_uri": "https://localhost:8080/"
        },
        "id": "UVe_wdbNbngF",
        "outputId": "171f294f-b839-4df3-89f7-05cb9d86bd2d"
      },
      "execution_count": null,
      "outputs": [
        {
          "output_type": "stream",
          "name": "stdout",
          "text": [
            "5\n",
            "[0, 1, 1, 8, 27]\n"
          ]
        }
      ]
    },
    {
      "cell_type": "markdown",
      "source": [
        "##Cara 3"
      ],
      "metadata": {
        "id": "3_nOdQAt0YYW"
      }
    },
    {
      "cell_type": "code",
      "source": [
        "cube = lambda x: x **3 # complete the lambda function \n",
        "\n",
        "def fibonacci(n):\n",
        "    fib = list()\n",
        "    x, y = 0, 1\n",
        "    for i in range(n):\n",
        "        fib.append(x)\n",
        "        x, y = y, x + y\n",
        "    return fib\n",
        "    \n",
        "if __name__ == '__main__':\n",
        "    n = int(input())\n",
        "    print(list(map(cube, fibonacci(n))))"
      ],
      "metadata": {
        "colab": {
          "base_uri": "https://localhost:8080/"
        },
        "id": "k6NbEBwabxt9",
        "outputId": "c9e6882b-a63d-4878-d313-8125a4e1807e"
      },
      "execution_count": null,
      "outputs": [
        {
          "output_type": "stream",
          "name": "stdout",
          "text": [
            "5\n",
            "[0, 1, 1, 8, 27]\n"
          ]
        }
      ]
    },
    {
      "cell_type": "markdown",
      "source": [
        "##Cara 4"
      ],
      "metadata": {
        "id": "toRMg8-B0abD"
      }
    },
    {
      "cell_type": "code",
      "source": [
        "cube = lambda x: pow(x, 3) # complete the lambda function \n",
        "\n",
        "def fibonacci(n):\n",
        "    fib = [0, 1]\n",
        "    if n == 0:\n",
        "        fib.clear()\n",
        "    elif n == 1:\n",
        "        fib = [0, ]\n",
        "    else:\n",
        "        for i in range(2, n):\n",
        "            fib.append(sum(fib[i - 2:i]))\n",
        "    return fib\n",
        "    \n",
        "if __name__ == '__main__':\n",
        "    n = int(input())\n",
        "    print(list(map(cube, fibonacci(n))))"
      ],
      "metadata": {
        "colab": {
          "base_uri": "https://localhost:8080/"
        },
        "id": "-ArtfMOcb3tO",
        "outputId": "7c17d663-da7a-4869-9773-2a453b822f56"
      },
      "execution_count": null,
      "outputs": [
        {
          "output_type": "stream",
          "name": "stdout",
          "text": [
            "5\n",
            "[0, 1, 1, 8, 27]\n"
          ]
        }
      ]
    },
    {
      "cell_type": "markdown",
      "source": [
        "#Validating Email Addresses With a Filter"
      ],
      "metadata": {
        "id": "Cm6VHDKn0iCp"
      }
    },
    {
      "cell_type": "markdown",
      "source": [
        "##Cara 1"
      ],
      "metadata": {
        "id": "yetmy6e23dQN"
      }
    },
    {
      "cell_type": "code",
      "source": [
        "import re\n",
        "\n",
        "def fun(s):\n",
        "    pattern = r'^[a-zA-Z0-9-_]+@[a-zA-Z0-9]+\\.[a-zA-Z]{1,3}$'\n",
        "    return re.match(pattern, s)\n",
        "\n",
        "def filter_mail(emails):\n",
        "    return list(filter(fun, emails))\n",
        "\n",
        "if __name__ == '__main__':\n",
        "    n = int(input())\n",
        "    emails = []\n",
        "    for _ in range(n):\n",
        "        emails.append(input())\n",
        "        \n",
        "filtered_emails = filter_mail(emails)\n",
        "filtered_emails.sort()\n",
        "print(filtered_emails)"
      ],
      "metadata": {
        "colab": {
          "base_uri": "https://localhost:8080/"
        },
        "id": "Nfly0PB71V94",
        "outputId": "de8a7ae3-968d-427c-ad78-1ac1d595d045"
      },
      "execution_count": null,
      "outputs": [
        {
          "output_type": "stream",
          "name": "stdout",
          "text": [
            "3\n",
            "a@gmail.com\n",
            "b@gmail.com\n",
            "c@gmail.com\n",
            "['a@gmail.com', 'b@gmail.com', 'c@gmail.com']\n"
          ]
        }
      ]
    },
    {
      "cell_type": "markdown",
      "source": [
        "##Cara 2"
      ],
      "metadata": {
        "id": "w1CjkNlV3fC_"
      }
    },
    {
      "cell_type": "code",
      "source": [
        "import re\n",
        "def fun(s):\n",
        "    # return True if s is a valid email, else return False\n",
        "    p=r'([a-zA-Z0-9\\-\\_]+)\\@{1}([a-zA-Z0-9]+)\\.{1}([a-zA-Z]{1,3})'\n",
        "    if re.fullmatch(p,s):\n",
        "        return True\n",
        "    else:\n",
        "        return False\n",
        "def filter_mail(emails):\n",
        "    return list(filter(fun, emails))\n",
        "\n",
        "if __name__ == '__main__':\n",
        "    n = int(input())\n",
        "    emails = []\n",
        "    for _ in range(n):\n",
        "        emails.append(input())\n",
        "\n",
        "filtered_emails = filter_mail(emails)\n",
        "filtered_emails.sort()\n",
        "print(filtered_emails)"
      ],
      "metadata": {
        "colab": {
          "base_uri": "https://localhost:8080/"
        },
        "id": "CtsEBTfy1Nsy",
        "outputId": "77d0ad96-b056-42de-e6d2-c01631af4f3b"
      },
      "execution_count": null,
      "outputs": [
        {
          "output_type": "stream",
          "name": "stdout",
          "text": [
            "3\n",
            "a@gmail.com\n",
            "b@gmail.com\n",
            "c@gmail.com\n",
            "['a@gmail.com', 'b@gmail.com', 'c@gmail.com']\n"
          ]
        }
      ]
    },
    {
      "cell_type": "markdown",
      "source": [
        "##Cara 3"
      ],
      "metadata": {
        "id": "y4qb0S9I3gqs"
      }
    },
    {
      "cell_type": "code",
      "source": [
        "import string as s\n",
        "l,n,a = s.ascii_letters, s.digits, '_-'\n",
        "lna, ln = l+n+a, l+n\n",
        "\n",
        "def fun(s):\n",
        "    x = s.partition('@')\n",
        "    y = x[2].partition('.')\n",
        "    cnd1 = all(i in lna for i in x[0]) and (x[1] == '@')\n",
        "    cnd2 = all(i in ln for i in y[0]) and y[1] == '.'\n",
        "    cnd3 = all(i in l for i in y[2]) and len(y[2]) <= 3\n",
        "    cnd4 = len(x[0]) > 0 and len(y[0]) > 0\n",
        "    \n",
        "    return all([cnd1,cnd2,cnd3,cnd4])\n",
        "def filter_mail(emails):\n",
        "    return list(filter(fun, emails))\n",
        "\n",
        "if __name__ == '__main__':\n",
        "    n = int(input())\n",
        "    emails = []\n",
        "    for _ in range(n):\n",
        "        emails.append(input())\n",
        "\n",
        "filtered_emails = filter_mail(emails)\n",
        "filtered_emails.sort()\n",
        "print(filtered_emails)"
      ],
      "metadata": {
        "colab": {
          "base_uri": "https://localhost:8080/"
        },
        "id": "XCuP7FF-1uOi",
        "outputId": "204b47a9-2ffc-48ea-ae37-cc1df28e3a9e"
      },
      "execution_count": null,
      "outputs": [
        {
          "output_type": "stream",
          "name": "stdout",
          "text": [
            "3\n",
            "a@gmail.com\n",
            "b@gmail.com\n",
            "c@gmail.com\n",
            "['a@gmail.com', 'b@gmail.com', 'c@gmail.com']\n"
          ]
        }
      ]
    },
    {
      "cell_type": "markdown",
      "source": [
        "##Cara 4"
      ],
      "metadata": {
        "id": "Rp7PBu623ife"
      }
    },
    {
      "cell_type": "code",
      "source": [
        "import re\n",
        "\n",
        "\n",
        "def fun(s):\n",
        "    reg_pattern = r\"[@.]\"\n",
        "    split_email = list(re.split(reg_pattern, s))\n",
        "    if len(split_email) == 3:\n",
        "        if split_email[2].isalpha() and len(split_email[2]) < 4:\n",
        "            if split_email[1].isalnum():\n",
        "                pattern = r\"[_-]\"\n",
        "                t = re.split(pattern, split_email[0])\n",
        "                for item in t:\n",
        "                    if item.isalnum():\n",
        "                        return True\n",
        "        else:\n",
        "            False\n",
        "def filter_mail(emails):\n",
        "    return list(filter(fun, emails))\n",
        "\n",
        "if __name__ == '__main__':\n",
        "    n = int(input())\n",
        "    emails = []\n",
        "    for _ in range(n):\n",
        "        emails.append(input())\n",
        "\n",
        "filtered_emails = filter_mail(emails)\n",
        "filtered_emails.sort()\n",
        "print(filtered_emails)"
      ],
      "metadata": {
        "colab": {
          "base_uri": "https://localhost:8080/"
        },
        "id": "TrUvqMD01zQH",
        "outputId": "a48d6083-f687-41f5-c119-25198376d1f8"
      },
      "execution_count": null,
      "outputs": [
        {
          "output_type": "stream",
          "name": "stdout",
          "text": [
            "3\n",
            "a@gmail.com\n",
            "b@gmail.com\n",
            "c@gmail.com\n",
            "['a@gmail.com', 'b@gmail.com', 'c@gmail.com']\n"
          ]
        }
      ]
    },
    {
      "cell_type": "markdown",
      "source": [
        "#Reduce Function"
      ],
      "metadata": {
        "id": "ws0zHra25SX2"
      }
    },
    {
      "cell_type": "markdown",
      "source": [
        "##Cara 1"
      ],
      "metadata": {
        "id": "4gUw0qWX5UiF"
      }
    },
    {
      "cell_type": "code",
      "source": [
        "from fractions import Fraction\n",
        "from functools import reduce\n",
        "\n",
        "def product(fracs):\n",
        "    t = reduce(lambda x, y: x * y, fracs)\n",
        "    return t.numerator, t.denominator\n",
        "\n",
        "if __name__ == '__main__':\n",
        "    fracs = []\n",
        "    for _ in range(int(input())):\n",
        "        fracs.append(Fraction(*map(int, input().split())))\n",
        "    result = product(fracs)\n",
        "    print(*result)\n"
      ],
      "metadata": {
        "colab": {
          "base_uri": "https://localhost:8080/"
        },
        "id": "NOHi_6184GWt",
        "outputId": "d6e5c8f8-8090-47ee-ceca-83f89b11148b"
      },
      "execution_count": null,
      "outputs": [
        {
          "output_type": "stream",
          "name": "stdout",
          "text": [
            "3\n",
            "1 2\n",
            "3 4\n",
            "10 6\n",
            "5 8\n"
          ]
        }
      ]
    },
    {
      "cell_type": "markdown",
      "source": [
        "##Cara 2"
      ],
      "metadata": {
        "id": "bicKC7Rd5WKr"
      }
    },
    {
      "cell_type": "code",
      "source": [
        "from fractions import Fraction\n",
        "from functools import reduce\n",
        "\n",
        "def product(fracs):\n",
        "    t = Fraction(reduce(lambda x,y: x * y, fracs))\n",
        "    return (t.numerator, t.denominator)\n",
        "\n",
        "if __name__ == '__main__':\n",
        "    fracs = []\n",
        "    for _ in range(int(input())):\n",
        "        fracs.append(Fraction(*map(int, input().split())))\n",
        "    result = product(fracs)\n",
        "    print(*result)"
      ],
      "metadata": {
        "colab": {
          "base_uri": "https://localhost:8080/"
        },
        "id": "S6BnVZYT4ayd",
        "outputId": "cedb8d0c-2eb7-4176-90e0-c298671d54d4"
      },
      "execution_count": null,
      "outputs": [
        {
          "output_type": "stream",
          "name": "stdout",
          "text": [
            "3\n",
            "1 2\n",
            "3 4\n",
            "10 6\n",
            "5 8\n"
          ]
        }
      ]
    },
    {
      "cell_type": "markdown",
      "source": [
        "##Cara 3"
      ],
      "metadata": {
        "id": "Xfpu1TLG5X0Y"
      }
    },
    {
      "cell_type": "code",
      "source": [
        "from fractions import Fraction\n",
        "from functools import reduce\n",
        "\n",
        "def product(fracs):\n",
        "    '''t = Fraction(1/1)\n",
        "    for i in range(0,len(fracs)):\n",
        "        t = t*fracs[i]\n",
        "    '''\n",
        "    t = reduce(lambda x,y: x*y, fracs, Fraction(1/1))\n",
        "    \n",
        "    return t.numerator, t.denominator\n",
        "\n",
        "if __name__ == '__main__':\n",
        "    fracs = []\n",
        "    for _ in range(int(input())):\n",
        "        fracs.append(Fraction(*map(int, input().split())))\n",
        "    result = product(fracs)\n",
        "    print(*result)\n"
      ],
      "metadata": {
        "colab": {
          "base_uri": "https://localhost:8080/"
        },
        "id": "yfV7jZDl4nQU",
        "outputId": "f9059f02-6707-4ee9-ec87-7be46ff5d6a5"
      },
      "execution_count": null,
      "outputs": [
        {
          "output_type": "stream",
          "name": "stdout",
          "text": [
            "3\n",
            "1 2\n",
            "3 4\n",
            "10 6\n",
            "5 8\n"
          ]
        }
      ]
    },
    {
      "cell_type": "markdown",
      "source": [
        "##Cara 4"
      ],
      "metadata": {
        "id": "SDvaas0a5Zgl"
      }
    },
    {
      "cell_type": "code",
      "source": [
        "from fractions import Fraction\n",
        "from functools import reduce\n",
        "\n",
        "def product(fracs):\n",
        "    t = reduce(lambda acc, f: acc*f, fracs, 1)\n",
        "    return t.numerator, t.denominator\n",
        "\n",
        "if __name__ == '__main__':\n",
        "    fracs = []\n",
        "    for _ in range(int(input())):\n",
        "        fracs.append(Fraction(*map(int, input().split())))\n",
        "    result = product(fracs)\n",
        "    print(*result)"
      ],
      "metadata": {
        "colab": {
          "base_uri": "https://localhost:8080/"
        },
        "id": "lUkMOqWK4yuE",
        "outputId": "7b029681-c2c0-4210-a931-b21bea0467d8"
      },
      "execution_count": null,
      "outputs": [
        {
          "output_type": "stream",
          "name": "stdout",
          "text": [
            "3\n",
            "1 2\n",
            "3 4\n",
            "10 6\n",
            "5 8\n"
          ]
        }
      ]
    },
    {
      "cell_type": "markdown",
      "source": [
        "#Words Score"
      ],
      "metadata": {
        "id": "S2yHe71j58z1"
      }
    },
    {
      "cell_type": "code",
      "source": [
        "def is_vowel(letter):\n",
        "    return letter in ['a', 'e', 'i', 'o', 'u', 'y']\n",
        "\n",
        "def score_words(words):\n",
        "    score = 0\n",
        "    for word in words:\n",
        "        num_vowels = 0\n",
        "        for letter in word:\n",
        "            if is_vowel(letter):\n",
        "                num_vowels += 1\n",
        "        if num_vowels % 2 == 0:\n",
        "            score += 2\n",
        "        else:\n",
        "            #++score this is wrong\n",
        "            score += 1 \n",
        "    return score\n",
        "\n",
        "\n",
        "n = int(input())\n",
        "words = input().split()\n",
        "print(score_words(words))"
      ],
      "metadata": {
        "colab": {
          "base_uri": "https://localhost:8080/"
        },
        "id": "8gRS2wHN5-0X",
        "outputId": "179c3880-5e0e-4081-fd47-cc95db9bd78e"
      },
      "execution_count": null,
      "outputs": [
        {
          "output_type": "stream",
          "name": "stdout",
          "text": [
            "3\n",
            "programming is awesome\n",
            "4\n"
          ]
        }
      ]
    },
    {
      "cell_type": "markdown",
      "source": [
        "#Validating and Parsing Email Addresses"
      ],
      "metadata": {
        "id": "T-UbFgt-7nUK"
      }
    },
    {
      "cell_type": "markdown",
      "source": [
        "##Cara 1"
      ],
      "metadata": {
        "id": "PMiOiD4u-Y_X"
      }
    },
    {
      "cell_type": "code",
      "source": [
        "from re import fullmatch as fm\n",
        "for _ in range(int(input())):\n",
        "    if not fm(r'[^\\W\\d_]+ <[^\\W\\d_][\\w._-]*@[^\\W\\d_]+\\.[^\\W\\d_]{1,3}>', s:=input()) is None:\n",
        "        print(s)"
      ],
      "metadata": {
        "colab": {
          "base_uri": "https://localhost:8080/"
        },
        "id": "ZdItR9hY8pq6",
        "outputId": "570bf1a5-d306-4e38-a1e6-f8d5e9b09a12"
      },
      "execution_count": null,
      "outputs": [
        {
          "name": "stdout",
          "output_type": "stream",
          "text": [
            "2\n",
            "DEXTER <dexter@hotmail.com>\n",
            "DEXTER <dexter@hotmail.com>\n",
            "VIRUS <virus!@variable.:p>\n"
          ]
        }
      ]
    },
    {
      "cell_type": "markdown",
      "source": [
        "##Cara 2"
      ],
      "metadata": {
        "id": "iEAHYvLi-afG"
      }
    },
    {
      "cell_type": "code",
      "source": [
        "# in this task, we first use a regex pattern to validate if an email is valid.\n",
        "# after that, we pass the email into email.utils.formataddr to print it out accordingly\n",
        "import re\n",
        "from email.utils import parseaddr, formataddr\n",
        "p = re.compile(\"^[A-Za-z]{1}[A-Za-z0-9-_\\.]+@{1}[A-Za-z]+\\.{1}[A-Za-z]{1,3}$\")\n",
        "items_lists = [input().split() for _ in range(int(input()))]\n",
        "# email_list = [item[1].rstrip(\">\").lstrip(\"<\") for item in items_lists]\n",
        "# true_emails = [i for i in email_list if p.search(i) is not None]\n",
        "for i in items_lists:\n",
        "    if p.search(i[1].rstrip(\">\").lstrip(\"<\")) is not None:\n",
        "        print(formataddr((i[0], i[1].rstrip(\">\").lstrip(\"<\"))))"
      ],
      "metadata": {
        "colab": {
          "base_uri": "https://localhost:8080/"
        },
        "id": "-2uvqaex81vw",
        "outputId": "e97d0b3c-3b10-4c81-fade-8966095a42c5"
      },
      "execution_count": null,
      "outputs": [
        {
          "output_type": "stream",
          "name": "stdout",
          "text": [
            "2\n",
            "DEXTER <dexter@hotmail.com>\n",
            "VIRUS <virus!@variable.:p>\n",
            "DEXTER <dexter@hotmail.com>\n"
          ]
        }
      ]
    },
    {
      "cell_type": "markdown",
      "source": [
        "##Cara 3"
      ],
      "metadata": {
        "id": "ONR0Yf64-f93"
      }
    },
    {
      "cell_type": "code",
      "source": [
        "from re import fullmatch\n",
        "from email.utils import parseaddr\n",
        "\n",
        "N = int(input())\n",
        "\n",
        "for _ in range(N):\n",
        "    input_line = input()\n",
        "\n",
        "    if fullmatch(r\"[a-zA-Z][a-zA-Z0-9_\\-\\.]+@[a-zA-Z]+\\.[a-zA-Z]{1,3}\", parseaddr(input_line)[1]):\n",
        "        print(input_line)"
      ],
      "metadata": {
        "colab": {
          "base_uri": "https://localhost:8080/"
        },
        "id": "YA6v57l489zR",
        "outputId": "e854f795-bf01-4aa8-b974-3063854b15aa"
      },
      "execution_count": null,
      "outputs": [
        {
          "name": "stdout",
          "output_type": "stream",
          "text": [
            "2\n",
            "DEXTER <dexter@hotmail.com>\n",
            "DEXTER <dexter@hotmail.com>\n",
            "VIRUS <virus!@variable.:p>\n"
          ]
        }
      ]
    }
  ]
}