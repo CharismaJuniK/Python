{
  "cells": [
    {
      "cell_type": "markdown",
      "metadata": {
        "id": "lHi1DdpzmXRs"
      },
      "source": [
        "#Detect HTML Tags, Attributes and Attribute Values"
      ]
    },
    {
      "cell_type": "markdown",
      "metadata": {
        "id": "U352lt9Aooo8"
      },
      "source": [
        "##Cara 1"
      ]
    },
    {
      "cell_type": "code",
      "execution_count": null,
      "metadata": {
        "colab": {
          "base_uri": "https://localhost:8080/"
        },
        "id": "hPjeeZvSlQbC",
        "outputId": "82a8d92d-4348-4dc8-82e6-92046022daed"
      },
      "outputs": [
        {
          "name": "stdout",
          "output_type": "stream",
          "text": [
            "9\n",
            "<head>\n",
            "head\n",
            "<title>HTML</title>\n",
            "title\n",
            "</head>\n",
            "<object type=\"application/x-flash\" \n",
            "data=\"your-file.swf\" \n",
            "width=\"0\" height=\"0\">\n",
            "object\n",
            "-> type > application/x-flash\n",
            "-> data > your-file.swf\n",
            "-> width > 0\n",
            "-> height > 0\n",
            "<!-- <param name=\"movie\" value=\"your-file.swf\" /> -->\n",
            "<param name=\"quality\" value=\"high\"/>\n",
            "param\n",
            "-> name > quality\n",
            "-> value > high\n",
            "</object>\n"
          ]
        }
      ],
      "source": [
        "from html.parser import HTMLParser\n",
        "\n",
        "class MyHTMLParser(HTMLParser):\n",
        "    def handle_starttag(self, tag, attrs):\n",
        "        print(tag)\n",
        "        [print(f'-> {i[0]} > {i[1]}') for i in attrs]\n",
        "    def handle_startendtag(self, tag, attrs):\n",
        "        print (tag)\n",
        "        [print(f'-> {i[0]} > {i[1]}') for i in attrs]\n",
        "        \n",
        "parser = MyHTMLParser()\n",
        "for _ in range(int(input())):\n",
        "    parser.feed(input())"
      ]
    },
    {
      "cell_type": "markdown",
      "metadata": {
        "id": "0ZZiJC5Kopzy"
      },
      "source": [
        "##Cara 2"
      ]
    },
    {
      "cell_type": "code",
      "execution_count": null,
      "metadata": {
        "colab": {
          "base_uri": "https://localhost:8080/"
        },
        "id": "KynpAewhmcDJ",
        "outputId": "47a62ffe-a3bb-4b08-c81e-eef4d1d1daec"
      },
      "outputs": [
        {
          "name": "stdout",
          "output_type": "stream",
          "text": [
            "9\n",
            "<head>\n",
            "head\n",
            "<title>HTML</title>\n",
            "title\n",
            "</head>\n",
            "<object type=\"application/x-flash\" \n",
            "data=\"your-file.swf\" \n",
            "width=\"0\" height=\"0\">\n",
            "object\n",
            "-> type > application/x-flash\n",
            "-> data > your-file.swf\n",
            "-> width > 0\n",
            "-> height > 0\n",
            "<!-- <param name=\"movie\" value=\"your-file.swf\" /> -->\n",
            "<param name=\"quality\" value=\"high\"/>\n",
            "param\n",
            "-> name > quality\n",
            "-> value > high\n",
            "</object>\n"
          ]
        }
      ],
      "source": [
        "from html.parser import HTMLParser\n",
        "\n",
        "class MyHTMLParser(HTMLParser):\n",
        "    def handle_starttag(self, tag, attrs):\n",
        "        print(tag)\n",
        "        for attr in attrs:\n",
        "            print(f'-> {attr[0]} > {attr[1]}')\n",
        "    \n",
        "    def handle_startendtag(self, tag, attrs):\n",
        "        print(tag)\n",
        "        for attr in attrs:\n",
        "            print(f'-> {attr[0]} > {attr[1]}')\n",
        "\n",
        "parser = MyHTMLParser()\n",
        "for _ in range(int(input())):\n",
        "    parser.feed(input())"
      ]
    },
    {
      "cell_type": "markdown",
      "metadata": {
        "id": "Pvdj1O3Zori6"
      },
      "source": [
        "##Cara 3"
      ]
    },
    {
      "cell_type": "code",
      "execution_count": null,
      "metadata": {
        "colab": {
          "base_uri": "https://localhost:8080/"
        },
        "id": "FdFBLO1cm3FW",
        "outputId": "413dbc7a-4895-4788-a7b9-4b577061a5f9"
      },
      "outputs": [
        {
          "name": "stdout",
          "output_type": "stream",
          "text": [
            "9\n",
            "<head>\n",
            "<title>HTML</title>\n",
            "</head>\n",
            "<object type=\"application/x-flash\" \n",
            "data=\"your-file.swf\" \n",
            "width=\"0\" height=\"0\">\n",
            "<!-- <param name=\"movie\" value=\"your-file.swf\" /> -->\n",
            "<param name=\"quality\" value=\"high\"/>\n",
            "</object>\n",
            "head\n",
            "title\n",
            "object\n",
            "-> type > application/x-flash\n",
            "-> data > your-file.swf\n",
            "-> width > 0\n",
            "-> height > 0\n",
            "param\n",
            "-> name > quality\n",
            "-> value > high\n"
          ]
        }
      ],
      "source": [
        "from html.parser import HTMLParser\n",
        "\n",
        "\n",
        "class Kevin(HTMLParser):\n",
        "    def handle_starttag(self, tag, attr):\n",
        "        print(tag)\n",
        "        if attr:\n",
        "            for item in attr:\n",
        "                print(\"->\", item[0], \">\", item[1])\n",
        "\n",
        "\n",
        "html_code = [input() for _ in range(int(input()))]\n",
        "\n",
        "my_object = Kevin()\n",
        "my_object.feed(\"\".join(html_code))"
      ]
    },
    {
      "cell_type": "markdown",
      "metadata": {
        "id": "rGBOFF5Aos-q"
      },
      "source": [
        "##Cara 4"
      ]
    },
    {
      "cell_type": "code",
      "execution_count": null,
      "metadata": {
        "colab": {
          "base_uri": "https://localhost:8080/"
        },
        "id": "goyMd9uEm48s",
        "outputId": "aa1d4c05-6035-4093-d3cf-775f86ab85f2"
      },
      "outputs": [
        {
          "name": "stdout",
          "output_type": "stream",
          "text": [
            "9\n",
            "<head>\n",
            "<title>HTML</title>\n",
            "</head>\n",
            "<object type=\"application/x-flash\" \n",
            "data=\"your-file.swf\"\n",
            "width=\"0\" height=\"0\">\n",
            "<!-- <param name=\"movie\" value=\"your-file.swf\" /> -->\n",
            "<param name=\"quality\" value=\"high\"/>\n",
            "</object>\n",
            "head\n",
            "title\n",
            "object\n",
            "-> type > application/x-flash\n",
            "-> data > your-file.swf\n",
            "-> width > 0\n",
            "-> height > 0\n",
            "param\n",
            "-> name > quality\n",
            "-> value > high\n"
          ]
        }
      ],
      "source": [
        "from html.parser import HTMLParser\n",
        "\n",
        "\n",
        "class MyHTMLParser(HTMLParser):\n",
        "    def handle_starttag(self, tag, attrs):\n",
        "        print(tag)\n",
        "\n",
        "        for attr in attrs:\n",
        "            print(f\"-> {attr[0]} > {attr[1]}\")\n",
        "\n",
        "N = int(input())\n",
        "parser = MyHTMLParser()\n",
        "\n",
        "parser.feed(\"\\n\".join([input() for _ in range(N)]))"
      ]
    },
    {
      "cell_type": "markdown",
      "metadata": {
        "id": "6Osjit6Zoud6"
      },
      "source": [
        "##Cara 5"
      ]
    },
    {
      "cell_type": "code",
      "execution_count": null,
      "metadata": {
        "colab": {
          "base_uri": "https://localhost:8080/"
        },
        "id": "LEAj-3oWm6zI",
        "outputId": "d445d1c9-5147-4916-e58c-4774c70aaa53"
      },
      "outputs": [
        {
          "name": "stdout",
          "output_type": "stream",
          "text": [
            "9\n",
            "<head>\n",
            "<title>HTML</title>\n",
            "</head>\n",
            "<object type=\"application/x-flash\" \n",
            "data=\"your-file.swf\"\n",
            "width=\"0\" height=\"0\">\n",
            "<!-- <param name=\"movie\" value=\"your-file.swf\" /> -->\n",
            "<param name=\"quality\" value=\"high\"/>\n",
            "</object>\n",
            "head\n",
            "title\n",
            "object\n",
            "-> type > application/x-flash\n",
            "-> data > your-file.swf\n",
            "-> width > 0\n",
            "-> height > 0\n",
            "param\n",
            "-> name > quality\n",
            "-> value > high\n"
          ]
        }
      ],
      "source": [
        "from html.parser import HTMLParser\n",
        "\n",
        "class MyHTMLParser(HTMLParser):\n",
        "    def handle_starttag(self, tag, attr):\n",
        "        print(tag)\n",
        "        for i in attr:\n",
        "            print(f'-> {i[0]} > {i[1]}')\n",
        "   \n",
        "html=\"\"\n",
        "for i in range(int(input())):\n",
        "    html += input().rstrip()\n",
        "    html += '\\n'\n",
        "                \n",
        "parser = MyHTMLParser()\n",
        "parser.feed(html)\n",
        "parser.close()"
      ]
    },
    {
      "cell_type": "markdown",
      "metadata": {
        "id": "SwBCTtfOq8mf"
      },
      "source": [
        "#Vallidating UID"
      ]
    },
    {
      "cell_type": "markdown",
      "source": [
        "##Cara 1"
      ],
      "metadata": {
        "id": "CusIOch5JYqf"
      }
    },
    {
      "cell_type": "code",
      "execution_count": null,
      "metadata": {
        "colab": {
          "base_uri": "https://localhost:8080/"
        },
        "id": "NIrpucMtq-jI",
        "outputId": "d53631b2-2b90-4ac4-c3ef-6a352c4c368b"
      },
      "outputs": [
        {
          "name": "stdout",
          "output_type": "stream",
          "text": [
            "2\n",
            "B1CD102354\n",
            "Invalid\n",
            "B1CDEF2354\n",
            "Valid\n"
          ]
        }
      ],
      "source": [
        "import re\n",
        "upper2_re = re.compile(r'[A-Z].*[A-Z]')\n",
        "digit3_re = re.compile(r'[0-9].*[0-9].*[0-9]')\n",
        "nonchars_re = re.compile(r'[^0-9a-zA-Z]')\n",
        "for _ in range(int(input())):\n",
        "    s = input()\n",
        "    if 10 == len(s) == len(set(s)) \\\n",
        "            and nonchars_re.search(s) is None \\\n",
        "            and upper2_re.search(s) is not None \\\n",
        "            and digit3_re.search(s) is not None:\n",
        "        print(\"Valid\")\n",
        "    else:\n",
        "        print(\"Invalid\")"
      ]
    },
    {
      "cell_type": "code",
      "execution_count": null,
      "metadata": {
        "colab": {
          "base_uri": "https://localhost:8080/"
        },
        "id": "pRNulmrmYe2i",
        "outputId": "c0868ca0-e947-48af-dd06-ac9125473f86"
      },
      "outputs": [
        {
          "name": "stdout",
          "output_type": "stream",
          "text": [
            "2\n"
          ]
        }
      ],
      "source": [
        "from re import fullmatch as fm\n",
        "\n",
        "for _ in range(int(input())):\n",
        "    s = input()\n",
        "    c = fm(r'(?=.*[A-Z].*[A-Z])(?=.*\\d.*\\d.*\\d)[^\\W_]{10}', s)\n",
        "    r = fm(r'(?:([^\\W_])(?!.*\\1))*', s)\n",
        "    print('Valid' if None not in (c, r) else 'Invalid')"
      ]
    },
    {
      "cell_type": "code",
      "execution_count": null,
      "metadata": {
        "colab": {
          "background_save": true
        },
        "id": "DV8tv154rAzA",
        "outputId": "65126556-d398-4e2b-9aca-54aec0a3f3ba"
      },
      "outputs": [
        {
          "name": "stdout",
          "output_type": "stream",
          "text": [
            "Invalid\n",
            "Valid\n"
          ]
        }
      ],
      "source": [
        "from re import fullmatch as fm\n",
        "for _ in range(int(input())):\n",
        "    c = fm(r'(?=.*[A-Z].*[A-Z])(?=.*\\d.*\\d.*\\d)[^\\W_]{10}', s:=input())\n",
        "    r = fm(r'(?:([^\\W_])(?!.*\\1))*', s)\n",
        "    print('Valid') if None not in (c, r) else print('Invalid')"
      ]
    },
    {
      "cell_type": "code",
      "execution_count": null,
      "metadata": {
        "colab": {
          "background_save": true
        },
        "id": "e83Rx7eurCh4",
        "outputId": "bb1ce9ce-0bea-4901-f1f5-00f82d3c8c4b"
      },
      "outputs": [
        {
          "name": "stdout",
          "output_type": "stream",
          "text": [
            "Invalid\n",
            "Valid\n"
          ]
        }
      ],
      "source": [
        "import re\n",
        "\n",
        "for _ in range(int(input())):\n",
        "    uid = input()\n",
        "    if re.search(\"[\\d]{3,}[A-Z]{2,}\", ''.join(sorted([*uid]))) \\\n",
        "                 and sum([1 for i in set(uid) if uid.count(i)>1])==0 \\\n",
        "                 and re.search(\"[a-zA-Z0-9]\", uid) \\\n",
        "                 and len(uid)==10:\n",
        "        print(\"Valid\")\n",
        "    else:\n",
        "        print(\"Invalid\")"
      ]
    },
    {
      "cell_type": "code",
      "execution_count": null,
      "metadata": {
        "id": "p6I3kJQHrHxg"
      },
      "outputs": [],
      "source": [
        "uids = []\n",
        "for i in range(int(input())):\n",
        "    uids.append(input())\n",
        "    \n",
        "for uid in uids:\n",
        "    valid = len([x for x in uid if x.isupper()]) > 1\n",
        "    valid = valid and len([x for x in uid if x.isdigit()]) > 2\n",
        "    valid = valid and all([x.isalnum() for x in uid])\n",
        "    valid = valid and len(set([x for x in uid])) == 10\n",
        "    valid = valid and len(uid) == 10\n",
        "    print('Valid' if valid else 'Invalid')"
      ]
    },
    {
      "cell_type": "code",
      "execution_count": null,
      "metadata": {
        "id": "Ta4Dbzq3rJ1H"
      },
      "outputs": [],
      "source": [
        "import re\n",
        "\n",
        "# Define constants\n",
        "MUST_PATTERNS = [r'[A-Z].*[A-Z]', r'\\d.*\\d.*\\d', r'^[a-zA-Z0-9]{10}$']\n",
        "MUST_NOT_PATTERN = r'([a-zA-Z0-9]).*\\1'\n",
        "\n",
        "# Define function to check IDs\n",
        "def is_valid_password(password):\n",
        "    # Check all must patterns\n",
        "    must_patterns_matched = all(re.search(p, password) for p in MUST_PATTERNS)\n",
        "    \n",
        "    # Check must not pattern\n",
        "    must_not_pattern_matched = not re.search(MUST_NOT_PATTERN, password)\n",
        "    \n",
        "    return must_patterns_matched and must_not_pattern_matched\n",
        "\n",
        "# Get inputs\n",
        "num_inputs = int(input())\n",
        "inputs = [input() for _ in range(num_inputs)]\n",
        "\n",
        "# Check ID's and print result\n",
        "results = [is_valid_password(p) for p in inputs]\n",
        "print(*[\"Valid\" if x else \"Invalid\" for x in results], sep=\"\\n\")"
      ]
    },
    {
      "cell_type": "markdown",
      "source": [
        "#Validating Credit Card Numbers"
      ],
      "metadata": {
        "id": "vgnTYdjGJu2U"
      }
    },
    {
      "cell_type": "markdown",
      "source": [
        "#Validating Postal Codes"
      ],
      "metadata": {
        "id": "bQ7HtqXCJyxU"
      }
    },
    {
      "cell_type": "markdown",
      "source": [
        "#Inner and Outer"
      ],
      "metadata": {
        "id": "Dd1OvWJiJ1mz"
      }
    },
    {
      "cell_type": "markdown",
      "source": [
        "#XML2 - Find the Maximum Depth\n"
      ],
      "metadata": {
        "id": "T9gp9EzaZnnK"
      }
    },
    {
      "cell_type": "markdown",
      "source": [
        "##Cara 1"
      ],
      "metadata": {
        "id": "g6t_hKBXWmBP"
      }
    },
    {
      "cell_type": "code",
      "source": [
        "import xml.etree.ElementTree as etree\n",
        "\n",
        "maxdepth = 0\n",
        "def depth(elem, level):\n",
        "    global maxdepth\n",
        "    # your code goes here\n",
        "    if level+1 > maxdepth: maxdepth = level+1\n",
        "    [depth(child, level+1) for child in elem]   \n",
        "    return  maxdepth\n",
        "\n",
        "if __name__ == '__main__':\n",
        "    n = int(input())\n",
        "    xml = \"\"\n",
        "    for i in range(n):\n",
        "        xml =  xml + input() + \"\\n\"\n",
        "    tree = etree.ElementTree(etree.fromstring(xml))\n",
        "    depth(tree.getroot(), -1)\n",
        "    print(maxdepth)"
      ],
      "metadata": {
        "colab": {
          "base_uri": "https://localhost:8080/"
        },
        "id": "xS4cjOR-Zy72",
        "outputId": "35163a88-17b1-4679-dd38-880b5e474353"
      },
      "execution_count": null,
      "outputs": [
        {
          "output_type": "stream",
          "name": "stdout",
          "text": [
            "6\n",
            "<feed xml:lang='en'>\n",
            "<title>HackerRank</title>\n",
            "<subtitle lang='en'>Programming challenges</subtitle>\n",
            "<link rel='alternate' type='text/html' href='http://hackerrank.com/'/>\n",
            "<updated>2013-12-25T12:00:00</updated>\n",
            "</feed>\n",
            "1\n"
          ]
        }
      ]
    },
    {
      "cell_type": "markdown",
      "source": [
        "##Cara 2"
      ],
      "metadata": {
        "id": "sG9D-UXsWnwH"
      }
    },
    {
      "cell_type": "code",
      "source": [
        "import xml.etree.ElementTree as etree\n",
        "\n",
        "maxdepth = 0\n",
        "def depth(elem, level):\n",
        "    global maxdepth\n",
        "    # your code goes here\n",
        "    maxdepth = level + 1 if level + 1 > maxdepth else maxdepth\n",
        "\n",
        "    for child in elem:\n",
        "        depth(child, level + 1)\n",
        "\n",
        "if __name__ == '__main__':\n",
        "    n = int(input())\n",
        "    xml = \"\"\n",
        "    for i in range(n):\n",
        "        xml =  xml + input() + \"\\n\"\n",
        "    tree = etree.ElementTree(etree.fromstring(xml))\n",
        "    depth(tree.getroot(), -1)\n",
        "    print(maxdepth)"
      ],
      "metadata": {
        "colab": {
          "base_uri": "https://localhost:8080/"
        },
        "id": "Nud9dI7-TISL",
        "outputId": "1aef69c6-cc2f-4f0f-b1a8-b6923ecc91fb"
      },
      "execution_count": null,
      "outputs": [
        {
          "output_type": "stream",
          "name": "stdout",
          "text": [
            "6\n",
            "<feed xml:lang='en'>\n",
            "<title>HackerRank</title>\n",
            "<subtitle lang='en'>Programming challenges</subtitle>\n",
            "<link rel='alternate' type='text/html' href='http://hackerrank.com/'/>\n",
            "<updated>2013-12-25T12:00:00</updated>\n",
            "</feed>\n",
            "1\n"
          ]
        }
      ]
    },
    {
      "cell_type": "markdown",
      "source": [
        "#XML2 - Find the Maximum Depth"
      ],
      "metadata": {
        "id": "yQb7TMnFUVWy"
      }
    },
    {
      "cell_type": "markdown",
      "source": [
        "##Cara 1"
      ],
      "metadata": {
        "id": "xmlaEFDZWicJ"
      }
    },
    {
      "cell_type": "code",
      "source": [
        "import xml.etree.ElementTree as etree\n",
        "\n",
        "maxdepth = 0\n",
        "def depth(elem, level):\n",
        "    global maxdepth\n",
        "    # your code goes here\n",
        "    if level+1 > maxdepth: maxdepth = level+1\n",
        "    [depth(child, level+1) for child in elem]   \n",
        "    return  maxdepth\n",
        "\n",
        "if __name__ == '__main__':\n",
        "    n = int(input())\n",
        "    xml = \"\"\n",
        "    for i in range(n):\n",
        "        xml =  xml + input() + \"\\n\"\n",
        "    tree = etree.ElementTree(etree.fromstring(xml))\n",
        "    depth(tree.getroot(), -1)\n",
        "    print(maxdepth)"
      ],
      "metadata": {
        "colab": {
          "base_uri": "https://localhost:8080/"
        },
        "id": "TmpxXAJvTiqT",
        "outputId": "551ee5e3-ff7a-4044-8fbb-cc05211fbb63"
      },
      "execution_count": null,
      "outputs": [
        {
          "output_type": "stream",
          "name": "stdout",
          "text": [
            "6\n",
            "<feed xml:lang='en'>\n",
            "<title>HackerRank</title>\n",
            "<subtitle lang='en'>Programming challenges</subtitle>\n",
            "<link rel='alternate' type='text/html' href='http://hackerrank.com/'/>\n",
            "<updated>2013-12-25T12:00:00</updated>\n",
            "</feed>\n",
            "1\n"
          ]
        }
      ]
    },
    {
      "cell_type": "markdown",
      "source": [
        "##Cara 2"
      ],
      "metadata": {
        "id": "rP6SOCXsWp1_"
      }
    },
    {
      "cell_type": "code",
      "source": [
        "import xml.etree.ElementTree as etree\n",
        "\n",
        "maxdepth = 0\n",
        "def depth(elem, level):\n",
        "    global maxdepth\n",
        "    # your code goes here\n",
        "    maxdepth = max(maxdepth, level + 1)\n",
        "    [depth(ch, level + 1) for ch in elem]\n",
        "\n",
        "if __name__ == '__main__':\n",
        "    n = int(input())\n",
        "    xml = \"\"\n",
        "    for i in range(n):\n",
        "        xml =  xml + input() + \"\\n\"\n",
        "    tree = etree.ElementTree(etree.fromstring(xml))\n",
        "    depth(tree.getroot(), -1)\n",
        "    print(maxdepth)"
      ],
      "metadata": {
        "colab": {
          "base_uri": "https://localhost:8080/"
        },
        "id": "ofqkDnaAVPWq",
        "outputId": "f5118ba4-d89a-4fd4-80c3-cfc6fa37b33d"
      },
      "execution_count": null,
      "outputs": [
        {
          "output_type": "stream",
          "name": "stdout",
          "text": [
            "6\n",
            "<feed xml:lang='en'>\n",
            "<title>HackerRank</title>\n",
            "<subtitle lang='en'>Programming challenges</subtitle>\n",
            "<link rel='alternate' type='text/html' href='http://hackerrank.com/'/>\n",
            "<updated>2013-12-25T12:00:00</updated>\n",
            "</feed>\n",
            "1\n"
          ]
        }
      ]
    },
    {
      "cell_type": "markdown",
      "source": [
        "#Min and Max"
      ],
      "metadata": {
        "id": "tn0RgGdlW61f"
      }
    },
    {
      "cell_type": "markdown",
      "source": [
        "##Cara 1"
      ],
      "metadata": {
        "id": "zTDbTGNDX7U4"
      }
    },
    {
      "cell_type": "code",
      "source": [
        "import numpy\n",
        "N, M = map(int, input().split())\n",
        "arr = []\n",
        "for i in range(N):\n",
        "    f = list(map(int, input().split()))\n",
        "    arr.append(f)\n",
        "\n",
        "print(numpy.max(numpy.min(numpy.array(arr), axis=1)))"
      ],
      "metadata": {
        "colab": {
          "base_uri": "https://localhost:8080/"
        },
        "id": "ssz8vg3lW-AW",
        "outputId": "ae38cc07-1ec7-4457-f646-1dc428173e94"
      },
      "execution_count": null,
      "outputs": [
        {
          "output_type": "stream",
          "name": "stdout",
          "text": [
            "4 2\n",
            "2 5\n",
            "3 7\n",
            "1 3\n",
            "4 0\n",
            "3\n"
          ]
        }
      ]
    },
    {
      "cell_type": "markdown",
      "source": [
        "##Cara 2"
      ],
      "metadata": {
        "id": "ktkCmp94X9Yn"
      }
    },
    {
      "cell_type": "code",
      "source": [
        "import numpy as np\n",
        "N, M = map(int, input().split())\n",
        "arr = np.array([input().split() for _ in range(N)], int)\n",
        "print(np.max(np.min(arr, axis=1)))"
      ],
      "metadata": {
        "colab": {
          "base_uri": "https://localhost:8080/"
        },
        "id": "J5mTzjYXXLDP",
        "outputId": "6f22c689-fd18-4c55-c44e-3502c1aa6ab9"
      },
      "execution_count": null,
      "outputs": [
        {
          "output_type": "stream",
          "name": "stdout",
          "text": [
            "4 2\n",
            "2 5\n",
            "3 7\n",
            "1 3\n",
            "4 0\n",
            "3\n"
          ]
        }
      ]
    },
    {
      "cell_type": "markdown",
      "source": [
        "##Cara 3"
      ],
      "metadata": {
        "id": "DpMXbflvX-zW"
      }
    },
    {
      "cell_type": "code",
      "source": [
        "import numpy as np\n",
        "print(np.max(np.min(np.array([input().split() for _ in range(int(input().split()[0]))], int), axis=1)))"
      ],
      "metadata": {
        "colab": {
          "base_uri": "https://localhost:8080/"
        },
        "id": "YlmhXG7AXUhP",
        "outputId": "cc255c60-5f81-4b18-aff6-4d28bca1cc8b"
      },
      "execution_count": null,
      "outputs": [
        {
          "output_type": "stream",
          "name": "stdout",
          "text": [
            "4 2\n",
            "2 5\n",
            "3 7\n",
            "1 3\n",
            "4 0\n",
            "3\n"
          ]
        }
      ]
    },
    {
      "cell_type": "markdown",
      "source": [
        "##Cara 4"
      ],
      "metadata": {
        "id": "U9oHEJiyYAUO"
      }
    },
    {
      "cell_type": "code",
      "source": [
        "import numpy as np\n",
        "n, m = map(int, input().strip().split(' '))\n",
        "inp_arr = [[int(i) for i in input().strip().split(' ')] for _ in range(n)]\n",
        "print(np.max(np.min(inp_arr, axis = 1)))"
      ],
      "metadata": {
        "colab": {
          "base_uri": "https://localhost:8080/"
        },
        "id": "ZHFCNZ0tXrLZ",
        "outputId": "3e103d50-edf6-449e-cbab-6599b7f0f311"
      },
      "execution_count": null,
      "outputs": [
        {
          "output_type": "stream",
          "name": "stdout",
          "text": [
            "4 2\n",
            "2 5\n",
            "3 7\n",
            "1 3\n",
            "4 0\n",
            "3\n"
          ]
        }
      ]
    },
    {
      "cell_type": "markdown",
      "source": [
        "#Standardize Mobile Number Using Decorators\n"
      ],
      "metadata": {
        "id": "nvyEHMepoXkY"
      }
    },
    {
      "cell_type": "markdown",
      "source": [
        "##Cara 1"
      ],
      "metadata": {
        "id": "ZEvEmLmSpxAo"
      }
    },
    {
      "cell_type": "code",
      "source": [
        "def wrapper(f):\n",
        "    def fun(l):\n",
        "        # complete the function\n",
        "        l = ['+91 '+i[-10:-5]+' '+i[-5:] for i in l]\n",
        "        f(l)\n",
        "    return fun\n",
        "\n",
        "@wrapper\n",
        "def sort_phone(l):\n",
        "    print(*sorted(l), sep='\\n')\n",
        "\n",
        "if __name__ == '__main__':\n",
        "    l = [input() for _ in range(int(input()))]\n",
        "    sort_phone(l) "
      ],
      "metadata": {
        "colab": {
          "base_uri": "https://localhost:8080/"
        },
        "id": "4LGF2wAYoo6f",
        "outputId": "db7baed6-1ca2-483c-ed55-91eb687eccd3"
      },
      "execution_count": null,
      "outputs": [
        {
          "output_type": "stream",
          "name": "stdout",
          "text": [
            "3\n",
            "07895462130\n",
            "919875641230\n",
            "9195969878\n",
            "+91 78954 62130\n",
            "+91 91959 69878\n",
            "+91 98756 41230\n"
          ]
        }
      ]
    },
    {
      "cell_type": "markdown",
      "source": [
        "##Cara 2"
      ],
      "metadata": {
        "id": "-D_NZAHvpzJP"
      }
    },
    {
      "cell_type": "code",
      "source": [
        "def wrapper(f):\n",
        "    def fun(l):\n",
        "        # this is where we will instance the function f()\n",
        "        # we also need to edit the numbers in the list l\n",
        "        ten_digit_numbers = [i[-10:-5]+ \" \" + i[-5:] for i in l]\n",
        "        numbers_plus91 = [\"+91 \" + item for item in ten_digit_numbers]\n",
        "        f(numbers_plus91)\n",
        "    return fun\n",
        "\n",
        "@wrapper\n",
        "def sort_phone(l):\n",
        "    print(*sorted(l), sep='\\n')\n",
        "\n",
        "if __name__ == '__main__':\n",
        "    l = [input() for _ in range(int(input()))]\n",
        "    sort_phone(l) "
      ],
      "metadata": {
        "colab": {
          "base_uri": "https://localhost:8080/"
        },
        "id": "47v1lvAQpHq2",
        "outputId": "e3d7507b-2c06-4a95-f0eb-e789fda01bb5"
      },
      "execution_count": null,
      "outputs": [
        {
          "output_type": "stream",
          "name": "stdout",
          "text": [
            "3\n",
            "07895462130\n",
            "919875641230\n",
            "9195969878\n",
            "+91 78954 62130\n",
            "+91 91959 69878\n",
            "+91 98756 41230\n"
          ]
        }
      ]
    },
    {
      "cell_type": "markdown",
      "source": [
        "##Cara 3"
      ],
      "metadata": {
        "id": "dXlYynY4p0xc"
      }
    },
    {
      "cell_type": "code",
      "source": [
        "def wrapper(f):\n",
        "    def fun(l):\n",
        "        p=list()\n",
        "        for x in l:\n",
        "            x=x[-10:]\n",
        "            p.append(x)\n",
        "        p=sorted(p)\n",
        "        for _ in p:            \n",
        "            print('+91',_[-10:-5],_[-5:])\n",
        "    return fun\n",
        "    \n",
        "@wrapper\n",
        "def sort_phone(l):\n",
        "    print(*sorted(l), sep='\\n')\n",
        "\n",
        "if __name__ == '__main__':\n",
        "    l = [input() for _ in range(int(input()))]\n",
        "    sort_phone(l) "
      ],
      "metadata": {
        "colab": {
          "base_uri": "https://localhost:8080/"
        },
        "id": "Opvb_md2pTHX",
        "outputId": "e7e2e028-aa82-49c3-b18b-6eec53905a14"
      },
      "execution_count": null,
      "outputs": [
        {
          "output_type": "stream",
          "name": "stdout",
          "text": [
            "3\n",
            "07895462130\n",
            "919875641230\n",
            "9195969878\n",
            "+91 78954 62130\n",
            "+91 91959 69878\n",
            "+91 98756 41230\n"
          ]
        }
      ]
    },
    {
      "cell_type": "markdown",
      "source": [
        "##Cara 4"
      ],
      "metadata": {
        "id": "AB_UIqCYp2iv"
      }
    },
    {
      "cell_type": "code",
      "source": [
        "def wrapper(f):\n",
        "    def fun(l):\n",
        "        lst = []\n",
        "        for no in l:\n",
        "            phone_num = no[::-1][:10][::-1]\n",
        "            correct_format_num = \"+91\" + \" \" + phone_num[:5] + \" \" + phone_num[5:]\n",
        "            lst.append(correct_format_num)\n",
        "        f(lst)\n",
        "            \n",
        "    return fun    \n",
        "\n",
        "@wrapper\n",
        "def sort_phone(l):\n",
        "    print(*sorted(l), sep='\\n')\n",
        "\n",
        "if __name__ == '__main__':\n",
        "    l = [input() for _ in range(int(input()))]\n",
        "    sort_phone(l) "
      ],
      "metadata": {
        "colab": {
          "base_uri": "https://localhost:8080/"
        },
        "id": "eaV4Tntapiyv",
        "outputId": "b5ee885d-f176-4677-abbc-748aca7d434b"
      },
      "execution_count": null,
      "outputs": [
        {
          "output_type": "stream",
          "name": "stdout",
          "text": [
            "3\n",
            "07895462130\n",
            "919875641230\n",
            "9195969878\n",
            "+91 78954 62130\n",
            "+91 91959 69878\n",
            "+91 98756 41230\n"
          ]
        }
      ]
    },
    {
      "cell_type": "markdown",
      "source": [
        "#Decorators 2 - Name Directory"
      ],
      "metadata": {
        "id": "zS7QHKCjqvIk"
      }
    },
    {
      "cell_type": "markdown",
      "source": [
        "##Cara 1"
      ],
      "metadata": {
        "id": "Fvyj1xFEuO5-"
      }
    },
    {
      "cell_type": "code",
      "source": [
        "import operator\n",
        "\n",
        "def person_lister(f):\n",
        "    def inner(people):\n",
        "        # complete the function\n",
        "        for i in people:\n",
        "            i[2] = int(i[2])\n",
        "        sorted_list = sorted(people, key=operator.itemgetter(2))\n",
        "        return list(map(lambda x: f(x), sorted_list))\n",
        "    return inner\n",
        "\n",
        "@person_lister\n",
        "def name_format(person):\n",
        "    return (\"Mr. \" if person[3] == \"M\" else \"Ms. \") + person[0] + \" \" + person[1]\n",
        "\n",
        "if __name__ == '__main__':\n",
        "    people = [input().split() for i in range(int(input()))]\n",
        "    print(*name_format(people), sep='\\n')"
      ],
      "metadata": {
        "colab": {
          "base_uri": "https://localhost:8080/"
        },
        "id": "ciDTPD--rcyw",
        "outputId": "6e299db6-a21f-4430-a0d9-3dc77b740855"
      },
      "execution_count": null,
      "outputs": [
        {
          "output_type": "stream",
          "name": "stdout",
          "text": [
            "3\n",
            "Mike Thomson 20 M\n",
            "Robert Bustle 32 M\n",
            "Andria Bustle 30 F\n",
            "Mr. Mike Thomson\n",
            "Ms. Andria Bustle\n",
            "Mr. Robert Bustle\n"
          ]
        }
      ]
    },
    {
      "cell_type": "markdown",
      "source": [
        "##Cara 2"
      ],
      "metadata": {
        "id": "tqU4PimDuQ7p"
      }
    },
    {
      "cell_type": "code",
      "source": [
        "import operator\n",
        "\n",
        "def person_lister(f):\n",
        "    def inner(people):\n",
        "        # complete the function\n",
        "        sorted_list = sorted(people, key=lambda x: int(x[2]))\n",
        "        return list(map(lambda each: f(each), sorted_list)) \n",
        "    return inner\n",
        "\n",
        "@person_lister\n",
        "def name_format(person):\n",
        "    return (\"Mr. \" if person[3] == \"M\" else \"Ms. \") + person[0] + \" \" + person[1]\n",
        "\n",
        "if __name__ == '__main__':\n",
        "    people = [input().split() for i in range(int(input()))]\n",
        "    print(*name_format(people), sep='\\n')"
      ],
      "metadata": {
        "colab": {
          "base_uri": "https://localhost:8080/"
        },
        "id": "takV9N89rx3b",
        "outputId": "681492fa-e245-42be-c002-733684f42c9c"
      },
      "execution_count": null,
      "outputs": [
        {
          "output_type": "stream",
          "name": "stdout",
          "text": [
            "3\n",
            "Mike Thomson 20 M\n",
            "Robert Bustle 32 M\n",
            "Andria Bustle 30 F\n",
            "Mr. Mike Thomson\n",
            "Ms. Andria Bustle\n",
            "Mr. Robert Bustle\n"
          ]
        }
      ]
    },
    {
      "cell_type": "markdown",
      "source": [
        "##Cara 3"
      ],
      "metadata": {
        "id": "5m05H3bRuSxe"
      }
    },
    {
      "cell_type": "code",
      "source": [
        "import operator\n",
        "\n",
        "def person_lister(f):\n",
        "    def inner(people):\n",
        "        # complete the function\n",
        "        sorted_list = sorted(people, key=lambda x: int(x[2]))\n",
        "        return list(map(lambda each: f(each), sorted_list)) \n",
        "    return inner\n",
        "\n",
        "@person_lister\n",
        "def name_format(person):\n",
        "    return (\"Mr. \" if person[3] == \"M\" else \"Ms. \") + person[0] + \" \" + person[1]\n",
        "\n",
        "if __name__ == '__main__':\n",
        "    people = [input().split() for i in range(int(input()))]\n",
        "    print(*name_format(people), sep='\\n')"
      ],
      "metadata": {
        "colab": {
          "base_uri": "https://localhost:8080/"
        },
        "id": "f88UzGHOtAfS",
        "outputId": "e406e13c-307f-4603-966e-7fe355ab914c"
      },
      "execution_count": null,
      "outputs": [
        {
          "output_type": "stream",
          "name": "stdout",
          "text": [
            "3\n",
            "Mike Thomson 20 M\n",
            "Robert Bustle 32 M\n",
            "Andria Bustle 30 F\n",
            "Mr. Mike Thomson\n",
            "Ms. Andria Bustle\n",
            "Mr. Robert Bustle\n"
          ]
        }
      ]
    },
    {
      "cell_type": "markdown",
      "source": [
        "##Cara 4"
      ],
      "metadata": {
        "id": "q6ffzhdPuUc-"
      }
    },
    {
      "cell_type": "code",
      "source": [
        "import operator\n",
        "\n",
        "def person_lister(f):\n",
        "    def inner(people):\n",
        "        # complete the function\n",
        "        return [f(person) for person in sorted(people, key=lambda x: int(x[2]))]\n",
        "    return inner\n",
        "\n",
        "@person_lister\n",
        "def name_format(person):\n",
        "    return (\"Mr. \" if person[3] == \"M\" else \"Ms. \") + person[0] + \" \" + person[1]\n",
        "\n",
        "if __name__ == '__main__':\n",
        "    people = [input().split() for i in range(int(input()))]\n",
        "    print(*name_format(people), sep='\\n')"
      ],
      "metadata": {
        "colab": {
          "base_uri": "https://localhost:8080/"
        },
        "id": "m_dgezC6tOhm",
        "outputId": "38f6bf7b-4c07-4f14-e1b7-5357445be715"
      },
      "execution_count": null,
      "outputs": [
        {
          "output_type": "stream",
          "name": "stdout",
          "text": [
            "3\n",
            "Mike Thomson 20 M\n",
            "Robert Bustle 32 M\n",
            "Andria Bustle 30 F\n",
            "Mr. Mike Thomson\n",
            "Ms. Andria Bustle\n",
            "Mr. Robert Bustle\n"
          ]
        }
      ]
    },
    {
      "cell_type": "markdown",
      "source": [
        "#Array Mathematics"
      ],
      "metadata": {
        "id": "8-ZSiUvlu9oV"
      }
    },
    {
      "cell_type": "markdown",
      "source": [
        "##Cara 1"
      ],
      "metadata": {
        "id": "ZSoCpfhkvp7d"
      }
    },
    {
      "cell_type": "code",
      "source": [
        "import numpy as np\n",
        "N, M = map(int, input().split())\n",
        "lst = ['+','-','*','//','%','**']\n",
        "A = np.array([input().split() for _ in range(N)], int)\n",
        "B = np.array([input().split() for _ in range(N)], int)\n",
        "for i in lst: exec(f'print(A{i}B)')"
      ],
      "metadata": {
        "colab": {
          "base_uri": "https://localhost:8080/"
        },
        "id": "-SyU3wPLu82e",
        "outputId": "bcd08e6e-c426-4b2e-87cf-87db948d6ded"
      },
      "execution_count": null,
      "outputs": [
        {
          "output_type": "stream",
          "name": "stdout",
          "text": [
            "1 4\n",
            "1 2 3 4\n",
            "5 6 7 8\n",
            "[[ 6  8 10 12]]\n",
            "[[-4 -4 -4 -4]]\n",
            "[[ 5 12 21 32]]\n",
            "[[0 0 0 0]]\n",
            "[[1 2 3 4]]\n",
            "[[    1    64  2187 65536]]\n"
          ]
        }
      ]
    },
    {
      "cell_type": "markdown",
      "source": [
        "##Cara 2"
      ],
      "metadata": {
        "id": "73G25zljvsCV"
      }
    },
    {
      "cell_type": "code",
      "source": [
        "import numpy as np\n",
        "n, m = list(map(int, input().strip().split(' ')))\n",
        "\n",
        "arr1 = np.array([list(map(int, input().strip().split(' '))) for _ in range(n)])\n",
        "arr2 = np.array([list(map(int, input().strip().split(' '))) for _ in range(n)])\n",
        "\n",
        "print(arr1 + arr2)\n",
        "print(arr1 - arr2)\n",
        "print(arr1 * arr2)\n",
        "print(arr1 // arr2)\n",
        "print(arr1 % arr2)\n",
        "print(arr1 ** arr2)"
      ],
      "metadata": {
        "colab": {
          "base_uri": "https://localhost:8080/"
        },
        "id": "gXlewBuJvBM-",
        "outputId": "509ebbb1-1f69-4d11-86f2-e68415a74f9e"
      },
      "execution_count": null,
      "outputs": [
        {
          "output_type": "stream",
          "name": "stdout",
          "text": [
            "1 4\n",
            "1 2 3 4\n",
            "5 6 7 8\n",
            "[[ 6  8 10 12]]\n",
            "[[-4 -4 -4 -4]]\n",
            "[[ 5 12 21 32]]\n",
            "[[0 0 0 0]]\n",
            "[[1 2 3 4]]\n",
            "[[    1    64  2187 65536]]\n"
          ]
        }
      ]
    },
    {
      "cell_type": "markdown",
      "source": [
        "##Cara 3"
      ],
      "metadata": {
        "id": "MqxdEQXWvuc0"
      }
    },
    {
      "cell_type": "code",
      "source": [
        "from numpy import array\n",
        "\n",
        "N, _ = [int(x) for x in input().split()]\n",
        "\n",
        "A = array([[int(x) for x in input().split()] for _ in range(N)])\n",
        "B = array([[int(x) for x in input().split()] for _ in range(N)])\n",
        "\n",
        "print(A + B)\n",
        "print(A - B)\n",
        "print(A * B)\n",
        "print(A // B)\n",
        "print(A % B)\n",
        "print(A**B)"
      ],
      "metadata": {
        "colab": {
          "base_uri": "https://localhost:8080/"
        },
        "id": "OW-2p9SnvD8e",
        "outputId": "9c57d27a-f574-4ddb-ed4c-2e222c596172"
      },
      "execution_count": null,
      "outputs": [
        {
          "output_type": "stream",
          "name": "stdout",
          "text": [
            "1 4\n",
            "1 2 3 4\n",
            "5 6 7 8\n",
            "[[ 6  8 10 12]]\n",
            "[[-4 -4 -4 -4]]\n",
            "[[ 5 12 21 32]]\n",
            "[[0 0 0 0]]\n",
            "[[1 2 3 4]]\n",
            "[[    1    64  2187 65536]]\n"
          ]
        }
      ]
    },
    {
      "cell_type": "markdown",
      "source": [
        "##Cara 4"
      ],
      "metadata": {
        "id": "NpNPRn5Cvy2v"
      }
    },
    {
      "cell_type": "code",
      "source": [
        "import numpy\n",
        "\n",
        "n,m=map(int,input().split())\n",
        "a=[]\n",
        "b=[]\n",
        "for i in range(n):\n",
        "    a.append(list(map(int,input().split())))\n",
        "for j in range(n):\n",
        "    b.append(list(map(int,input().split())))\n",
        "\n",
        "arr1 = numpy.array(a)\n",
        "arr2 = numpy.array(b)\n",
        "\n",
        "print(numpy.add(a, b))\n",
        "print(numpy.subtract(a, b))\n",
        "print(numpy.multiply(a, b))\n",
        "print(arr1//arr2)\n",
        "print(numpy.mod(a, b))\n",
        "print(numpy.power(a, b))"
      ],
      "metadata": {
        "colab": {
          "base_uri": "https://localhost:8080/"
        },
        "id": "-fwn_5SuvFzt",
        "outputId": "ec8060a3-b6f1-4db4-aaa8-72ac8981febb"
      },
      "execution_count": null,
      "outputs": [
        {
          "output_type": "stream",
          "name": "stdout",
          "text": [
            "1 4\n",
            "1 2 3 4\n",
            "5 6 7 8\n",
            "[[ 6  8 10 12]]\n",
            "[[-4 -4 -4 -4]]\n",
            "[[ 5 12 21 32]]\n",
            "[[0 0 0 0]]\n",
            "[[1 2 3 4]]\n",
            "[[    1    64  2187 65536]]\n"
          ]
        }
      ]
    },
    {
      "cell_type": "markdown",
      "source": [
        "##Cara 5"
      ],
      "metadata": {
        "id": "4nSGHNwAv04A"
      }
    },
    {
      "cell_type": "code",
      "source": [
        "import numpy as np\n",
        "\n",
        "N, M = map(int, input().split())\n",
        "A = np.array([input().split() for _ in range(N)], int)\n",
        "B = np.array([input().split() for _ in range(N)], int)\n",
        "print(A+B, A-B, A*B, A//B, A%B, A**B, sep='\\n')"
      ],
      "metadata": {
        "colab": {
          "base_uri": "https://localhost:8080/"
        },
        "id": "oI-H-uwlvH4V",
        "outputId": "f9439646-f177-49cc-ab05-09b8c65c2fe8"
      },
      "execution_count": null,
      "outputs": [
        {
          "output_type": "stream",
          "name": "stdout",
          "text": [
            "1 4\n",
            "1 2 3 4\n",
            "5 6 7 8\n",
            "[[ 6  8 10 12]]\n",
            "[[-4 -4 -4 -4]]\n",
            "[[ 5 12 21 32]]\n",
            "[[0 0 0 0]]\n",
            "[[1 2 3 4]]\n",
            "[[    1    64  2187 65536]]\n"
          ]
        }
      ]
    },
    {
      "cell_type": "markdown",
      "source": [
        "#Floor, Ceil and Rint"
      ],
      "metadata": {
        "id": "6qFAsMOiwl0z"
      }
    },
    {
      "cell_type": "markdown",
      "source": [
        "##Cara 1"
      ],
      "metadata": {
        "id": "OpdBDXEOxKSi"
      }
    },
    {
      "cell_type": "code",
      "source": [
        "import numpy\n",
        "numpy.set_printoptions(legacy='1.13')\n",
        "A = [float(i) for i in input().split()]\n",
        "\n",
        "print(numpy.floor(A))\n",
        "print(numpy.ceil(A))\n",
        "print(numpy.rint(A))"
      ],
      "metadata": {
        "colab": {
          "base_uri": "https://localhost:8080/"
        },
        "id": "-CjUAcIswqG_",
        "outputId": "fa329142-3f95-4770-ecea-d24abdc0f5ad"
      },
      "execution_count": null,
      "outputs": [
        {
          "output_type": "stream",
          "name": "stdout",
          "text": [
            "1.1 2.2 3.3 4.4 5.5 6.6 7.7 8.8 9.9\n",
            "[ 1.  2.  3.  4.  5.  6.  7.  8.  9.]\n",
            "[  2.   3.   4.   5.   6.   7.   8.   9.  10.]\n",
            "[  1.   2.   3.   4.   6.   7.   8.   9.  10.]\n"
          ]
        }
      ]
    },
    {
      "cell_type": "markdown",
      "source": [
        "##Cara 2"
      ],
      "metadata": {
        "id": "VcJaTVIAxMhG"
      }
    },
    {
      "cell_type": "code",
      "source": [
        "import numpy as np\n",
        "np.set_printoptions(legacy='1.13')\n",
        "arr, lst = np.array(input().split(), float), ['floor','ceil','rint']\n",
        "for i in lst: exec(f'print(np.{i}(arr))')"
      ],
      "metadata": {
        "colab": {
          "base_uri": "https://localhost:8080/"
        },
        "id": "fHU0AAmTwsu-",
        "outputId": "954d16c7-97e2-400f-f2da-9cdcbfe43bc4"
      },
      "execution_count": null,
      "outputs": [
        {
          "output_type": "stream",
          "name": "stdout",
          "text": [
            "1.1 2.2 3.3 4.4 5.5 6.6 7.7 8.8 9.9\n",
            "[ 1.  2.  3.  4.  5.  6.  7.  8.  9.]\n",
            "[  2.   3.   4.   5.   6.   7.   8.   9.  10.]\n",
            "[  1.   2.   3.   4.   6.   7.   8.   9.  10.]\n"
          ]
        }
      ]
    },
    {
      "cell_type": "markdown",
      "source": [
        "##Cara 3"
      ],
      "metadata": {
        "id": "ymcPicG9xOQJ"
      }
    },
    {
      "cell_type": "code",
      "source": [
        "import numpy\n",
        "numpy.set_printoptions(legacy='1.13')\n",
        "\n",
        "Arr=numpy.array(input().split(),float)\n",
        "\n",
        "print(numpy.floor(Arr))\n",
        "print(numpy.ceil(Arr))\n",
        "print(numpy.rint(Arr))"
      ],
      "metadata": {
        "colab": {
          "base_uri": "https://localhost:8080/"
        },
        "id": "SrZenXJpwu8j",
        "outputId": "445c7474-ef56-498b-b3f2-807a86a5c36c"
      },
      "execution_count": null,
      "outputs": [
        {
          "output_type": "stream",
          "name": "stdout",
          "text": [
            "1.1 2.2 3.3 4.4 5.5 6.6 7.7 8.8 9.9\n",
            "[ 1.  2.  3.  4.  5.  6.  7.  8.  9.]\n",
            "[  2.   3.   4.   5.   6.   7.   8.   9.  10.]\n",
            "[  1.   2.   3.   4.   6.   7.   8.   9.  10.]\n"
          ]
        }
      ]
    },
    {
      "cell_type": "markdown",
      "source": [
        "##Cara 4"
      ],
      "metadata": {
        "id": "-ok-FIONxP88"
      }
    },
    {
      "cell_type": "code",
      "source": [
        "import numpy\n",
        "numpy.set_printoptions(legacy='1.13')\n",
        "\n",
        "A = numpy.array(input().split(), float)\n",
        "print(numpy.floor(A), numpy.ceil(A), numpy.rint(A), sep='\\n')"
      ],
      "metadata": {
        "colab": {
          "base_uri": "https://localhost:8080/"
        },
        "id": "6YpeBK_Dwzbb",
        "outputId": "5a9b1639-14bf-45fe-b8d6-f02e89a5a20c"
      },
      "execution_count": null,
      "outputs": [
        {
          "output_type": "stream",
          "name": "stdout",
          "text": [
            "1.1 2.2 3.3 4.4 5.5 6.6 7.7 8.8 9.9\n",
            "[ 1.  2.  3.  4.  5.  6.  7.  8.  9.]\n",
            "[  2.   3.   4.   5.   6.   7.   8.   9.  10.]\n",
            "[  1.   2.   3.   4.   6.   7.   8.   9.  10.]\n"
          ]
        }
      ]
    },
    {
      "cell_type": "markdown",
      "source": [
        "#Sum and Prod"
      ],
      "metadata": {
        "id": "kjb_sv0Zx8dR"
      }
    },
    {
      "cell_type": "markdown",
      "source": [
        "##Cara 1"
      ],
      "metadata": {
        "id": "Acl9Ld82U4ik"
      }
    },
    {
      "cell_type": "code",
      "source": [
        "import numpy as np\n",
        "N, M = map(int, input().split())\n",
        "arr = np.array([input().split() for _ in range(N)], int)\n",
        "print(np.product(np.sum(arr, axis=0)))"
      ],
      "metadata": {
        "colab": {
          "base_uri": "https://localhost:8080/"
        },
        "id": "YEGsUKx4yA4B",
        "outputId": "7bc713cf-9667-47d7-a524-7547ba0d4513"
      },
      "execution_count": null,
      "outputs": [
        {
          "output_type": "stream",
          "name": "stdout",
          "text": [
            "2 2\n",
            "1 2\n",
            "3 4\n",
            "24\n"
          ]
        }
      ]
    },
    {
      "cell_type": "markdown",
      "source": [
        "##Cara 2"
      ],
      "metadata": {
        "id": "LTqO5VKsU6c7"
      }
    },
    {
      "cell_type": "code",
      "source": [
        "import numpy as np\n",
        "n, m = map(int, input().strip().split(' '))\n",
        "inp_arr = [[int(i) for i in input().strip().split(' ')] for _ in range(n)]\n",
        "print(np.prod(np.sum(inp_arr, axis = 0)))"
      ],
      "metadata": {
        "colab": {
          "base_uri": "https://localhost:8080/"
        },
        "id": "jm0inu-6yC56",
        "outputId": "adb10fe3-cefd-46bc-8853-394374d5de78"
      },
      "execution_count": null,
      "outputs": [
        {
          "output_type": "stream",
          "name": "stdout",
          "text": [
            "2 2\n",
            "1 2\n",
            "3 4\n",
            "24\n"
          ]
        }
      ]
    },
    {
      "cell_type": "markdown",
      "source": [
        "##Cara 3"
      ],
      "metadata": {
        "id": "L4lCXOBMU9TS"
      }
    },
    {
      "cell_type": "code",
      "source": [
        "import numpy as np\n",
        "n, m = map(int, input().split())\n",
        "print(np.prod(np.sum(np.array([input().split() for _ in range(n)], int), axis=0)))"
      ],
      "metadata": {
        "colab": {
          "base_uri": "https://localhost:8080/"
        },
        "id": "F1lVIl6FyEw5",
        "outputId": "80db7a5d-1698-4904-ed64-3841f03e66d8"
      },
      "execution_count": null,
      "outputs": [
        {
          "output_type": "stream",
          "name": "stdout",
          "text": [
            "2 2\n",
            "1 2\n",
            "3 4\n",
            "24\n"
          ]
        }
      ]
    },
    {
      "cell_type": "markdown",
      "source": [
        "##Cara 4"
      ],
      "metadata": {
        "id": "UALfQR06U_XH"
      }
    },
    {
      "cell_type": "code",
      "source": [
        "from numpy import array, sum, prod\n",
        "\n",
        "print(\n",
        "    prod(\n",
        "        sum(\n",
        "            array([[int(x) for x in input().split()] for _ in range([int(x) for x in input().split()][0])]), axis=0\n",
        "        ),\n",
        "        axis=0,\n",
        "    )\n",
        ")"
      ],
      "metadata": {
        "colab": {
          "base_uri": "https://localhost:8080/"
        },
        "id": "1KyQpAhlyGui",
        "outputId": "a9e951b5-6ae9-496a-ecd3-7d4b60c13081"
      },
      "execution_count": null,
      "outputs": [
        {
          "output_type": "stream",
          "name": "stdout",
          "text": [
            "2 2\n",
            "1 2\n",
            "3 4\n",
            "24\n"
          ]
        }
      ]
    },
    {
      "cell_type": "markdown",
      "source": [
        "#Transpose and Flatten"
      ],
      "metadata": {
        "id": "EdXNt2T4Tx7C"
      }
    },
    {
      "cell_type": "markdown",
      "source": [
        "##Cara 1"
      ],
      "metadata": {
        "id": "baqsfFGhUaPK"
      }
    },
    {
      "cell_type": "code",
      "source": [
        "import numpy\n",
        "\n",
        "N,M = (int(i) for i in input().split())\n",
        "\n",
        "arr = numpy.array([[int(i) for i in input().split()] for j in range(N)])\n",
        "\n",
        "print(numpy.transpose(arr))\n",
        "print(arr.flatten())"
      ],
      "metadata": {
        "colab": {
          "base_uri": "https://localhost:8080/"
        },
        "id": "AqASFsJRTpBw",
        "outputId": "ae371a41-2b13-4b1e-bf84-dbca63d56a42"
      },
      "execution_count": null,
      "outputs": [
        {
          "output_type": "stream",
          "name": "stdout",
          "text": [
            "2 2\n",
            "1 2\n",
            "3 4\n",
            "[[1 3]\n",
            " [2 4]]\n",
            "[1 2 3 4]\n"
          ]
        }
      ]
    },
    {
      "cell_type": "markdown",
      "source": [
        "##Cara 2"
      ],
      "metadata": {
        "id": "WtakIZmyUcDC"
      }
    },
    {
      "cell_type": "code",
      "source": [
        "import numpy as np\n",
        "N, M = map(int, input().split())\n",
        "lst = np.array([input().split() for _ in range(N)], int)\n",
        "print(lst.transpose(), lst.flatten(), sep='\\n')"
      ],
      "metadata": {
        "colab": {
          "base_uri": "https://localhost:8080/"
        },
        "id": "mlVMWt1PTsAi",
        "outputId": "d1615149-1172-46a4-ca87-cad013d6a56b"
      },
      "execution_count": null,
      "outputs": [
        {
          "output_type": "stream",
          "name": "stdout",
          "text": [
            "2 2\n",
            "1 2\n",
            "3 4\n",
            "[[1 3]\n",
            " [2 4]]\n",
            "[1 2 3 4]\n"
          ]
        }
      ]
    },
    {
      "cell_type": "markdown",
      "source": [
        "##Cara 3"
      ],
      "metadata": {
        "id": "mxtWBTmbUdwY"
      }
    },
    {
      "cell_type": "code",
      "source": [
        "from numpy import array, transpose\n",
        "\n",
        "arr = array([[int(x) for x in input().split()] for _ in range([int(x) for x in input().split()][0])])\n",
        "\n",
        "print(transpose(arr), arr.flatten(), sep=\"\\n\")"
      ],
      "metadata": {
        "colab": {
          "base_uri": "https://localhost:8080/"
        },
        "id": "6MqY6B4aTt9h",
        "outputId": "8ec8683b-18a5-40ab-de61-e662144576e2"
      },
      "execution_count": null,
      "outputs": [
        {
          "output_type": "stream",
          "name": "stdout",
          "text": [
            "2 2\n",
            "1 2\n",
            "3 4\n",
            "[[1 3]\n",
            " [2 4]]\n",
            "[1 2 3 4]\n"
          ]
        }
      ]
    },
    {
      "cell_type": "markdown",
      "source": [
        "#Concatenate\n"
      ],
      "metadata": {
        "id": "R79V9PW9sMYo"
      }
    },
    {
      "cell_type": "markdown",
      "source": [
        "##Cara 1"
      ],
      "metadata": {
        "id": "xwfT9Z1CsbNe"
      }
    },
    {
      "cell_type": "code",
      "source": [
        "import numpy as np\n",
        "N, M, P = map(int, input().split())\n",
        "arr1 = np.array([input().split() for _ in range(N)], int)\n",
        "arr2 = np.array([input().split() for _ in range(M)], int)\n",
        "print(np.concatenate([arr1, arr2]))"
      ],
      "metadata": {
        "colab": {
          "base_uri": "https://localhost:8080/"
        },
        "id": "OA3ZwEgHr2Yq",
        "outputId": "fc53c73e-3acf-4000-dc5b-6260f62ab401"
      },
      "execution_count": null,
      "outputs": [
        {
          "output_type": "stream",
          "name": "stdout",
          "text": [
            "4 3 2\n",
            "1 2\n",
            "1 2\n",
            "1 2\n",
            "1 2\n",
            "3 4\n",
            "3 4\n",
            "3 4\n",
            "[[1 2]\n",
            " [1 2]\n",
            " [1 2]\n",
            " [1 2]\n",
            " [3 4]\n",
            " [3 4]\n",
            " [3 4]]\n"
          ]
        }
      ]
    },
    {
      "cell_type": "markdown",
      "source": [
        "##Cara 2"
      ],
      "metadata": {
        "id": "Vz250vVGscx0"
      }
    },
    {
      "cell_type": "code",
      "source": [
        "import numpy as np\n",
        "n, m, p = list(map(int, input().split()))\n",
        "a = np.array([input().split() for p in range(n)], int)\n",
        "b = np.array([input().split() for p in range(m)], int)\n",
        "print(np.concatenate((a, b), axis = 0))"
      ],
      "metadata": {
        "colab": {
          "base_uri": "https://localhost:8080/"
        },
        "id": "EFnXsDupr5AC",
        "outputId": "064619aa-7b52-4607-9b40-a0095a0425f9"
      },
      "execution_count": null,
      "outputs": [
        {
          "output_type": "stream",
          "name": "stdout",
          "text": [
            "4 3 2\n",
            "1 2\n",
            "1 2\n",
            "1 2\n",
            "1 2\n",
            "3 4\n",
            "3 4\n",
            "3 4\n",
            "[[1 2]\n",
            " [1 2]\n",
            " [1 2]\n",
            " [1 2]\n",
            " [3 4]\n",
            " [3 4]\n",
            " [3 4]]\n"
          ]
        }
      ]
    },
    {
      "cell_type": "markdown",
      "source": [
        "#Mean, Var, and Std"
      ],
      "metadata": {
        "id": "PjmyPEpiNkZF"
      }
    },
    {
      "cell_type": "markdown",
      "source": [
        "##Cara 1"
      ],
      "metadata": {
        "id": "UDw8CJ9lPPxh"
      }
    },
    {
      "cell_type": "code",
      "source": [
        "import numpy as np\n",
        "arr = np.array([input().split() for _ in range(int(input().split()[0]))], int)\n",
        "print(np.mean(arr,axis=1), np.var(arr,axis=0), round(np.std(arr),11), sep='\\n')"
      ],
      "metadata": {
        "colab": {
          "base_uri": "https://localhost:8080/"
        },
        "id": "oiRhOBYqN0l0",
        "outputId": "44c1264b-fed9-4937-ab6d-7fe6b08f4a4d"
      },
      "execution_count": null,
      "outputs": [
        {
          "output_type": "stream",
          "name": "stdout",
          "text": [
            "2 2\n",
            "1 2\n",
            "3 4\n",
            "[1.5 3.5]\n",
            "[1. 1.]\n",
            "1.11803398875\n"
          ]
        }
      ]
    },
    {
      "cell_type": "markdown",
      "source": [
        "##Cara 2"
      ],
      "metadata": {
        "id": "Yd135MmrPR6a"
      }
    },
    {
      "cell_type": "code",
      "source": [
        "import numpy\n",
        "\n",
        "n ,m = map(int, input().split())\n",
        "l = numpy.array([input().split() for i in range(n)], int)\n",
        "\n",
        "print(numpy.mean(l, axis = 1))\n",
        "print(numpy.var(l, axis =0 ))\n",
        "print(round(numpy.std(l),11))"
      ],
      "metadata": {
        "colab": {
          "base_uri": "https://localhost:8080/"
        },
        "id": "e7_QyMX1N2ac",
        "outputId": "ff23542b-adca-444b-8c9d-0cf0bb0b9bbb"
      },
      "execution_count": null,
      "outputs": [
        {
          "output_type": "stream",
          "name": "stdout",
          "text": [
            "2 2\n",
            "1 2\n",
            "3 4\n",
            "[1.5 3.5]\n",
            "[1. 1.]\n",
            "1.11803398875\n"
          ]
        }
      ]
    },
    {
      "cell_type": "markdown",
      "source": [
        "##Cara 3"
      ],
      "metadata": {
        "id": "KxN2-0GxPUDD"
      }
    },
    {
      "cell_type": "code",
      "source": [
        "import numpy as np\n",
        "n, m = map(int, input().strip().split(' '))\n",
        "inp_arr = np.array([[int(i) for i in input().strip().split(' ')] for _ in range(n)])\n",
        "print(np.mean(inp_arr, axis = 1))\n",
        "print(np.var(inp_arr, axis = 0))\n",
        "print(np.std(inp_arr))"
      ],
      "metadata": {
        "colab": {
          "base_uri": "https://localhost:8080/"
        },
        "id": "OTgsB6pJN4QU",
        "outputId": "e7414408-1f98-4292-bbce-35700cd4b6c7"
      },
      "execution_count": null,
      "outputs": [
        {
          "output_type": "stream",
          "name": "stdout",
          "text": [
            "2 2\n",
            "1 2\n",
            "3 4\n",
            "[1.5 3.5]\n",
            "[1. 1.]\n",
            "1.118033988749895\n"
          ]
        }
      ]
    },
    {
      "cell_type": "markdown",
      "source": [
        "##Cara 4"
      ],
      "metadata": {
        "id": "SWDnNrv6PWaR"
      }
    },
    {
      "cell_type": "code",
      "source": [
        "import numpy\n",
        "nm = input()\n",
        "inm = nm.split( )\n",
        "inn = []\n",
        "for i in inm:\n",
        "    i = int(i)\n",
        "    inn.append(i)\n",
        "\n",
        "arr = []\n",
        "\n",
        "for i in range(0, inn[0]):\n",
        "    a = input()\n",
        "    k = []\n",
        "    b = a.split(\" \")\n",
        "\n",
        "    for i in b:\n",
        "        i = int(i)\n",
        "        k.append(i)\n",
        "    arr.append(k)\n",
        "\n",
        "arn = numpy.array(arr)\n",
        "print(numpy.mean(arn, axis=1))\n",
        "print(numpy.var(arn, axis=0))\n",
        "z = numpy.std(arn, axis=None)\n",
        "j = round(z, 11)\n",
        "print(j)"
      ],
      "metadata": {
        "colab": {
          "base_uri": "https://localhost:8080/"
        },
        "id": "qOwclIC5N6Gk",
        "outputId": "a91d7ae5-3f82-4283-dbc0-c868df609d9b"
      },
      "execution_count": null,
      "outputs": [
        {
          "output_type": "stream",
          "name": "stdout",
          "text": [
            "2 2\n",
            "1 2\n",
            "3 4\n",
            "[1.5 3.5]\n",
            "[1. 1.]\n",
            "1.11803398875\n"
          ]
        }
      ]
    },
    {
      "cell_type": "markdown",
      "source": [
        "#Dot and Cross"
      ],
      "metadata": {
        "id": "RRtErAgKQNcR"
      }
    },
    {
      "cell_type": "markdown",
      "source": [
        "##Cara 1"
      ],
      "metadata": {
        "id": "HlH8wc7dQ-kR"
      }
    },
    {
      "cell_type": "code",
      "source": [
        "import numpy as np\n",
        "N = int(input())\n",
        "A = np.array([input().split() for _ in range(N)], int)\n",
        "B = np.array([input().split() for _ in range(N)], int)\n",
        "print(np.dot(A,B))"
      ],
      "metadata": {
        "colab": {
          "base_uri": "https://localhost:8080/"
        },
        "id": "-Xl6X4KEQQjH",
        "outputId": "76638815-b4f2-473f-c2ff-40de69f695ef"
      },
      "execution_count": null,
      "outputs": [
        {
          "output_type": "stream",
          "name": "stdout",
          "text": [
            "2\n",
            "1 2\n",
            "3 4\n",
            "1 2\n",
            "3 4\n",
            "[[ 7 10]\n",
            " [15 22]]\n"
          ]
        }
      ]
    },
    {
      "cell_type": "markdown",
      "source": [
        "##Cara 2"
      ],
      "metadata": {
        "id": "rlpxjzuBRAI_"
      }
    },
    {
      "cell_type": "code",
      "source": [
        "import numpy as np\n",
        "n = int(input().strip())\n",
        "arr1 = np.array([[int(i) for i in input().strip().split(' ')] for _ in range(n)])\n",
        "arr2 = np.array([[int(i) for i in input().strip().split(' ')] for _ in range(n)])\n",
        "print(np.dot(arr1, arr2))"
      ],
      "metadata": {
        "colab": {
          "base_uri": "https://localhost:8080/"
        },
        "id": "uG-iEcegQTi4",
        "outputId": "0830f426-89b3-4c62-86be-155fe769da09"
      },
      "execution_count": null,
      "outputs": [
        {
          "output_type": "stream",
          "name": "stdout",
          "text": [
            "2\n",
            "1 2\n",
            "3 4\n",
            "1 2\n",
            "3 4\n",
            "[[ 7 10]\n",
            " [15 22]]\n"
          ]
        }
      ]
    },
    {
      "cell_type": "markdown",
      "source": [
        "##Cara 3"
      ],
      "metadata": {
        "id": "hfnvTTfdRCbI"
      }
    },
    {
      "cell_type": "code",
      "source": [
        "import numpy\n",
        "\n",
        "N = int(input())\n",
        "\n",
        "A = numpy.array([input().split() for _ in range(N)], int)\n",
        "B = numpy.array([input().split() for _ in range(N)], int)\n",
        "\n",
        "print(numpy.dot(A,B))"
      ],
      "metadata": {
        "colab": {
          "base_uri": "https://localhost:8080/"
        },
        "id": "A5OySH5GQV5x",
        "outputId": "33adc173-2574-428b-e0c3-8df24f135f13"
      },
      "execution_count": null,
      "outputs": [
        {
          "output_type": "stream",
          "name": "stdout",
          "text": [
            "2\n",
            "1 2\n",
            "3 4\n",
            "1 2\n",
            "3 4\n",
            "[[ 7 10]\n",
            " [15 22]]\n"
          ]
        }
      ]
    },
    {
      "cell_type": "markdown",
      "source": [
        "##Cara 4"
      ],
      "metadata": {
        "id": "7A6HSRzRRD9B"
      }
    },
    {
      "cell_type": "code",
      "source": [
        "from numpy import array, dot\n",
        "\n",
        "N = int(input())\n",
        "A, B = [array([[int(x) for x in input().split()] for _ in range(N)]) for _ in range(2)]\n",
        "\n",
        "print(dot(A, B))"
      ],
      "metadata": {
        "colab": {
          "base_uri": "https://localhost:8080/"
        },
        "id": "oNundrYeQYAP",
        "outputId": "8f912bb4-0208-4494-e4fb-480e233e7ed6"
      },
      "execution_count": null,
      "outputs": [
        {
          "output_type": "stream",
          "name": "stdout",
          "text": [
            "2\n",
            "1 2\n",
            "3 4\n",
            "1 2\n",
            "3 4\n",
            "[[ 7 10]\n",
            " [15 22]]\n"
          ]
        }
      ]
    },
    {
      "cell_type": "markdown",
      "source": [
        "#Polynomials"
      ],
      "metadata": {
        "id": "Ol0-zdb7T2kE"
      }
    },
    {
      "cell_type": "markdown",
      "source": [
        "##Cara 1"
      ],
      "metadata": {
        "id": "yMdM-MFyT4wr"
      }
    },
    {
      "cell_type": "code",
      "source": [
        "import numpy as np\n",
        "print(np.polyval(list(map(float, input().split())), float(input())))"
      ],
      "metadata": {
        "colab": {
          "base_uri": "https://localhost:8080/"
        },
        "id": "pykoZOFTTAz1",
        "outputId": "24d38660-b3ec-44ad-d98f-b1f9183680d3"
      },
      "execution_count": null,
      "outputs": [
        {
          "output_type": "stream",
          "name": "stdout",
          "text": [
            "1.1 2 3\n",
            "0\n",
            "3.0\n"
          ]
        }
      ]
    },
    {
      "cell_type": "markdown",
      "source": [
        "##Cara 2"
      ],
      "metadata": {
        "id": "tKk7DPzRT7ZV"
      }
    },
    {
      "cell_type": "code",
      "source": [
        "import numpy\n",
        "\n",
        "coef_p=list(map(float,input().split()))\n",
        "x=int(input())\n",
        "print(numpy.polyval(coef_p,x))"
      ],
      "metadata": {
        "colab": {
          "base_uri": "https://localhost:8080/"
        },
        "id": "MFRZk_5nTCrs",
        "outputId": "d6171912-8c3d-42c9-ec66-b34380dea2d6"
      },
      "execution_count": null,
      "outputs": [
        {
          "output_type": "stream",
          "name": "stdout",
          "text": [
            "1.1 2 3\n",
            "0\n",
            "3.0\n"
          ]
        }
      ]
    }
  ],
  "metadata": {
    "colab": {
      "toc_visible": true,
      "provenance": [],
      "authorship_tag": "ABX9TyP7yrjpldQ0f8IMF8lhQA/W"
    },
    "kernelspec": {
      "display_name": "Python 3",
      "name": "python3"
    },
    "language_info": {
      "name": "python"
    }
  },
  "nbformat": 4,
  "nbformat_minor": 0
}