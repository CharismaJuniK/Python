{
  "cells": [
    {
      "cell_type": "markdown",
      "metadata": {
        "id": "8xN9p63pn4FK"
      },
      "source": [
        "#Say \"Hello, World!\""
      ]
    },
    {
      "cell_type": "code",
      "execution_count": null,
      "metadata": {
        "colab": {
          "base_uri": "https://localhost:8080/",
          "height": 35
        },
        "id": "1LoAB03gn1WA",
        "outputId": "c78129e6-7859-423d-f284-4b1b0de7bf8f"
      },
      "outputs": [
        {
          "data": {
            "application/vnd.google.colaboratory.intrinsic+json": {
              "type": "string"
            },
            "text/plain": [
              "'Hello, World!'"
            ]
          },
          "execution_count": 4,
          "metadata": {},
          "output_type": "execute_result"
        }
      ],
      "source": [
        "\"Hello, World!\""
      ]
    },
    {
      "cell_type": "code",
      "execution_count": null,
      "metadata": {
        "colab": {
          "base_uri": "https://localhost:8080/"
        },
        "id": "G2hN3f23n7XQ",
        "outputId": "21140c26-131e-49c1-fe3b-4f14154ab733"
      },
      "outputs": [
        {
          "name": "stdout",
          "output_type": "stream",
          "text": [
            "Hello, World!\n"
          ]
        }
      ],
      "source": [
        "print(\"Hello, World!\")"
      ]
    },
    {
      "cell_type": "markdown",
      "metadata": {
        "id": "e_EJEwJho15P"
      },
      "source": [
        "# Python If Else"
      ]
    },
    {
      "cell_type": "code",
      "execution_count": null,
      "metadata": {
        "colab": {
          "background_save": true
        },
        "id": "rfhXm4AkoK4M",
        "outputId": "deb2a143-119a-4295-fdd0-aa3c66b53b69"
      },
      "outputs": [
        {
          "name": "stdout",
          "output_type": "stream",
          "text": [
            "Weird\n"
          ]
        }
      ],
      "source": [
        "#!/bin/python3\n",
        "\n",
        "import math\n",
        "import os\n",
        "import random\n",
        "import re\n",
        "import sys\n",
        "\n",
        "\n",
        "n = int(input().strip())\n",
        "if n % 2 == 1:\n",
        "    print(\"Weird\")\n",
        "elif n % 2 == 0 and 2<= n <= 5:\n",
        "    print(\"Not Weird\")\n",
        "elif n % 2 == 0 and 6<= n <= 20:\n",
        "    print(\"Weird\")\n",
        "else:\n",
        "    print(\"Not Weird\")\n",
        "    \n"
      ]
    },
    {
      "cell_type": "markdown",
      "metadata": {
        "id": "uOjUscjJbwYU"
      },
      "source": [
        "#sWAP cASE\n",
        "Mengubah huruf kecil menjadi besar dan sebaliknya"
      ]
    },
    {
      "cell_type": "markdown",
      "metadata": {
        "id": "LCSdFpURdpR8"
      },
      "source": [
        "##Cara 1"
      ]
    },
    {
      "cell_type": "code",
      "execution_count": null,
      "metadata": {
        "colab": {
          "base_uri": "https://localhost:8080/"
        },
        "id": "laKPj34abssU",
        "outputId": "7546e4bd-603e-4d75-8cf0-fdd0b03c73a4"
      },
      "outputs": [
        {
          "name": "stdout",
          "output_type": "stream",
          "text": [
            "ChWdTbhjK\n",
            "cHwDtBHJk\n"
          ]
        }
      ],
      "source": [
        "def swap_case(s):\n",
        "    n=''\n",
        "    for i in s:\n",
        "        if i.isupper():\n",
        "            n+=i.lower()\n",
        "        else :\n",
        "            n+=i.upper()\n",
        "    return n\n",
        "\n",
        "if __name__ == '__main__':\n",
        "    s = input()\n",
        "    result = swap_case(s)\n",
        "    print(result)"
      ]
    },
    {
      "cell_type": "markdown",
      "metadata": {
        "id": "F9h-zHJodqcc"
      },
      "source": [
        "##Cara 2"
      ]
    },
    {
      "cell_type": "code",
      "execution_count": null,
      "metadata": {
        "colab": {
          "base_uri": "https://localhost:8080/"
        },
        "id": "GL0veVrYdF_c",
        "outputId": "69080601-87d0-4e3e-f821-b430b97c606e"
      },
      "outputs": [
        {
          "name": "stdout",
          "output_type": "stream",
          "text": [
            "CxNhT\n",
            "cXnHt\n"
          ]
        }
      ],
      "source": [
        "def swap_case(s):\n",
        "    temp = s\n",
        "    lower = temp.lower()\n",
        "    l1 = list(s)\n",
        "    l2 = []\n",
        "    str1 = \"\"\n",
        "    for i in range(len(s)):\n",
        "        if l1[i] == lower[i]:\n",
        "            x = l1[i].upper()\n",
        "            str1 = str1+x\n",
        "        else:\n",
        "            y = l1[i].lower()\n",
        "            l2.append(y)\n",
        "            str1 = str1 + y\n",
        "    return str1\n",
        "    \n",
        "if __name__ == '__main__':\n",
        "    s = input()\n",
        "    result = swap_case(s)\n",
        "    print(result)"
      ]
    },
    {
      "cell_type": "markdown",
      "metadata": {
        "id": "JdFJfUMqgkTC"
      },
      "source": [
        "#String Split and Join"
      ]
    },
    {
      "cell_type": "code",
      "execution_count": null,
      "metadata": {
        "colab": {
          "base_uri": "https://localhost:8080/"
        },
        "id": "WWUuKxowfvbd",
        "outputId": "f5c5c086-93fe-4b91-fd1e-3dd6d26bbf9d"
      },
      "outputs": [
        {
          "name": "stdout",
          "output_type": "stream",
          "text": [
            "Aku Cinta kamu\n",
            "Aku-Cinta-kamu\n"
          ]
        }
      ],
      "source": [
        "def split_and_join(line):\n",
        "    # write your code here\n",
        "    line = line.split()\n",
        "    return \"-\".join(line)\n",
        "\n",
        "if __name__ == '__main__':\n",
        "    line = input()\n",
        "    result = split_and_join(line)\n",
        "    print(result)"
      ]
    },
    {
      "cell_type": "markdown",
      "metadata": {
        "id": "8xPKkYFNiEzz"
      },
      "source": [
        "#What’s Your Name"
      ]
    },
    {
      "cell_type": "code",
      "execution_count": null,
      "metadata": {
        "colab": {
          "base_uri": "https://localhost:8080/"
        },
        "id": "OQn4C2sEhEY-",
        "outputId": "cae87d03-fe52-4063-e7f6-0ae880aa2cb4"
      },
      "outputs": [
        {
          "name": "stdout",
          "output_type": "stream",
          "text": [
            "chaca\n",
            "kumala\n",
            "Hello chaca kumala! You just delved into python.\n"
          ]
        }
      ],
      "source": [
        "def print_full_name(first, last):\n",
        "    # Write your code here\n",
        "    print(f\"Hello {first} {last}! You just delved into python.\")\n",
        "    \n",
        "    \n",
        "if __name__ == '__main__':\n",
        "    first_name = input()\n",
        "    last_name = input()\n",
        "    print_full_name(first_name, last_name)"
      ]
    },
    {
      "cell_type": "code",
      "execution_count": null,
      "metadata": {
        "id": "bLSam40ai5eh"
      },
      "outputs": [],
      "source": [
        "print(\"Hello {first} {last} apa kabar\")"
      ]
    },
    {
      "cell_type": "code",
      "execution_count": null,
      "metadata": {
        "colab": {
          "base_uri": "https://localhost:8080/"
        },
        "id": "_RN7BGvVhO7B",
        "outputId": "b1096b4f-1e3f-479f-803c-77a06b9af9f0"
      },
      "outputs": [
        {
          "name": "stdout",
          "output_type": "stream",
          "text": [
            "chaca\n",
            "kumala\n",
            "Hello chaca kumala! You just delved into python.\n"
          ]
        }
      ],
      "source": [
        "def print_full_name(first, last):\n",
        "    first_name= first\n",
        "    last_name= last\n",
        "    full_name = ' '.join([first,last])\n",
        "    print ('Hello' ,full_name+\"!\" +\" \"+\"You just delved into python.\")\n",
        "   \n",
        "if __name__ == '__main__':\n",
        "    first_name = input()\n",
        "    last_name = input()\n",
        "    print_full_name(first_name, last_name)"
      ]
    },
    {
      "cell_type": "markdown",
      "metadata": {
        "id": "R52CXP7aMLzu"
      },
      "source": [
        "#Mutations"
      ]
    },
    {
      "cell_type": "code",
      "execution_count": null,
      "metadata": {
        "colab": {
          "base_uri": "https://localhost:8080/"
        },
        "id": "X-_bXP7ULMIa",
        "outputId": "2dc28d7c-def7-414e-dfe9-89b8db2bcea8"
      },
      "outputs": [
        {
          "name": "stdout",
          "output_type": "stream",
          "text": [
            "abracadabra\n",
            "5 k\n",
            "abrackdabra\n"
          ]
        }
      ],
      "source": [
        "def mutate_string(string, position, character):\n",
        "    return string[:position]+character+string[position+1:]\n",
        "\n",
        "if __name__ == '__main__':\n",
        "    s = input()\n",
        "    i, c = input().split()\n",
        "    s_new = mutate_string(s, int(i), c)\n",
        "    print(s_new)"
      ]
    },
    {
      "cell_type": "code",
      "execution_count": null,
      "metadata": {
        "colab": {
          "base_uri": "https://localhost:8080/"
        },
        "id": "Qa_eAMgcLRvW",
        "outputId": "fa967655-1f58-4388-df21-20666263f2e0"
      },
      "outputs": [
        {
          "name": "stdout",
          "output_type": "stream",
          "text": [
            "abracadabra\n",
            "5 k\n",
            "abrackdabra\n"
          ]
        }
      ],
      "source": [
        "def mutate_string(string, position, character):\n",
        "    l = list(string)\n",
        "    l[position] = character\n",
        "    string = \"\".join(l)\n",
        "    return string\n",
        "\n",
        "if __name__ == '__main__':\n",
        "    s = input()\n",
        "    i, c = input().split()\n",
        "    s_new = mutate_string(s, int(i), c)\n",
        "    print(s_new)"
      ]
    },
    {
      "cell_type": "code",
      "execution_count": null,
      "metadata": {
        "colab": {
          "base_uri": "https://localhost:8080/"
        },
        "id": "7zw3ZsfRLbTo",
        "outputId": "64ac8273-b803-4573-c3ac-b77f4857b846"
      },
      "outputs": [
        {
          "name": "stdout",
          "output_type": "stream",
          "text": [
            "abracadabra\n",
            "5 k\n",
            "abrackdabra\n"
          ]
        }
      ],
      "source": [
        "def mutate_string(string, position, character):\n",
        "    string = list(string)\n",
        "    string[int(position)] = character\n",
        "    string = \"\".join(string)\n",
        "    return string\n",
        "\n",
        "\n",
        "s = input()\n",
        "i, c = input().split()\n",
        "s_new = mutate_string(s, int(i), c)\n",
        "print(s_new)"
      ]
    },
    {
      "cell_type": "code",
      "execution_count": null,
      "metadata": {
        "colab": {
          "base_uri": "https://localhost:8080/"
        },
        "id": "3hx-Z2NcJAOz",
        "outputId": "0248f62d-04d4-4b8b-e98e-c8c8a137ac70"
      },
      "outputs": [
        {
          "name": "stdout",
          "output_type": "stream",
          "text": [
            "abracadabra\n",
            "5 k\n",
            "abrackdabra\n"
          ]
        }
      ],
      "source": [
        "def mutate_string(string, position, character):\n",
        "    str_n=\"\"\n",
        "    for key,val in enumerate(string):\n",
        "        if key==position:\n",
        "            str_n+=character\n",
        "        else:\n",
        "            str_n+=val\n",
        "    return str_n\n",
        "\n",
        "if __name__ == '__main__':\n",
        "    s = input()\n",
        "    i, c = input().split()\n",
        "    s_new = mutate_string(s, int(i), c)\n",
        "    print(s_new)"
      ]
    },
    {
      "cell_type": "markdown",
      "metadata": {
        "id": "TxMMO6W6QbOY"
      },
      "source": [
        "#Find A String"
      ]
    },
    {
      "cell_type": "code",
      "execution_count": null,
      "metadata": {
        "colab": {
          "base_uri": "https://localhost:8080/"
        },
        "id": "1JCheSfKNtN8",
        "outputId": "fc78bdde-1b25-4008-bf71-9a5f6325648b"
      },
      "outputs": [
        {
          "name": "stdout",
          "output_type": "stream",
          "text": [
            "ahashad\n",
            "ash\n",
            "1\n"
          ]
        }
      ],
      "source": [
        "def count_substring(string, sub_string):\n",
        "    count=0\n",
        "\n",
        "    for i in range(0,len(string)):\n",
        "\n",
        "      count+=string.count(sub_string,i,i+len(sub_string))\n",
        "\n",
        "    return count\n",
        "    #return\n",
        "\n",
        "if __name__ == '__main__':\n",
        "    string = input().strip()\n",
        "    sub_string = input().strip()\n",
        "    \n",
        "    count = count_substring(string, sub_string)\n",
        "    print(count)"
      ]
    },
    {
      "cell_type": "code",
      "execution_count": null,
      "metadata": {
        "colab": {
          "base_uri": "https://localhost:8080/"
        },
        "id": "q7dq-QgJOwCi",
        "outputId": "e9a5426e-bbed-40fb-aec7-32dc96fed6e8"
      },
      "outputs": [
        {
          "name": "stdout",
          "output_type": "stream",
          "text": [
            "akdhadha\n",
            "had\n",
            "1\n"
          ]
        }
      ],
      "source": [
        "def count_substring(string, sub_string):\n",
        "    count = 0\n",
        "    \n",
        "    for i in range(len(sub_string), len(string) + 1):\n",
        "        if string[i - len(sub_string) : i] == sub_string:\n",
        "            count += 1\n",
        "    \n",
        "    return count\n",
        "\n",
        "if __name__ == '__main__':\n",
        "    string = input().strip()\n",
        "    sub_string = input().strip()\n",
        "    \n",
        "    count = count_substring(string, sub_string)\n",
        "    print(count)"
      ]
    },
    {
      "cell_type": "markdown",
      "metadata": {
        "id": "aOMurhn8UsqG"
      },
      "source": [
        "#String Validators"
      ]
    },
    {
      "cell_type": "code",
      "execution_count": null,
      "metadata": {
        "colab": {
          "base_uri": "https://localhost:8080/"
        },
        "id": "L6ZkZn5RTnJY",
        "outputId": "d63c7e65-b9e3-481f-8436-ce4fc533fbfd"
      },
      "outputs": [
        {
          "name": "stdout",
          "output_type": "stream",
          "text": [
            "aQ2\n",
            "True\n",
            "True\n",
            "True\n",
            "True\n",
            "True\n"
          ]
        }
      ],
      "source": [
        "if __name__ == '__main__':\n",
        "    s = input()\n",
        "    print(any(list(map(lambda a: a.isalnum(), list(s)))))\n",
        "    print(any(list(map(lambda a: a.isalpha(), list(s)))))\n",
        "    print(any(list(map(lambda a: a.isdigit(), list(s)))))\n",
        "    print(any(list(map(lambda a: a.islower(), list(s)))))\n",
        "    print(any(list(map(lambda a: a.isupper(), list(s)))))"
      ]
    },
    {
      "cell_type": "code",
      "execution_count": null,
      "metadata": {
        "colab": {
          "base_uri": "https://localhost:8080/"
        },
        "id": "792HQsqaTuTf",
        "outputId": "f88e8770-1623-480c-811c-49a8900544e3"
      },
      "outputs": [
        {
          "name": "stdout",
          "output_type": "stream",
          "text": [
            "Aq2\n",
            "True\n",
            "True\n",
            "True\n",
            "True\n",
            "True\n"
          ]
        }
      ],
      "source": [
        "s = str(input())\n",
        "lst = [False, False, False, False, False]\n",
        "for char in s:\n",
        "    if char.isalnum():\n",
        "        lst[0] = True\n",
        "        if char.isalpha():\n",
        "            lst[1] = True\n",
        "        if char.isdigit():\n",
        "            lst[2] = True\n",
        "        if char.islower():\n",
        "            lst[3] = True\n",
        "        if char.isupper():\n",
        "            lst[4] = True\n",
        "\n",
        "for each in lst:\n",
        "    print(each)"
      ]
    },
    {
      "cell_type": "markdown",
      "metadata": {
        "id": "3YAUJlVmnL8B"
      },
      "source": [
        "#Calender Module"
      ]
    },
    {
      "cell_type": "code",
      "execution_count": null,
      "metadata": {
        "colab": {
          "base_uri": "https://localhost:8080/",
          "height": 53
        },
        "id": "7FYa37oJnO1L",
        "outputId": "fa224d90-25e9-4e39-cf49-cd664baef7ec"
      },
      "outputs": [
        {
          "name": "stdout",
          "output_type": "stream",
          "text": [
            "06 11 1994\n"
          ]
        },
        {
          "data": {
            "application/vnd.google.colaboratory.intrinsic+json": {
              "type": "string"
            },
            "text/plain": [
              "'SATURDAY'"
            ]
          },
          "execution_count": 3,
          "metadata": {},
          "output_type": "execute_result"
        }
      ],
      "source": [
        "import calendar\n",
        "\n",
        "m, d, y = map(int, input().strip().split())\n",
        "\n",
        "calendar.day_name[calendar.weekday(y, m, d)].upper()"
      ]
    },
    {
      "cell_type": "code",
      "execution_count": null,
      "metadata": {
        "colab": {
          "base_uri": "https://localhost:8080/"
        },
        "id": "iqnx45k4mP4m",
        "outputId": "1464b896-e2d7-4e69-c409-29ac8a8429c1"
      },
      "outputs": [
        {
          "name": "stdout",
          "output_type": "stream",
          "text": [
            "06 11 1994\n",
            "SATURDAY\n"
          ]
        }
      ],
      "source": [
        "# Enter your code here. Read input from STDIN. Print output to STDOUT\n",
        "import calendar\n",
        "\n",
        "m, d, y = map(int, input().strip().split())\n",
        "\n",
        "print(calendar.day_name[calendar.weekday(y, m, d)].upper())\n"
      ]
    },
    {
      "cell_type": "markdown",
      "metadata": {
        "id": "x7NELlIWpZDD"
      },
      "source": [
        "#Arithmetic Operators"
      ]
    },
    {
      "cell_type": "code",
      "execution_count": null,
      "metadata": {
        "id": "Q95QRU5SpX7m",
        "outputId": "ed619376-f8b7-4789-8855-fda46c678cf4",
        "colab": {
          "base_uri": "https://localhost:8080/"
        }
      },
      "outputs": [
        {
          "output_type": "stream",
          "name": "stdout",
          "text": [
            "3\n",
            "2\n",
            "5\n",
            "1\n",
            "6\n"
          ]
        }
      ],
      "source": [
        "a = int(input())\n",
        "b = int(input())\n",
        "print(a+b)\n",
        "print(a-b)\n",
        "print(a*b)"
      ]
    },
    {
      "cell_type": "markdown",
      "source": [
        "#Division"
      ],
      "metadata": {
        "id": "_DsRkBcBbzpu"
      }
    },
    {
      "cell_type": "code",
      "source": [
        "a = int(input())\n",
        "b = int(input())\n",
        "print (a//b)\n",
        "print(a/b)\n"
      ],
      "metadata": {
        "colab": {
          "base_uri": "https://localhost:8080/"
        },
        "id": "7V8Pb1Q_bS5v",
        "outputId": "99ca11ec-19cd-499d-ace6-d48ff8d8ba15"
      },
      "execution_count": null,
      "outputs": [
        {
          "output_type": "stream",
          "name": "stdout",
          "text": [
            "8\n",
            "4\n",
            "2\n",
            "2.0\n"
          ]
        }
      ]
    },
    {
      "cell_type": "markdown",
      "source": [
        "#Loops"
      ],
      "metadata": {
        "id": "kpD3fdX4caVb"
      }
    },
    {
      "cell_type": "code",
      "source": [
        "if __name__ == '__main__':\n",
        "    n = int(input())\n",
        "    for i in range(0, n):\n",
        "        print(i ** 2)"
      ],
      "metadata": {
        "colab": {
          "base_uri": "https://localhost:8080/"
        },
        "id": "C5MdzIbBcQ0V",
        "outputId": "45e7be0f-7aa8-4223-c1da-e65c640d5dd4"
      },
      "execution_count": null,
      "outputs": [
        {
          "output_type": "stream",
          "name": "stdout",
          "text": [
            "5\n",
            "0\n",
            "1\n",
            "4\n",
            "9\n",
            "16\n"
          ]
        }
      ]
    },
    {
      "cell_type": "markdown",
      "source": [
        "#Write a function"
      ],
      "metadata": {
        "id": "pmFABigLdna9"
      }
    },
    {
      "cell_type": "code",
      "source": [
        "def is_leap(year):\n",
        "    leap = False\n",
        "    \n",
        "    # Write your logic here\n",
        "    if year%4==0:\n",
        "        if year%100==0:\n",
        "            if year%400==0:\n",
        "                leap=True\n",
        "            else:\n",
        "                leap=False\n",
        "        else:\n",
        "             leap=True\n",
        "    else:\n",
        "        leap=False\n",
        "\n",
        "    return leap\n",
        "\n",
        "year = int(input())\n",
        "print(is_leap(year))"
      ],
      "metadata": {
        "colab": {
          "base_uri": "https://localhost:8080/"
        },
        "id": "yQoN2Pq4dUgV",
        "outputId": "1164f75c-8789-4d61-f715-29624c39bd2c"
      },
      "execution_count": null,
      "outputs": [
        {
          "output_type": "stream",
          "name": "stdout",
          "text": [
            "1990\n",
            "False\n"
          ]
        }
      ]
    },
    {
      "cell_type": "markdown",
      "source": [
        "#Print Function"
      ],
      "metadata": {
        "id": "eo9HxT9BeYaC"
      }
    },
    {
      "cell_type": "code",
      "source": [
        "if __name__ == '__main__':\n",
        "    n = int(input())\n",
        "    for i in range(n):\n",
        "        print(i+1,end=\"\")"
      ],
      "metadata": {
        "colab": {
          "base_uri": "https://localhost:8080/"
        },
        "id": "UKbIKgloePJn",
        "outputId": "4fd840c9-46ad-45f5-d6e8-d22da6e3fd20"
      },
      "execution_count": null,
      "outputs": [
        {
          "output_type": "stream",
          "name": "stdout",
          "text": [
            "3\n",
            "123"
          ]
        }
      ]
    },
    {
      "cell_type": "markdown",
      "source": [
        "#List Comprehensions"
      ],
      "metadata": {
        "id": "KB8SWQAHfW22"
      }
    },
    {
      "cell_type": "code",
      "source": [
        "if __name__ == '__main__':\n",
        "    x = int(input())\n",
        "    y = int(input())\n",
        "    z = int(input())\n",
        "    n = int(input())\n",
        "    output=[]\n",
        "    for i in range(x+1):\n",
        "        for j in range(y+1):\n",
        "            for k in range(z+1):\n",
        "                if i+j+k==n:\n",
        "                    continue\n",
        "                else:\n",
        "                    output.append([i,j,k])\n",
        "    \n",
        "    print(output)"
      ],
      "metadata": {
        "colab": {
          "base_uri": "https://localhost:8080/"
        },
        "id": "mzSHVKACeoQk",
        "outputId": "79cb6023-c1ed-4141-da54-51185d165923"
      },
      "execution_count": null,
      "outputs": [
        {
          "output_type": "stream",
          "name": "stdout",
          "text": [
            "2\n",
            "2\n",
            "2\n",
            "2\n",
            "[[0, 0, 0], [0, 0, 1], [0, 1, 0], [0, 1, 2], [0, 2, 1], [0, 2, 2], [1, 0, 0], [1, 0, 2], [1, 1, 1], [1, 1, 2], [1, 2, 0], [1, 2, 1], [1, 2, 2], [2, 0, 1], [2, 0, 2], [2, 1, 0], [2, 1, 1], [2, 1, 2], [2, 2, 0], [2, 2, 1], [2, 2, 2]]\n"
          ]
        }
      ]
    },
    {
      "cell_type": "markdown",
      "source": [
        "#Find the Runner-Up Score!\n"
      ],
      "metadata": {
        "id": "enIwBwF2x3HP"
      }
    },
    {
      "cell_type": "code",
      "source": [
        "if __name__ == '__main__':\n",
        "    n = int(input())\n",
        "    arr = map(int, input().split())\n",
        "    print(sorted(list(set(arr)))[-2])"
      ],
      "metadata": {
        "colab": {
          "base_uri": "https://localhost:8080/"
        },
        "id": "lrLYw8qoxl9f",
        "outputId": "956f46ff-7d34-461a-99c3-be420de815aa"
      },
      "execution_count": null,
      "outputs": [
        {
          "output_type": "stream",
          "name": "stdout",
          "text": [
            "5\n",
            "1 2 3 4 5\n",
            "4\n"
          ]
        }
      ]
    },
    {
      "cell_type": "code",
      "source": [
        "if __name__ == '__main__':\n",
        "    students_grade=[]\n",
        "    for _ in range(int(input())):\n",
        "        name = input()\n",
        "        score = float(input())\n",
        "        students_grade.append([name,score])\n",
        "    sorted_scores = sorted(list(set([x[1] for x in students_grade])))\n",
        "    second_lowest=sorted_scores[1]\n",
        "        \n",
        "    low_final_list=[]\n",
        "    for student in students_grade:\n",
        "        if second_lowest == student[1]:\n",
        "            low_final_list.append(student[0])\n",
        "                \n",
        "    for student in sorted (low_final_list):\n",
        "        print(student)"
      ],
      "metadata": {
        "colab": {
          "base_uri": "https://localhost:8080/"
        },
        "id": "trqNqnchzUOr",
        "outputId": "f10ac834-0013-41ed-b567-25d18e09276d"
      },
      "execution_count": null,
      "outputs": [
        {
          "output_type": "stream",
          "name": "stdout",
          "text": [
            "5\n",
            "herry\n",
            "37.21\n",
            "berry\n",
            "37.21\n",
            "tina\n",
            "37.21\n",
            "anda\n",
            "42\n",
            "hars\n",
            "39\n",
            "hars\n"
          ]
        }
      ]
    },
    {
      "cell_type": "markdown",
      "source": [
        "#Finding the percentage"
      ],
      "metadata": {
        "id": "_3XTUkhX3S6L"
      }
    },
    {
      "cell_type": "code",
      "source": [
        "if __name__ == '__main__':\n",
        "    n = int(input())\n",
        "    student_marks = {}\n",
        "    for _ in range(n):\n",
        "        name, *line = input().split()\n",
        "        scores = list(map(float, line))\n",
        "        student_marks[name] = scores\n",
        "    query_name = input()\n",
        "    marks=0\n",
        "    for i in student_marks[query_name]:\n",
        "        marks=marks+i\n",
        "    avg=marks/3\n",
        "    print(\"%.2f\"%avg)"
      ],
      "metadata": {
        "colab": {
          "base_uri": "https://localhost:8080/"
        },
        "id": "PAbg1Hjp1_Bc",
        "outputId": "f17d1504-d3d9-40e8-a163-69e3e62ba1b4"
      },
      "execution_count": null,
      "outputs": [
        {
          "output_type": "stream",
          "name": "stdout",
          "text": [
            "3\n",
            "a 5 5 5\n",
            "b 6 6 6\n",
            "c 3 3 3\n",
            "c\n",
            "3.00\n"
          ]
        }
      ]
    },
    {
      "cell_type": "markdown",
      "source": [
        "#List"
      ],
      "metadata": {
        "id": "Hfzfdraw6rgs"
      }
    },
    {
      "cell_type": "code",
      "source": [
        "if __name__ == '__main__':\n",
        "    N = int(input())\n",
        "    command=[]\n",
        "    for i in range(N):\n",
        "        command.append(input().split())\n",
        "\n",
        "    result=[]\n",
        "    for i in range(N):\n",
        "        if command[i][0]=='insert':\n",
        "            result.insert(int(command[i][1]),int(command[i][2]))\n",
        "        elif command[i][0]=='print':\n",
        "            print(result)\n",
        "        elif command[i][0]=='remove':\n",
        "            result.remove(int(command[i][1]))\n",
        "        elif command[i][0]=='append':\n",
        "            result.append(int(command[i][1]))\n",
        "        elif command[i][0]=='pop':\n",
        "            result.pop()\n",
        "        elif command[i][0]=='sort':\n",
        "            result.sort()\n",
        "        elif command[i][0]=='reverse':\n",
        "            result.reverse()"
      ],
      "metadata": {
        "colab": {
          "base_uri": "https://localhost:8080/"
        },
        "id": "72UySsb93iDo",
        "outputId": "38553c53-351b-4eff-dc7c-a4068947b656"
      },
      "execution_count": null,
      "outputs": [
        {
          "output_type": "stream",
          "name": "stdout",
          "text": [
            "12\n",
            "insert 0 5\n",
            "insert 1 10\n",
            "insert 0 6\n",
            "print\n",
            "remove 6\n",
            "append 9\n",
            "append 1\n",
            "sort\n",
            "print\n",
            "pop\n",
            "reverse\n",
            "print\n",
            "[6, 5, 10]\n",
            "[1, 5, 9, 10]\n",
            "[9, 5, 1]\n"
          ]
        }
      ]
    },
    {
      "cell_type": "markdown",
      "source": [
        "#Time Delta"
      ],
      "metadata": {
        "id": "TDrFxkAFNfeR"
      }
    },
    {
      "cell_type": "code",
      "source": [
        "#!/bin/python3\n",
        "\n",
        "import math\n",
        "import os\n",
        "import random\n",
        "import re\n",
        "import sys\n",
        "\n",
        "# Complete the time_delta function below.\n",
        "def time_delta(t1, t2):\n",
        "    t1 = datetime.strptime(t1, \"%a %d %b %Y %H:%M:%S %z\")\n",
        "    t2 = datetime.strptime(t2, \"%a %d %b %Y %H:%M:%S %z\")\n",
        "    return str(int(abs(t2-t1).total_seconds()))\n",
        "\n",
        "if __name__ == '__main__':\n",
        "    fptr = sys.stdout\n",
        "\n",
        "    t = int(input())\n",
        "\n",
        "    for t_itr in range(t):\n",
        "        t1 = input()\n",
        "\n",
        "        t2 = input()\n",
        "\n",
        "        delta = time_delta(t1, t2)\n",
        "\n",
        "        fptr.write(delta + '\\n')\n",
        "\n",
        "    fptr.close()"
      ],
      "metadata": {
        "colab": {
          "base_uri": "https://localhost:8080/"
        },
        "id": "rfAXLQRLMLe7",
        "outputId": "0bd854ec-483b-4323-84d0-47295e59c151"
      },
      "execution_count": null,
      "outputs": [
        {
          "name": "stdout",
          "output_type": "stream",
          "text": [
            "2\n",
            "Sun 10 May 2015 13:54:36 -0700\n",
            "Sun 10 May 2015 13:54:36 -0000\n",
            "25200\n",
            "Sat 02 May 2015 19:54:36 +0530\n",
            "Fri 01 May 2015 13:54:36 -0000\n"
          ]
        }
      ]
    },
    {
      "cell_type": "markdown",
      "source": [
        "#Triangle Quest"
      ],
      "metadata": {
        "id": "_IzxlDvbNiAq"
      }
    },
    {
      "cell_type": "code",
      "source": [
        "for i in range(1,int(input())): #More than 2 lines will result in 0 score. Do not leave a blank line also\n",
        "    print((10**i)//9*i)"
      ],
      "metadata": {
        "colab": {
          "base_uri": "https://localhost:8080/"
        },
        "id": "q5SwdpRTNXtC",
        "outputId": "5fbd2b5f-c23a-4cf7-926c-e144d6133193"
      },
      "execution_count": null,
      "outputs": [
        {
          "output_type": "stream",
          "name": "stdout",
          "text": [
            "5\n",
            "1\n",
            "22\n",
            "333\n",
            "4444\n"
          ]
        }
      ]
    },
    {
      "cell_type": "markdown",
      "source": [
        "#Text alignment"
      ],
      "metadata": {
        "id": "gL78OoIVGju-"
      }
    },
    {
      "cell_type": "markdown",
      "source": [
        "##Cara 1"
      ],
      "metadata": {
        "id": "ohafWrQ0GlpR"
      }
    },
    {
      "cell_type": "code",
      "source": [
        "n=int(input())\n",
        "value=n*2-1\n",
        "value2=int((n+1)/2)\n",
        "\n",
        "for i in range(0,n):\n",
        "    character='H'*(i*2+1)\n",
        "    print(character.center(value,\" \"))\n",
        "    \n",
        "name='H'*n\n",
        "    \n",
        "for i in range(1,n+2):\n",
        "    \n",
        "    print( name.center(value,\" \") + name.rjust(int((9*n-value)/2),\" \"))\n",
        "    \n",
        "for i in range(1,value2+1):\n",
        "    name1='H'*(5*n)\n",
        "    print(name1.center(6*n-1,\" \"))\n",
        "\n",
        "for i in range(1,n+2):\n",
        "    print( name.center(value,\" \") + name.rjust(int((9*n-value)/2),\" \"))\n",
        "\n",
        "b=value\n",
        "for i in range(b,0,-2):\n",
        "    name2='H'*i\n",
        "    print(\" \"*(4*n)+ name2.center(value,\" \"))"
      ],
      "metadata": {
        "colab": {
          "base_uri": "https://localhost:8080/"
        },
        "id": "N3W354grDJfs",
        "outputId": "0b6ab5cf-f8fb-4c3d-d872-134fea96c3f1"
      },
      "execution_count": null,
      "outputs": [
        {
          "output_type": "stream",
          "name": "stdout",
          "text": [
            "5\n",
            "    H    \n",
            "   HHH   \n",
            "  HHHHH  \n",
            " HHHHHHH \n",
            "HHHHHHHHH\n",
            "  HHHHH               HHHHH\n",
            "  HHHHH               HHHHH\n",
            "  HHHHH               HHHHH\n",
            "  HHHHH               HHHHH\n",
            "  HHHHH               HHHHH\n",
            "  HHHHH               HHHHH\n",
            "  HHHHHHHHHHHHHHHHHHHHHHHHH  \n",
            "  HHHHHHHHHHHHHHHHHHHHHHHHH  \n",
            "  HHHHHHHHHHHHHHHHHHHHHHHHH  \n",
            "  HHHHH               HHHHH\n",
            "  HHHHH               HHHHH\n",
            "  HHHHH               HHHHH\n",
            "  HHHHH               HHHHH\n",
            "  HHHHH               HHHHH\n",
            "  HHHHH               HHHHH\n",
            "                    HHHHHHHHH\n",
            "                     HHHHHHH \n",
            "                      HHHHH  \n",
            "                       HHH   \n",
            "                        H    \n"
          ]
        }
      ]
    },
    {
      "cell_type": "markdown",
      "source": [
        "##Cara 2"
      ],
      "metadata": {
        "id": "4rX1OJPUGrL_"
      }
    },
    {
      "cell_type": "code",
      "source": [
        "#Replace all ______ with rjust, ljust or center. \n",
        "\n",
        "thickness = int(input()) #This must be an odd number\n",
        "c = 'H'\n",
        "\n",
        "#Top Cone\n",
        "for i in range(thickness):\n",
        "    print((c*i).rjust(thickness-1)+c+(c*i).ljust(thickness-1))\n",
        "\n",
        "#Top Pillars\n",
        "for i in range(thickness+1):\n",
        "    print((c*thickness).center(thickness*2)+(c*thickness).center(thickness*6))\n",
        "\n",
        "#Middle Belt\n",
        "for i in range((thickness+1)//2):\n",
        "    print((c*thickness*5).center(thickness*6))    \n",
        "\n",
        "#Bottom Pillars\n",
        "for i in range(thickness+1):\n",
        "    print((c*thickness).center(thickness*2)+(c*thickness).center(thickness*6))    \n",
        "\n",
        "#Bottom Cone\n",
        "for i in range(thickness):\n",
        "    print(((c*(thickness-i-1)).rjust(thickness)+c+(c*(thickness-i-1)).ljust(thickness)).rjust(thickness*6))"
      ],
      "metadata": {
        "colab": {
          "base_uri": "https://localhost:8080/"
        },
        "id": "4AsCgQu9Dmce",
        "outputId": "e2192261-dad3-4c63-b1f8-084afe56ab00"
      },
      "execution_count": null,
      "outputs": [
        {
          "output_type": "stream",
          "name": "stdout",
          "text": [
            "5\n",
            "    H    \n",
            "   HHH   \n",
            "  HHHHH  \n",
            " HHHHHHH \n",
            "HHHHHHHHH\n",
            "  HHHHH               HHHHH             \n",
            "  HHHHH               HHHHH             \n",
            "  HHHHH               HHHHH             \n",
            "  HHHHH               HHHHH             \n",
            "  HHHHH               HHHHH             \n",
            "  HHHHH               HHHHH             \n",
            "  HHHHHHHHHHHHHHHHHHHHHHHHH   \n",
            "  HHHHHHHHHHHHHHHHHHHHHHHHH   \n",
            "  HHHHHHHHHHHHHHHHHHHHHHHHH   \n",
            "  HHHHH               HHHHH             \n",
            "  HHHHH               HHHHH             \n",
            "  HHHHH               HHHHH             \n",
            "  HHHHH               HHHHH             \n",
            "  HHHHH               HHHHH             \n",
            "  HHHHH               HHHHH             \n",
            "                    HHHHHHHHH \n",
            "                     HHHHHHH  \n",
            "                      HHHHH   \n",
            "                       HHH    \n",
            "                        H     \n"
          ]
        }
      ]
    },
    {
      "cell_type": "markdown",
      "source": [
        "#Text Wrap"
      ],
      "metadata": {
        "id": "0oGbi6mmHCRH"
      }
    },
    {
      "cell_type": "code",
      "source": [
        "import textwrap\n",
        "\n",
        "def wrap(string, max_width):\n",
        "    return \"\\n\".join(textwrap.wrap(string,max_width))\n",
        "\n",
        "if __name__ == '__main__':\n",
        "    string, max_width = input(), int(input())\n",
        "    result = wrap(string, max_width)\n",
        "    print(result)"
      ],
      "metadata": {
        "colab": {
          "base_uri": "https://localhost:8080/"
        },
        "id": "uix_NoaeG3kv",
        "outputId": "a03154a4-0e00-4597-c7cf-e8013d1cc1bd"
      },
      "execution_count": null,
      "outputs": [
        {
          "output_type": "stream",
          "name": "stdout",
          "text": [
            "ABCDEFGHIJKLIMNOQRSTUVWXYZ\n",
            "4\n",
            "ABCD\n",
            "EFGH\n",
            "IJKL\n",
            "IMNO\n",
            "QRST\n",
            "UVWX\n",
            "YZ\n"
          ]
        }
      ]
    },
    {
      "cell_type": "markdown",
      "source": [
        "#Designer Door Mat"
      ],
      "metadata": {
        "id": "RmlRE7jUJOzE"
      }
    },
    {
      "cell_type": "markdown",
      "source": [
        "##Cara 1"
      ],
      "metadata": {
        "id": "QA40ST-AJaSr"
      }
    },
    {
      "cell_type": "code",
      "source": [
        "n, m = [int(x) for x in input().split()]\n",
        "\n",
        "a = '.|.'\n",
        "\n",
        "for i in range(int(n/2)):\n",
        "    print((a*((i*2)+1)).center(m,'-'))\n",
        "    \n",
        "print(\"WELCOME\".center(m,'-'))\n",
        "\n",
        "for i in range(int(n/2)-1, -1, -1):\n",
        "    print((a*((i*2)+1)).center(m,'-'))"
      ],
      "metadata": {
        "colab": {
          "base_uri": "https://localhost:8080/"
        },
        "id": "zZAv5RudI5_P",
        "outputId": "a08e0751-8cf0-4034-ade7-0a0d10ef693e"
      },
      "execution_count": null,
      "outputs": [
        {
          "output_type": "stream",
          "name": "stdout",
          "text": [
            "9 27\n",
            "------------.|.------------\n",
            "---------.|..|..|.---------\n",
            "------.|..|..|..|..|.------\n",
            "---.|..|..|..|..|..|..|.---\n",
            "----------WELCOME----------\n",
            "---.|..|..|..|..|..|..|.---\n",
            "------.|..|..|..|..|.------\n",
            "---------.|..|..|.---------\n",
            "------------.|.------------\n"
          ]
        }
      ]
    },
    {
      "cell_type": "markdown",
      "source": [
        "## Cara 2"
      ],
      "metadata": {
        "id": "bHQJPBpmJc9n"
      }
    },
    {
      "cell_type": "code",
      "source": [
        "inputs = input()\n",
        "N, M = [int(i) for i in inputs.split()]\n",
        "\n",
        "mid_M = M//2 +1\n",
        "min_N = N//2 +1\n",
        "\n",
        "welcome = 'WELCOME'\n",
        "div = '-'\n",
        "piece = '.|.'\n",
        "\n",
        "for n in range(1, N//2+1):\n",
        "    if n ==1:\n",
        "        times = 1\n",
        "    else:\n",
        "        times = times +2\n",
        "    print((times*piece).center(M,div))\n",
        "        \n",
        "print(welcome.center(M,div))\n",
        "\n",
        "for n in range(1,N//2+1):\n",
        "    if n ==1:\n",
        "        times = times\n",
        "    else:\n",
        "        times = times -2\n",
        "    print(((times)*piece).center(M,div))"
      ],
      "metadata": {
        "colab": {
          "base_uri": "https://localhost:8080/"
        },
        "id": "1qjGrvD9JCPa",
        "outputId": "80f8b72d-d50c-49e5-d715-085aa58c7faa"
      },
      "execution_count": null,
      "outputs": [
        {
          "output_type": "stream",
          "name": "stdout",
          "text": [
            "9 27\n",
            "------------.|.------------\n",
            "---------.|..|..|.---------\n",
            "------.|..|..|..|..|.------\n",
            "---.|..|..|..|..|..|..|.---\n",
            "----------WELCOME----------\n",
            "---.|..|..|..|..|..|..|.---\n",
            "------.|..|..|..|..|.------\n",
            "---------.|..|..|.---------\n",
            "------------.|.------------\n"
          ]
        }
      ]
    },
    {
      "cell_type": "markdown",
      "source": [
        "##Cara 3"
      ],
      "metadata": {
        "id": "qwhsyqmZJe6L"
      }
    },
    {
      "cell_type": "code",
      "source": [
        "n,m = map(int,input().split())\n",
        "for i in range(0,n):\n",
        "    line = \"\"\n",
        "    if i==n//2  :\n",
        "        line = \"WELCOME\".center(m,\"-\")\n",
        "    elif i<n//2 :\n",
        "        motif = '.|.'*i+'.|.'+'.|.'*i       \n",
        "        line = motif.center(m,\"-\")\n",
        "    else :\n",
        "        motif = '.|.'*(n-i-1)+'.|.'+'.|.'*(n-i-1)      \n",
        "        line = motif.center(m,\"-\")\n",
        "        \n",
        "    # visualisation de la ligne i \n",
        "    print(line)"
      ],
      "metadata": {
        "colab": {
          "base_uri": "https://localhost:8080/"
        },
        "id": "H7qIcqgGJHrF",
        "outputId": "e7b4293c-5072-4411-9f8d-691ba47aa8d4"
      },
      "execution_count": null,
      "outputs": [
        {
          "output_type": "stream",
          "name": "stdout",
          "text": [
            "9 27\n",
            "------------.|.------------\n",
            "---------.|..|..|.---------\n",
            "------.|..|..|..|..|.------\n",
            "---.|..|..|..|..|..|..|.---\n",
            "----------WELCOME----------\n",
            "---.|..|..|..|..|..|..|.---\n",
            "------.|..|..|..|..|.------\n",
            "---------.|..|..|.---------\n",
            "------------.|.------------\n"
          ]
        }
      ]
    },
    {
      "cell_type": "markdown",
      "source": [
        "#String Formatting"
      ],
      "metadata": {
        "id": "4xl1kTTpK4dW"
      }
    },
    {
      "cell_type": "markdown",
      "source": [
        "##Cara 1"
      ],
      "metadata": {
        "id": "gH8XHgGnK6qu"
      }
    },
    {
      "cell_type": "code",
      "source": [
        "def print_formatted(n):\n",
        "    b = bin(n).replace(\"0b\",\"\")\n",
        "    l = len(b)\n",
        "    l = int(l)\n",
        "    for num in range(1,n+1):\n",
        "        print(str(num).rjust(l), oct(num).replace(\"0o\",\"\").rjust(l), hex(num).upper().replace(\"0X\",\"\").rjust(l), bin(num).replace(\"0b\",\"\").rjust(l))\n",
        "\n",
        "if __name__ == '__main__':\n",
        "    n = int(input())\n",
        "    print_formatted(n)"
      ],
      "metadata": {
        "colab": {
          "base_uri": "https://localhost:8080/"
        },
        "id": "rHuXLvnuJ5k4",
        "outputId": "68fe1f03-5c07-4f9a-9ba4-00784b121659"
      },
      "execution_count": null,
      "outputs": [
        {
          "output_type": "stream",
          "name": "stdout",
          "text": [
            "17\n",
            "    1     1     1     1\n",
            "    2     2     2    10\n",
            "    3     3     3    11\n",
            "    4     4     4   100\n",
            "    5     5     5   101\n",
            "    6     6     6   110\n",
            "    7     7     7   111\n",
            "    8    10     8  1000\n",
            "    9    11     9  1001\n",
            "   10    12     A  1010\n",
            "   11    13     B  1011\n",
            "   12    14     C  1100\n",
            "   13    15     D  1101\n",
            "   14    16     E  1110\n",
            "   15    17     F  1111\n",
            "   16    20    10 10000\n",
            "   17    21    11 10001\n"
          ]
        }
      ]
    },
    {
      "cell_type": "markdown",
      "source": [
        "##Cara 2"
      ],
      "metadata": {
        "id": "d4sw8t93K87F"
      }
    },
    {
      "cell_type": "code",
      "source": [
        "def print_formatted(number):\n",
        "    max_width = len(f\"{number:b}\")\n",
        "    \n",
        "    for i in range(1,number+1):\n",
        "        decNum = str(i).rjust(max_width, \" \")\n",
        "        octNum = str(f\"{i:o}\").rjust(max_width, \" \")\n",
        "        hexNum = str(f\"{i:X}\").rjust(max_width, \" \")\n",
        "        binNum = str(f\"{i:b}\").rjust(max_width, \" \")\n",
        "        print(decNum, octNum, hexNum, binNum)\n",
        "\n",
        "if __name__ == '__main__':\n",
        "    n = int(input())\n",
        "    print_formatted(n)"
      ],
      "metadata": {
        "colab": {
          "base_uri": "https://localhost:8080/"
        },
        "id": "bqzcy_k1KDf7",
        "outputId": "5a1bfc15-c7ca-40e5-835c-7d1061c47cef"
      },
      "execution_count": null,
      "outputs": [
        {
          "output_type": "stream",
          "name": "stdout",
          "text": [
            "17\n",
            "    1     1     1     1\n",
            "    2     2     2    10\n",
            "    3     3     3    11\n",
            "    4     4     4   100\n",
            "    5     5     5   101\n",
            "    6     6     6   110\n",
            "    7     7     7   111\n",
            "    8    10     8  1000\n",
            "    9    11     9  1001\n",
            "   10    12     A  1010\n",
            "   11    13     B  1011\n",
            "   12    14     C  1100\n",
            "   13    15     D  1101\n",
            "   14    16     E  1110\n",
            "   15    17     F  1111\n",
            "   16    20    10 10000\n",
            "   17    21    11 10001\n"
          ]
        }
      ]
    },
    {
      "cell_type": "markdown",
      "source": [
        "##Cara 3"
      ],
      "metadata": {
        "id": "XPPv8tpuK-0U"
      }
    },
    {
      "cell_type": "code",
      "source": [
        "def print_formatted(number):\n",
        "    w = str(number.bit_length())\n",
        "    s = '{0: >'+w+'d} {1: >'+w+'o} {2: >'+w+'X} {3: >'+w+'b}' \n",
        "    for i in range(1, number+1):\n",
        "        print(s.format(i, i, i, i))\n",
        "if __name__ == '__main__':\n",
        "    n = int(input())\n",
        "    print_formatted(n)"
      ],
      "metadata": {
        "colab": {
          "base_uri": "https://localhost:8080/"
        },
        "id": "19XNhP3MKJg9",
        "outputId": "bc9dd77b-2fc1-4cf8-9de7-5f4e8ed66f85"
      },
      "execution_count": null,
      "outputs": [
        {
          "output_type": "stream",
          "name": "stdout",
          "text": [
            "17\n",
            "    1     1     1     1\n",
            "    2     2     2    10\n",
            "    3     3     3    11\n",
            "    4     4     4   100\n",
            "    5     5     5   101\n",
            "    6     6     6   110\n",
            "    7     7     7   111\n",
            "    8    10     8  1000\n",
            "    9    11     9  1001\n",
            "   10    12     A  1010\n",
            "   11    13     B  1011\n",
            "   12    14     C  1100\n",
            "   13    15     D  1101\n",
            "   14    16     E  1110\n",
            "   15    17     F  1111\n",
            "   16    20    10 10000\n",
            "   17    21    11 10001\n"
          ]
        }
      ]
    },
    {
      "cell_type": "markdown",
      "source": [
        "#Alphabet Rangoli"
      ],
      "metadata": {
        "id": "__B2ehiPLOfB"
      }
    },
    {
      "cell_type": "markdown",
      "source": [
        "##Cara 1"
      ],
      "metadata": {
        "id": "9Bc4S5WPMBrO"
      }
    },
    {
      "cell_type": "code",
      "source": [
        "def print_rangoli(size):\n",
        "    # your code goes here\n",
        "    alphabet='abcdefghijklmnopqrstuvwxyz'\n",
        "    current_alphabet=alphabet[0:size]\n",
        "    current_alphabet_reverse=current_alphabet[::-1]\n",
        "    LIST=[*current_alphabet]\n",
        "    LIST_reverse=[*current_alphabet_reverse]\n",
        "    delete=LIST_reverse.pop()\n",
        "    z='-'.join(LIST_reverse + LIST)\n",
        "\n",
        "    WDH=2*((size*2)-1)-1\n",
        "\n",
        "    LISTA_END=[]\n",
        "\n",
        "    for i in range(size-1):\n",
        "        delete=LIST.pop(0)\n",
        "        delete=LIST_reverse.pop()\n",
        "        x='-'.join(LIST_reverse + LIST)\n",
        "        LISTA_END.append(x.center(WDH,'-'))\n",
        "\n",
        "    for i in range(size-1):\n",
        "        y=LISTA_END[-1-i]\n",
        "        LISTA_END.insert(i,y)\n",
        "\n",
        "    LISTA_END.insert(size-1,z)\n",
        "\n",
        "    for i in range(len(LISTA_END)):\n",
        "        print(LISTA_END[i])\n",
        "    \n",
        "\n",
        "if __name__ == '__main__':\n",
        "    n = int(input())\n",
        "    print_rangoli(n)"
      ],
      "metadata": {
        "colab": {
          "base_uri": "https://localhost:8080/"
        },
        "id": "luYLoj4LLYhd",
        "outputId": "fc8601b1-388e-4eaf-d715-b211d61ff772"
      },
      "execution_count": null,
      "outputs": [
        {
          "output_type": "stream",
          "name": "stdout",
          "text": [
            "5\n",
            "--------e--------\n",
            "------e-d-e------\n",
            "----e-d-c-d-e----\n",
            "--e-d-c-b-c-d-e--\n",
            "e-d-c-b-a-b-c-d-e\n",
            "--e-d-c-b-c-d-e--\n",
            "----e-d-c-d-e----\n",
            "------e-d-e------\n",
            "--------e--------\n"
          ]
        }
      ]
    },
    {
      "cell_type": "markdown",
      "source": [
        "##Cara 2"
      ],
      "metadata": {
        "id": "tV85LQ8YMGhG"
      }
    },
    {
      "cell_type": "code",
      "source": [
        "# small alphabet starts with ascii 97\n",
        "# size = end char\n",
        "# numOfChars = total character to lower from end char\n",
        "def print_motif(size, numOfChars):\n",
        "    output = \"\"\n",
        "    limit = size - numOfChars\n",
        "    # loop to print left side\n",
        "    for i in range(size-1, limit, -1):\n",
        "        motif = chr(97 + i) + \"-\"          \n",
        "        output = output + motif \n",
        "   \n",
        "    # center\n",
        "    output = output + chr(97 + limit)\n",
        "\n",
        "    # loop to print right side\n",
        "    for i in range(limit + 1, size):\n",
        "        motif = \"-\" + chr(97 + i)            \n",
        "        output = output + motif\n",
        "    \n",
        "    return output\n",
        "\n",
        "def print_rangoli(size):\n",
        "    # small alphabet starts with ascii 97\n",
        "    center = print_motif(size, size)\n",
        "    length = len(center)\n",
        "    \n",
        "    # top piramid\n",
        "    for i in range(1, size):\n",
        "        motif = print_motif(size, i)\n",
        "        print(motif.center(length, \"-\"))\n",
        "\n",
        "    #  center line\n",
        "    print(center)\n",
        "\n",
        "    # bottom piramid\n",
        "    for i in range(size-1, 0, -1):\n",
        "        motif = print_motif(size, i)\n",
        "        print(motif.center(length, \"-\"))\n",
        "\n",
        "if __name__ == '__main__':\n",
        "    n = int(input())\n",
        "    print_rangoli(n)"
      ],
      "metadata": {
        "colab": {
          "base_uri": "https://localhost:8080/"
        },
        "id": "9e_AdB3hLxcF",
        "outputId": "bd4eaecd-cafe-4863-8970-e54d78b042ec"
      },
      "execution_count": null,
      "outputs": [
        {
          "output_type": "stream",
          "name": "stdout",
          "text": [
            "5\n",
            "--------e--------\n",
            "------e-d-e------\n",
            "----e-d-c-d-e----\n",
            "--e-d-c-b-c-d-e--\n",
            "e-d-c-b-a-b-c-d-e\n",
            "--e-d-c-b-c-d-e--\n",
            "----e-d-c-d-e----\n",
            "------e-d-e------\n",
            "--------e--------\n"
          ]
        }
      ]
    },
    {
      "cell_type": "markdown",
      "source": [
        "##Cara 3"
      ],
      "metadata": {
        "id": "JZp7P2vFMIZV"
      }
    },
    {
      "cell_type": "code",
      "source": [
        "def print_rangoli(size):\n",
        "    # your code goes here\n",
        "    n = size\n",
        "    import string\n",
        "    l = list(string.ascii_lowercase)\n",
        "    w = (4*n-3)\n",
        "    lines = (2*n-1)\n",
        "    for row in range(1,lines+1,1):\n",
        "        if row>n:\n",
        "            row = lines-row+1\n",
        "        x = \"-\".join(l[(n-1):(n-row):-1] + l[(n-row):n])\n",
        "        print(x.center(w,\"-\"))\n",
        "if __name__ == '__main__':\n",
        "    n = int(input())\n",
        "    print_rangoli(n)"
      ],
      "metadata": {
        "colab": {
          "base_uri": "https://localhost:8080/"
        },
        "id": "Ql1pxSYnL1Ye",
        "outputId": "32ea3060-1ff0-4f4e-86d3-a0a4ad759f62"
      },
      "execution_count": null,
      "outputs": [
        {
          "output_type": "stream",
          "name": "stdout",
          "text": [
            "5\n",
            "--------e--------\n",
            "------e-d-e------\n",
            "----e-d-c-d-e----\n",
            "--e-d-c-b-c-d-e--\n",
            "e-d-c-b-a-b-c-d-e\n",
            "--e-d-c-b-c-d-e--\n",
            "----e-d-c-d-e----\n",
            "------e-d-e------\n",
            "--------e--------\n"
          ]
        }
      ]
    },
    {
      "cell_type": "markdown",
      "source": [
        "##Cara 4"
      ],
      "metadata": {
        "id": "T8CB-ywYMK4I"
      }
    },
    {
      "cell_type": "code",
      "source": [
        "def print_rangoli(size):\n",
        "    # your code goes here\n",
        "    max_len = size*4-3\n",
        "    a=97\n",
        "    res = []\n",
        "    for i in range(1,size+1):\n",
        "        out = chr(a+size-i)\n",
        "        for j in range(i-1,0,-1):\n",
        "            out = f'{chr(a+size-j)}-{out}-{chr(a+size-j)}'\n",
        "        out = out.center(max_len, '-')\n",
        "        res.append(out)\n",
        "    print('\\n'.join([*res,*res[-2::-1]]))\n",
        "if __name__ == '__main__':\n",
        "    n = int(input())\n",
        "    print_rangoli(n)"
      ],
      "metadata": {
        "colab": {
          "base_uri": "https://localhost:8080/"
        },
        "id": "O9m66QtdL7o-",
        "outputId": "eb12ec5f-4420-418a-b1aa-314f9a0f4fd7"
      },
      "execution_count": null,
      "outputs": [
        {
          "output_type": "stream",
          "name": "stdout",
          "text": [
            "5\n",
            "--------e--------\n",
            "------e-d-e------\n",
            "----e-d-c-d-e----\n",
            "--e-d-c-b-c-d-e--\n",
            "e-d-c-b-a-b-c-d-e\n",
            "--e-d-c-b-c-d-e--\n",
            "----e-d-c-d-e----\n",
            "------e-d-e------\n",
            "--------e--------\n"
          ]
        }
      ]
    }
  ],
  "metadata": {
    "colab": {
      "toc_visible": true,
      "provenance": [],
      "authorship_tag": "ABX9TyPGSEvdXwBQR0BpJSQbZTcQ"
    },
    "kernelspec": {
      "display_name": "Python 3",
      "name": "python3"
    },
    "language_info": {
      "name": "python"
    }
  },
  "nbformat": 4,
  "nbformat_minor": 0
}