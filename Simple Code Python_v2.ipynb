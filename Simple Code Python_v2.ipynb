{
  "nbformat": 4,
  "nbformat_minor": 0,
  "metadata": {
    "colab": {
      "provenance": [],
      "toc_visible": true,
      "authorship_tag": "ABX9TyNa7N35tbeByc9ehJnyhEy8"
    },
    "kernelspec": {
      "name": "python3",
      "display_name": "Python 3"
    },
    "language_info": {
      "name": "python"
    }
  },
  "cells": [
    {
      "cell_type": "markdown",
      "source": [
        "#Definition of Capitalize"
      ],
      "metadata": {
        "id": "eelyxjnKrkw0"
      }
    },
    {
      "cell_type": "code",
      "source": [
        "def solve(s):\n",
        "    sp = s.split(\" \")\n",
        "    res = \"\"\n",
        "    for x in range(len(sp)):\n",
        "        res += sp[x].capitalize() + \" \"\n",
        "    \n",
        "    return (res)"
      ],
      "metadata": {
        "id": "foc4sT9YrYTF"
      },
      "execution_count": null,
      "outputs": []
    },
    {
      "cell_type": "code",
      "source": [
        "def solve(s):\n",
        "  upperCB = lambda pat: pat.group(1).upper()\n",
        "  return re.sub(r'\\b([a-z]{1,1})', upperCB, s)"
      ],
      "metadata": {
        "id": "GrI6101Xrcek"
      },
      "execution_count": null,
      "outputs": []
    },
    {
      "cell_type": "code",
      "source": [
        "def solve(s):\n",
        "    lst = s.split(\" \")\n",
        "    lst = [i.capitalize() for i in lst]\n",
        "    string = \" \".join(lst)\n",
        "    return string"
      ],
      "metadata": {
        "id": "cJSEGmPkrgcU"
      },
      "execution_count": null,
      "outputs": []
    },
    {
      "cell_type": "markdown",
      "source": [
        "#Definition of The minion game"
      ],
      "metadata": {
        "id": "rRVH_CMRt1bK"
      }
    },
    {
      "cell_type": "code",
      "source": [
        "def minion_game(string):\n",
        "    vowels = 'AEIOU'\n",
        "    kevin_score = 0\n",
        "    stuart_score = 0\n",
        "    \n",
        "    for i in range(len(string)):\n",
        "        if string[i] in vowels:\n",
        "            kevin_score += len(string) - i\n",
        "        else:\n",
        "            stuart_score += len(string) - i\n",
        "    \n",
        "    if kevin_score > stuart_score:\n",
        "        print(\"Kevin\", kevin_score)\n",
        "    elif stuart_score > kevin_score:\n",
        "        print(\"Stuart\", stuart_score)\n",
        "    else:\n",
        "        print(\"Draw\")"
      ],
      "metadata": {
        "id": "DFnBmhtItGSb"
      },
      "execution_count": null,
      "outputs": []
    },
    {
      "cell_type": "code",
      "source": [
        "def minion_game(string):\n",
        "    s=k=0\n",
        "    vowels=['A','E','I','O','U']\n",
        "    for i in range(len(string)):\n",
        "        if string[i] in vowels:\n",
        "            k+=len(string[i:])\n",
        "        else:\n",
        "            s+=len(string[i:])\n",
        "    if s > k :\n",
        "        print('Stuart',s)\n",
        "    elif k>s:\n",
        "        print('Kevin',k)\n",
        "    else:\n",
        "        print('Draw')"
      ],
      "metadata": {
        "id": "eJRMEEHztP98"
      },
      "execution_count": null,
      "outputs": []
    },
    {
      "cell_type": "markdown",
      "source": [
        "#Definition of Merge the tools"
      ],
      "metadata": {
        "id": "Wvbxj3IWwIVy"
      }
    },
    {
      "cell_type": "code",
      "source": [
        "def merge_the_tools(string, k):\n",
        "    for i in range(0, len(string), k):\n",
        "        print(''.join(dict.fromkeys([x for x in string[i:i + k]])))"
      ],
      "metadata": {
        "id": "bNp-oWypu2ny"
      },
      "execution_count": null,
      "outputs": []
    },
    {
      "cell_type": "code",
      "source": [
        "def merge_the_tools(string, k):\n",
        "    # your code goes here\n",
        "    i=0\n",
        "    word = ''\n",
        "    while(i <= len(string)-k):\n",
        "        word=''\n",
        "        for j in range(k):\n",
        "            if string[j+i] not in word:\n",
        "                word += string[j+i]\n",
        "        print(word)\n",
        "        i+=k"
      ],
      "metadata": {
        "id": "vg_reWNcvaKc"
      },
      "execution_count": null,
      "outputs": []
    },
    {
      "cell_type": "markdown",
      "source": [
        "#itertools.product()\n"
      ],
      "metadata": {
        "id": "xWLgXHB5ycSF"
      }
    },
    {
      "cell_type": "markdown",
      "source": [
        "##Cara 1"
      ],
      "metadata": {
        "id": "2vu1sOy3zKVI"
      }
    },
    {
      "cell_type": "code",
      "source": [
        "from itertools  import product\n",
        "a, b = input().split(\" \"), input().split(\" \")\n",
        "a, b = [int(_) for _ in a], [int(_) for _ in b]\n",
        "for _ in product(a, b): print(_, end = \" \")"
      ],
      "metadata": {
        "colab": {
          "base_uri": "https://localhost:8080/"
        },
        "id": "-48M7oN5x2B-",
        "outputId": "5c4bd9c6-32c7-4b84-8523-1818881f5395"
      },
      "execution_count": null,
      "outputs": [
        {
          "output_type": "stream",
          "name": "stdout",
          "text": [
            "1 2\n",
            "3 4\n",
            "(1, 3) (1, 4) (2, 3) (2, 4) "
          ]
        }
      ]
    },
    {
      "cell_type": "markdown",
      "source": [
        "##Cara 2"
      ],
      "metadata": {
        "id": "OGYHP7ryzLj4"
      }
    },
    {
      "cell_type": "code",
      "source": [
        "from itertools import product\n",
        "\n",
        "A = list(map(int,input().split())) \n",
        "B = list(map(int,input().split()))\n",
        "\n",
        "A_product_B = product(A,B)\n",
        "print(*(product(A,B)))"
      ],
      "metadata": {
        "colab": {
          "base_uri": "https://localhost:8080/"
        },
        "id": "cU1iOMXByCzv",
        "outputId": "f1dafa2a-efa4-44a5-ea2b-da6db579cb1c"
      },
      "execution_count": null,
      "outputs": [
        {
          "output_type": "stream",
          "name": "stdout",
          "text": [
            "1 2\n",
            "3 4\n",
            "(1, 3) (1, 4) (2, 3) (2, 4)\n"
          ]
        }
      ]
    },
    {
      "cell_type": "markdown",
      "source": [
        "##Cara 3"
      ],
      "metadata": {
        "id": "RPSXOCwWzMla"
      }
    },
    {
      "cell_type": "code",
      "source": [
        "from itertools import product \n",
        "A = list(map(int, input().split())) \n",
        "B = list(map(int, input().split())) \n",
        "print(*product(A, B))"
      ],
      "metadata": {
        "colab": {
          "base_uri": "https://localhost:8080/"
        },
        "id": "SVdwvS85yJeT",
        "outputId": "f0faeb6a-fbcf-426a-8477-7f35df0293e9"
      },
      "execution_count": null,
      "outputs": [
        {
          "output_type": "stream",
          "name": "stdout",
          "text": [
            "1 2\n",
            "3 4\n",
            "(1, 3) (1, 4) (2, 3) (2, 4)\n"
          ]
        }
      ]
    },
    {
      "cell_type": "markdown",
      "source": [
        "##Cara 4"
      ],
      "metadata": {
        "id": "qEP3MDrvzOJM"
      }
    },
    {
      "cell_type": "code",
      "source": [
        "from itertools import product\n",
        "\n",
        "A, B = map(int, input().split()), map(int, input().split())\n",
        "AxB = product(A, B)\n",
        "print(*AxB)"
      ],
      "metadata": {
        "colab": {
          "base_uri": "https://localhost:8080/"
        },
        "id": "ysNoLO6-yVyZ",
        "outputId": "8d7502b0-f0df-44dc-b0ed-01891b288d17"
      },
      "execution_count": null,
      "outputs": [
        {
          "output_type": "stream",
          "name": "stdout",
          "text": [
            "1 2\n",
            "3 4\n",
            "(1, 3) (1, 4) (2, 3) (2, 4)\n"
          ]
        }
      ]
    },
    {
      "cell_type": "markdown",
      "source": [
        "#itertools permutations()"
      ],
      "metadata": {
        "id": "P7pnBeb_23qx"
      }
    },
    {
      "cell_type": "markdown",
      "source": [
        "##Cara 1"
      ],
      "metadata": {
        "id": "qOoouBEB2-oC"
      }
    },
    {
      "cell_type": "code",
      "source": [
        "from itertools import permutations\n",
        "\n",
        "word, length = input().split()\n",
        "chars = sorted(word)\n",
        "\n",
        "for c in permutations(chars, int(length)):\n",
        "    print(\"\".join(list(c)))"
      ],
      "metadata": {
        "colab": {
          "base_uri": "https://localhost:8080/"
        },
        "id": "bOtkPSqszzUM",
        "outputId": "02cf6c4d-b3c8-4995-b1fc-cddf006ead75"
      },
      "execution_count": null,
      "outputs": [
        {
          "output_type": "stream",
          "name": "stdout",
          "text": [
            "HACK 2\n",
            "AC\n",
            "AH\n",
            "AK\n",
            "CA\n",
            "CH\n",
            "CK\n",
            "HA\n",
            "HC\n",
            "HK\n",
            "KA\n",
            "KC\n",
            "KH\n"
          ]
        }
      ]
    },
    {
      "cell_type": "markdown",
      "source": [
        "##Cara 2"
      ],
      "metadata": {
        "id": "DYvcnsjn3AD7"
      }
    },
    {
      "cell_type": "code",
      "source": [
        "from itertools import permutations\n",
        "str1 = input().split()\n",
        "str2 = sorted(str1)\n",
        "n= int(str2[0])\n",
        "set2 = sorted(list(str2[1]))\n",
        "final_set = list(permutations(set2,n))\n",
        "for i in final_set:\n",
        "        print(''.join(i))"
      ],
      "metadata": {
        "colab": {
          "base_uri": "https://localhost:8080/"
        },
        "id": "83lFb7Nnz_NG",
        "outputId": "db844267-bb7c-4429-9897-e5152a98242d"
      },
      "execution_count": null,
      "outputs": [
        {
          "output_type": "stream",
          "name": "stdout",
          "text": [
            "HACK 2\n",
            "AC\n",
            "AH\n",
            "AK\n",
            "CA\n",
            "CH\n",
            "CK\n",
            "HA\n",
            "HC\n",
            "HK\n",
            "KA\n",
            "KC\n",
            "KH\n"
          ]
        }
      ]
    },
    {
      "cell_type": "markdown",
      "source": [
        "##Cara 3"
      ],
      "metadata": {
        "id": "2cSGhdw-3ECB"
      }
    },
    {
      "cell_type": "code",
      "source": [
        "from itertools import permutations\n",
        "string = input().split()\n",
        "S = sorted(string[0].upper())\n",
        "r = int(string[1])\n",
        "\n",
        "for i in range(len(list(permutations(S, r)))):\n",
        "    m = ''\n",
        "    p = list(permutations(S, r))[i]\n",
        "    for n in p:\n",
        "        m += n\n",
        "    print(m)"
      ],
      "metadata": {
        "colab": {
          "base_uri": "https://localhost:8080/"
        },
        "id": "yUVDBL9r0EVQ",
        "outputId": "034656a8-1642-46a7-a2e9-90156d657fcb"
      },
      "execution_count": null,
      "outputs": [
        {
          "output_type": "stream",
          "name": "stdout",
          "text": [
            "HACK 2\n",
            "AC\n",
            "AH\n",
            "AK\n",
            "CA\n",
            "CH\n",
            "CK\n",
            "HA\n",
            "HC\n",
            "HK\n",
            "KA\n",
            "KC\n",
            "KH\n"
          ]
        }
      ]
    },
    {
      "cell_type": "markdown",
      "source": [
        "##Cara 4"
      ],
      "metadata": {
        "id": "BEX7I7433Feu"
      }
    },
    {
      "cell_type": "code",
      "source": [
        "from itertools import permutations\n",
        "s,k= input().split()\n",
        "l=sorted(list(permutations(s,int(k))))\n",
        "for i in l:\n",
        "    print(\"\".join(i))"
      ],
      "metadata": {
        "colab": {
          "base_uri": "https://localhost:8080/"
        },
        "id": "qapWb7h-0ISS",
        "outputId": "eed259d6-3fee-4933-d5e9-eaa76c1fd1d7"
      },
      "execution_count": null,
      "outputs": [
        {
          "output_type": "stream",
          "name": "stdout",
          "text": [
            "HACK 2\n",
            "AC\n",
            "AH\n",
            "AK\n",
            "CA\n",
            "CH\n",
            "CK\n",
            "HA\n",
            "HC\n",
            "HK\n",
            "KA\n",
            "KC\n",
            "KH\n"
          ]
        }
      ]
    },
    {
      "cell_type": "markdown",
      "source": [
        "#itertools combinations()"
      ],
      "metadata": {
        "id": "IV3GJg_B4ZOO"
      }
    },
    {
      "cell_type": "markdown",
      "source": [
        "##Cara 1"
      ],
      "metadata": {
        "id": "CYXETq0x5C-N"
      }
    },
    {
      "cell_type": "code",
      "source": [
        "from itertools import combinations\n",
        "str1 = input().split()\n",
        "str2 = sorted(str1)\n",
        "n = int(str2[0])\n",
        "str3 = sorted(str2[1])\n",
        "for i in range(1,n+1): \n",
        "        last_set = combinations(str3,i)\n",
        "        for i in last_set:\n",
        "                print(\"\".join(i))"
      ],
      "metadata": {
        "colab": {
          "base_uri": "https://localhost:8080/"
        },
        "id": "sLMZo5lC3nYd",
        "outputId": "98605096-132b-4de4-cfe0-d7edab6f20e5"
      },
      "execution_count": null,
      "outputs": [
        {
          "output_type": "stream",
          "name": "stdout",
          "text": [
            "HACK 2\n",
            "A\n",
            "C\n",
            "H\n",
            "K\n",
            "AC\n",
            "AH\n",
            "AK\n",
            "CH\n",
            "CK\n",
            "HK\n"
          ]
        }
      ]
    },
    {
      "cell_type": "markdown",
      "source": [
        "##Cara 2"
      ],
      "metadata": {
        "id": "RDfqgKHU5E3i"
      }
    },
    {
      "cell_type": "code",
      "source": [
        "from itertools import combinations\n",
        "\n",
        "S, k  = input().split()\n",
        "\n",
        "for i in range(1, int(k)+1):\n",
        "    comb = list(combinations(sorted(S),i))\n",
        "    for each in comb:\n",
        "        print(\"\".join(each))"
      ],
      "metadata": {
        "colab": {
          "base_uri": "https://localhost:8080/"
        },
        "id": "Kf3OHTg63vHT",
        "outputId": "59d6f329-6954-471d-b7c1-640721a83a08"
      },
      "execution_count": null,
      "outputs": [
        {
          "output_type": "stream",
          "name": "stdout",
          "text": [
            "HACK 2\n",
            "A\n",
            "C\n",
            "H\n",
            "K\n",
            "AC\n",
            "AH\n",
            "AK\n",
            "CH\n",
            "CK\n",
            "HK\n"
          ]
        }
      ]
    },
    {
      "cell_type": "markdown",
      "source": [
        "##Cara 3"
      ],
      "metadata": {
        "id": "xLDoS04X5G_5"
      }
    },
    {
      "cell_type": "code",
      "source": [
        "from itertools import combinations\n",
        "\n",
        "S, k = input().split() \n",
        "my_list = []\n",
        "\n",
        "for k in range(1, len(S)-1): \n",
        "  my_list.append(list(combinations(sorted(S), k)))\n",
        "\n",
        "for i in my_list: \n",
        "  for n in list(i): print(''.join(list(n)))"
      ],
      "metadata": {
        "colab": {
          "base_uri": "https://localhost:8080/"
        },
        "id": "qQvP-bNq3z21",
        "outputId": "09026e55-8a78-478d-9cdb-40cd44940f27"
      },
      "execution_count": null,
      "outputs": [
        {
          "output_type": "stream",
          "name": "stdout",
          "text": [
            "HACK 2\n",
            "A\n",
            "C\n",
            "H\n",
            "K\n",
            "AC\n",
            "AH\n",
            "AK\n",
            "CH\n",
            "CK\n",
            "HK\n"
          ]
        }
      ]
    },
    {
      "cell_type": "markdown",
      "source": [
        "#itertools.combinations_with_replacement()"
      ],
      "metadata": {
        "id": "GJadKyZp6Ixs"
      }
    },
    {
      "cell_type": "markdown",
      "source": [
        "##Cara 1"
      ],
      "metadata": {
        "id": "nI0a4f1P6KZM"
      }
    },
    {
      "cell_type": "code",
      "source": [
        "from itertools import combinations_with_replacement\n",
        "\n",
        "inp = input().split()\n",
        "\n",
        "word = str(inp[0]) \n",
        "args_2 = int(inp[1])\n",
        "\n",
        "output = list(combinations_with_replacement(word, args_2)) \n",
        "combinations_output = list() \n",
        "for combinations in output: \n",
        "  combinations_output.append(sorted(\"\".join(combinations)))\n",
        "\n",
        "sorted_list = sorted(combinations_output) \n",
        "for item in sorted_list: \n",
        "  print(\"\".join(item))"
      ],
      "metadata": {
        "colab": {
          "base_uri": "https://localhost:8080/"
        },
        "id": "hGXBQY6A5okY",
        "outputId": "6582f4c8-3ac2-4107-d3cd-4e10f8ffd144"
      },
      "execution_count": null,
      "outputs": [
        {
          "output_type": "stream",
          "name": "stdout",
          "text": [
            "HACK 2\n",
            "AA\n",
            "AC\n",
            "AH\n",
            "AK\n",
            "CC\n",
            "CH\n",
            "CK\n",
            "HH\n",
            "HK\n",
            "KK\n"
          ]
        }
      ]
    },
    {
      "cell_type": "markdown",
      "source": [
        "##Cara 2"
      ],
      "metadata": {
        "id": "U5IQcUKg6N63"
      }
    },
    {
      "cell_type": "code",
      "source": [
        "from itertools import combinations_with_replacement\n",
        "s, n = input().split()\n",
        "comb = list(combinations_with_replacement(sorted(s),int(n)))\n",
        "print(*[''.join(j) for j in comb],sep='\\n')"
      ],
      "metadata": {
        "colab": {
          "base_uri": "https://localhost:8080/"
        },
        "id": "9QEC4FoA5wWn",
        "outputId": "04064336-728c-4957-f182-31b5d12471e3"
      },
      "execution_count": null,
      "outputs": [
        {
          "output_type": "stream",
          "name": "stdout",
          "text": [
            "HACK 2\n",
            "AA\n",
            "AC\n",
            "AH\n",
            "AK\n",
            "CC\n",
            "CH\n",
            "CK\n",
            "HH\n",
            "HK\n",
            "KK\n"
          ]
        }
      ]
    },
    {
      "cell_type": "markdown",
      "source": [
        "##Cara 3"
      ],
      "metadata": {
        "id": "Dk8eYCnQ6O8o"
      }
    },
    {
      "cell_type": "code",
      "source": [
        "from itertools import combinations_with_replacement\n",
        "t = input().split()\n",
        "word, k = sorted(t[0].upper()), int(t[1])\n",
        "for i in combinations_with_replacement(word, k):\n",
        "    print(\"\".join(i))"
      ],
      "metadata": {
        "colab": {
          "base_uri": "https://localhost:8080/"
        },
        "id": "LINdlGyw5zWO",
        "outputId": "2bf0667b-e100-4621-fa14-0ac3feac2401"
      },
      "execution_count": null,
      "outputs": [
        {
          "output_type": "stream",
          "name": "stdout",
          "text": [
            "HACK 2\n",
            "AA\n",
            "AC\n",
            "AH\n",
            "AK\n",
            "CC\n",
            "CH\n",
            "CK\n",
            "HH\n",
            "HK\n",
            "KK\n"
          ]
        }
      ]
    },
    {
      "cell_type": "markdown",
      "source": [
        "#Compress the String!"
      ],
      "metadata": {
        "id": "PK9lbsJN8cJS"
      }
    },
    {
      "cell_type": "markdown",
      "source": [
        "##Cara 1"
      ],
      "metadata": {
        "id": "kIbZQkEp8ezL"
      }
    },
    {
      "cell_type": "code",
      "source": [
        "import itertools \n",
        "s = input()\n",
        "for key, group in itertools.groupby(s):\n",
        "        print(f\"({len(list(group))}, {key})\",end=' ')"
      ],
      "metadata": {
        "colab": {
          "base_uri": "https://localhost:8080/"
        },
        "id": "438Z64N97JXC",
        "outputId": "16fd105d-39be-41c8-f578-be7598ebea07"
      },
      "execution_count": null,
      "outputs": [
        {
          "output_type": "stream",
          "name": "stdout",
          "text": [
            "1222311\n",
            "(1, 1) (3, 2) (1, 3) (2, 1) "
          ]
        }
      ]
    },
    {
      "cell_type": "markdown",
      "source": [
        "##Cara 2"
      ],
      "metadata": {
        "id": "HH9HLEUr8hJN"
      }
    },
    {
      "cell_type": "code",
      "source": [
        "import itertools \n",
        "string = input() \n",
        "new = itertools.groupby(string) \n",
        "new_dic = [(i[0],len(list(i[1]))) for i in new] ## list comprehension\n",
        "\n",
        "for item in new_dic: \n",
        "  print(F\"{item[1],int(item[0])} \", end =\"\")"
      ],
      "metadata": {
        "colab": {
          "base_uri": "https://localhost:8080/"
        },
        "id": "bA0GSOtc7Loh",
        "outputId": "96609406-013a-49cb-fe97-ac1dfd455c2c"
      },
      "execution_count": null,
      "outputs": [
        {
          "output_type": "stream",
          "name": "stdout",
          "text": [
            "1222311\n",
            "(1, 1) (3, 2) (1, 3) (2, 1) "
          ]
        }
      ]
    },
    {
      "cell_type": "markdown",
      "source": [
        "##Cara 3"
      ],
      "metadata": {
        "id": "eSk0ory68iDB"
      }
    },
    {
      "cell_type": "code",
      "source": [
        "S = input()\n",
        "\n",
        "current_char = S[0]\n",
        "current_cnt = 0\n",
        "tuples = []\n",
        "for i in S:\n",
        "    if i == current_char:\n",
        "        current_cnt += 1\n",
        "    else:\n",
        "        tuples.append((current_cnt, int(current_char)))\n",
        "        current_cnt = 1\n",
        "        current_char = i\n",
        "\n",
        "tuples.append((current_cnt, int(current_char)))\n",
        "for i in tuples:\n",
        "    print(i, end=' ')"
      ],
      "metadata": {
        "colab": {
          "base_uri": "https://localhost:8080/"
        },
        "id": "fzA6Q9Qi7TSm",
        "outputId": "cfd12767-6011-44d6-faa1-4b0e6ef110ab"
      },
      "execution_count": null,
      "outputs": [
        {
          "output_type": "stream",
          "name": "stdout",
          "text": [
            "1222311\n",
            "(1, 1) (3, 2) (1, 3) (2, 1) "
          ]
        }
      ]
    },
    {
      "cell_type": "markdown",
      "source": [
        "##Cara 4"
      ],
      "metadata": {
        "id": "DYnr8fex8jIs"
      }
    },
    {
      "cell_type": "code",
      "source": [
        "from itertools import groupby  \n",
        "for k, g in groupby(input()):\n",
        "    print( (len(list(g)), int(k)) , end=\" \" )"
      ],
      "metadata": {
        "colab": {
          "base_uri": "https://localhost:8080/"
        },
        "id": "qbUmCYjD7Xok",
        "outputId": "5b16b4ec-707b-4946-f6c7-7b5adf9ead80"
      },
      "execution_count": null,
      "outputs": [
        {
          "output_type": "stream",
          "name": "stdout",
          "text": [
            "1222311\n",
            "(1, 1) (3, 2) (1, 3) (2, 1) "
          ]
        }
      ]
    },
    {
      "cell_type": "markdown",
      "source": [
        "##Cara 5"
      ],
      "metadata": {
        "id": "rpE6cHIX8kOl"
      }
    },
    {
      "cell_type": "code",
      "source": [
        "import re\n",
        "\n",
        "S = input()\n",
        "result = re.findall(r'((\\d)\\2*)', S)\n",
        "print(*[(len(x[0]), int(x[1])) for x in result])"
      ],
      "metadata": {
        "colab": {
          "base_uri": "https://localhost:8080/"
        },
        "id": "D3KfHj1L7atE",
        "outputId": "7f3385f3-7600-46f0-8b49-4a56e3dcf477"
      },
      "execution_count": null,
      "outputs": [
        {
          "output_type": "stream",
          "name": "stdout",
          "text": [
            "1222311\n",
            "(1, 1) (3, 2) (1, 3) (2, 1)\n"
          ]
        }
      ]
    },
    {
      "cell_type": "markdown",
      "source": [
        "#collections.counter()"
      ],
      "metadata": {
        "id": "PPrRMxA3NQrM"
      }
    },
    {
      "cell_type": "markdown",
      "source": [
        "##Cara 1"
      ],
      "metadata": {
        "id": "j8olswW12sD_"
      }
    },
    {
      "cell_type": "code",
      "source": [
        "from collections import Counter\n",
        "x, x = input(), Counter(input().split())\n",
        "n = input()\n",
        "m = 0\n",
        "for _ in range(int(n)): \n",
        "    y = input().split(\" \")\n",
        "    if x[y[0]] > 0:\n",
        "        x[y[0]] -= 1\n",
        "        m = m + int(y[1])\n",
        "    else:\n",
        "        pass\n",
        "print(m)"
      ],
      "metadata": {
        "colab": {
          "base_uri": "https://localhost:8080/"
        },
        "id": "zrCuf3EXLHDb",
        "outputId": "5c674fec-7641-4a0c-a6b1-a21aa2913040"
      },
      "execution_count": null,
      "outputs": [
        {
          "output_type": "stream",
          "name": "stdout",
          "text": [
            "10\n",
            "2 3 4 5 6 8 7 6 5 18\n",
            "6\n",
            "6 55\n",
            "5 45\n",
            "6 55\n",
            "4 40\n",
            "18 60\n",
            "10 50\n",
            "255\n"
          ]
        }
      ]
    },
    {
      "cell_type": "markdown",
      "source": [
        "##Cara 2"
      ],
      "metadata": {
        "id": "qSxTZtJJ2uWP"
      }
    },
    {
      "cell_type": "code",
      "source": [
        "from collections import Counter\n",
        "n = input()\n",
        "shoes = input().split()\n",
        "freq = Counter(shoes)\n",
        "total = 0\n",
        "customers = int(input())\n",
        "for _ in range(customers):\n",
        "    customer = input().split()\n",
        "    if customer[0] in freq and freq[customer[0]] > 0:\n",
        "        freq[customer[0]] -= 1\n",
        "        total += int(customer[1])\n",
        "print(total)"
      ],
      "metadata": {
        "colab": {
          "base_uri": "https://localhost:8080/"
        },
        "id": "FgLoSK1CLJ6B",
        "outputId": "06eca3c5-c655-440c-ed7d-a5d670edbc03"
      },
      "execution_count": null,
      "outputs": [
        {
          "output_type": "stream",
          "name": "stdout",
          "text": [
            "10\n",
            "2 3 4 5 6 8 7 6 5 18\n",
            "6\n",
            "6 55\n",
            "5 45\n",
            "6 55\n",
            "4 40\n",
            "18 60\n",
            "10 50\n",
            "255\n"
          ]
        }
      ]
    },
    {
      "cell_type": "markdown",
      "source": [
        "##Cara 3"
      ],
      "metadata": {
        "id": "Id9GgStd2v0Q"
      }
    },
    {
      "cell_type": "code",
      "source": [
        "from collections import Counter\n",
        "\n",
        "x = int(input()) \n",
        "s = list(map(int, input().split()))\n",
        "\n",
        "dictionary = dict( Counter(s))\n",
        "\n",
        "result =0\n",
        "\n",
        "n = int(input()) \n",
        "for i in range(n): \n",
        "  xi, ss = map(int, input().split()) \n",
        "  for key, v in dictionary.items(): \n",
        "    if(xi == key): \n",
        "      if(dictionary[key]>0): result = result+ss \n",
        "      dictionary[key]-=1\n",
        "\n",
        "print(result)"
      ],
      "metadata": {
        "colab": {
          "base_uri": "https://localhost:8080/"
        },
        "id": "7m_C45OCLNB0",
        "outputId": "1ad53fac-8386-4dc4-f63f-b88f4eb12656"
      },
      "execution_count": null,
      "outputs": [
        {
          "output_type": "stream",
          "name": "stdout",
          "text": [
            "10\n",
            "2 3 4 5 6 8 7 6 5 18\n",
            "6\n",
            "6 55\n",
            "5 45\n",
            "6 55\n",
            "4 40\n",
            "18 60\n",
            "10 50\n",
            "255\n"
          ]
        }
      ]
    },
    {
      "cell_type": "markdown",
      "source": [
        "##Cara 4"
      ],
      "metadata": {
        "id": "GBUrydar2xZv"
      }
    },
    {
      "cell_type": "code",
      "source": [
        "from collections import Counter\n",
        "\n",
        "number_of_shoes = int(input())\n",
        "shoe_sizes_str = input()\n",
        "counter = Counter([num for num in shoe_sizes_str.split(' ')])\n",
        "number_of_customers = int(input())\n",
        "\n",
        "amount = 0\n",
        "if 0 < number_of_shoes < 1000 and 0 < number_of_customers <= 1000:\n",
        "    for _ in range(0, number_of_customers):\n",
        "        data = input()\n",
        "        size, price = data.split(' ')\n",
        "        shoe_size, price = int(size), int(price)\n",
        "        if 20 < price < 100 and 2 < shoe_size < 20:\n",
        "            if counter[size] > 0:\n",
        "                amount = amount + price\n",
        "                counter[size] = counter[size] - 1\n",
        "print(amount)"
      ],
      "metadata": {
        "colab": {
          "base_uri": "https://localhost:8080/"
        },
        "id": "2V31yKZGLcgj",
        "outputId": "4e2107ce-68d7-4103-e7dc-dd5817e60f1c"
      },
      "execution_count": null,
      "outputs": [
        {
          "output_type": "stream",
          "name": "stdout",
          "text": [
            "10\n",
            "2  3 4 5 6 8 7 6 5 18\n",
            "6\n",
            "6 55\n",
            "5 45\n",
            "6 55\n",
            "4 40\n",
            "18 60\n",
            "10 50\n",
            "255\n"
          ]
        }
      ]
    },
    {
      "cell_type": "markdown",
      "source": [
        "##Cara 5"
      ],
      "metadata": {
        "id": "_LZx6Iog2zhO"
      }
    },
    {
      "cell_type": "code",
      "source": [
        "from collections import Counter\n",
        "\n",
        "\n",
        "shoeCount: int = int(input())\n",
        "size: list[int] = Counter(list(map(int, input().split(' '))))\n",
        "numberOfCustomer: int = int(input())\n",
        "shoes: list[tuple] = []\n",
        "money_earned = 0\n",
        "\n",
        "for i in range(numberOfCustomer):\n",
        "    shoes.append(tuple(map(int, input().split(' '))))\n",
        "    if size[shoes[-1][0]] != 0:\n",
        "        money_earned += shoes[-1][1]\n",
        "        size[shoes[-1][0]] = size[shoes[-1][0]] - 1\n",
        "        \n",
        "print(money_earned)"
      ],
      "metadata": {
        "colab": {
          "base_uri": "https://localhost:8080/"
        },
        "id": "tvCS60MHLenD",
        "outputId": "f9132d9c-1ce7-493a-8343-313c85cbc3da"
      },
      "execution_count": null,
      "outputs": [
        {
          "output_type": "stream",
          "name": "stdout",
          "text": [
            "10\n",
            "2 3 4 5 6 8 7 6 5 18\n",
            "6\n",
            "6 55\n",
            "5 45\n",
            "6 55\n",
            "4 40\n",
            "18 60\n",
            "10 50\n",
            "255\n"
          ]
        }
      ]
    },
    {
      "cell_type": "markdown",
      "source": [
        "#Polar Coordinates"
      ],
      "metadata": {
        "id": "gXfppZub23YV"
      }
    },
    {
      "cell_type": "markdown",
      "source": [
        "##Cara 1"
      ],
      "metadata": {
        "id": "WNGdGSp03j7P"
      }
    },
    {
      "cell_type": "code",
      "source": [
        "# let z be a complex number representing a polar coordinate\n",
        "# the angle between the line and the x-axis is given by phase(z)\n",
        "# the length of the line from origin to the polar coordinate is # given by abs(z)\n",
        "\n",
        "from cmath import phase\n",
        "z = complex(input())\n",
        "print(abs(z))\n",
        "print(phase(z))"
      ],
      "metadata": {
        "colab": {
          "base_uri": "https://localhost:8080/"
        },
        "id": "TdhL_6cJ23EJ",
        "outputId": "27abdc82-eebe-4c21-dfe4-1a9fcfdd914d"
      },
      "execution_count": null,
      "outputs": [
        {
          "output_type": "stream",
          "name": "stdout",
          "text": [
            "1+2j\n",
            "2.23606797749979\n",
            "1.1071487177940904\n"
          ]
        }
      ]
    },
    {
      "cell_type": "markdown",
      "source": [
        "##Cara 2"
      ],
      "metadata": {
        "id": "vnIEE4lM3mId"
      }
    },
    {
      "cell_type": "code",
      "source": [
        "from math import sqrt\n",
        "from cmath import phase\n",
        "\n",
        "c = complex(input())\n",
        "r = sqrt(abs(c.real) ** 2 + abs(c.imag) ** 2)\n",
        "phi = phase(c)\n",
        "\n",
        "print(r)\n",
        "print(phi)"
      ],
      "metadata": {
        "colab": {
          "base_uri": "https://localhost:8080/"
        },
        "id": "7lUx2phA3A6d",
        "outputId": "4379af62-538c-4890-cb68-85076ca56fcd"
      },
      "execution_count": null,
      "outputs": [
        {
          "output_type": "stream",
          "name": "stdout",
          "text": [
            "1+2j\n",
            "2.23606797749979\n",
            "1.1071487177940904\n"
          ]
        }
      ]
    },
    {
      "cell_type": "markdown",
      "source": [
        "##Cara 3"
      ],
      "metadata": {
        "id": "P1zBEypr3oiE"
      }
    },
    {
      "cell_type": "code",
      "source": [
        "import cmath\n",
        "\n",
        "z=complex(input())\n",
        "\n",
        "phase=cmath.polar(z)\n",
        "\n",
        "for i in phase:\n",
        "    print(i)"
      ],
      "metadata": {
        "colab": {
          "base_uri": "https://localhost:8080/"
        },
        "id": "j_SK_VxU3EYc",
        "outputId": "88767934-5a4b-42c8-d6bc-f93c2ec20307"
      },
      "execution_count": null,
      "outputs": [
        {
          "output_type": "stream",
          "name": "stdout",
          "text": [
            "1+2j\n",
            "2.23606797749979\n",
            "1.1071487177940904\n"
          ]
        }
      ]
    },
    {
      "cell_type": "markdown",
      "source": [
        "##Cara 4"
      ],
      "metadata": {
        "id": "dKnlLT6Z3rOd"
      }
    },
    {
      "cell_type": "code",
      "source": [
        "import cmath\n",
        "\n",
        "z = complex(input())\n",
        "\n",
        "phase = cmath.phase(z)\n",
        "\n",
        "print(abs(z)) \n",
        "print(phase)"
      ],
      "metadata": {
        "colab": {
          "base_uri": "https://localhost:8080/"
        },
        "id": "vW_6yee53GoV",
        "outputId": "e6e2cd7a-1374-413f-81d9-84c74046f58c"
      },
      "execution_count": null,
      "outputs": [
        {
          "output_type": "stream",
          "name": "stdout",
          "text": [
            "1+2j\n",
            "2.23606797749979\n",
            "1.1071487177940904\n"
          ]
        }
      ]
    },
    {
      "cell_type": "markdown",
      "source": [
        "#Find Angle MBC"
      ],
      "metadata": {
        "id": "MzhbWQtf5Q3a"
      }
    },
    {
      "cell_type": "markdown",
      "source": [
        "##Cara 1"
      ],
      "metadata": {
        "id": "ODBk8fpe5VE8"
      }
    },
    {
      "cell_type": "code",
      "source": [
        "import math\n",
        "\n",
        "ab = int(input())\n",
        "\n",
        "bc = int(input())\n",
        "\n",
        "ac = math.sqrt((ab**2) + (bc**2))\n",
        "\n",
        "mbc_ang = math.degrees(math.acos(((ac**2+bc**2-ab**2)/(2*ac*bc))))\n",
        "\n",
        "mbc_ang = round(mbc_ang)\n",
        "\n",
        "degree_symbol = chr(0xB0)\n",
        "\n",
        "print(f'{mbc_ang}{degree_symbol}')"
      ],
      "metadata": {
        "colab": {
          "base_uri": "https://localhost:8080/"
        },
        "id": "NmoHPuLO4SYr",
        "outputId": "6353111a-b63c-485d-91bd-7c575e77a52e"
      },
      "execution_count": null,
      "outputs": [
        {
          "output_type": "stream",
          "name": "stdout",
          "text": [
            "10\n",
            "10\n",
            "45°\n"
          ]
        }
      ]
    },
    {
      "cell_type": "markdown",
      "source": [
        "##Cara 2"
      ],
      "metadata": {
        "id": "SZB3vBhz5XiX"
      }
    },
    {
      "cell_type": "code",
      "source": [
        "import math\n",
        "AB, BC = float(input()), float(input())\n",
        "theta = round(math.degrees(math.atan(AB/BC)))\n",
        "print(f'{theta}\\N{DEGREE SIGN}')"
      ],
      "metadata": {
        "colab": {
          "base_uri": "https://localhost:8080/"
        },
        "id": "7JOkm64z4W2t",
        "outputId": "00bf6ffd-a5bd-4b89-9e58-4abcfb3ccdb0"
      },
      "execution_count": null,
      "outputs": [
        {
          "output_type": "stream",
          "name": "stdout",
          "text": [
            "10\n",
            "10\n",
            "45°\n"
          ]
        }
      ]
    },
    {
      "cell_type": "markdown",
      "source": [
        "##Cara 3"
      ],
      "metadata": {
        "id": "N1LLyk7d5YjU"
      }
    },
    {
      "cell_type": "code",
      "source": [
        "from math import atan2 , pi\n",
        "a, b = int(input()), int(input())\n",
        "theta = atan2(a,b)/pi*1801\n",
        "print(f'{theta:.0f}\\N{DEGREE SIGN}')"
      ],
      "metadata": {
        "colab": {
          "base_uri": "https://localhost:8080/"
        },
        "id": "6iJUxoR65AQ1",
        "outputId": "91d1b185-66b1-401b-879e-6eade6957fa7"
      },
      "execution_count": null,
      "outputs": [
        {
          "output_type": "stream",
          "name": "stdout",
          "text": [
            "10\n",
            "10\n",
            "45°\n"
          ]
        }
      ]
    },
    {
      "cell_type": "markdown",
      "source": [
        "##Cara 4"
      ],
      "metadata": {
        "id": "vX240ubL5Z6G"
      }
    },
    {
      "cell_type": "code",
      "source": [
        "import math\n",
        "AB = float(input())\n",
        "BC = float(input())\n",
        "angle_degrees = round(math.degrees(math.atan(AB/BC)))\n",
        "print(f\"{angle_degrees}\\N{DEGREE SIGN}\")"
      ],
      "metadata": {
        "colab": {
          "base_uri": "https://localhost:8080/"
        },
        "id": "pffk5IPX5Fkl",
        "outputId": "ca25a4ab-87c4-412f-8312-01b99fdeb9ac"
      },
      "execution_count": null,
      "outputs": [
        {
          "output_type": "stream",
          "name": "stdout",
          "text": [
            "10\n",
            "10\n",
            "45°\n"
          ]
        }
      ]
    },
    {
      "cell_type": "markdown",
      "source": [
        "##Cara 5"
      ],
      "metadata": {
        "id": "XZf4ZHJc5bPV"
      }
    },
    {
      "cell_type": "code",
      "source": [
        "import math\n",
        "if __name__ == \"__main__\":\n",
        "    AB = int(input())\n",
        "    BC = int(input())\n",
        "    # BM & MC both equal 1/2 the hypoteneus per Thales Theorem\n",
        "    # Therefore MBC == BCA as BCM is an Isosceles triangle\n",
        "    # Inverse Tan to find BCA:\n",
        "    MBC_BCA = math.degrees(math.atan(AB / BC))\n",
        "    print(f\"{round(MBC_BCA)}{chr(176)}\")"
      ],
      "metadata": {
        "colab": {
          "base_uri": "https://localhost:8080/"
        },
        "id": "czs9BYbU5LZ1",
        "outputId": "3dee03b8-f797-44b3-c03a-dc3f268d2fad"
      },
      "execution_count": null,
      "outputs": [
        {
          "output_type": "stream",
          "name": "stdout",
          "text": [
            "10\n",
            "10\n",
            "45°\n"
          ]
        }
      ]
    },
    {
      "cell_type": "markdown",
      "source": [
        "#Triangle Quest 2"
      ],
      "metadata": {
        "id": "Dd41pLfD55KD"
      }
    },
    {
      "cell_type": "markdown",
      "source": [
        "##Cara 1"
      ],
      "metadata": {
        "id": "VYHAzciK6OFF"
      }
    },
    {
      "cell_type": "code",
      "source": [
        "for i in range(1,int(input())+1): #More than 2 lines will result in 0 score. Do not leave a blank line also\n",
        "    print(round((1 * round((10**i-1)/9))**2))"
      ],
      "metadata": {
        "colab": {
          "base_uri": "https://localhost:8080/"
        },
        "id": "N5zdofEC5-RI",
        "outputId": "55985004-d666-4b1a-8056-83b3e895dae0"
      },
      "execution_count": null,
      "outputs": [
        {
          "output_type": "stream",
          "name": "stdout",
          "text": [
            "5\n",
            "1\n",
            "121\n",
            "12321\n",
            "1234321\n",
            "123454321\n"
          ]
        }
      ]
    },
    {
      "cell_type": "markdown",
      "source": [
        "##Cara 2"
      ],
      "metadata": {
        "id": "DSEzJaei6QQT"
      }
    },
    {
      "cell_type": "code",
      "source": [
        "for i in range(int(input())):\n",
        "            print((int((10**(i+1)-1)/9))**2)"
      ],
      "metadata": {
        "colab": {
          "base_uri": "https://localhost:8080/"
        },
        "id": "KwB1CE1Y6GXz",
        "outputId": "91434e47-065b-47d5-ccb4-1de4e7f4d1e8"
      },
      "execution_count": null,
      "outputs": [
        {
          "output_type": "stream",
          "name": "stdout",
          "text": [
            "5\n",
            "1\n",
            "121\n",
            "12321\n",
            "1234321\n",
            "123454321\n"
          ]
        }
      ]
    },
    {
      "cell_type": "markdown",
      "source": [
        "#Mod Divmod"
      ],
      "metadata": {
        "id": "PRafHoX87mQq"
      }
    },
    {
      "cell_type": "markdown",
      "source": [
        "##Cara 1"
      ],
      "metadata": {
        "id": "Vt9bUWY-7o4r"
      }
    },
    {
      "cell_type": "code",
      "source": [
        "a= int(input())\n",
        "b = int(input())\n",
        "\n",
        "print(\"\\n\".join(map(str,divmod(a,b))))\n",
        "print(divmod(a,b))"
      ],
      "metadata": {
        "colab": {
          "base_uri": "https://localhost:8080/"
        },
        "id": "sokBCxll7MOC",
        "outputId": "b72baf8a-dbc2-4af8-c1c2-651d6232402c"
      },
      "execution_count": null,
      "outputs": [
        {
          "output_type": "stream",
          "name": "stdout",
          "text": [
            "177\n",
            "10\n",
            "17\n",
            "7\n",
            "(17, 7)\n"
          ]
        }
      ]
    },
    {
      "cell_type": "markdown",
      "source": [
        "##Cara 2"
      ],
      "metadata": {
        "id": "XFbemqXq7qT3"
      }
    },
    {
      "cell_type": "code",
      "source": [
        "a = int(input())\n",
        "b = int(input())\n",
        "print(divmod(a, b)[0])\n",
        "print(divmod(a, b)[1])\n",
        "print(divmod(a, b))"
      ],
      "metadata": {
        "colab": {
          "base_uri": "https://localhost:8080/"
        },
        "id": "UYMwrBrc7XZT",
        "outputId": "f1ec9bf1-7f84-4049-da98-0f5f9c90951e"
      },
      "execution_count": null,
      "outputs": [
        {
          "output_type": "stream",
          "name": "stdout",
          "text": [
            "177\n",
            "10\n",
            "17\n",
            "7\n",
            "(17, 7)\n"
          ]
        }
      ]
    },
    {
      "cell_type": "markdown",
      "source": [
        "##Cara 3"
      ],
      "metadata": {
        "id": "zXf5DKow7sJq"
      }
    },
    {
      "cell_type": "code",
      "source": [
        "a = int(input())\n",
        "b = int(input())\n",
        "\n",
        "def main(a,b):\n",
        "    print(a//b)\n",
        "    print(a%b)\n",
        "    print(divmod(a,b))\n",
        "main(a,b)"
      ],
      "metadata": {
        "colab": {
          "base_uri": "https://localhost:8080/"
        },
        "id": "i9MfIITS7dKU",
        "outputId": "dc64fb01-eb54-4519-dcc4-694631808f19"
      },
      "execution_count": null,
      "outputs": [
        {
          "output_type": "stream",
          "name": "stdout",
          "text": [
            "177\n",
            "10\n",
            "17\n",
            "7\n",
            "(17, 7)\n"
          ]
        }
      ]
    },
    {
      "cell_type": "markdown",
      "source": [
        "#Power- Mod Power"
      ],
      "metadata": {
        "id": "yCOAVDE_9MmC"
      }
    },
    {
      "cell_type": "markdown",
      "source": [
        "##Cara 1"
      ],
      "metadata": {
        "id": "VpKxce189PoJ"
      }
    },
    {
      "cell_type": "code",
      "source": [
        "a, b, m = int(input()), int(input()), int(input())\n",
        "print(a**b)\n",
        "print(a**b%m)"
      ],
      "metadata": {
        "colab": {
          "base_uri": "https://localhost:8080/"
        },
        "id": "66eKV87H8B8q",
        "outputId": "56f21f9f-2dc8-4ec7-9478-c491f1ba02ac"
      },
      "execution_count": null,
      "outputs": [
        {
          "output_type": "stream",
          "name": "stdout",
          "text": [
            "3\n",
            "4\n",
            "5\n",
            "81\n",
            "1\n"
          ]
        }
      ]
    },
    {
      "cell_type": "markdown",
      "source": [
        "##Cara 2"
      ],
      "metadata": {
        "id": "y8jQPjfp9Raj"
      }
    },
    {
      "cell_type": "code",
      "source": [
        "a,b,c=int(input()),int(input()),int(input())\n",
        "print(*(pow(a,b),pow(a,b,c)),sep='\\n')"
      ],
      "metadata": {
        "colab": {
          "base_uri": "https://localhost:8080/"
        },
        "id": "aqY9m3E88JW_",
        "outputId": "b1e596d9-064f-401d-be69-ecc02d979453"
      },
      "execution_count": null,
      "outputs": [
        {
          "output_type": "stream",
          "name": "stdout",
          "text": [
            "3\n",
            "4\n",
            "5\n",
            "81\n",
            "1\n"
          ]
        }
      ]
    },
    {
      "cell_type": "markdown",
      "source": [
        "##Cara 3"
      ],
      "metadata": {
        "id": "fwiYT2ex9SxB"
      }
    },
    {
      "cell_type": "code",
      "source": [
        "a = int(input()) \n",
        "b = int(input()) \n",
        "m = int(input()) \n",
        "print(pow(a,b)) \n",
        "print(pow(a,b,m))"
      ],
      "metadata": {
        "colab": {
          "base_uri": "https://localhost:8080/"
        },
        "id": "WyKIkQYt8UeU",
        "outputId": "ee9258f9-aef9-4faa-c1fb-f63b2a9be264"
      },
      "execution_count": null,
      "outputs": [
        {
          "output_type": "stream",
          "name": "stdout",
          "text": [
            "3\n",
            "4\n",
            "5\n",
            "81\n",
            "1\n"
          ]
        }
      ]
    },
    {
      "cell_type": "markdown",
      "source": [
        "##Cara 4"
      ],
      "metadata": {
        "id": "R5mleMgC9UVC"
      }
    },
    {
      "cell_type": "code",
      "source": [
        "import math \n",
        "a,b,c=int(input()),int(input()),int(input()) \n",
        "d=int(math.pow(a,b)) \n",
        "print(d) \n",
        "print(int(math.fmod(d,c)))"
      ],
      "metadata": {
        "colab": {
          "base_uri": "https://localhost:8080/"
        },
        "id": "L3rn6DX58eaq",
        "outputId": "a7958ef5-7892-4bc7-f004-7ffe72252a31"
      },
      "execution_count": null,
      "outputs": [
        {
          "output_type": "stream",
          "name": "stdout",
          "text": [
            "3\n",
            "4\n",
            "5\n",
            "81\n",
            "1\n"
          ]
        }
      ]
    },
    {
      "cell_type": "markdown",
      "source": [
        "##Cara 5"
      ],
      "metadata": {
        "id": "J7zFKhB99WaZ"
      }
    },
    {
      "cell_type": "code",
      "source": [
        "a, b, m = int(input()), int(input()), int(input())\n",
        "print(pow(a,b),pow(a,b,m),sep='\\n')"
      ],
      "metadata": {
        "colab": {
          "base_uri": "https://localhost:8080/"
        },
        "id": "b3CDn3398rvT",
        "outputId": "b057e0bc-5a69-4c20-8333-5dc5ffab5f9f"
      },
      "execution_count": null,
      "outputs": [
        {
          "output_type": "stream",
          "name": "stdout",
          "text": [
            "3\n",
            "4\n",
            "5\n",
            "81\n",
            "1\n"
          ]
        }
      ]
    },
    {
      "cell_type": "markdown",
      "source": [
        "##Cara 6"
      ],
      "metadata": {
        "id": "M3ZFu8Wd9X_L"
      }
    },
    {
      "cell_type": "code",
      "source": [
        "a, b, m = [int(input()) for _ in range(3)]\n",
        "\n",
        "print(f\"{pow(a,b)}\\n{pow(a,b,m)}\")"
      ],
      "metadata": {
        "colab": {
          "base_uri": "https://localhost:8080/"
        },
        "id": "Gwp-NDyA80xZ",
        "outputId": "79c97c08-4f5e-467d-b8b7-f374bc410e5d"
      },
      "execution_count": null,
      "outputs": [
        {
          "output_type": "stream",
          "name": "stdout",
          "text": [
            "3\n",
            "4\n",
            "5\n",
            "81\n",
            "1\n"
          ]
        }
      ]
    },
    {
      "cell_type": "markdown",
      "source": [
        "#Integers Come in All Sizes"
      ],
      "metadata": {
        "id": "8NduLtkR-J-K"
      }
    },
    {
      "cell_type": "markdown",
      "source": [
        "##Cara 1"
      ],
      "metadata": {
        "id": "NUIiLhRx-Nji"
      }
    },
    {
      "cell_type": "code",
      "source": [
        "a, b, c, d = int(input()), int(input()), int(input()), int(input())\n",
        "print((a**b)+(c**d))"
      ],
      "metadata": {
        "colab": {
          "base_uri": "https://localhost:8080/"
        },
        "id": "o3xubXam9nyT",
        "outputId": "dc19b0d1-e551-48a8-9aa6-0fa23b6fd136"
      },
      "execution_count": null,
      "outputs": [
        {
          "output_type": "stream",
          "name": "stdout",
          "text": [
            "9\n",
            "29\n",
            "7\n",
            "27\n",
            "4710194409608608369201743232\n"
          ]
        }
      ]
    },
    {
      "cell_type": "markdown",
      "source": [
        "##Cara 2"
      ],
      "metadata": {
        "id": "yjwjwCik-PH4"
      }
    },
    {
      "cell_type": "code",
      "source": [
        "a = int(input()) \n",
        "b = int(input()) \n",
        "c = int(input()) \n",
        "d = int(input()) \n",
        "print(pow(a,b)+pow(c,d))"
      ],
      "metadata": {
        "colab": {
          "base_uri": "https://localhost:8080/"
        },
        "id": "VmSyI0p09vV2",
        "outputId": "f7a0c611-2572-4dfa-9a0f-9a587ad24e1a"
      },
      "execution_count": null,
      "outputs": [
        {
          "output_type": "stream",
          "name": "stdout",
          "text": [
            "9\n",
            "29\n",
            "7\n",
            "27\n",
            "4710194409608608369201743232\n"
          ]
        }
      ]
    },
    {
      "cell_type": "markdown",
      "source": [
        "##Cara 3"
      ],
      "metadata": {
        "id": "j-qp2Coz-QuZ"
      }
    },
    {
      "cell_type": "code",
      "source": [
        "a,b,c,d=int(input()),int(input()),int(input()),int(input()) \n",
        "print(a**b+c**d)"
      ],
      "metadata": {
        "colab": {
          "base_uri": "https://localhost:8080/"
        },
        "id": "aQb845zm95bA",
        "outputId": "38efcc7e-88c5-4a5b-ca2c-a2848b0a786a"
      },
      "execution_count": null,
      "outputs": [
        {
          "output_type": "stream",
          "name": "stdout",
          "text": [
            "9\n",
            "29\n",
            "7\n",
            "27\n",
            "4710194409608608369201743232\n"
          ]
        }
      ]
    },
    {
      "cell_type": "markdown",
      "source": [
        "##Cara 4"
      ],
      "metadata": {
        "id": "FU7ByEEx-SVA"
      }
    },
    {
      "cell_type": "code",
      "source": [
        "ints = [int(input()) for _ in range(4)]\n",
        "\n",
        "print(pow(*ints[0:2]) + pow(*ints[2:4]))"
      ],
      "metadata": {
        "colab": {
          "base_uri": "https://localhost:8080/"
        },
        "id": "93RasUUM-Cry",
        "outputId": "bcfcaa0e-2bd5-43af-88c6-5f71b450350e"
      },
      "execution_count": null,
      "outputs": [
        {
          "output_type": "stream",
          "name": "stdout",
          "text": [
            "9\n",
            "29\n",
            "7\n",
            "27\n",
            "4710194409608608369201743232\n"
          ]
        }
      ]
    },
    {
      "cell_type": "markdown",
      "source": [
        "#Introduction to Sets"
      ],
      "metadata": {
        "id": "aQlLkMD9r9AO"
      }
    },
    {
      "cell_type": "markdown",
      "source": [
        "##Cara 1"
      ],
      "metadata": {
        "id": "8Lki1EPSr_9N"
      }
    },
    {
      "cell_type": "code",
      "source": [
        "def average(array):\n",
        "    # your code goes here\n",
        "    s = sum(set(array))\n",
        "    l = len(set(array))\n",
        "    av = s/l\n",
        "    return (av)\n",
        "if __name__ == '__main__':\n",
        "    n = int(input())\n",
        "    arr = list(map(int, input().split()))\n",
        "    result = average(arr)\n",
        "    print(result)"
      ],
      "metadata": {
        "colab": {
          "base_uri": "https://localhost:8080/"
        },
        "id": "uDP-drAwrMau",
        "outputId": "b5cd12cf-f6f9-441c-dd8f-f0168aea6529"
      },
      "execution_count": null,
      "outputs": [
        {
          "output_type": "stream",
          "name": "stdout",
          "text": [
            "10\n",
            "161 182 161 154 176 170 167 171 170 174\n",
            "169.375\n"
          ]
        }
      ]
    },
    {
      "cell_type": "markdown",
      "source": [
        "##Cara 2"
      ],
      "metadata": {
        "id": "FFLOMKn6sBh9"
      }
    },
    {
      "cell_type": "code",
      "source": [
        "def average(array):\n",
        "    # your code goes here\n",
        "    return sum(set(array))/len(set(array))\n",
        "if __name__ == '__main__':\n",
        "    n = int(input())\n",
        "    arr = list(map(int, input().split()))\n",
        "    result = average(arr)\n",
        "    print(result)"
      ],
      "metadata": {
        "colab": {
          "base_uri": "https://localhost:8080/"
        },
        "id": "zQ5S5qdtrS_-",
        "outputId": "08ee9612-e79a-40d7-c26f-217f3630de4e"
      },
      "execution_count": null,
      "outputs": [
        {
          "output_type": "stream",
          "name": "stdout",
          "text": [
            "10\n",
            "161 182 161 154 176 170 167 171 170 174\n",
            "169.375\n"
          ]
        }
      ]
    },
    {
      "cell_type": "markdown",
      "source": [
        "##Cara 3"
      ],
      "metadata": {
        "id": "0Illi2L8sDAN"
      }
    },
    {
      "cell_type": "code",
      "source": [
        "def average(array):\n",
        "    # your code goes here\n",
        "    return round(sum(set(array))/len(set(array)),3)\n",
        "if __name__ == '__main__':\n",
        "    n = int(input())\n",
        "    arr = list(map(int, input().split()))\n",
        "    result = average(arr)\n",
        "    print(result)"
      ],
      "metadata": {
        "colab": {
          "base_uri": "https://localhost:8080/"
        },
        "id": "8GA9EskarX71",
        "outputId": "fc66a925-f041-4b93-c13c-9728bcf14a4f"
      },
      "execution_count": null,
      "outputs": [
        {
          "output_type": "stream",
          "name": "stdout",
          "text": [
            "10\n",
            "161 182 161 154 176 170 167 171 170 174\n",
            "169.375\n"
          ]
        }
      ]
    },
    {
      "cell_type": "markdown",
      "source": [
        "#Symmetric Difference"
      ],
      "metadata": {
        "id": "yYVlDTEbt89D"
      }
    },
    {
      "cell_type": "markdown",
      "source": [
        "##Cara 1"
      ],
      "metadata": {
        "id": "gATENqRzzE5x"
      }
    },
    {
      "cell_type": "code",
      "source": [
        "M_int = int(input())\n",
        "M = set(map(int, input().split())) \n",
        "N_int = int(input())\n",
        "N = set(map(int, input().split()))\n",
        "print('\\n'.join(map(str,sorted(M.symmetric_difference(N)))))"
      ],
      "metadata": {
        "colab": {
          "base_uri": "https://localhost:8080/"
        },
        "id": "FWVgGeXrs_qm",
        "outputId": "904c7b47-55d0-4be8-8acb-37f66cd36020"
      },
      "execution_count": null,
      "outputs": [
        {
          "output_type": "stream",
          "name": "stdout",
          "text": [
            "4\n",
            "2 4 5 9\n",
            "4\n",
            "2 4 11 12\n",
            "5\n",
            "9\n",
            "11\n",
            "12\n"
          ]
        }
      ]
    },
    {
      "cell_type": "markdown",
      "source": [
        "##Cara 2"
      ],
      "metadata": {
        "id": "FRor5cDMzGjR"
      }
    },
    {
      "cell_type": "code",
      "source": [
        "# first we create sets for each integers entered\n",
        "# then we find the symmetric differences and print them vertically\n",
        "N, N_set = int(input()), set(map(int, input().split()))\n",
        "M, M_set = int(input()), set(map(int, input().split()))\n",
        "for i in sorted(N_set.difference(M_set).union(M_set.difference(N_set))):\n",
        "    print(i)"
      ],
      "metadata": {
        "colab": {
          "base_uri": "https://localhost:8080/"
        },
        "id": "k9NwHUTPtBR2",
        "outputId": "64f986fe-2ce4-4fc9-c5d3-e3130e198096"
      },
      "execution_count": null,
      "outputs": [
        {
          "output_type": "stream",
          "name": "stdout",
          "text": [
            "4\n",
            "2 4 5 9\n",
            "4\n",
            "2 4 11 12\n",
            "5\n",
            "9\n",
            "11\n",
            "12\n"
          ]
        }
      ]
    },
    {
      "cell_type": "markdown",
      "source": [
        "##Cara 3"
      ],
      "metadata": {
        "id": "xDpmrdURzH_q"
      }
    },
    {
      "cell_type": "code",
      "source": [
        "m = int(input())\n",
        "set1 = set(map(int, input().split()))\n",
        "n = int(input())\n",
        "set2 = set(map(int, input().split()))\n",
        "\n",
        "diff1 = set1.symmetric_difference(set2)\n",
        "diff2 = set2.symmetric_difference(set1)\n",
        "\n",
        "diff = diff1.union(diff2)\n",
        "\n",
        "sort = sorted(diff)\n",
        "\n",
        "for i in sort:\n",
        "    print(i)"
      ],
      "metadata": {
        "colab": {
          "base_uri": "https://localhost:8080/"
        },
        "id": "31tHLgCJtDbt",
        "outputId": "7b9a43e3-c93c-47f4-e9ec-f02371fa8912"
      },
      "execution_count": null,
      "outputs": [
        {
          "output_type": "stream",
          "name": "stdout",
          "text": [
            "4\n",
            "2 4 5 9\n",
            "4\n",
            "2 4 11 12\n",
            "5\n",
            "9\n",
            "11\n",
            "12\n"
          ]
        }
      ]
    },
    {
      "cell_type": "markdown",
      "source": [
        "##Cara 4"
      ],
      "metadata": {
        "id": "cb8mW7K0zJ3g"
      }
    },
    {
      "cell_type": "code",
      "source": [
        "m = int(input()) \n",
        "m1 = input().split() \n",
        "m2 = [] \n",
        "for i in range(m): m2.append(int(m1[i])) \n",
        "set1 = set(m2)\n",
        "\n",
        "n = int(input()) \n",
        "n1 = input().split() \n",
        "n2 = [] \n",
        "for i in range(n): n2.append(int(n1[i])) \n",
        "set2 = set(n2)\n",
        "\n",
        "diff1 = set1.difference(set2) \n",
        "diff2 = set2.difference(set1)\n",
        "\n",
        "final = diff1.union(diff2)\n",
        "\n",
        "for item in sorted(final): print(item)"
      ],
      "metadata": {
        "colab": {
          "base_uri": "https://localhost:8080/"
        },
        "id": "jMj4heMAtF1-",
        "outputId": "23bf50ab-6127-4c6e-d4cd-029c8278e6c4"
      },
      "execution_count": null,
      "outputs": [
        {
          "output_type": "stream",
          "name": "stdout",
          "text": [
            "4\n",
            "2 4 5 9\n",
            "4\n",
            "2 4 11 12\n",
            "5\n",
            "9\n",
            "11\n",
            "12\n"
          ]
        }
      ]
    },
    {
      "cell_type": "markdown",
      "source": [
        "##Cara 5"
      ],
      "metadata": {
        "id": "m5gjEubbzMTu"
      }
    },
    {
      "cell_type": "code",
      "source": [
        "m = int(input())\n",
        "m_set = set(map(int, input().split(' ')))\n",
        "n = int(input())\n",
        "n_set = set(map(int, input().split(' ')))\n",
        "\n",
        "dif = sorted(m_set.symmetric_difference(n_set))\n",
        "print('\\n'.join([str(x) for x in dif]))"
      ],
      "metadata": {
        "colab": {
          "base_uri": "https://localhost:8080/"
        },
        "id": "uv8EeC2NtRy9",
        "outputId": "9f0011d1-daac-4116-84f7-024449b69dd9"
      },
      "execution_count": null,
      "outputs": [
        {
          "output_type": "stream",
          "name": "stdout",
          "text": [
            "4\n",
            "2 4 5 9\n",
            "4\n",
            "2 4 11 12\n",
            "5\n",
            "9\n",
            "11\n",
            "12\n"
          ]
        }
      ]
    },
    {
      "cell_type": "markdown",
      "source": [
        "#No Idea!"
      ],
      "metadata": {
        "id": "pjuglx-TDyM9"
      }
    },
    {
      "cell_type": "markdown",
      "source": [
        "##Cara 1"
      ],
      "metadata": {
        "id": "G-BEDi0ND0jc"
      }
    },
    {
      "cell_type": "code",
      "source": [
        "inp = input()\n",
        "\n",
        "arr = list(map(int, input().strip().split()))\n",
        "\n",
        "a = list(map(int, input().strip().split()))\n",
        "\n",
        "b = list(map(int, input().strip().split()))\n",
        "\n",
        "happiness = 0\n",
        "\n",
        "for i in range(len(arr)): \n",
        "  if (arr[i] in a): happiness += 1 \n",
        "  elif(arr[i] in b): happiness -= 1\n",
        "\n",
        "print(happiness)"
      ],
      "metadata": {
        "colab": {
          "base_uri": "https://localhost:8080/"
        },
        "id": "HYwM-kl968g9",
        "outputId": "f7aadbb1-c745-4f09-a831-8735c52658d0"
      },
      "execution_count": null,
      "outputs": [
        {
          "output_type": "stream",
          "name": "stdout",
          "text": [
            "3 2\n",
            "1 5 3\n",
            "3 1\n",
            "5 7\n",
            "1\n"
          ]
        }
      ]
    },
    {
      "cell_type": "markdown",
      "source": [
        "##Cara 2"
      ],
      "metadata": {
        "id": "M7fOIJSQD2Gl"
      }
    },
    {
      "cell_type": "code",
      "source": [
        "from collections import Counter\n",
        "\n",
        "inp = input()\n",
        "\n",
        "arr = list(map(int, input().strip().split()))\n",
        "\n",
        "a = list(map(int, input().strip().split()))\n",
        "\n",
        "b = list(map(int, input().strip().split()))\n",
        "\n",
        "\n",
        "arr_count = Counter(arr)\n",
        "\n",
        "happiness = 0 + sum(arr_count[x] for x in a) - sum(arr_count[x] for x in b)\n",
        "\n",
        "\n",
        "print(happiness)"
      ],
      "metadata": {
        "colab": {
          "base_uri": "https://localhost:8080/"
        },
        "id": "pwPjqQ3h6_3c",
        "outputId": "e5044c64-8b88-4b46-965c-9ec8e9187f71"
      },
      "execution_count": null,
      "outputs": [
        {
          "output_type": "stream",
          "name": "stdout",
          "text": [
            "3 2\n",
            "1 5 3\n",
            "3 1\n",
            "5 7\n",
            "1\n"
          ]
        }
      ]
    },
    {
      "cell_type": "markdown",
      "source": [
        "##Cara 3"
      ],
      "metadata": {
        "id": "_e1x17CHD3cl"
      }
    },
    {
      "cell_type": "code",
      "source": [
        "n, m = map(int, input().split())\n",
        "list1 = list(map(int, input().split()))\n",
        "A, B = set(map(int, input().split())), set(map(int, input().split()))\n",
        "happiness = 0\n",
        "for i in range(n):\n",
        "    if list1[i] in A:\n",
        "        happiness += 1\n",
        "    if list1[i] in B:\n",
        "        happiness -= 1\n",
        "\n",
        "print(happiness)"
      ],
      "metadata": {
        "colab": {
          "base_uri": "https://localhost:8080/"
        },
        "id": "D8hXPVl67MU7",
        "outputId": "c2c49f93-fec3-46a4-ec69-139afc73523d"
      },
      "execution_count": null,
      "outputs": [
        {
          "output_type": "stream",
          "name": "stdout",
          "text": [
            "3 2\n",
            "1 5 3\n",
            "3 1\n",
            "5 7\n",
            "1\n"
          ]
        }
      ]
    },
    {
      "cell_type": "markdown",
      "source": [
        "#Set.add()"
      ],
      "metadata": {
        "id": "osIDK8-6ENMN"
      }
    },
    {
      "cell_type": "markdown",
      "source": [
        "##Cara 1"
      ],
      "metadata": {
        "id": "Owo0K2q7FCer"
      }
    },
    {
      "cell_type": "code",
      "source": [
        "# we can just input the data in a set and print the length of the set\n",
        "s1={input() for i in range(int(input()))}\n",
        "print(len(s1))"
      ],
      "metadata": {
        "colab": {
          "base_uri": "https://localhost:8080/"
        },
        "id": "j9mcnPkPEWlr",
        "outputId": "22b1288c-9638-476d-c5a0-3a51bb0aa5ca"
      },
      "execution_count": null,
      "outputs": [
        {
          "output_type": "stream",
          "name": "stdout",
          "text": [
            "7\n",
            "UK\n",
            "China\n",
            "USA\n",
            "France\n",
            "New Zealand\n",
            "UK\n",
            "France\n",
            "5\n"
          ]
        }
      ]
    },
    {
      "cell_type": "markdown",
      "source": [
        "##Cara 2"
      ],
      "metadata": {
        "id": "ywcHeXNtFECk"
      }
    },
    {
      "cell_type": "code",
      "source": [
        "countries = set()\n",
        "for _ in range(int(input())):\n",
        "    countries.add(input())\n",
        "\n",
        "print(len(countries))"
      ],
      "metadata": {
        "colab": {
          "base_uri": "https://localhost:8080/"
        },
        "id": "WI_ZfUGZEj7E",
        "outputId": "ed421045-c2e2-4c94-ba5c-83c6ec6c27bd"
      },
      "execution_count": null,
      "outputs": [
        {
          "output_type": "stream",
          "name": "stdout",
          "text": [
            "7\n",
            "UK\n",
            "China\n",
            "USA\n",
            "France\n",
            "New Zealand\n",
            "UK\n",
            "France\n",
            "5\n"
          ]
        }
      ]
    },
    {
      "cell_type": "markdown",
      "source": [
        "##Cara 3"
      ],
      "metadata": {
        "id": "YDepHv1gFFgM"
      }
    },
    {
      "cell_type": "code",
      "source": [
        "# we can simply add the N inputs into a set then print its length\n",
        "N, my_set = int(input()), set()\n",
        "for i in range(N):\n",
        "    f = input()\n",
        "    my_set.add(f)\n",
        "\n",
        "print(len(my_set))"
      ],
      "metadata": {
        "colab": {
          "base_uri": "https://localhost:8080/"
        },
        "id": "gvIZ8unSEuwU",
        "outputId": "fb72c6c8-f7c5-4b02-d825-84b26567cdc3"
      },
      "execution_count": null,
      "outputs": [
        {
          "output_type": "stream",
          "name": "stdout",
          "text": [
            "7\n",
            "UK\n",
            "China\n",
            "USA\n",
            "France\n",
            "New Zealand\n",
            "UK\n",
            "France\n",
            "5\n"
          ]
        }
      ]
    },
    {
      "cell_type": "markdown",
      "source": [
        "##Cara 4"
      ],
      "metadata": {
        "id": "vaUpeyVxFHNs"
      }
    },
    {
      "cell_type": "code",
      "source": [
        "print(len(set(input() for i in range(int(input())))))"
      ],
      "metadata": {
        "colab": {
          "base_uri": "https://localhost:8080/"
        },
        "id": "XM91JANSExbj",
        "outputId": "a3ac238e-b8c8-45be-e1d5-79512528f244"
      },
      "execution_count": null,
      "outputs": [
        {
          "output_type": "stream",
          "name": "stdout",
          "text": [
            "7\n",
            "UK\n",
            "China\n",
            "USA\n",
            "France\n",
            "New Zealand\n",
            "UK\n",
            "France\n",
            "5\n"
          ]
        }
      ]
    },
    {
      "cell_type": "markdown",
      "source": [
        "#Set.discard(), remove(), & pop()"
      ],
      "metadata": {
        "id": "B1TiaqOoHcS0"
      }
    },
    {
      "cell_type": "markdown",
      "source": [
        "##Cara 1"
      ],
      "metadata": {
        "id": "kU_nWJ-VHjVK"
      }
    },
    {
      "cell_type": "code",
      "source": [
        "n = int(input())\n",
        "s = set(map(int, input().split()))\n",
        "\n",
        "N = int(input())\n",
        "\n",
        "for i in range(N):\n",
        "    command = input().split()\n",
        "    if command[0]=='pop':\n",
        "        s.pop()\n",
        "    elif command[0]=='remove':\n",
        "        param = int(command[1])\n",
        "        s.remove(param)\n",
        "    elif command[0]=='discard':\n",
        "        param = int(command[1])\n",
        "        s.discard(param)\n",
        "    \n",
        "print(sum(s))"
      ],
      "metadata": {
        "colab": {
          "base_uri": "https://localhost:8080/"
        },
        "id": "e6ccCsDSFwej",
        "outputId": "0aac7eb5-eeba-4def-f082-9bcef28f8bdf"
      },
      "execution_count": null,
      "outputs": [
        {
          "output_type": "stream",
          "name": "stdout",
          "text": [
            "9\n",
            "1 2 3 4 5 6 7 8 9\n",
            "10\n",
            "pop\n",
            "remove 9\n",
            "discard 9\n",
            "discard 8\n",
            "remove 7\n",
            "pop\n",
            "discard 6\n",
            "remove 5\n",
            "pop\n",
            "discard 5\n",
            "4\n"
          ]
        }
      ]
    },
    {
      "cell_type": "markdown",
      "source": [
        "##Cara 2"
      ],
      "metadata": {
        "id": "07QJlY4fHlDD"
      }
    },
    {
      "cell_type": "code",
      "source": [
        "n = int(input())#No of set values\n",
        "s = set(map(int, input().split()))#Actual set\n",
        "N = int(input())#No of commands\n",
        "for c in range(1,N+1):\n",
        "  command = input()#The Command given\n",
        "  if command == 'pop':\n",
        "    s.pop()\n",
        "  elif command[0:6] == 'remove':\n",
        "    param = int(command[7:]) \n",
        "    s.remove(param)\n",
        "  elif command[0:7] == 'discard':\n",
        "    param = int(command[8:])\n",
        "    s.discard(param)\n",
        "print(sum(s))"
      ],
      "metadata": {
        "colab": {
          "base_uri": "https://localhost:8080/"
        },
        "id": "D5D8FyRWFzGr",
        "outputId": "5cd0e41d-d48b-4565-f60f-696d71eb4f35"
      },
      "execution_count": null,
      "outputs": [
        {
          "output_type": "stream",
          "name": "stdout",
          "text": [
            "9\n",
            "1 2 3 4 5 6 7 8 9\n",
            "10\n",
            "pop\n",
            "remove 9\n",
            "discard 9\n",
            "discard 8\n",
            "remove 7\n",
            "pop\n",
            "discard 6\n",
            "remove 5\n",
            "pop\n",
            "discard 5\n",
            "4\n"
          ]
        }
      ]
    },
    {
      "cell_type": "markdown",
      "source": [
        "##Cara 3"
      ],
      "metadata": {
        "id": "XgeNYPm7Hm0T"
      }
    },
    {
      "cell_type": "code",
      "source": [
        "n = int(input())\n",
        "s = set(map(int, input().split()))\n",
        "m = int(input())\n",
        "for _ in range(m):\n",
        "    params = input().split()\n",
        "    method = params[0]\n",
        "    if len(params) > 1:\n",
        "        value = int(params[1])\n",
        "        getattr(s, method)(value)\n",
        "    else:\n",
        "        getattr(s, method)()\n",
        "print(sum(s))"
      ],
      "metadata": {
        "colab": {
          "base_uri": "https://localhost:8080/"
        },
        "id": "WT-uVsbUF08r",
        "outputId": "cd64a52b-298b-41c3-cf9f-7b1953666532"
      },
      "execution_count": null,
      "outputs": [
        {
          "output_type": "stream",
          "name": "stdout",
          "text": [
            "9\n",
            "1 2 3 4 5 6 7 8 9\n",
            "10\n",
            "pop\n",
            "remove 9\n",
            "discard 9\n",
            "discard 8\n",
            "remove 7\n",
            "pop\n",
            "discard 6\n",
            "remove 5\n",
            "pop\n",
            "discard 5\n",
            "4\n"
          ]
        }
      ]
    },
    {
      "cell_type": "markdown",
      "source": [
        "##Cara 4"
      ],
      "metadata": {
        "id": "TXP8PRYHHofK"
      }
    },
    {
      "cell_type": "code",
      "source": [
        "n = int(input())\n",
        "s = set(map(int, input().split()))\n",
        "c=int(input())\n",
        "\n",
        "for i in range(c):\n",
        "    ops_value=input().split()\n",
        "    op=ops_value[0]\n",
        "\n",
        "    if len(ops_value)>1:\n",
        "       value=int(ops_value[1])\n",
        "    if 'pop' in op and len(s)>=1:\n",
        "        s.pop()\n",
        "    elif 'remove' in op:\n",
        "        s.remove(value)\n",
        "    elif 'discard' in op:\n",
        "        s.discard(value)\n",
        "\n",
        "print(sum(s))"
      ],
      "metadata": {
        "colab": {
          "base_uri": "https://localhost:8080/"
        },
        "id": "1L4hJL26F3sT",
        "outputId": "2ec7648d-dacf-4113-deb7-36334f61b202"
      },
      "execution_count": null,
      "outputs": [
        {
          "output_type": "stream",
          "name": "stdout",
          "text": [
            "9\n",
            "1 2 3 4 5 6 7 8 9\n",
            "10\n",
            "pop\n",
            "remove 9\n",
            "discard 9\n",
            "discard 8\n",
            "remove 7\n",
            "pop\n",
            "discard 6\n",
            "remove 5\n",
            "pop\n",
            "discard 5\n",
            "4\n"
          ]
        }
      ]
    },
    {
      "cell_type": "markdown",
      "source": [
        "#Exceptions"
      ],
      "metadata": {
        "id": "UigEn04xUDBo"
      }
    },
    {
      "cell_type": "markdown",
      "source": [
        "##Cara 1"
      ],
      "metadata": {
        "id": "d9c-yywjUGmH"
      }
    },
    {
      "cell_type": "code",
      "source": [
        "T = int(input())\n",
        "\n",
        "for i in range(T):\n",
        "    try:\n",
        "        a, b = map(int,input().split())\n",
        "        print(a//b)\n",
        "    except (ZeroDivisionError, ValueError) as e:\n",
        "        print('Error Code:', e)"
      ],
      "metadata": {
        "colab": {
          "base_uri": "https://localhost:8080/"
        },
        "id": "b_TjB0d6TCd8",
        "outputId": "7b4ab963-cf2f-461b-90de-d3dd71762514"
      },
      "execution_count": null,
      "outputs": [
        {
          "output_type": "stream",
          "name": "stdout",
          "text": [
            "3\n",
            "1 0\n",
            "Error Code: integer division or modulo by zero\n",
            "2 $\n",
            "Error Code: invalid literal for int() with base 10: '$'\n",
            "3 1\n",
            "3\n"
          ]
        }
      ]
    },
    {
      "cell_type": "markdown",
      "source": [
        "##Cara 2"
      ],
      "metadata": {
        "id": "tsf2dLafUIWS"
      }
    },
    {
      "cell_type": "code",
      "source": [
        "T = int(input())\n",
        "\n",
        "for i in range(T):\n",
        "    try:\n",
        "        a, b = input().split()\n",
        "        print(int(a)//int(b))\n",
        "\n",
        "    except (ZeroDivisionError, ValueError) as err:\n",
        "        print(\"Error Code:\",err)\n"
      ],
      "metadata": {
        "colab": {
          "base_uri": "https://localhost:8080/"
        },
        "id": "XP1aOXUHTIHM",
        "outputId": "7da2cc5f-d4c0-4579-c21e-f6a90aef4920"
      },
      "execution_count": null,
      "outputs": [
        {
          "output_type": "stream",
          "name": "stdout",
          "text": [
            "3\n",
            "1 0\n",
            "Error Code: integer division or modulo by zero\n",
            "2 $\n",
            "Error Code: invalid literal for int() with base 10: '$'\n",
            "3 1\n",
            "3\n"
          ]
        }
      ]
    },
    {
      "cell_type": "markdown",
      "source": [
        "##Cara 3"
      ],
      "metadata": {
        "id": "G59O_3NAUJ7u"
      }
    },
    {
      "cell_type": "code",
      "source": [
        "T = int(input())\n",
        "\n",
        "for _ in range(T):\n",
        "    try:\n",
        "        a, b = [int(x) for x in input().split()]\n",
        "        print(a // b)\n",
        "    except (ZeroDivisionError, ValueError) as e:\n",
        "        print(f\"Error Code: {e}\")"
      ],
      "metadata": {
        "colab": {
          "base_uri": "https://localhost:8080/"
        },
        "id": "ysLTwlJETPj7",
        "outputId": "903e12f3-c7ea-422d-9137-1f8875fc29d2"
      },
      "execution_count": null,
      "outputs": [
        {
          "output_type": "stream",
          "name": "stdout",
          "text": [
            "3\n",
            "1 0\n",
            "Error Code: integer division or modulo by zero\n",
            "2 $\n",
            "Error Code: invalid literal for int() with base 10: '$'\n",
            "3 1\n",
            "3\n"
          ]
        }
      ]
    },
    {
      "cell_type": "markdown",
      "source": [
        "#Incorrect Regex"
      ],
      "metadata": {
        "id": "YySkla9iVe7B"
      }
    },
    {
      "cell_type": "markdown",
      "source": [
        "##Cara 1"
      ],
      "metadata": {
        "id": "8wLNmC8TVi2f"
      }
    },
    {
      "cell_type": "code",
      "source": [
        "import re \n",
        "t=int(input())\n",
        "\n",
        "for x in range(t): \n",
        "  try: \n",
        "      re.compile(input()) \n",
        "      print(True) \n",
        "  except: print(False)"
      ],
      "metadata": {
        "colab": {
          "base_uri": "https://localhost:8080/"
        },
        "id": "kTyGwkdLUigR",
        "outputId": "bb7c7c3b-5ffb-44b0-9dbf-601fe6526a89"
      },
      "execution_count": null,
      "outputs": [
        {
          "output_type": "stream",
          "name": "stdout",
          "text": [
            "2\n",
            ".*\\+\n",
            "True\n",
            ".*+\n",
            "False\n"
          ]
        }
      ]
    },
    {
      "cell_type": "markdown",
      "source": [
        "##Cara 2"
      ],
      "metadata": {
        "id": "OO3i1fpqVk1A"
      }
    },
    {
      "cell_type": "code",
      "source": [
        "from re import compile, error\n",
        "\n",
        "if __name__ == \"__main__\":\n",
        "    T = int(input())\n",
        "\n",
        "    for _ in range(T):\n",
        "        try:\n",
        "            print(bool(compile(input())))\n",
        "        except error as e:\n",
        "            print(\"False\")"
      ],
      "metadata": {
        "colab": {
          "base_uri": "https://localhost:8080/"
        },
        "id": "ri0R1nruUzY5",
        "outputId": "5af0bb21-dced-4d26-8a7e-ea3ba6c92452"
      },
      "execution_count": null,
      "outputs": [
        {
          "output_type": "stream",
          "name": "stdout",
          "text": [
            "2\n",
            ".*\\+\n",
            "True\n",
            ".*+\n",
            "False\n"
          ]
        }
      ]
    },
    {
      "cell_type": "markdown",
      "source": [
        "##Cara 3"
      ],
      "metadata": {
        "id": "zZG4peQeVm1Q"
      }
    },
    {
      "cell_type": "code",
      "source": [
        "import re\n",
        "\n",
        "t=int(input())\n",
        "for i in range(t):\n",
        "    s=input()\n",
        "    try:\n",
        "        re.compile(s)\n",
        "        print(\"True\")\n",
        "    except re.error:\n",
        "        print(\"False\")"
      ],
      "metadata": {
        "colab": {
          "base_uri": "https://localhost:8080/"
        },
        "id": "D6j9l5EPU14p",
        "outputId": "8f16475c-7e53-463c-c35b-145a9e18bc64"
      },
      "execution_count": null,
      "outputs": [
        {
          "output_type": "stream",
          "name": "stdout",
          "text": [
            "2\n",
            ".*\\+\n",
            "True\n",
            ".*+\n",
            "False\n"
          ]
        }
      ]
    },
    {
      "cell_type": "markdown",
      "source": [
        "##Cara 4"
      ],
      "metadata": {
        "id": "SgG_VSX1Vo2w"
      }
    },
    {
      "cell_type": "code",
      "source": [
        "import re\n",
        "\n",
        "for _ in range(int(input())):\n",
        "    try:\n",
        "        re.compile(input())\n",
        "        print('True')\n",
        "    except re.error:\n",
        "        print('False')"
      ],
      "metadata": {
        "colab": {
          "base_uri": "https://localhost:8080/"
        },
        "id": "hLSyR78TU44S",
        "outputId": "7ab3fcf3-653f-4140-e365-9bee5a1d6bf8"
      },
      "execution_count": null,
      "outputs": [
        {
          "output_type": "stream",
          "name": "stdout",
          "text": [
            "2\n",
            ".*\\+\n",
            "True\n",
            ".*+\n",
            "False\n"
          ]
        }
      ]
    },
    {
      "cell_type": "markdown",
      "source": [
        "##Cara 5"
      ],
      "metadata": {
        "id": "WIaLEfbMVrQA"
      }
    },
    {
      "cell_type": "code",
      "source": [
        "import re\n",
        "\n",
        "def main():\n",
        "    T = int(input())\n",
        "    \n",
        "    for _ in range(T):\n",
        "        S = input()\n",
        "        try:\n",
        "            re.compile(S)\n",
        "            print(True)\n",
        "        except re.error as e:\n",
        "            print(False)\n",
        "\n",
        "\n",
        "if __name__ == \"__main__\":\n",
        "    main()"
      ],
      "metadata": {
        "colab": {
          "base_uri": "https://localhost:8080/"
        },
        "id": "IdRh5gkIU6yC",
        "outputId": "691f27c7-af88-45e8-b395-69eb3283a177"
      },
      "execution_count": null,
      "outputs": [
        {
          "output_type": "stream",
          "name": "stdout",
          "text": [
            "2\n",
            ".*\\+\n",
            "True\n",
            ".*+\n",
            "False\n"
          ]
        }
      ]
    },
    {
      "cell_type": "markdown",
      "source": [
        "#Re.start() & Re.end()"
      ],
      "metadata": {
        "id": "WN0KxBcKZ_uq"
      }
    },
    {
      "cell_type": "markdown",
      "source": [
        "##Cara 1"
      ],
      "metadata": {
        "id": "gCCiKu2MaDGV"
      }
    },
    {
      "cell_type": "code",
      "source": [
        "import re\n",
        "    \n",
        "s = input()\n",
        "k = input()\n",
        "\n",
        "if 0 < len(s) and len(s) < 100 and 0 < len(s) and len(k) < len(s):\n",
        "    none = True\n",
        "    i = 0\n",
        "    while i <= len(s):\n",
        "        match = re.search(k, s[i:])\n",
        "        if match != None:\n",
        "            none = False\n",
        "            print ((i+match.start(), i+match.end()-1))\n",
        "            i = i+match.start()+1\n",
        "        else:\n",
        "            break;\n",
        "                \n",
        "    if none:\n",
        "        print ((-1, -1))"
      ],
      "metadata": {
        "colab": {
          "base_uri": "https://localhost:8080/"
        },
        "id": "AvjhX6_9WOLV",
        "outputId": "0b4dce77-76f5-4f6c-bee5-aab865ea7d99"
      },
      "execution_count": null,
      "outputs": [
        {
          "output_type": "stream",
          "name": "stdout",
          "text": [
            "aaadaa\n",
            "aa\n",
            "(0, 1)\n",
            "(1, 2)\n",
            "(4, 5)\n"
          ]
        }
      ]
    },
    {
      "cell_type": "markdown",
      "source": [
        "##Cara 2"
      ],
      "metadata": {
        "id": "oeMWmkz1aFaR"
      }
    },
    {
      "cell_type": "code",
      "source": [
        "import re\n",
        "\n",
        "s, k = input(), input()\n",
        "\n",
        "current = 0\n",
        "m = re.search(k, s[current:])\n",
        "if not m:\n",
        "    print(\"(-1, -1)\") \n",
        "else:\n",
        "    while m:\n",
        "        print(f\"({current + m.start()}, {current + m.end() - 1})\")\n",
        "        current = current + m.start() + 1\n",
        "        m = re.search(k, s[current:])"
      ],
      "metadata": {
        "colab": {
          "base_uri": "https://localhost:8080/"
        },
        "id": "orq2c3w5WQXU",
        "outputId": "663cee8a-ff7a-4431-9bc9-9e1761c82d43"
      },
      "execution_count": null,
      "outputs": [
        {
          "output_type": "stream",
          "name": "stdout",
          "text": [
            "aaadaa\n",
            "aa\n",
            "(0, 1)\n",
            "(1, 2)\n",
            "(4, 5)\n"
          ]
        }
      ]
    },
    {
      "cell_type": "markdown",
      "source": [
        "##Cara 3"
      ],
      "metadata": {
        "id": "dr6v4jTgaHEh"
      }
    },
    {
      "cell_type": "code",
      "source": [
        "S = input()\n",
        "k = input()\n",
        "lens = 0\n",
        "   \n",
        "if k in S:\n",
        "    for i in range(len(S)):\n",
        "        if S[i] == k[0]:\n",
        "            for j in range(len(k)):\n",
        "                if (i+j) > (len(S)-1):\n",
        "                    break\n",
        "                else:\n",
        "                    if S[i+j] == k[j]:\n",
        "                        lens += 1\n",
        "                    else: lens = 0\n",
        "            if lens == len(k):\n",
        "                tup = (i,(len(k)+i-1))\n",
        "                print(tup)\n",
        "            lens = 0;\n",
        "else:\n",
        "    print((-1,-1))"
      ],
      "metadata": {
        "colab": {
          "base_uri": "https://localhost:8080/"
        },
        "id": "ABYzPbh9WSwD",
        "outputId": "9da9a06a-74aa-4df9-b256-29c99f4720c2"
      },
      "execution_count": null,
      "outputs": [
        {
          "output_type": "stream",
          "name": "stdout",
          "text": [
            "aaadaa\n",
            "aa\n",
            "(0, 1)\n",
            "(1, 2)\n",
            "(4, 5)\n"
          ]
        }
      ]
    },
    {
      "cell_type": "markdown",
      "source": [
        "##Cara 4"
      ],
      "metadata": {
        "id": "za-_Vej-aJKR"
      }
    },
    {
      "cell_type": "code",
      "source": [
        "import re\n",
        "\n",
        "S=input()\n",
        "k=input()\n",
        "\n",
        "m=list(re.finditer(r'(?=('+k+'))',S))\n",
        "\n",
        "if m:\n",
        "    for _ in m:\n",
        "        print((_.start(),_.end()+len(k)-1))\n",
        "    \n",
        "else:\n",
        "    print((-1,-1))"
      ],
      "metadata": {
        "colab": {
          "base_uri": "https://localhost:8080/"
        },
        "id": "XdY1JZR7WUxz",
        "outputId": "e8fe1f11-14f6-4e1e-fde5-dc8ee46d7888"
      },
      "execution_count": null,
      "outputs": [
        {
          "output_type": "stream",
          "name": "stdout",
          "text": [
            "aaadaa\n",
            "aa\n",
            "(0, 1)\n",
            "(1, 2)\n",
            "(4, 5)\n"
          ]
        }
      ]
    },
    {
      "cell_type": "markdown",
      "source": [
        "#Regex Substitution"
      ],
      "metadata": {
        "id": "ZlYeqha5eM6M"
      }
    },
    {
      "cell_type": "markdown",
      "source": [
        "##Cara 1"
      ],
      "metadata": {
        "id": "TbZn4fBYeP0i"
      }
    },
    {
      "cell_type": "code",
      "source": [
        "import re\n",
        "\n",
        "def repl(m):\n",
        "    return 'and' if m.group(1) == '&&' else 'or'\n",
        "\n",
        "for _ in range(int(input())):\n",
        "    print(re.sub(r'(?<=\\s)(\\|\\||&&)(?=\\s)', repl, input()))"
      ],
      "metadata": {
        "colab": {
          "base_uri": "https://localhost:8080/"
        },
        "id": "oozds-Wjatoa",
        "outputId": "3ad44456-09e9-4004-d6ba-bf96bcaa0c8a"
      },
      "execution_count": null,
      "outputs": [
        {
          "output_type": "stream",
          "name": "stdout",
          "text": [
            "11\n",
            "a = 1;\n",
            "a = 1;\n",
            "b = input();\n",
            "b = input();\n",
            "if a + b > 0 && a - b < 0:\n",
            "if a + b > 0 and a - b < 0:\n",
            "start()\n",
            "start()\n",
            "elif a*b > 10 || a/b < 1:\n",
            "elif a*b > 10 or a/b < 1:\n",
            "stop()\n",
            "stop()\n",
            "print set(list(a)) | set(list(b))\n",
            "print set(list(a)) | set(list(b))\n",
            "#Note do not change &&& or ||| or & or |\n",
            "#Note do not change &&& or ||| or & or |\n",
            "\n",
            "\n",
            "#Only change those '&&' which have space on both sides.\n",
            "#Only change those '&&' which have space on both sides.\n",
            "#Only change those '|| which have space on both sides.\n",
            "#Only change those '|| which have space on both sides.\n"
          ]
        }
      ]
    },
    {
      "cell_type": "markdown",
      "source": [
        "##Cara 2"
      ],
      "metadata": {
        "id": "8S__MdpUeRd1"
      }
    },
    {
      "cell_type": "code",
      "source": [
        "import re\n",
        "\n",
        "func = lambda x: \"and\" if x.group(0) == \"&&\" else \"or\"\n",
        "pattern = re.compile(r'(?<=\\s)(?:&&|\\|\\|)(?=\\s)')\n",
        "print(*[re.sub(pattern, func, input()) for _ in range(int(input()))], sep=\"\\n\")"
      ],
      "metadata": {
        "colab": {
          "base_uri": "https://localhost:8080/"
        },
        "id": "8D_7b7HcavxA",
        "outputId": "e1b9a1e6-d7a7-42ee-934b-498a9d4d4680"
      },
      "execution_count": null,
      "outputs": [
        {
          "output_type": "stream",
          "name": "stdout",
          "text": [
            "11\n",
            "a = 1;\n",
            "b= input();\n",
            "if a + b > 0 && a - b < 0:\n",
            "start()\n",
            "elif a*b > 10 || a/b < 1:\n",
            "stop()\n",
            "print set(list(a)) | set(list(b))\n",
            "#Note do not change &&& or ||| or & or |\n",
            "#Only change those '&&' which have space on both sides.\n",
            "#Only change those '|| which have space on both sides.\n",
            "#Only change those '|| which have space on both sides.\n",
            "a = 1;\n",
            "b= input();\n",
            "if a + b > 0 and a - b < 0:\n",
            "start()\n",
            "elif a*b > 10 or a/b < 1:\n",
            "stop()\n",
            "print set(list(a)) | set(list(b))\n",
            "#Note do not change &&& or ||| or & or |\n",
            "#Only change those '&&' which have space on both sides.\n",
            "#Only change those '|| which have space on both sides.\n",
            "#Only change those '|| which have space on both sides.\n"
          ]
        }
      ]
    },
    {
      "cell_type": "markdown",
      "source": [
        "##Cara 3"
      ],
      "metadata": {
        "id": "nmGG3bWeeS0D"
      }
    },
    {
      "cell_type": "code",
      "source": [
        "import re\n",
        "\n",
        "def sub(text):\n",
        "        return {'&&': 'and', '||': 'or'}[text.group(0)]\n",
        "\n",
        "for _ in range(int(input())):\n",
        "        print(re.sub(r'(?<=[ ])([&|])\\1(?=[ ])', sub, input()))"
      ],
      "metadata": {
        "colab": {
          "base_uri": "https://localhost:8080/"
        },
        "id": "AJ3-AT9Xazsv",
        "outputId": "ec232cff-8371-4c43-8a91-a5063b0a150f"
      },
      "execution_count": null,
      "outputs": [
        {
          "output_type": "stream",
          "name": "stdout",
          "text": [
            "11\n",
            "a = 1;\n",
            "a = 1;\n",
            "b= input();\n",
            "b= input();\n",
            "if a + b > 0 && a - b < 0:\n",
            "if a + b > 0 and a - b < 0:\n",
            "start()\n",
            "start()\n",
            "elif a*b > 10 || a/b < 1:\n",
            "elif a*b > 10 or a/b < 1:\n",
            "stop()\n",
            "stop()\n",
            "print set(list(a)) | set(list(b))\n",
            "print set(list(a)) | set(list(b))\n",
            "#Note do not change &&& or ||| or & or |\n",
            "#Note do not change &&& or ||| or & or |\n",
            "#Only change those '&&' which have space on both sides.\n",
            "#Only change those '&&' which have space on both sides.\n",
            "#Only change those '|| which have space on both sides.\n",
            "#Only change those '|| which have space on both sides.\n",
            "#Only change those '|| which have space on both sides.\n",
            "#Only change those '|| which have space on both sides.\n"
          ]
        }
      ]
    },
    {
      "cell_type": "markdown",
      "source": [
        "##Cara 4"
      ],
      "metadata": {
        "id": "lk_Kh1dceUhL"
      }
    },
    {
      "cell_type": "code",
      "source": [
        "import re\n",
        "\n",
        "def sub_func(s):\n",
        "    s = re.sub(r'(?<= )\\|\\|(?= )', r'or', s)\n",
        "    s = re.sub(r'(?<= )\\&\\&(?= )', r'and', s)\n",
        "    return s\n",
        "\n",
        "lines = [input() for _ in range(int(input()))]\n",
        "for line in map(sub_func, lines):\n",
        "    print(line)"
      ],
      "metadata": {
        "colab": {
          "base_uri": "https://localhost:8080/"
        },
        "id": "Vmae8Coga2c-",
        "outputId": "cbe20d36-9c9e-4023-c55a-ece2f1dcb23b"
      },
      "execution_count": null,
      "outputs": [
        {
          "output_type": "stream",
          "name": "stdout",
          "text": [
            "11\n",
            "a = 1;\n",
            "b= input();\n",
            "if a + b > 0 && a - b < 0:\n",
            "start()\n",
            "elif a*b > 10 || a/b < 1:\n",
            "stop()\n",
            "print set(list(a)) | set(list(b))\n",
            "#Note do not change &&& or ||| or & or |\n",
            "#Only change those '&&' which have space on both sides.\n",
            "#Only change those '|| which have space on both sides.\n",
            "#Only change those '|| which have space on both sides.\n",
            "a = 1;\n",
            "b= input();\n",
            "if a + b > 0 and a - b < 0:\n",
            "start()\n",
            "elif a*b > 10 or a/b < 1:\n",
            "stop()\n",
            "print set(list(a)) | set(list(b))\n",
            "#Note do not change &&& or ||| or & or |\n",
            "#Only change those '&&' which have space on both sides.\n",
            "#Only change those '|| which have space on both sides.\n",
            "#Only change those '|| which have space on both sides.\n"
          ]
        }
      ]
    },
    {
      "cell_type": "markdown",
      "source": [
        "##Cara 5"
      ],
      "metadata": {
        "id": "P3WM8UxReWs9"
      }
    },
    {
      "cell_type": "code",
      "source": [
        "import re\n",
        "N = int(input())\n",
        "\n",
        "for _ in range(N):\n",
        "    line = input()\n",
        "    line = re.sub(r'(?<= )\\&{2}(?= )', 'and', line)\n",
        "    line = re.sub(r'(?<= )\\|{2}(?= )', 'or', line)\n",
        "    print(line)"
      ],
      "metadata": {
        "colab": {
          "base_uri": "https://localhost:8080/"
        },
        "id": "lB0COb_5bHnz",
        "outputId": "4e437359-249c-4b65-bb13-778cb89b95b8"
      },
      "execution_count": null,
      "outputs": [
        {
          "output_type": "stream",
          "name": "stdout",
          "text": [
            "11\n",
            "a = 1;\n",
            "a = 1;\n",
            "b= input();\n",
            "b= input();\n",
            "if a + b > 0 && a - b < 0:\n",
            "if a + b > 0 and a - b < 0:\n",
            "start()\n",
            "start()\n",
            "elif a*b > 10 || a/b < 1:\n",
            "elif a*b > 10 or a/b < 1:\n",
            "stop()\n",
            "stop()\n",
            "print set(list(a)) | set(list(b))\n",
            "print set(list(a)) | set(list(b))\n",
            "#Note do not change &&& or ||| or & or |\n",
            "#Note do not change &&& or ||| or & or |\n",
            "#Only change those '&&' which have space on both sides.\n",
            "#Only change those '&&' which have space on both sides.\n",
            "#Only change those '|| which have space on both sides.\n",
            "#Only change those '|| which have space on both sides.\n",
            "#Only change those '|| which have space on both sides.\n",
            "#Only change those '|| which have space on both sides.\n"
          ]
        }
      ]
    },
    {
      "cell_type": "markdown",
      "source": [
        "#Validating Roman Numerals"
      ],
      "metadata": {
        "id": "BKbf6vJbglAy"
      }
    },
    {
      "cell_type": "markdown",
      "source": [
        "##Cara 1"
      ],
      "metadata": {
        "id": "UJFJfdmwgpK6"
      }
    },
    {
      "cell_type": "code",
      "source": [
        "regex_pattern = r\"^C?M{,3}(CM|C)?D{,3}X?C{,3}X?L?I?X{,3}I?V?I{,3}$\"  # Do not delete 'r'.\n",
        "\n",
        "import re\n",
        "\n",
        "print(str(bool(re.match(regex_pattern, input()))))"
      ],
      "metadata": {
        "colab": {
          "base_uri": "https://localhost:8080/"
        },
        "id": "DW8U3jokgGBD",
        "outputId": "8938282a-f837-4083-b283-3acdb6e94d99"
      },
      "execution_count": null,
      "outputs": [
        {
          "output_type": "stream",
          "name": "stdout",
          "text": [
            "CDXXI\n",
            "True\n"
          ]
        }
      ]
    },
    {
      "cell_type": "markdown",
      "source": [
        "##Cara 2"
      ],
      "metadata": {
        "id": "Xu9VnodDgrAj"
      }
    },
    {
      "cell_type": "code",
      "source": [
        "regex_pattern = r\"^M{0,3}(CM|CD|D?C{0,3})(XC|XL|L?X{0,3})(IX|IV|V?I{0,3})$\"\t# Do not delete 'r'.\n",
        "\n",
        "import re\n",
        "print(str(bool(re.match(regex_pattern, input()))))"
      ],
      "metadata": {
        "colab": {
          "base_uri": "https://localhost:8080/"
        },
        "id": "P5IU25lGgOYz",
        "outputId": "eef6e2ad-68ea-401a-99a9-a4986447bef0"
      },
      "execution_count": null,
      "outputs": [
        {
          "output_type": "stream",
          "name": "stdout",
          "text": [
            "CDXXI\n",
            "True\n"
          ]
        }
      ]
    },
    {
      "cell_type": "markdown",
      "source": [
        "#Word Order"
      ],
      "metadata": {
        "id": "5Zc1XdZQnSWH"
      }
    },
    {
      "cell_type": "markdown",
      "source": [
        "##Cara 1"
      ],
      "metadata": {
        "id": "eZm2xmpbnVKj"
      }
    },
    {
      "cell_type": "code",
      "source": [
        "n = int(input())\n",
        "numbers = {}\n",
        "\n",
        "for _ in range(n):\n",
        "    key = input()\n",
        "    numbers[key] = numbers.get(key, 0) + 1\n",
        "\n",
        "print(len(numbers))\n",
        "for item in numbers.values():\n",
        "    print(item, end=\" \")\n",
        "print(\"\\n\")"
      ],
      "metadata": {
        "colab": {
          "base_uri": "https://localhost:8080/"
        },
        "id": "n5Yphbhnl6dn",
        "outputId": "8e33ef0b-b223-4030-d2fc-e8beeae50945"
      },
      "execution_count": null,
      "outputs": [
        {
          "output_type": "stream",
          "name": "stdout",
          "text": [
            "4\n",
            "bcdef\n",
            "abcdefg\n",
            "bcde\n",
            "bcdef\n",
            "3\n",
            "2 1 1 \n",
            "\n"
          ]
        }
      ]
    },
    {
      "cell_type": "markdown",
      "source": [
        "##Cara 2"
      ],
      "metadata": {
        "id": "BVPUmmidnW22"
      }
    },
    {
      "cell_type": "code",
      "source": [
        "n=input()\n",
        "dict={}\n",
        "for i in range(int(n)):\n",
        "    word=input().strip()\n",
        "    if word in dict:\n",
        "        dict[word]+=1\n",
        "    else:\n",
        "        dict[word]=1\n",
        "        \n",
        "str=''\n",
        "for value in dict.values():\n",
        "    str+=f'{value} '\n",
        "    \n",
        "print(f\"{len(dict)}\\n{str}\")"
      ],
      "metadata": {
        "colab": {
          "base_uri": "https://localhost:8080/"
        },
        "id": "i_1bCz-ql9B7",
        "outputId": "d0074dc5-7145-426f-e50a-0b5e3ad79e5c"
      },
      "execution_count": null,
      "outputs": [
        {
          "output_type": "stream",
          "name": "stdout",
          "text": [
            "4\n",
            "bcdef\n",
            "abcdefg\n",
            "bcde\n",
            "bcdef\n",
            "3\n",
            "2 1 1 \n"
          ]
        }
      ]
    },
    {
      "cell_type": "markdown",
      "source": [
        "##Cara 3"
      ],
      "metadata": {
        "id": "NMNZzw-OnYdd"
      }
    },
    {
      "cell_type": "code",
      "source": [
        "from collections import Counter\n",
        "counter = Counter([input() for i in range(int(input()))])\n",
        "print(len(counter))\n",
        "print(*counter.values())"
      ],
      "metadata": {
        "colab": {
          "base_uri": "https://localhost:8080/"
        },
        "id": "PCVhe-Lpl_zY",
        "outputId": "a63862b2-6a0f-49ac-cd82-63b2611b20d2"
      },
      "execution_count": null,
      "outputs": [
        {
          "output_type": "stream",
          "name": "stdout",
          "text": [
            "4\n",
            "bcdef\n",
            "abcdefg\n",
            "bcde\n",
            "bcdef\n",
            "3\n",
            "2 1 1\n"
          ]
        }
      ]
    },
    {
      "cell_type": "markdown",
      "source": [
        "#Collection.deque()"
      ],
      "metadata": {
        "id": "_SRN5c3nqsKV"
      }
    },
    {
      "cell_type": "markdown",
      "source": [
        "##Cara 1"
      ],
      "metadata": {
        "id": "Dkd1TLiOqv5t"
      }
    },
    {
      "cell_type": "code",
      "source": [
        "import collections\n",
        "\n",
        "deq=collections.deque()\n",
        "n_commands=int(input())\n",
        "for i in range(n_commands):\n",
        "    \n",
        "    el=input().split(\" \")\n",
        "    if len(el)>1:\n",
        "        if el[0]==\"append\":\n",
        "            deq.append(el[1])\n",
        "        elif el[0]==\"appendleft\":\n",
        "            deq.appendleft(el[1])\n",
        "        elif el[0]==\"extend\":\n",
        "            deq.extend(el[1])\n",
        "        elif el[0]==\"extendleft\":\n",
        "            deq.extendleft(el[1])\n",
        "    elif len(el)==1:\n",
        "        if el[0]==\"pop\":\n",
        "            deq.pop()\n",
        "        elif el[0]==\"popleft\":\n",
        "            deq.popleft()\n",
        "        elif el[0]==\"clear\":\n",
        "            deq.clear()\n",
        "print(\" \".join(deq))"
      ],
      "metadata": {
        "colab": {
          "base_uri": "https://localhost:8080/"
        },
        "id": "dC2M6Fkoo3sB",
        "outputId": "05eec928-14fe-4c1e-9f4d-65a810a735a0"
      },
      "execution_count": null,
      "outputs": [
        {
          "output_type": "stream",
          "name": "stdout",
          "text": [
            "6\n",
            "append 1\n",
            "append 2\n",
            "append 3\n",
            "appendleft 4\n",
            "pop\n",
            "popleft\n",
            "1 2\n"
          ]
        }
      ]
    },
    {
      "cell_type": "markdown",
      "source": [
        "##Cara 2"
      ],
      "metadata": {
        "id": "aD5MJMUQqxr6"
      }
    },
    {
      "cell_type": "code",
      "source": [
        "from collections import deque\n",
        "n, d = int(input()), deque()\n",
        "for i in range(n):\n",
        "    command = input().split()\n",
        "    if len(command) > 1:\n",
        "        word, value = command[0], int(command[1])\n",
        "    else:\n",
        "        word = command[0]\n",
        "    if word == \"append\":\n",
        "        d.append(value)\n",
        "    elif word == \"appendleft\":\n",
        "        d.appendleft(value)\n",
        "    elif word == \"pop\":\n",
        "        d.pop()\n",
        "    elif word == \"popleft\":\n",
        "        d.popleft()\n",
        "\n",
        "print(*d)"
      ],
      "metadata": {
        "colab": {
          "base_uri": "https://localhost:8080/"
        },
        "id": "ZcgjPS-Bo6T_",
        "outputId": "f7a40839-f574-4a87-8db4-727b704ad0b3"
      },
      "execution_count": null,
      "outputs": [
        {
          "output_type": "stream",
          "name": "stdout",
          "text": [
            "6\n",
            "append 1\n",
            "append 2\n",
            "append 3\n",
            "appendleft 4\n",
            "pop\n",
            "popleft\n",
            "1 2\n"
          ]
        }
      ]
    },
    {
      "cell_type": "markdown",
      "source": [
        "##Cara 3"
      ],
      "metadata": {
        "id": "EWh1SVqMqzcq"
      }
    },
    {
      "cell_type": "code",
      "source": [
        "deq = deque()\n",
        "\n",
        "for _ in range(int(input())):\n",
        "        req = input().split()\n",
        "        if len(req) == 2:\n",
        "                {'append': deq.append, 'appendleft': deq.appendleft}[req[0]](req[1])\n",
        "        else:\n",
        "                {'pop': deq.pop, 'popleft': deq.popleft}[req[0]]()\n",
        "\n",
        "print(*deq)"
      ],
      "metadata": {
        "colab": {
          "base_uri": "https://localhost:8080/"
        },
        "id": "mtWXxY9mo-gB",
        "outputId": "d339d1e5-e28a-49fd-cd01-629598f71a6b"
      },
      "execution_count": null,
      "outputs": [
        {
          "output_type": "stream",
          "name": "stdout",
          "text": [
            "6\n",
            "append 1\n",
            "append 2\n",
            "append 3\n",
            "appendleft 4\n",
            "pop\n",
            "popleft\n",
            "1 2\n"
          ]
        }
      ]
    },
    {
      "cell_type": "markdown",
      "source": [
        "##Cara 4"
      ],
      "metadata": {
        "id": "Zv_-cF4jq117"
      }
    },
    {
      "cell_type": "code",
      "source": [
        "from collections import deque\n",
        "\n",
        "dequeue = deque()\n",
        "\n",
        "for _ in range(int(input())):\n",
        "    command, *args = input().split()\n",
        "    getattr(dequeue, command)(*args)\n",
        "\n",
        "print(*dequeue)"
      ],
      "metadata": {
        "colab": {
          "base_uri": "https://localhost:8080/"
        },
        "id": "78EWvY6lpAug",
        "outputId": "386f8560-8627-475e-9112-63cf3115d439"
      },
      "execution_count": null,
      "outputs": [
        {
          "output_type": "stream",
          "name": "stdout",
          "text": [
            "6\n",
            "append 1\n",
            "append 2\n",
            "append 3\n",
            "appendleft 4\n",
            "pop\n",
            "popleft\n",
            "1 2\n"
          ]
        }
      ]
    },
    {
      "cell_type": "markdown",
      "source": [
        "#Piling Up!"
      ],
      "metadata": {
        "id": "Pre0rOWetAud"
      }
    },
    {
      "cell_type": "markdown",
      "source": [
        "##Cara 1"
      ],
      "metadata": {
        "id": "0ILn9W11tEet"
      }
    },
    {
      "cell_type": "code",
      "source": [
        "from collections import deque\n",
        "\n",
        "for _ in range(int(input())):\n",
        "    _ = int(input())\n",
        "    d = deque(map(int, input().split()))\n",
        "    a = max(d[0], d[-1])\n",
        "    for _ in range(len(d)):\n",
        "        if d[0] <= d[-1] <= a:\n",
        "            a = d.pop()\n",
        "        elif d[-1] <= d[0] <= a:\n",
        "            a = d.popleft()\n",
        "        else:\n",
        "            break\n",
        "    print('Yes' if len(d) == 0 else 'No')"
      ],
      "metadata": {
        "colab": {
          "base_uri": "https://localhost:8080/"
        },
        "id": "aekw-2W1rQkR",
        "outputId": "c9c9db30-21b4-4ef0-c885-1b3ae2c1a187"
      },
      "execution_count": null,
      "outputs": [
        {
          "output_type": "stream",
          "name": "stdout",
          "text": [
            "2\n",
            "6\n",
            "4 3 2 1 3 4\n",
            "Yes\n",
            "3\n",
            "1 3 2\n",
            "No\n"
          ]
        }
      ]
    },
    {
      "cell_type": "markdown",
      "source": [
        "##Cara 2"
      ],
      "metadata": {
        "id": "x1s5QEMItGas"
      }
    },
    {
      "cell_type": "code",
      "source": [
        "def check_monotonic(seq):\n",
        "    for i in range(1, len(seq)):\n",
        "        if seq[i - 1] > seq[i]:\n",
        "            return False\n",
        "        \n",
        "    return True\n",
        "\n",
        "    \n",
        "t = int(input())\n",
        "for _ in range(t):\n",
        "    n = int(input())\n",
        "    seq = list(map(int, input().split()))\n",
        "    i = seq.index(min(seq))\n",
        "    flag = check_monotonic(list(reversed(seq[0:i]))) and check_monotonic(seq[i:])\n",
        "    print('Yes' if flag else 'No')"
      ],
      "metadata": {
        "colab": {
          "base_uri": "https://localhost:8080/"
        },
        "id": "2LzCmuFnrS_n",
        "outputId": "8d0ad185-1cf4-40f6-ac1f-50858093778e"
      },
      "execution_count": null,
      "outputs": [
        {
          "output_type": "stream",
          "name": "stdout",
          "text": [
            "2\n",
            "6\n",
            "4 3 2 1 3 4\n",
            "Yes\n",
            "3\n",
            "1 3 2\n",
            "No\n"
          ]
        }
      ]
    },
    {
      "cell_type": "markdown",
      "source": [
        "##Cara 3"
      ],
      "metadata": {
        "id": "kQpSsReTtIH8"
      }
    },
    {
      "cell_type": "code",
      "source": [
        "from collections import deque\n",
        "T, bool_list = int(input()), []\n",
        "for i in range(T):\n",
        "    n, d = int(input()), deque(list(map(int, input().split())))\n",
        "    for p in range(n):\n",
        "        if (d[0] >= d[1] or d[-1] >= d[-2]) and len(d) > 2:\n",
        "            if d[0] >= d[-1]:\n",
        "                d.popleft()\n",
        "            else:\n",
        "                d.pop()\n",
        "    if len(d) <= 2:\n",
        "        bool_list.append(\"Yes\")\n",
        "    else:\n",
        "        bool_list.append(\"No\")\n",
        "\n",
        "for i in bool_list:\n",
        "    print(i)"
      ],
      "metadata": {
        "colab": {
          "base_uri": "https://localhost:8080/"
        },
        "id": "iS_rmpAsrVL_",
        "outputId": "ac8c56c2-69d4-48e4-89b0-0bf440fb860e"
      },
      "execution_count": null,
      "outputs": [
        {
          "output_type": "stream",
          "name": "stdout",
          "text": [
            "2\n",
            "6\n",
            "4 3 2 1 3 4\n",
            "3\n",
            "1 3 2\n",
            "Yes\n",
            "No\n"
          ]
        }
      ]
    },
    {
      "cell_type": "markdown",
      "source": [
        "##Cara 4"
      ],
      "metadata": {
        "id": "2HVx_S6mtKdH"
      }
    },
    {
      "cell_type": "code",
      "source": [
        "from collections import deque\n",
        "T=int(input())\n",
        "\n",
        "for _ in range(T):\n",
        "    n=int(input())\n",
        "    d=deque(map(int,input().split()))\n",
        "    c=None\n",
        "    for _ in range(n):\n",
        "        if d[0]>d[-1]:\n",
        "            b=d.popleft()\n",
        "        else:\n",
        "            b=d.pop()\n",
        "        if c==None or b<=c:\n",
        "            c=b \n",
        "        else:\n",
        "            print('No')\n",
        "            break\n",
        "    else:\n",
        "        print('Yes')"
      ],
      "metadata": {
        "colab": {
          "base_uri": "https://localhost:8080/"
        },
        "id": "4MuHK-VUrXe3",
        "outputId": "88116240-4d6f-40ad-eb9f-2ba8ee8a85f0"
      },
      "execution_count": null,
      "outputs": [
        {
          "output_type": "stream",
          "name": "stdout",
          "text": [
            "2\n",
            "6\n",
            "4 3 2 1 3 4\n",
            "Yes\n",
            "3\n",
            "1 3 2\n",
            "No\n"
          ]
        }
      ]
    },
    {
      "cell_type": "markdown",
      "source": [
        "#Company Logo"
      ],
      "metadata": {
        "id": "k_IxSYPXv-Sl"
      }
    },
    {
      "cell_type": "markdown",
      "source": [
        "##Cara 1"
      ],
      "metadata": {
        "id": "x5ShYNSZwANx"
      }
    },
    {
      "cell_type": "code",
      "source": [
        "#!/bin/python3\n",
        "\n",
        "import math\n",
        "import os\n",
        "import random\n",
        "import re\n",
        "import sys\n",
        "\n",
        "from collections import Counter\n",
        "if __name__ == '__main__':\n",
        "    s = sorted(input())\n",
        "    MCC = Counter(s).most_common(3)\n",
        "    print(*[\"%s %d\" %(char, num) for char, num in MCC], sep = \"\\n\")"
      ],
      "metadata": {
        "colab": {
          "base_uri": "https://localhost:8080/"
        },
        "id": "ixEmMAX-vWrs",
        "outputId": "242f9075-211c-4bc6-834a-f0eb8f9d0cd6"
      },
      "execution_count": null,
      "outputs": [
        {
          "output_type": "stream",
          "name": "stdout",
          "text": [
            "aabbbccde\n",
            "b 3\n",
            "a 2\n",
            "c 2\n"
          ]
        }
      ]
    },
    {
      "cell_type": "markdown",
      "source": [
        "##Cara 2"
      ],
      "metadata": {
        "id": "6oZvNgtKwCHJ"
      }
    },
    {
      "cell_type": "code",
      "source": [
        "import math\n",
        "import os\n",
        "import random\n",
        "import re\n",
        "import sys\n",
        "from collections import Counter\n",
        "\n",
        "if __name__ == '__main__':\n",
        "    for a in Counter(sorted(input())).most_common(3):\n",
        "        print(*a)"
      ],
      "metadata": {
        "colab": {
          "base_uri": "https://localhost:8080/"
        },
        "id": "HWPooctVueU7",
        "outputId": "a9b2d95a-2924-4fe0-ffbe-78727e7b3bb9"
      },
      "execution_count": null,
      "outputs": [
        {
          "output_type": "stream",
          "name": "stdout",
          "text": [
            "aabbbccde\n",
            "b 3\n",
            "a 2\n",
            "c 2\n"
          ]
        }
      ]
    },
    {
      "cell_type": "markdown",
      "source": [
        "##Cara 3"
      ],
      "metadata": {
        "id": "pS9I7Xn8wDop"
      }
    },
    {
      "cell_type": "code",
      "source": [
        "from collections import Counter\n",
        "\n",
        "s=input()\n",
        "\n",
        "most_common_character=Counter(sorted(s)).most_common(3)\n",
        "\n",
        "# for char,num in most_common_character:\n",
        "for i in most_common_character:\n",
        "    print(*i)"
      ],
      "metadata": {
        "colab": {
          "base_uri": "https://localhost:8080/"
        },
        "id": "VDvMvSHMuh_c",
        "outputId": "6a658cbe-541f-4563-fab3-d3068677a51b"
      },
      "execution_count": null,
      "outputs": [
        {
          "output_type": "stream",
          "name": "stdout",
          "text": [
            "aabbbccde\n",
            "b 3\n",
            "a 2\n",
            "c 2\n"
          ]
        }
      ]
    },
    {
      "cell_type": "markdown",
      "source": [
        "#Default Arguments"
      ],
      "metadata": {
        "id": "xpQGTy2p0AAj"
      }
    },
    {
      "cell_type": "markdown",
      "source": [
        "##Cara 1"
      ],
      "metadata": {
        "id": "S9ExeheT0DDE"
      }
    },
    {
      "cell_type": "code",
      "source": [
        "class EvenStream(object):\n",
        "    def __init__(self):\n",
        "        self.current = 0\n",
        "\n",
        "    def get_next(self):\n",
        "        to_return = self.current\n",
        "        self.current += 2\n",
        "        return to_return\n",
        "\n",
        "class OddStream(object):\n",
        "    def __init__(self):\n",
        "        self.current = 1\n",
        "\n",
        "    def get_next(self):\n",
        "        to_return = self.current\n",
        "        self.current += 2\n",
        "        return to_return\n",
        "\n",
        "def print_from_stream(n, stream=EvenStream()):\n",
        "    for _ in range(n):\n",
        "        print(stream.get_next())\n",
        "##answer\n",
        "#-----\n",
        "def print_from_stream(n, stream=None):\n",
        "    stream = EvenStream() if stream is None else stream\n",
        "\n",
        "    for _ in range(n):\n",
        "        print(stream.get_next())\n",
        "#-------\n",
        "queries = int(input())\n",
        "for _ in range(queries):\n",
        "    stream_name, n = input().split()\n",
        "    n = int(n)\n",
        "    if stream_name == \"even\":\n",
        "        print_from_stream(n)\n",
        "    else:\n",
        "        print_from_stream(n, OddStream())\n"
      ],
      "metadata": {
        "colab": {
          "base_uri": "https://localhost:8080/"
        },
        "id": "rpYzyD0txDj4",
        "outputId": "0b5fd5f7-4962-496e-e720-5a690591a2f9"
      },
      "execution_count": null,
      "outputs": [
        {
          "output_type": "stream",
          "name": "stdout",
          "text": [
            "3\n",
            "odd 2\n",
            "1\n",
            "3\n",
            "even 3\n",
            "0\n",
            "2\n",
            "4\n",
            "odd 5\n",
            "1\n",
            "3\n",
            "5\n",
            "7\n",
            "9\n"
          ]
        }
      ]
    },
    {
      "cell_type": "markdown",
      "source": [
        "##Cara 2"
      ],
      "metadata": {
        "id": "6PQZW14J0E-y"
      }
    },
    {
      "cell_type": "code",
      "source": [
        "class EvenStream(object):\n",
        "    def __init__(self):\n",
        "        self.current = 0\n",
        "\n",
        "    def get_next(self):\n",
        "        to_return = self.current\n",
        "        self.current += 2\n",
        "        return to_return\n",
        "\n",
        "class OddStream(object):\n",
        "    def __init__(self):\n",
        "        self.current = 1\n",
        "\n",
        "    def get_next(self):\n",
        "        to_return = self.current\n",
        "        self.current += 2\n",
        "        return to_return\n",
        "\n",
        "def print_from_stream(n, stream=EvenStream()):\n",
        "    for _ in range(n):\n",
        "        print(stream.get_next())\n",
        "##answer\n",
        "#-----\n",
        "def print_from_stream(n, stream=EvenStream()):\n",
        "    stream.__init__()\n",
        "    for _ in range(n):\n",
        "        print(stream.get_next())\n",
        "#------\n",
        "\n",
        "queries = int(input())\n",
        "for _ in range(queries):\n",
        "    stream_name, n = input().split()\n",
        "    n = int(n)\n",
        "    if stream_name == \"even\":\n",
        "        print_from_stream(n)\n",
        "    else:\n",
        "        print_from_stream(n, OddStream())"
      ],
      "metadata": {
        "colab": {
          "base_uri": "https://localhost:8080/"
        },
        "id": "aVvu2cyfyGSE",
        "outputId": "b299982a-0bb9-42ed-807b-92398bfe8a18"
      },
      "execution_count": null,
      "outputs": [
        {
          "output_type": "stream",
          "name": "stdout",
          "text": [
            "3\n",
            "odd 3\n",
            "1\n",
            "3\n",
            "5\n",
            "even 3\n",
            "0\n",
            "2\n",
            "4\n",
            "odd 5\n",
            "1\n",
            "3\n",
            "5\n",
            "7\n",
            "9\n"
          ]
        }
      ]
    },
    {
      "cell_type": "code",
      "source": [
        "class OddStream():\n",
        "    current = -1\n",
        "    def get_next(self):\n",
        "        self.current += 2\n",
        "        return self.current\n",
        "    \n",
        "class EvenStream(OddStream):\n",
        "    current = -2\n",
        "    \n",
        "\n",
        "def print_from_stream(n, stream=None):\n",
        "    if not stream: stream = EvenStream()\n",
        "    for _ in range(n):\n",
        "        print(stream.get_next())\n",
        "        \n",
        "        \n",
        "N = int(input())\n",
        "for _ in range(N):\n",
        "    stream_name, n = input().split()\n",
        "    \n",
        "    if stream_name == 'odd':\n",
        "        print_from_stream(int(n), OddStream())\n",
        "    else:\n",
        "        print_from_stream(int(n))"
      ],
      "metadata": {
        "colab": {
          "base_uri": "https://localhost:8080/"
        },
        "id": "-aq1zc-Wzy9p",
        "outputId": "40a49088-11a3-4096-bad9-686224fad863"
      },
      "execution_count": null,
      "outputs": [
        {
          "output_type": "stream",
          "name": "stdout",
          "text": [
            "3\n",
            "odd 3\n",
            "1\n",
            "3\n",
            "5\n",
            "even 3\n",
            "0\n",
            "2\n",
            "4\n",
            "odd 5\n",
            "1\n",
            "3\n",
            "5\n",
            "7\n",
            "9\n"
          ]
        }
      ]
    }
  ]
}