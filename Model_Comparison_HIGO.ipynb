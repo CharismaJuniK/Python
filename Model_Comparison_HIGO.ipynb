{
  "nbformat": 4,
  "nbformat_minor": 0,
  "metadata": {
    "colab": {
      "provenance": [],
      "toc_visible": true,
      "authorship_tag": "ABX9TyOoVjI0EhzfhH6cZ41cUlIE"
    },
    "kernelspec": {
      "name": "python3",
      "display_name": "Python 3"
    },
    "language_info": {
      "name": "python"
    }
  },
  "cells": [
    {
      "cell_type": "markdown",
      "source": [
        "# Exploratory Data Analysis"
      ],
      "metadata": {
        "id": "4ngsuYN1FQou"
      }
    },
    {
      "cell_type": "code",
      "source": [
        "import numpy as np\n",
        "import pandas as pd\n",
        "import matplotlib.pyplot as plt\n",
        "import seaborn as sns\n",
        "from imblearn.over_sampling import SMOTE\n",
        "from sklearn.ensemble import RandomForestClassifier\n",
        "from sklearn.neighbors import KNeighborsClassifier\n",
        "from sklearn.svm import SVC\n",
        "from sklearn.naive_bayes import GaussianNB\n",
        "from sklearn.tree import DecisionTreeClassifier\n",
        "from sklearn.linear_model import LogisticRegression\n",
        "from sklearn.model_selection import cross_val_score\n",
        "from sklearn.metrics import confusion_matrix, accuracy_score,f1_score\n",
        "from sklearn.metrics import classification_report\n",
        "from xgboost import XGBClassifier\n",
        "from sklearn.metrics import roc_curve, auc\n",
        "from statsmodels.graphics.gofplots import qqplot\n",
        "import warnings\n",
        "import sys\n",
        "if not sys.warnoptions:\n",
        "    warnings.simplefilter(\"ignore\")\n",
        "np.random.seed(42)"
      ],
      "metadata": {
        "id": "cI0OvvcbEYdS"
      },
      "execution_count": null,
      "outputs": []
    },
    {
      "cell_type": "markdown",
      "source": [
        "##Load Data"
      ],
      "metadata": {
        "id": "zvthVQ7_FWEi"
      }
    },
    {
      "cell_type": "code",
      "execution_count": null,
      "metadata": {
        "colab": {
          "base_uri": "https://localhost:8080/"
        },
        "id": "FsYjp_qQEGGI",
        "outputId": "7e9725c8-b9e0-41bb-9b54-b04b9e72f0a4"
      },
      "outputs": [
        {
          "output_type": "stream",
          "name": "stdout",
          "text": [
            "Drive already mounted at /content/gdrive; to attempt to forcibly remount, call drive.mount(\"/content/gdrive\", force_remount=True).\n"
          ]
        }
      ],
      "source": [
        "from google.colab import drive\n",
        "drive.mount('/content/gdrive')\n",
        "\n",
        "path_data='/content/gdrive/My Drive/test/'"
      ]
    },
    {
      "cell_type": "code",
      "source": [
        "df = pd.read_csv(path_data + 'sample_higo.csv',sep=',') #read data\n",
        "df.head()"
      ],
      "metadata": {
        "colab": {
          "base_uri": "https://localhost:8080/",
          "height": 206
        },
        "id": "rb-ryLYnEUZ3",
        "outputId": "2ee281ff-a7c8-4618-c94d-d0fc9ea6cc43"
      },
      "execution_count": null,
      "outputs": [
        {
          "output_type": "execute_result",
          "data": {
            "text/plain": [
              "   Unnamed: 0     No_Telp  Nama_Lokasi  Jam_Login      Nama  \\\n",
              "0           0  6286123461    Cafe Aska      10.30     Sisca   \n",
              "1           1    62964618  Cafe Bianca      11.30      Rony   \n",
              "2           2    62000286  Cafe Cantik      12.30      Coky   \n",
              "3           3    62310982  Cafe Doremi      16.00     Jimin   \n",
              "4           4   628863888  Cafe Eskula      18.00  Taehyung   \n",
              "\n",
              "                Email  Tahun_Lahir Merek_HP Digital_Interest Location_Type  \\\n",
              "0     Sisca@gmail.com         1978   Iphone        Education  Tempat Makan   \n",
              "1      Rony@gmail.com         1992  Samsung        Marketing  Tempat Makan   \n",
              "2      Coky@gmail.com         1985  Samsung        Marketing  Tempat Makan   \n",
              "3     Jimin@gmail.com         1987  Real me        Education  Tempat Makan   \n",
              "4  Taehyung@gmail.com         1995  Samsung  Content Creator  Tempat Makan   \n",
              "\n",
              "   Umur Prioritas  \n",
              "0    45        YA  \n",
              "1    31     TIDAK  \n",
              "2    38     TIDAK  \n",
              "3    36     TIDAK  \n",
              "4    28     TIDAK  "
            ],
            "text/html": [
              "\n",
              "  <div id=\"df-412d34fd-6ffc-4c4e-b73c-f4f76a55cba1\">\n",
              "    <div class=\"colab-df-container\">\n",
              "      <div>\n",
              "<style scoped>\n",
              "    .dataframe tbody tr th:only-of-type {\n",
              "        vertical-align: middle;\n",
              "    }\n",
              "\n",
              "    .dataframe tbody tr th {\n",
              "        vertical-align: top;\n",
              "    }\n",
              "\n",
              "    .dataframe thead th {\n",
              "        text-align: right;\n",
              "    }\n",
              "</style>\n",
              "<table border=\"1\" class=\"dataframe\">\n",
              "  <thead>\n",
              "    <tr style=\"text-align: right;\">\n",
              "      <th></th>\n",
              "      <th>Unnamed: 0</th>\n",
              "      <th>No_Telp</th>\n",
              "      <th>Nama_Lokasi</th>\n",
              "      <th>Jam_Login</th>\n",
              "      <th>Nama</th>\n",
              "      <th>Email</th>\n",
              "      <th>Tahun_Lahir</th>\n",
              "      <th>Merek_HP</th>\n",
              "      <th>Digital_Interest</th>\n",
              "      <th>Location_Type</th>\n",
              "      <th>Umur</th>\n",
              "      <th>Prioritas</th>\n",
              "    </tr>\n",
              "  </thead>\n",
              "  <tbody>\n",
              "    <tr>\n",
              "      <th>0</th>\n",
              "      <td>0</td>\n",
              "      <td>6286123461</td>\n",
              "      <td>Cafe Aska</td>\n",
              "      <td>10.30</td>\n",
              "      <td>Sisca</td>\n",
              "      <td>Sisca@gmail.com</td>\n",
              "      <td>1978</td>\n",
              "      <td>Iphone</td>\n",
              "      <td>Education</td>\n",
              "      <td>Tempat Makan</td>\n",
              "      <td>45</td>\n",
              "      <td>YA</td>\n",
              "    </tr>\n",
              "    <tr>\n",
              "      <th>1</th>\n",
              "      <td>1</td>\n",
              "      <td>62964618</td>\n",
              "      <td>Cafe Bianca</td>\n",
              "      <td>11.30</td>\n",
              "      <td>Rony</td>\n",
              "      <td>Rony@gmail.com</td>\n",
              "      <td>1992</td>\n",
              "      <td>Samsung</td>\n",
              "      <td>Marketing</td>\n",
              "      <td>Tempat Makan</td>\n",
              "      <td>31</td>\n",
              "      <td>TIDAK</td>\n",
              "    </tr>\n",
              "    <tr>\n",
              "      <th>2</th>\n",
              "      <td>2</td>\n",
              "      <td>62000286</td>\n",
              "      <td>Cafe Cantik</td>\n",
              "      <td>12.30</td>\n",
              "      <td>Coky</td>\n",
              "      <td>Coky@gmail.com</td>\n",
              "      <td>1985</td>\n",
              "      <td>Samsung</td>\n",
              "      <td>Marketing</td>\n",
              "      <td>Tempat Makan</td>\n",
              "      <td>38</td>\n",
              "      <td>TIDAK</td>\n",
              "    </tr>\n",
              "    <tr>\n",
              "      <th>3</th>\n",
              "      <td>3</td>\n",
              "      <td>62310982</td>\n",
              "      <td>Cafe Doremi</td>\n",
              "      <td>16.00</td>\n",
              "      <td>Jimin</td>\n",
              "      <td>Jimin@gmail.com</td>\n",
              "      <td>1987</td>\n",
              "      <td>Real me</td>\n",
              "      <td>Education</td>\n",
              "      <td>Tempat Makan</td>\n",
              "      <td>36</td>\n",
              "      <td>TIDAK</td>\n",
              "    </tr>\n",
              "    <tr>\n",
              "      <th>4</th>\n",
              "      <td>4</td>\n",
              "      <td>628863888</td>\n",
              "      <td>Cafe Eskula</td>\n",
              "      <td>18.00</td>\n",
              "      <td>Taehyung</td>\n",
              "      <td>Taehyung@gmail.com</td>\n",
              "      <td>1995</td>\n",
              "      <td>Samsung</td>\n",
              "      <td>Content Creator</td>\n",
              "      <td>Tempat Makan</td>\n",
              "      <td>28</td>\n",
              "      <td>TIDAK</td>\n",
              "    </tr>\n",
              "  </tbody>\n",
              "</table>\n",
              "</div>\n",
              "      <button class=\"colab-df-convert\" onclick=\"convertToInteractive('df-412d34fd-6ffc-4c4e-b73c-f4f76a55cba1')\"\n",
              "              title=\"Convert this dataframe to an interactive table.\"\n",
              "              style=\"display:none;\">\n",
              "        \n",
              "  <svg xmlns=\"http://www.w3.org/2000/svg\" height=\"24px\"viewBox=\"0 0 24 24\"\n",
              "       width=\"24px\">\n",
              "    <path d=\"M0 0h24v24H0V0z\" fill=\"none\"/>\n",
              "    <path d=\"M18.56 5.44l.94 2.06.94-2.06 2.06-.94-2.06-.94-.94-2.06-.94 2.06-2.06.94zm-11 1L8.5 8.5l.94-2.06 2.06-.94-2.06-.94L8.5 2.5l-.94 2.06-2.06.94zm10 10l.94 2.06.94-2.06 2.06-.94-2.06-.94-.94-2.06-.94 2.06-2.06.94z\"/><path d=\"M17.41 7.96l-1.37-1.37c-.4-.4-.92-.59-1.43-.59-.52 0-1.04.2-1.43.59L10.3 9.45l-7.72 7.72c-.78.78-.78 2.05 0 2.83L4 21.41c.39.39.9.59 1.41.59.51 0 1.02-.2 1.41-.59l7.78-7.78 2.81-2.81c.8-.78.8-2.07 0-2.86zM5.41 20L4 18.59l7.72-7.72 1.47 1.35L5.41 20z\"/>\n",
              "  </svg>\n",
              "      </button>\n",
              "      \n",
              "  <style>\n",
              "    .colab-df-container {\n",
              "      display:flex;\n",
              "      flex-wrap:wrap;\n",
              "      gap: 12px;\n",
              "    }\n",
              "\n",
              "    .colab-df-convert {\n",
              "      background-color: #E8F0FE;\n",
              "      border: none;\n",
              "      border-radius: 50%;\n",
              "      cursor: pointer;\n",
              "      display: none;\n",
              "      fill: #1967D2;\n",
              "      height: 32px;\n",
              "      padding: 0 0 0 0;\n",
              "      width: 32px;\n",
              "    }\n",
              "\n",
              "    .colab-df-convert:hover {\n",
              "      background-color: #E2EBFA;\n",
              "      box-shadow: 0px 1px 2px rgba(60, 64, 67, 0.3), 0px 1px 3px 1px rgba(60, 64, 67, 0.15);\n",
              "      fill: #174EA6;\n",
              "    }\n",
              "\n",
              "    [theme=dark] .colab-df-convert {\n",
              "      background-color: #3B4455;\n",
              "      fill: #D2E3FC;\n",
              "    }\n",
              "\n",
              "    [theme=dark] .colab-df-convert:hover {\n",
              "      background-color: #434B5C;\n",
              "      box-shadow: 0px 1px 3px 1px rgba(0, 0, 0, 0.15);\n",
              "      filter: drop-shadow(0px 1px 2px rgba(0, 0, 0, 0.3));\n",
              "      fill: #FFFFFF;\n",
              "    }\n",
              "  </style>\n",
              "\n",
              "      <script>\n",
              "        const buttonEl =\n",
              "          document.querySelector('#df-412d34fd-6ffc-4c4e-b73c-f4f76a55cba1 button.colab-df-convert');\n",
              "        buttonEl.style.display =\n",
              "          google.colab.kernel.accessAllowed ? 'block' : 'none';\n",
              "\n",
              "        async function convertToInteractive(key) {\n",
              "          const element = document.querySelector('#df-412d34fd-6ffc-4c4e-b73c-f4f76a55cba1');\n",
              "          const dataTable =\n",
              "            await google.colab.kernel.invokeFunction('convertToInteractive',\n",
              "                                                     [key], {});\n",
              "          if (!dataTable) return;\n",
              "\n",
              "          const docLinkHtml = 'Like what you see? Visit the ' +\n",
              "            '<a target=\"_blank\" href=https://colab.research.google.com/notebooks/data_table.ipynb>data table notebook</a>'\n",
              "            + ' to learn more about interactive tables.';\n",
              "          element.innerHTML = '';\n",
              "          dataTable['output_type'] = 'display_data';\n",
              "          await google.colab.output.renderOutput(dataTable, element);\n",
              "          const docLink = document.createElement('div');\n",
              "          docLink.innerHTML = docLinkHtml;\n",
              "          element.appendChild(docLink);\n",
              "        }\n",
              "      </script>\n",
              "    </div>\n",
              "  </div>\n",
              "  "
            ]
          },
          "metadata": {},
          "execution_count": 144
        }
      ]
    },
    {
      "cell_type": "code",
      "source": [
        "df.drop(['Unnamed: 0'], axis=1, inplace=True)"
      ],
      "metadata": {
        "id": "JMTm9jt5-wKJ"
      },
      "execution_count": null,
      "outputs": []
    },
    {
      "cell_type": "code",
      "source": [
        "df.head()"
      ],
      "metadata": {
        "colab": {
          "base_uri": "https://localhost:8080/",
          "height": 206
        },
        "id": "Dy2Trrco-015",
        "outputId": "3af5f9f2-0959-4180-f8ac-2b56c17d3760"
      },
      "execution_count": null,
      "outputs": [
        {
          "output_type": "execute_result",
          "data": {
            "text/plain": [
              "      No_Telp  Nama_Lokasi  Jam_Login      Nama               Email  \\\n",
              "0  6286123461    Cafe Aska      10.30     Sisca     Sisca@gmail.com   \n",
              "1    62964618  Cafe Bianca      11.30      Rony      Rony@gmail.com   \n",
              "2    62000286  Cafe Cantik      12.30      Coky      Coky@gmail.com   \n",
              "3    62310982  Cafe Doremi      16.00     Jimin     Jimin@gmail.com   \n",
              "4   628863888  Cafe Eskula      18.00  Taehyung  Taehyung@gmail.com   \n",
              "\n",
              "   Tahun_Lahir Merek_HP Digital_Interest Location_Type  Umur Prioritas  \n",
              "0         1978   Iphone        Education  Tempat Makan    45        YA  \n",
              "1         1992  Samsung        Marketing  Tempat Makan    31     TIDAK  \n",
              "2         1985  Samsung        Marketing  Tempat Makan    38     TIDAK  \n",
              "3         1987  Real me        Education  Tempat Makan    36     TIDAK  \n",
              "4         1995  Samsung  Content Creator  Tempat Makan    28     TIDAK  "
            ],
            "text/html": [
              "\n",
              "  <div id=\"df-f825cc9b-75f2-492b-8de3-f3b1cce6af28\">\n",
              "    <div class=\"colab-df-container\">\n",
              "      <div>\n",
              "<style scoped>\n",
              "    .dataframe tbody tr th:only-of-type {\n",
              "        vertical-align: middle;\n",
              "    }\n",
              "\n",
              "    .dataframe tbody tr th {\n",
              "        vertical-align: top;\n",
              "    }\n",
              "\n",
              "    .dataframe thead th {\n",
              "        text-align: right;\n",
              "    }\n",
              "</style>\n",
              "<table border=\"1\" class=\"dataframe\">\n",
              "  <thead>\n",
              "    <tr style=\"text-align: right;\">\n",
              "      <th></th>\n",
              "      <th>No_Telp</th>\n",
              "      <th>Nama_Lokasi</th>\n",
              "      <th>Jam_Login</th>\n",
              "      <th>Nama</th>\n",
              "      <th>Email</th>\n",
              "      <th>Tahun_Lahir</th>\n",
              "      <th>Merek_HP</th>\n",
              "      <th>Digital_Interest</th>\n",
              "      <th>Location_Type</th>\n",
              "      <th>Umur</th>\n",
              "      <th>Prioritas</th>\n",
              "    </tr>\n",
              "  </thead>\n",
              "  <tbody>\n",
              "    <tr>\n",
              "      <th>0</th>\n",
              "      <td>6286123461</td>\n",
              "      <td>Cafe Aska</td>\n",
              "      <td>10.30</td>\n",
              "      <td>Sisca</td>\n",
              "      <td>Sisca@gmail.com</td>\n",
              "      <td>1978</td>\n",
              "      <td>Iphone</td>\n",
              "      <td>Education</td>\n",
              "      <td>Tempat Makan</td>\n",
              "      <td>45</td>\n",
              "      <td>YA</td>\n",
              "    </tr>\n",
              "    <tr>\n",
              "      <th>1</th>\n",
              "      <td>62964618</td>\n",
              "      <td>Cafe Bianca</td>\n",
              "      <td>11.30</td>\n",
              "      <td>Rony</td>\n",
              "      <td>Rony@gmail.com</td>\n",
              "      <td>1992</td>\n",
              "      <td>Samsung</td>\n",
              "      <td>Marketing</td>\n",
              "      <td>Tempat Makan</td>\n",
              "      <td>31</td>\n",
              "      <td>TIDAK</td>\n",
              "    </tr>\n",
              "    <tr>\n",
              "      <th>2</th>\n",
              "      <td>62000286</td>\n",
              "      <td>Cafe Cantik</td>\n",
              "      <td>12.30</td>\n",
              "      <td>Coky</td>\n",
              "      <td>Coky@gmail.com</td>\n",
              "      <td>1985</td>\n",
              "      <td>Samsung</td>\n",
              "      <td>Marketing</td>\n",
              "      <td>Tempat Makan</td>\n",
              "      <td>38</td>\n",
              "      <td>TIDAK</td>\n",
              "    </tr>\n",
              "    <tr>\n",
              "      <th>3</th>\n",
              "      <td>62310982</td>\n",
              "      <td>Cafe Doremi</td>\n",
              "      <td>16.00</td>\n",
              "      <td>Jimin</td>\n",
              "      <td>Jimin@gmail.com</td>\n",
              "      <td>1987</td>\n",
              "      <td>Real me</td>\n",
              "      <td>Education</td>\n",
              "      <td>Tempat Makan</td>\n",
              "      <td>36</td>\n",
              "      <td>TIDAK</td>\n",
              "    </tr>\n",
              "    <tr>\n",
              "      <th>4</th>\n",
              "      <td>628863888</td>\n",
              "      <td>Cafe Eskula</td>\n",
              "      <td>18.00</td>\n",
              "      <td>Taehyung</td>\n",
              "      <td>Taehyung@gmail.com</td>\n",
              "      <td>1995</td>\n",
              "      <td>Samsung</td>\n",
              "      <td>Content Creator</td>\n",
              "      <td>Tempat Makan</td>\n",
              "      <td>28</td>\n",
              "      <td>TIDAK</td>\n",
              "    </tr>\n",
              "  </tbody>\n",
              "</table>\n",
              "</div>\n",
              "      <button class=\"colab-df-convert\" onclick=\"convertToInteractive('df-f825cc9b-75f2-492b-8de3-f3b1cce6af28')\"\n",
              "              title=\"Convert this dataframe to an interactive table.\"\n",
              "              style=\"display:none;\">\n",
              "        \n",
              "  <svg xmlns=\"http://www.w3.org/2000/svg\" height=\"24px\"viewBox=\"0 0 24 24\"\n",
              "       width=\"24px\">\n",
              "    <path d=\"M0 0h24v24H0V0z\" fill=\"none\"/>\n",
              "    <path d=\"M18.56 5.44l.94 2.06.94-2.06 2.06-.94-2.06-.94-.94-2.06-.94 2.06-2.06.94zm-11 1L8.5 8.5l.94-2.06 2.06-.94-2.06-.94L8.5 2.5l-.94 2.06-2.06.94zm10 10l.94 2.06.94-2.06 2.06-.94-2.06-.94-.94-2.06-.94 2.06-2.06.94z\"/><path d=\"M17.41 7.96l-1.37-1.37c-.4-.4-.92-.59-1.43-.59-.52 0-1.04.2-1.43.59L10.3 9.45l-7.72 7.72c-.78.78-.78 2.05 0 2.83L4 21.41c.39.39.9.59 1.41.59.51 0 1.02-.2 1.41-.59l7.78-7.78 2.81-2.81c.8-.78.8-2.07 0-2.86zM5.41 20L4 18.59l7.72-7.72 1.47 1.35L5.41 20z\"/>\n",
              "  </svg>\n",
              "      </button>\n",
              "      \n",
              "  <style>\n",
              "    .colab-df-container {\n",
              "      display:flex;\n",
              "      flex-wrap:wrap;\n",
              "      gap: 12px;\n",
              "    }\n",
              "\n",
              "    .colab-df-convert {\n",
              "      background-color: #E8F0FE;\n",
              "      border: none;\n",
              "      border-radius: 50%;\n",
              "      cursor: pointer;\n",
              "      display: none;\n",
              "      fill: #1967D2;\n",
              "      height: 32px;\n",
              "      padding: 0 0 0 0;\n",
              "      width: 32px;\n",
              "    }\n",
              "\n",
              "    .colab-df-convert:hover {\n",
              "      background-color: #E2EBFA;\n",
              "      box-shadow: 0px 1px 2px rgba(60, 64, 67, 0.3), 0px 1px 3px 1px rgba(60, 64, 67, 0.15);\n",
              "      fill: #174EA6;\n",
              "    }\n",
              "\n",
              "    [theme=dark] .colab-df-convert {\n",
              "      background-color: #3B4455;\n",
              "      fill: #D2E3FC;\n",
              "    }\n",
              "\n",
              "    [theme=dark] .colab-df-convert:hover {\n",
              "      background-color: #434B5C;\n",
              "      box-shadow: 0px 1px 3px 1px rgba(0, 0, 0, 0.15);\n",
              "      filter: drop-shadow(0px 1px 2px rgba(0, 0, 0, 0.3));\n",
              "      fill: #FFFFFF;\n",
              "    }\n",
              "  </style>\n",
              "\n",
              "      <script>\n",
              "        const buttonEl =\n",
              "          document.querySelector('#df-f825cc9b-75f2-492b-8de3-f3b1cce6af28 button.colab-df-convert');\n",
              "        buttonEl.style.display =\n",
              "          google.colab.kernel.accessAllowed ? 'block' : 'none';\n",
              "\n",
              "        async function convertToInteractive(key) {\n",
              "          const element = document.querySelector('#df-f825cc9b-75f2-492b-8de3-f3b1cce6af28');\n",
              "          const dataTable =\n",
              "            await google.colab.kernel.invokeFunction('convertToInteractive',\n",
              "                                                     [key], {});\n",
              "          if (!dataTable) return;\n",
              "\n",
              "          const docLinkHtml = 'Like what you see? Visit the ' +\n",
              "            '<a target=\"_blank\" href=https://colab.research.google.com/notebooks/data_table.ipynb>data table notebook</a>'\n",
              "            + ' to learn more about interactive tables.';\n",
              "          element.innerHTML = '';\n",
              "          dataTable['output_type'] = 'display_data';\n",
              "          await google.colab.output.renderOutput(dataTable, element);\n",
              "          const docLink = document.createElement('div');\n",
              "          docLink.innerHTML = docLinkHtml;\n",
              "          element.appendChild(docLink);\n",
              "        }\n",
              "      </script>\n",
              "    </div>\n",
              "  </div>\n",
              "  "
            ]
          },
          "metadata": {},
          "execution_count": 146
        }
      ]
    },
    {
      "cell_type": "markdown",
      "source": [
        "## Data Information"
      ],
      "metadata": {
        "id": "MGWQwHcJFe32"
      }
    },
    {
      "cell_type": "code",
      "source": [
        "df.info()"
      ],
      "metadata": {
        "colab": {
          "base_uri": "https://localhost:8080/"
        },
        "id": "zSj5PDRSEnie",
        "outputId": "a66d44fb-c821-49e0-d419-e0e7d4c56888"
      },
      "execution_count": null,
      "outputs": [
        {
          "output_type": "stream",
          "name": "stdout",
          "text": [
            "<class 'pandas.core.frame.DataFrame'>\n",
            "RangeIndex: 153 entries, 0 to 152\n",
            "Data columns (total 11 columns):\n",
            " #   Column            Non-Null Count  Dtype  \n",
            "---  ------            --------------  -----  \n",
            " 0   No_Telp           153 non-null    int64  \n",
            " 1   Nama_Lokasi       153 non-null    object \n",
            " 2   Jam_Login         153 non-null    float64\n",
            " 3   Nama              153 non-null    object \n",
            " 4   Email             153 non-null    object \n",
            " 5   Tahun_Lahir       153 non-null    int64  \n",
            " 6   Merek_HP          153 non-null    object \n",
            " 7   Digital_Interest  153 non-null    object \n",
            " 8   Location_Type     153 non-null    object \n",
            " 9   Umur              153 non-null    int64  \n",
            " 10  Prioritas         153 non-null    object \n",
            "dtypes: float64(1), int64(3), object(7)\n",
            "memory usage: 13.3+ KB\n"
          ]
        }
      ]
    },
    {
      "cell_type": "code",
      "source": [
        "df.shape"
      ],
      "metadata": {
        "colab": {
          "base_uri": "https://localhost:8080/"
        },
        "id": "CSOFs16MFmcc",
        "outputId": "c35c206f-dbe3-400f-b932-d6f260498313"
      },
      "execution_count": null,
      "outputs": [
        {
          "output_type": "execute_result",
          "data": {
            "text/plain": [
              "(153, 11)"
            ]
          },
          "metadata": {},
          "execution_count": 148
        }
      ]
    },
    {
      "cell_type": "code",
      "source": [
        "#from datetime import datetime\n",
        "#df['Umur2'] = datetime.now().year - df['Tahun_Lahir']  # Mencari umur"
      ],
      "metadata": {
        "id": "pykpjrQi9nAS"
      },
      "execution_count": null,
      "outputs": []
    },
    {
      "cell_type": "markdown",
      "source": [
        "### Unique Value Counting"
      ],
      "metadata": {
        "id": "4MQgaM0rFsnP"
      }
    },
    {
      "cell_type": "code",
      "source": [
        "# Value Counting\n",
        "for col in df.columns:\n",
        "  print('Values pada kolom {}:'.format(col))\n",
        "  print(df[col].unique())\n",
        "  print()"
      ],
      "metadata": {
        "colab": {
          "base_uri": "https://localhost:8080/"
        },
        "id": "ornKeNwqFu2f",
        "outputId": "7d3921d6-9d5f-449f-f119-68399acf5fe1"
      },
      "execution_count": null,
      "outputs": [
        {
          "output_type": "stream",
          "name": "stdout",
          "text": [
            "Values pada kolom No_Telp:\n",
            "[ 6286123461    62964618    62000286    62310982   628863888    62111842\n",
            "    62982671   629792871   623086161   621111097   629781766   625653919\n",
            "   629137181  6263716316  6246431788   629397318  6258381681   628376719\n",
            "   629371719   628631618  6293788651   629386181   623876319   629737610\n",
            "   623458710   625391781    62073101    62907410    62980001    62300018\n",
            "   629101881    62638191   625810999   629719161    62419001   629999111\n",
            "   625555197   625381000   629371001    62991811     6251991   628199991\n",
            "   627189991    62986611    62818199   623816181    62837171  6239178716\n",
            "    62371781 62817191121 62817191122 62817191123 62817191124 62817191125\n",
            " 62817191126 62817191127 62817191128 62817191129 62817191110 62817191111\n",
            "  6281719112  6281719113  6281719114  6281719115  6281719116  6281719117\n",
            "  6281719118  6281719119    62881911     6281811  6271588121  6271588122\n",
            "  6271588123  6271588124  6271588125  6271588126  6271588127    62188881\n",
            "    62188882    62188883    62188884    62357771    62188885    62188886\n",
            "    62188887    62188888  6258019999   628876761    62371517   625437199\n",
            "    62878881    62971901   622221901]\n",
            "\n",
            "Values pada kolom Nama_Lokasi:\n",
            "['Cafe Aska' 'Cafe Bianca' 'Cafe Cantik' 'Cafe Doremi' 'Cafe Eskula'\n",
            " 'Cafe Fanta' 'Cafe Gio' 'Cafe Harris' 'Cafe Ianka' 'Cafe Junior'\n",
            " 'Resto Bahagia' 'Resto Pagi Sore' 'Resto Sederhana' 'Resto Gacoan'\n",
            " 'Resto Kopitiam' 'Resto Mataram' 'Resto Sky' 'Resto Cendana'\n",
            " 'Resto Simpang Raya' 'Resto Cik Liem' 'SMP Al Islam 1' 'SMP As Sallam 1'\n",
            " 'SMP Binus' 'SMP Bima Sakti' 'SMP Al Islam 2' 'SMA Nusantara'\n",
            " 'SMA Angkasa' 'SMA Galaxy' 'SMA Tiansi' 'SMP As Sallam 2']\n",
            "\n",
            "Values pada kolom Jam_Login:\n",
            "[10.3  11.3  12.3  16.   18.   18.3  18.45 19.   20.   19.15 18.5  19.45\n",
            " 21.   19.05 19.37 18.55 19.2  11.45 12.15 16.23 12.   11.43 19.3  19.35\n",
            " 12.16 12.23  9.    9.15  8.3  10.    9.3  10.15 11.12 10.05  9.2   8.55\n",
            "  9.14  8.19  9.45 10.27 11.2  11.56  9.12  9.55 19.25 18.16 19.44 19.23\n",
            " 20.15 18.35 17.   17.45 18.12 16.45 16.5  17.27 18.15 16.39  8.45  9.37\n",
            " 11.52 11.4  11.25 11.36 10.23  9.44 13.   11.55  9.25 18.39  9.24 12.4\n",
            "  9.23  8.15  8.17]\n",
            "\n",
            "Values pada kolom Nama:\n",
            "['Sisca' 'Rony' 'Coky' 'Jimin' 'Taehyung' 'Jungkok' 'Raisa' 'Dio' 'Barra'\n",
            " 'Sinta' 'Nadin' 'Raya' 'Zulfa' 'Yumna' 'Fiqi' 'Amelia' 'Cinta' 'Risky'\n",
            " 'Sofie' 'Tian' 'Ika' 'Sintya' 'Diandra' 'Diki' 'Baby' 'Tsabi' 'Cici'\n",
            " 'Titi' 'Nurul' 'Xabiru' 'Didin' 'Alfi' 'Alfa' 'Askara' 'Dion' 'Bian'\n",
            " 'Zizi' 'Alga' 'Marsya' 'Maria' 'Odin' 'Queen' 'Iis' 'Fisti' 'Janes'\n",
            " 'Caca' 'Isna' 'Bima' 'Kiki' 'Kia' 'Bibi' 'Bimo' 'Salsa' 'Sia' 'Bee'\n",
            " 'Haim' 'Diam' 'Hoki' 'Hiska' 'Harid' 'Giam' 'Gasri' 'Fisca' 'Lisna'\n",
            " 'Lima' 'Lio' 'Goma' 'Wawa' 'Kafka' 'Posca' 'Kisca' 'Lomia' 'Chelsy'\n",
            " 'Qois' 'Ahmad' 'Dias' 'Poma' 'Wirda' 'Kaka' 'Komaira' 'Tiangka' 'Qista'\n",
            " 'Liso' 'Esyu' 'Etika' 'Poisma' 'Zisma' 'Sisil' 'Dizma' 'Wisma' 'Mia'\n",
            " 'Gagah']\n",
            "\n",
            "Values pada kolom Email:\n",
            "['Sisca@gmail.com' 'Rony@gmail.com' 'Coky@gmail.com' 'Jimin@gmail.com'\n",
            " 'Taehyung@gmail.com' 'Jungkok@gmail.com' 'Raisa@gmail.com'\n",
            " 'Dio@gmail.com' 'Barra@gmail.com' 'Sinta@gmail.com' 'Nadin@gmail.com'\n",
            " 'Raya@gmail.com' 'Zulfa@gmail.com' 'Yumna@gmail.com' 'Fiqi@gmail.com'\n",
            " 'Amelia@gmail.com' 'Cinta@gmail.com' 'Risky@gmail.com' 'Sofie@gmail.com'\n",
            " 'Tian@gmail.com' 'Ika@gmail.com' 'Sintya@gmail.com' 'Diandra@gmail.com'\n",
            " 'Diki@gmail.com' 'Baby@gmail.com' 'Tsabi@gmail.com' 'Cici@gmail.com'\n",
            " 'Titi@gmail.com' 'Nurul@gmail.com' 'Xabiru@gmail.com' 'Didin@gmail.com'\n",
            " 'Alfi@gmail.com' 'Alfa@gmail.com' 'Askara@gmail.com' 'Dion@gmail.com'\n",
            " 'Bian@gmail.com' 'Zizi@gmail.com' 'Alga@gmail.com' 'Marsya@gmail.com'\n",
            " 'Maria@gmail.com' 'Odin@gmail.com' 'Queen@gmail.com' 'Iis@gmail.com'\n",
            " 'Fisti@gmail.com' 'Janes@gmail.com' 'Caca@gmail.com' 'Isna@gmail.com'\n",
            " 'Bima@gmail.com' 'Kiki@gmail.com' 'Kia@gmail.com' 'Bibi@gmail.com'\n",
            " 'Bimo@gmail.com' 'Salsa@gmail.com' 'Sia@gmail.com' 'Bee@gmail.com'\n",
            " 'Haim@gmail.com' 'Diam@gmail.com' 'Hoki@gmail.com' 'Hiska@gmail.com'\n",
            " 'Harid@gmail.com' 'Giam@gmail.com' 'Gasri@gmail.com' 'Fisca@gmail.com'\n",
            " 'Lisna@gmail.com' 'Lima@gmail.com' 'Lio@gmail.com' 'Goma@gmail.com'\n",
            " 'Wawa@gmail.com' 'Kafka@gmail.com' 'Posca@gmail.com' 'Kisca@gmail.com'\n",
            " 'Lomia@gmail.com' 'Chelsy@gmail.com' 'Qois@gmail.com' 'Ahmad@gmail.com'\n",
            " 'Dias@gmail.com' 'Poma@gmail.com' 'Wirda@gmail.com' 'Kaka@gmail.com'\n",
            " 'Komaira@gmail.com' 'Tiangka@gmail.com' 'Qista@gmail.com'\n",
            " 'Liso@gmail.com' 'Esyu@gmail.com' 'Etika@gmail.com' 'Poisma@gmail.com'\n",
            " 'Zisma@gmail.com' 'Sisil@gmail.com' 'Dizma@gmail.com' 'Wisma@gmail.com'\n",
            " 'Mia@gmail.com' 'Gagah@gmail.com']\n",
            "\n",
            "Values pada kolom Tahun_Lahir:\n",
            "[1978 1992 1985 1987 1995 1997 2000 2001 1990 1989 1999 2002 1998 1988\n",
            " 1991 2004 2003 2005 2006 1994 1986 1993 1996]\n",
            "\n",
            "Values pada kolom Merek_HP:\n",
            "['Iphone' 'Samsung' 'Real me' 'Xiaomi' 'vivo']\n",
            "\n",
            "Values pada kolom Digital_Interest:\n",
            "['Education' 'Marketing' 'Content Creator' 'Programmer' 'Banking']\n",
            "\n",
            "Values pada kolom Location_Type:\n",
            "['Tempat Makan' 'Sekolah']\n",
            "\n",
            "Values pada kolom Umur:\n",
            "[45 31 38 36 28 26 23 22 33 34 24 21 25 35 32 19 20 18 17 29 37 30 27]\n",
            "\n",
            "Values pada kolom Prioritas:\n",
            "['YA' 'TIDAK']\n",
            "\n"
          ]
        }
      ]
    },
    {
      "cell_type": "markdown",
      "source": [
        "Tidak ada data yang bernilai null atau kosong."
      ],
      "metadata": {
        "id": "Z1iCRxwLF1FZ"
      }
    },
    {
      "cell_type": "code",
      "source": [
        "df.nunique().sort_values(ascending=True)"
      ],
      "metadata": {
        "colab": {
          "base_uri": "https://localhost:8080/"
        },
        "id": "0HtVSm1XF3kM",
        "outputId": "2b3e2978-1fa9-40a8-e0aa-e633652f3037"
      },
      "execution_count": null,
      "outputs": [
        {
          "output_type": "execute_result",
          "data": {
            "text/plain": [
              "Location_Type        2\n",
              "Prioritas            2\n",
              "Merek_HP             5\n",
              "Digital_Interest     5\n",
              "Tahun_Lahir         23\n",
              "Umur                23\n",
              "Nama_Lokasi         30\n",
              "Jam_Login           75\n",
              "Nama                92\n",
              "Email               92\n",
              "No_Telp             93\n",
              "dtype: int64"
            ]
          },
          "metadata": {},
          "execution_count": 151
        }
      ]
    },
    {
      "cell_type": "markdown",
      "source": [
        "##Numerical & Categorical data"
      ],
      "metadata": {
        "id": "Y1S-JKyTF7Km"
      }
    },
    {
      "cell_type": "code",
      "source": [
        "# Membedakan data categorical dan numeric\n",
        "num_dtypes=['int64','float64']\n",
        "cat_dtypes=['object']\n",
        "\n",
        "num_df = df.select_dtypes(include = num_dtypes)\n",
        "cat_df = df.select_dtypes(include = cat_dtypes)\n",
        "numericals = num_df.columns[1:] # Exclude column No_Telp\n",
        "categoricals = cat_df.columns\n",
        "\n",
        "print(numericals)\n",
        "print(categoricals)"
      ],
      "metadata": {
        "colab": {
          "base_uri": "https://localhost:8080/"
        },
        "id": "fgVddrugF9Ry",
        "outputId": "34fd78c7-e921-443c-ac66-8b1b2b8faf37"
      },
      "execution_count": null,
      "outputs": [
        {
          "output_type": "stream",
          "name": "stdout",
          "text": [
            "Index(['Jam_Login', 'Tahun_Lahir', 'Umur'], dtype='object')\n",
            "Index(['Nama_Lokasi', 'Nama', 'Email', 'Merek_HP', 'Digital_Interest',\n",
            "       'Location_Type', 'Prioritas'],\n",
            "      dtype='object')\n"
          ]
        }
      ]
    },
    {
      "cell_type": "markdown",
      "source": [
        "#Numericals"
      ],
      "metadata": {
        "id": "mKzLMZlyImAi"
      }
    },
    {
      "cell_type": "markdown",
      "source": [
        "##Summary Statistics"
      ],
      "metadata": {
        "id": "7egqWp8NGCgO"
      }
    },
    {
      "cell_type": "code",
      "source": [
        "df[numericals].describe().style.background_gradient()"
      ],
      "metadata": {
        "colab": {
          "base_uri": "https://localhost:8080/",
          "height": 300
        },
        "id": "SvoOiZMlGGsQ",
        "outputId": "e5cfeaf1-110c-42bf-cc8f-bfcb31e92535"
      },
      "execution_count": null,
      "outputs": [
        {
          "output_type": "execute_result",
          "data": {
            "text/plain": [
              "<pandas.io.formats.style.Styler at 0x7fba3a0863d0>"
            ],
            "text/html": [
              "<style type=\"text/css\">\n",
              "#T_ea034_row0_col0, #T_ea034_row0_col2, #T_ea034_row6_col1, #T_ea034_row7_col1 {\n",
              "  background-color: #023858;\n",
              "  color: #f1f1f1;\n",
              "}\n",
              "#T_ea034_row0_col1 {\n",
              "  background-color: #f4eef6;\n",
              "  color: #000000;\n",
              "}\n",
              "#T_ea034_row1_col0 {\n",
              "  background-color: #f5eef6;\n",
              "  color: #000000;\n",
              "}\n",
              "#T_ea034_row1_col1, #T_ea034_row4_col1, #T_ea034_row5_col1 {\n",
              "  background-color: #02395a;\n",
              "  color: #f1f1f1;\n",
              "}\n",
              "#T_ea034_row1_col2 {\n",
              "  background-color: #e9e5f1;\n",
              "  color: #000000;\n",
              "}\n",
              "#T_ea034_row2_col0, #T_ea034_row2_col1, #T_ea034_row2_col2 {\n",
              "  background-color: #fff7fb;\n",
              "  color: #000000;\n",
              "}\n",
              "#T_ea034_row3_col0 {\n",
              "  background-color: #fbf4f9;\n",
              "  color: #000000;\n",
              "}\n",
              "#T_ea034_row3_col1 {\n",
              "  background-color: #023b5d;\n",
              "  color: #f1f1f1;\n",
              "}\n",
              "#T_ea034_row3_col2, #T_ea034_row5_col0 {\n",
              "  background-color: #f3edf5;\n",
              "  color: #000000;\n",
              "}\n",
              "#T_ea034_row4_col0 {\n",
              "  background-color: #f9f2f8;\n",
              "  color: #000000;\n",
              "}\n",
              "#T_ea034_row4_col2, #T_ea034_row7_col0 {\n",
              "  background-color: #eee9f3;\n",
              "  color: #000000;\n",
              "}\n",
              "#T_ea034_row5_col2 {\n",
              "  background-color: #ebe6f2;\n",
              "  color: #000000;\n",
              "}\n",
              "#T_ea034_row6_col0 {\n",
              "  background-color: #f1ebf4;\n",
              "  color: #000000;\n",
              "}\n",
              "#T_ea034_row6_col2 {\n",
              "  background-color: #e6e2ef;\n",
              "  color: #000000;\n",
              "}\n",
              "#T_ea034_row7_col2 {\n",
              "  background-color: #cacee5;\n",
              "  color: #000000;\n",
              "}\n",
              "</style>\n",
              "<table id=\"T_ea034_\" class=\"dataframe\">\n",
              "  <thead>\n",
              "    <tr>\n",
              "      <th class=\"blank level0\" >&nbsp;</th>\n",
              "      <th class=\"col_heading level0 col0\" >Jam_Login</th>\n",
              "      <th class=\"col_heading level0 col1\" >Tahun_Lahir</th>\n",
              "      <th class=\"col_heading level0 col2\" >Umur</th>\n",
              "    </tr>\n",
              "  </thead>\n",
              "  <tbody>\n",
              "    <tr>\n",
              "      <th id=\"T_ea034_level0_row0\" class=\"row_heading level0 row0\" >count</th>\n",
              "      <td id=\"T_ea034_row0_col0\" class=\"data row0 col0\" >153.000000</td>\n",
              "      <td id=\"T_ea034_row0_col1\" class=\"data row0 col1\" >153.000000</td>\n",
              "      <td id=\"T_ea034_row0_col2\" class=\"data row0 col2\" >153.000000</td>\n",
              "    </tr>\n",
              "    <tr>\n",
              "      <th id=\"T_ea034_level0_row1\" class=\"row_heading level0 row1\" >mean</th>\n",
              "      <td id=\"T_ea034_row1_col0\" class=\"data row1 col0\" >14.666405</td>\n",
              "      <td id=\"T_ea034_row1_col1\" class=\"data row1 col1\" >1997.000000</td>\n",
              "      <td id=\"T_ea034_row1_col2\" class=\"data row1 col2\" >26.000000</td>\n",
              "    </tr>\n",
              "    <tr>\n",
              "      <th id=\"T_ea034_level0_row2\" class=\"row_heading level0 row2\" >std</th>\n",
              "      <td id=\"T_ea034_row2_col0\" class=\"data row2 col0\" >4.258017</td>\n",
              "      <td id=\"T_ea034_row2_col1\" class=\"data row2 col1\" >5.405893</td>\n",
              "      <td id=\"T_ea034_row2_col2\" class=\"data row2 col2\" >5.405893</td>\n",
              "    </tr>\n",
              "    <tr>\n",
              "      <th id=\"T_ea034_level0_row3\" class=\"row_heading level0 row3\" >min</th>\n",
              "      <td id=\"T_ea034_row3_col0\" class=\"data row3 col0\" >8.150000</td>\n",
              "      <td id=\"T_ea034_row3_col1\" class=\"data row3 col1\" >1978.000000</td>\n",
              "      <td id=\"T_ea034_row3_col2\" class=\"data row3 col2\" >17.000000</td>\n",
              "    </tr>\n",
              "    <tr>\n",
              "      <th id=\"T_ea034_level0_row4\" class=\"row_heading level0 row4\" >25%</th>\n",
              "      <td id=\"T_ea034_row4_col0\" class=\"data row4 col0\" >10.270000</td>\n",
              "      <td id=\"T_ea034_row4_col1\" class=\"data row4 col1\" >1995.000000</td>\n",
              "      <td id=\"T_ea034_row4_col2\" class=\"data row4 col2\" >22.000000</td>\n",
              "    </tr>\n",
              "    <tr>\n",
              "      <th id=\"T_ea034_level0_row5\" class=\"row_heading level0 row5\" >50%</th>\n",
              "      <td id=\"T_ea034_row5_col0\" class=\"data row5 col0\" >16.390000</td>\n",
              "      <td id=\"T_ea034_row5_col1\" class=\"data row5 col1\" >1998.000000</td>\n",
              "      <td id=\"T_ea034_row5_col2\" class=\"data row5 col2\" >25.000000</td>\n",
              "    </tr>\n",
              "    <tr>\n",
              "      <th id=\"T_ea034_level0_row6\" class=\"row_heading level0 row6\" >75%</th>\n",
              "      <td id=\"T_ea034_row6_col0\" class=\"data row6 col0\" >18.550000</td>\n",
              "      <td id=\"T_ea034_row6_col1\" class=\"data row6 col1\" >2001.000000</td>\n",
              "      <td id=\"T_ea034_row6_col2\" class=\"data row6 col2\" >28.000000</td>\n",
              "    </tr>\n",
              "    <tr>\n",
              "      <th id=\"T_ea034_level0_row7\" class=\"row_heading level0 row7\" >max</th>\n",
              "      <td id=\"T_ea034_row7_col0\" class=\"data row7 col0\" >21.000000</td>\n",
              "      <td id=\"T_ea034_row7_col1\" class=\"data row7 col1\" >2006.000000</td>\n",
              "      <td id=\"T_ea034_row7_col2\" class=\"data row7 col2\" >45.000000</td>\n",
              "    </tr>\n",
              "  </tbody>\n",
              "</table>\n"
            ]
          },
          "metadata": {},
          "execution_count": 153
        }
      ]
    },
    {
      "cell_type": "markdown",
      "source": [
        "Data mInimal login adalah saat pukul 8.15 dan maksimal login saat pukul 21.00. Rata-rata tahun lahir adalah 1997 dengan tahun tertua adalah 1978 dengan usia 45 dan tahun lahir termuda adalah 2006 dengan usia 17."
      ],
      "metadata": {
        "id": "3rHE7kFgGJ_a"
      }
    },
    {
      "cell_type": "markdown",
      "source": [
        "## Checking Missing Value"
      ],
      "metadata": {
        "id": "aL9CxLg7GM6h"
      }
    },
    {
      "cell_type": "code",
      "source": [
        "df.isnull().sum()"
      ],
      "metadata": {
        "colab": {
          "base_uri": "https://localhost:8080/"
        },
        "id": "OAkvlpuUGMRW",
        "outputId": "caa5f849-cfe9-4e2d-bf62-8ace32ea9dee"
      },
      "execution_count": null,
      "outputs": [
        {
          "output_type": "execute_result",
          "data": {
            "text/plain": [
              "No_Telp             0\n",
              "Nama_Lokasi         0\n",
              "Jam_Login           0\n",
              "Nama                0\n",
              "Email               0\n",
              "Tahun_Lahir         0\n",
              "Merek_HP            0\n",
              "Digital_Interest    0\n",
              "Location_Type       0\n",
              "Umur                0\n",
              "Prioritas           0\n",
              "dtype: int64"
            ]
          },
          "metadata": {},
          "execution_count": 154
        }
      ]
    },
    {
      "cell_type": "code",
      "source": [
        "pd.options.display.float_format = '{:,.2f} %'.format\n",
        "print((df.isnull().sum()/len(df))*100)\n",
        "pd.options.display.float_format = '{:,.2f}'.format"
      ],
      "metadata": {
        "colab": {
          "base_uri": "https://localhost:8080/"
        },
        "id": "p7eMnRQRGRXh",
        "outputId": "747ea9cc-9735-4592-b7dc-5d3b7d050ea6"
      },
      "execution_count": null,
      "outputs": [
        {
          "output_type": "stream",
          "name": "stdout",
          "text": [
            "No_Telp            0.00 %\n",
            "Nama_Lokasi        0.00 %\n",
            "Jam_Login          0.00 %\n",
            "Nama               0.00 %\n",
            "Email              0.00 %\n",
            "Tahun_Lahir        0.00 %\n",
            "Merek_HP           0.00 %\n",
            "Digital_Interest   0.00 %\n",
            "Location_Type      0.00 %\n",
            "Umur               0.00 %\n",
            "Prioritas          0.00 %\n",
            "dtype: float64\n"
          ]
        }
      ]
    },
    {
      "cell_type": "markdown",
      "source": [
        "##Checking Duplicated Value"
      ],
      "metadata": {
        "id": "_eSgbovTGUZg"
      }
    },
    {
      "cell_type": "code",
      "source": [
        "df.duplicated().sum()"
      ],
      "metadata": {
        "colab": {
          "base_uri": "https://localhost:8080/"
        },
        "id": "1gZnmWPoGWwD",
        "outputId": "6b56518f-4e77-490e-dd91-a1bbd520fdb7"
      },
      "execution_count": null,
      "outputs": [
        {
          "output_type": "execute_result",
          "data": {
            "text/plain": [
              "1"
            ]
          },
          "metadata": {},
          "execution_count": 156
        }
      ]
    },
    {
      "cell_type": "code",
      "source": [
        "# To check duplicated values \n",
        "print(df.duplicated().value_counts()) "
      ],
      "metadata": {
        "colab": {
          "base_uri": "https://localhost:8080/"
        },
        "id": "tjAXzM1XGZbb",
        "outputId": "7a1acbb5-ab0c-4273-8fd9-b23ced8033ba"
      },
      "execution_count": null,
      "outputs": [
        {
          "output_type": "stream",
          "name": "stdout",
          "text": [
            "False    152\n",
            "True       1\n",
            "dtype: int64\n"
          ]
        }
      ]
    },
    {
      "cell_type": "markdown",
      "source": [
        "#List 10 Data Teratas berdasarkan umur tertua."
      ],
      "metadata": {
        "id": "zA2GFIW2GdHN"
      }
    },
    {
      "cell_type": "code",
      "source": [
        "df.sort_values(by = \"Umur\", ascending = False).head(10)"
      ],
      "metadata": {
        "colab": {
          "base_uri": "https://localhost:8080/",
          "height": 363
        },
        "id": "h596traRGfRQ",
        "outputId": "35b59181-f490-453a-f72d-b6f076ee99d9"
      },
      "execution_count": null,
      "outputs": [
        {
          "output_type": "execute_result",
          "data": {
            "text/plain": [
              "       No_Telp         Nama_Lokasi  Jam_Login   Nama            Email  \\\n",
              "0   6286123461           Cafe Aska      10.30  Sisca  Sisca@gmail.com   \n",
              "28    62000286     Resto Pagi Sore      12.30   Coky   Coky@gmail.com   \n",
              "2     62000286         Cafe Cantik      12.30   Coky   Coky@gmail.com   \n",
              "45    62000286  Resto Simpang Raya      12.23   Coky   Coky@gmail.com   \n",
              "44    62000286       Resto Cendana      12.16   Coky   Coky@gmail.com   \n",
              "39    62000286     Resto Sederhana      11.30   Coky   Coky@gmail.com   \n",
              "38    62000286     Resto Pagi Sore      11.43   Coky   Coky@gmail.com   \n",
              "35    62000286  Resto Simpang Raya      12.15   Coky   Coky@gmail.com   \n",
              "34    62000286       Resto Cendana      11.45   Coky   Coky@gmail.com   \n",
              "29    62000286     Resto Sederhana      11.30   Coky   Coky@gmail.com   \n",
              "\n",
              "    Tahun_Lahir Merek_HP Digital_Interest Location_Type  Umur Prioritas  \n",
              "0          1978   Iphone        Education  Tempat Makan    45        YA  \n",
              "28         1985  Samsung        Marketing  Tempat Makan    38     TIDAK  \n",
              "2          1985  Samsung        Marketing  Tempat Makan    38     TIDAK  \n",
              "45         1985  Samsung        Marketing  Tempat Makan    38     TIDAK  \n",
              "44         1985  Samsung        Marketing  Tempat Makan    38     TIDAK  \n",
              "39         1985  Samsung        Marketing  Tempat Makan    38     TIDAK  \n",
              "38         1985  Samsung        Marketing  Tempat Makan    38     TIDAK  \n",
              "35         1985  Samsung        Marketing  Tempat Makan    38     TIDAK  \n",
              "34         1985  Samsung        Marketing  Tempat Makan    38     TIDAK  \n",
              "29         1985  Samsung        Marketing  Tempat Makan    38     TIDAK  "
            ],
            "text/html": [
              "\n",
              "  <div id=\"df-0b26dd2f-0608-49b4-a6c6-a2ec109a21c2\">\n",
              "    <div class=\"colab-df-container\">\n",
              "      <div>\n",
              "<style scoped>\n",
              "    .dataframe tbody tr th:only-of-type {\n",
              "        vertical-align: middle;\n",
              "    }\n",
              "\n",
              "    .dataframe tbody tr th {\n",
              "        vertical-align: top;\n",
              "    }\n",
              "\n",
              "    .dataframe thead th {\n",
              "        text-align: right;\n",
              "    }\n",
              "</style>\n",
              "<table border=\"1\" class=\"dataframe\">\n",
              "  <thead>\n",
              "    <tr style=\"text-align: right;\">\n",
              "      <th></th>\n",
              "      <th>No_Telp</th>\n",
              "      <th>Nama_Lokasi</th>\n",
              "      <th>Jam_Login</th>\n",
              "      <th>Nama</th>\n",
              "      <th>Email</th>\n",
              "      <th>Tahun_Lahir</th>\n",
              "      <th>Merek_HP</th>\n",
              "      <th>Digital_Interest</th>\n",
              "      <th>Location_Type</th>\n",
              "      <th>Umur</th>\n",
              "      <th>Prioritas</th>\n",
              "    </tr>\n",
              "  </thead>\n",
              "  <tbody>\n",
              "    <tr>\n",
              "      <th>0</th>\n",
              "      <td>6286123461</td>\n",
              "      <td>Cafe Aska</td>\n",
              "      <td>10.30</td>\n",
              "      <td>Sisca</td>\n",
              "      <td>Sisca@gmail.com</td>\n",
              "      <td>1978</td>\n",
              "      <td>Iphone</td>\n",
              "      <td>Education</td>\n",
              "      <td>Tempat Makan</td>\n",
              "      <td>45</td>\n",
              "      <td>YA</td>\n",
              "    </tr>\n",
              "    <tr>\n",
              "      <th>28</th>\n",
              "      <td>62000286</td>\n",
              "      <td>Resto Pagi Sore</td>\n",
              "      <td>12.30</td>\n",
              "      <td>Coky</td>\n",
              "      <td>Coky@gmail.com</td>\n",
              "      <td>1985</td>\n",
              "      <td>Samsung</td>\n",
              "      <td>Marketing</td>\n",
              "      <td>Tempat Makan</td>\n",
              "      <td>38</td>\n",
              "      <td>TIDAK</td>\n",
              "    </tr>\n",
              "    <tr>\n",
              "      <th>2</th>\n",
              "      <td>62000286</td>\n",
              "      <td>Cafe Cantik</td>\n",
              "      <td>12.30</td>\n",
              "      <td>Coky</td>\n",
              "      <td>Coky@gmail.com</td>\n",
              "      <td>1985</td>\n",
              "      <td>Samsung</td>\n",
              "      <td>Marketing</td>\n",
              "      <td>Tempat Makan</td>\n",
              "      <td>38</td>\n",
              "      <td>TIDAK</td>\n",
              "    </tr>\n",
              "    <tr>\n",
              "      <th>45</th>\n",
              "      <td>62000286</td>\n",
              "      <td>Resto Simpang Raya</td>\n",
              "      <td>12.23</td>\n",
              "      <td>Coky</td>\n",
              "      <td>Coky@gmail.com</td>\n",
              "      <td>1985</td>\n",
              "      <td>Samsung</td>\n",
              "      <td>Marketing</td>\n",
              "      <td>Tempat Makan</td>\n",
              "      <td>38</td>\n",
              "      <td>TIDAK</td>\n",
              "    </tr>\n",
              "    <tr>\n",
              "      <th>44</th>\n",
              "      <td>62000286</td>\n",
              "      <td>Resto Cendana</td>\n",
              "      <td>12.16</td>\n",
              "      <td>Coky</td>\n",
              "      <td>Coky@gmail.com</td>\n",
              "      <td>1985</td>\n",
              "      <td>Samsung</td>\n",
              "      <td>Marketing</td>\n",
              "      <td>Tempat Makan</td>\n",
              "      <td>38</td>\n",
              "      <td>TIDAK</td>\n",
              "    </tr>\n",
              "    <tr>\n",
              "      <th>39</th>\n",
              "      <td>62000286</td>\n",
              "      <td>Resto Sederhana</td>\n",
              "      <td>11.30</td>\n",
              "      <td>Coky</td>\n",
              "      <td>Coky@gmail.com</td>\n",
              "      <td>1985</td>\n",
              "      <td>Samsung</td>\n",
              "      <td>Marketing</td>\n",
              "      <td>Tempat Makan</td>\n",
              "      <td>38</td>\n",
              "      <td>TIDAK</td>\n",
              "    </tr>\n",
              "    <tr>\n",
              "      <th>38</th>\n",
              "      <td>62000286</td>\n",
              "      <td>Resto Pagi Sore</td>\n",
              "      <td>11.43</td>\n",
              "      <td>Coky</td>\n",
              "      <td>Coky@gmail.com</td>\n",
              "      <td>1985</td>\n",
              "      <td>Samsung</td>\n",
              "      <td>Marketing</td>\n",
              "      <td>Tempat Makan</td>\n",
              "      <td>38</td>\n",
              "      <td>TIDAK</td>\n",
              "    </tr>\n",
              "    <tr>\n",
              "      <th>35</th>\n",
              "      <td>62000286</td>\n",
              "      <td>Resto Simpang Raya</td>\n",
              "      <td>12.15</td>\n",
              "      <td>Coky</td>\n",
              "      <td>Coky@gmail.com</td>\n",
              "      <td>1985</td>\n",
              "      <td>Samsung</td>\n",
              "      <td>Marketing</td>\n",
              "      <td>Tempat Makan</td>\n",
              "      <td>38</td>\n",
              "      <td>TIDAK</td>\n",
              "    </tr>\n",
              "    <tr>\n",
              "      <th>34</th>\n",
              "      <td>62000286</td>\n",
              "      <td>Resto Cendana</td>\n",
              "      <td>11.45</td>\n",
              "      <td>Coky</td>\n",
              "      <td>Coky@gmail.com</td>\n",
              "      <td>1985</td>\n",
              "      <td>Samsung</td>\n",
              "      <td>Marketing</td>\n",
              "      <td>Tempat Makan</td>\n",
              "      <td>38</td>\n",
              "      <td>TIDAK</td>\n",
              "    </tr>\n",
              "    <tr>\n",
              "      <th>29</th>\n",
              "      <td>62000286</td>\n",
              "      <td>Resto Sederhana</td>\n",
              "      <td>11.30</td>\n",
              "      <td>Coky</td>\n",
              "      <td>Coky@gmail.com</td>\n",
              "      <td>1985</td>\n",
              "      <td>Samsung</td>\n",
              "      <td>Marketing</td>\n",
              "      <td>Tempat Makan</td>\n",
              "      <td>38</td>\n",
              "      <td>TIDAK</td>\n",
              "    </tr>\n",
              "  </tbody>\n",
              "</table>\n",
              "</div>\n",
              "      <button class=\"colab-df-convert\" onclick=\"convertToInteractive('df-0b26dd2f-0608-49b4-a6c6-a2ec109a21c2')\"\n",
              "              title=\"Convert this dataframe to an interactive table.\"\n",
              "              style=\"display:none;\">\n",
              "        \n",
              "  <svg xmlns=\"http://www.w3.org/2000/svg\" height=\"24px\"viewBox=\"0 0 24 24\"\n",
              "       width=\"24px\">\n",
              "    <path d=\"M0 0h24v24H0V0z\" fill=\"none\"/>\n",
              "    <path d=\"M18.56 5.44l.94 2.06.94-2.06 2.06-.94-2.06-.94-.94-2.06-.94 2.06-2.06.94zm-11 1L8.5 8.5l.94-2.06 2.06-.94-2.06-.94L8.5 2.5l-.94 2.06-2.06.94zm10 10l.94 2.06.94-2.06 2.06-.94-2.06-.94-.94-2.06-.94 2.06-2.06.94z\"/><path d=\"M17.41 7.96l-1.37-1.37c-.4-.4-.92-.59-1.43-.59-.52 0-1.04.2-1.43.59L10.3 9.45l-7.72 7.72c-.78.78-.78 2.05 0 2.83L4 21.41c.39.39.9.59 1.41.59.51 0 1.02-.2 1.41-.59l7.78-7.78 2.81-2.81c.8-.78.8-2.07 0-2.86zM5.41 20L4 18.59l7.72-7.72 1.47 1.35L5.41 20z\"/>\n",
              "  </svg>\n",
              "      </button>\n",
              "      \n",
              "  <style>\n",
              "    .colab-df-container {\n",
              "      display:flex;\n",
              "      flex-wrap:wrap;\n",
              "      gap: 12px;\n",
              "    }\n",
              "\n",
              "    .colab-df-convert {\n",
              "      background-color: #E8F0FE;\n",
              "      border: none;\n",
              "      border-radius: 50%;\n",
              "      cursor: pointer;\n",
              "      display: none;\n",
              "      fill: #1967D2;\n",
              "      height: 32px;\n",
              "      padding: 0 0 0 0;\n",
              "      width: 32px;\n",
              "    }\n",
              "\n",
              "    .colab-df-convert:hover {\n",
              "      background-color: #E2EBFA;\n",
              "      box-shadow: 0px 1px 2px rgba(60, 64, 67, 0.3), 0px 1px 3px 1px rgba(60, 64, 67, 0.15);\n",
              "      fill: #174EA6;\n",
              "    }\n",
              "\n",
              "    [theme=dark] .colab-df-convert {\n",
              "      background-color: #3B4455;\n",
              "      fill: #D2E3FC;\n",
              "    }\n",
              "\n",
              "    [theme=dark] .colab-df-convert:hover {\n",
              "      background-color: #434B5C;\n",
              "      box-shadow: 0px 1px 3px 1px rgba(0, 0, 0, 0.15);\n",
              "      filter: drop-shadow(0px 1px 2px rgba(0, 0, 0, 0.3));\n",
              "      fill: #FFFFFF;\n",
              "    }\n",
              "  </style>\n",
              "\n",
              "      <script>\n",
              "        const buttonEl =\n",
              "          document.querySelector('#df-0b26dd2f-0608-49b4-a6c6-a2ec109a21c2 button.colab-df-convert');\n",
              "        buttonEl.style.display =\n",
              "          google.colab.kernel.accessAllowed ? 'block' : 'none';\n",
              "\n",
              "        async function convertToInteractive(key) {\n",
              "          const element = document.querySelector('#df-0b26dd2f-0608-49b4-a6c6-a2ec109a21c2');\n",
              "          const dataTable =\n",
              "            await google.colab.kernel.invokeFunction('convertToInteractive',\n",
              "                                                     [key], {});\n",
              "          if (!dataTable) return;\n",
              "\n",
              "          const docLinkHtml = 'Like what you see? Visit the ' +\n",
              "            '<a target=\"_blank\" href=https://colab.research.google.com/notebooks/data_table.ipynb>data table notebook</a>'\n",
              "            + ' to learn more about interactive tables.';\n",
              "          element.innerHTML = '';\n",
              "          dataTable['output_type'] = 'display_data';\n",
              "          await google.colab.output.renderOutput(dataTable, element);\n",
              "          const docLink = document.createElement('div');\n",
              "          docLink.innerHTML = docLinkHtml;\n",
              "          element.appendChild(docLink);\n",
              "        }\n",
              "      </script>\n",
              "    </div>\n",
              "  </div>\n",
              "  "
            ]
          },
          "metadata": {},
          "execution_count": 158
        }
      ]
    },
    {
      "cell_type": "markdown",
      "source": [
        "#List 10 Data Teratas berdasarkan umur termuda"
      ],
      "metadata": {
        "id": "raJI_DJnGjsA"
      }
    },
    {
      "cell_type": "code",
      "source": [
        "df.sort_values(by = \"Umur\", ascending = True).head(10)"
      ],
      "metadata": {
        "colab": {
          "base_uri": "https://localhost:8080/",
          "height": 363
        },
        "id": "Vda66RzXGlyC",
        "outputId": "3fb3ce92-fb87-4b9d-865d-8c8376317595"
      },
      "execution_count": null,
      "outputs": [
        {
          "output_type": "execute_result",
          "data": {
            "text/plain": [
              "       No_Telp      Nama_Lokasi  Jam_Login    Nama             Email  \\\n",
              "53   625555197      SMA Angkasa      11.12    Zizi    Zizi@gmail.com   \n",
              "149  629999111   SMP Bima Sakti       9.00    Bian    Bian@gmail.com   \n",
              "48   625810999  SMP As Sallam 1       9.15    Alfi    Alfi@gmail.com   \n",
              "50    62419001   SMP Bima Sakti      10.00  Askara  Askara@gmail.com   \n",
              "52   629999111    SMA Nusantara      10.15    Bian    Bian@gmail.com   \n",
              "54   625381000       SMA Galaxy      10.15    Alga    Alga@gmail.com   \n",
              "61   629999111   SMP Bima Sakti       9.45    Bian    Bian@gmail.com   \n",
              "36    62980001   Resto Cik Liem      16.23    Titi    Titi@gmail.com   \n",
              "49   629719161        SMP Binus       8.30    Alfa    Alfa@gmail.com   \n",
              "55   629371001       SMA Tiansi      10.05  Marsya  Marsya@gmail.com   \n",
              "\n",
              "     Tahun_Lahir Merek_HP Digital_Interest Location_Type  Umur Prioritas  \n",
              "53          2006   Iphone        Marketing  Tempat Makan    17        YA  \n",
              "149         2005   Iphone       Programmer       Sekolah    18     TIDAK  \n",
              "48          2005  Real me  Content Creator  Tempat Makan    18     TIDAK  \n",
              "50          2005  Real me  Content Creator  Tempat Makan    18     TIDAK  \n",
              "52          2005   Iphone       Programmer  Tempat Makan    18     TIDAK  \n",
              "54          2005   Iphone        Marketing  Tempat Makan    18     TIDAK  \n",
              "61          2005   Iphone       Programmer  Tempat Makan    18     TIDAK  \n",
              "36          2004   Iphone          Banking  Tempat Makan    19        YA  \n",
              "49          2004  Real me  Content Creator  Tempat Makan    19     TIDAK  \n",
              "55          2004   Iphone        Marketing  Tempat Makan    19        YA  "
            ],
            "text/html": [
              "\n",
              "  <div id=\"df-2339c8a2-4996-4798-89e5-344baa001f0a\">\n",
              "    <div class=\"colab-df-container\">\n",
              "      <div>\n",
              "<style scoped>\n",
              "    .dataframe tbody tr th:only-of-type {\n",
              "        vertical-align: middle;\n",
              "    }\n",
              "\n",
              "    .dataframe tbody tr th {\n",
              "        vertical-align: top;\n",
              "    }\n",
              "\n",
              "    .dataframe thead th {\n",
              "        text-align: right;\n",
              "    }\n",
              "</style>\n",
              "<table border=\"1\" class=\"dataframe\">\n",
              "  <thead>\n",
              "    <tr style=\"text-align: right;\">\n",
              "      <th></th>\n",
              "      <th>No_Telp</th>\n",
              "      <th>Nama_Lokasi</th>\n",
              "      <th>Jam_Login</th>\n",
              "      <th>Nama</th>\n",
              "      <th>Email</th>\n",
              "      <th>Tahun_Lahir</th>\n",
              "      <th>Merek_HP</th>\n",
              "      <th>Digital_Interest</th>\n",
              "      <th>Location_Type</th>\n",
              "      <th>Umur</th>\n",
              "      <th>Prioritas</th>\n",
              "    </tr>\n",
              "  </thead>\n",
              "  <tbody>\n",
              "    <tr>\n",
              "      <th>53</th>\n",
              "      <td>625555197</td>\n",
              "      <td>SMA Angkasa</td>\n",
              "      <td>11.12</td>\n",
              "      <td>Zizi</td>\n",
              "      <td>Zizi@gmail.com</td>\n",
              "      <td>2006</td>\n",
              "      <td>Iphone</td>\n",
              "      <td>Marketing</td>\n",
              "      <td>Tempat Makan</td>\n",
              "      <td>17</td>\n",
              "      <td>YA</td>\n",
              "    </tr>\n",
              "    <tr>\n",
              "      <th>149</th>\n",
              "      <td>629999111</td>\n",
              "      <td>SMP Bima Sakti</td>\n",
              "      <td>9.00</td>\n",
              "      <td>Bian</td>\n",
              "      <td>Bian@gmail.com</td>\n",
              "      <td>2005</td>\n",
              "      <td>Iphone</td>\n",
              "      <td>Programmer</td>\n",
              "      <td>Sekolah</td>\n",
              "      <td>18</td>\n",
              "      <td>TIDAK</td>\n",
              "    </tr>\n",
              "    <tr>\n",
              "      <th>48</th>\n",
              "      <td>625810999</td>\n",
              "      <td>SMP As Sallam 1</td>\n",
              "      <td>9.15</td>\n",
              "      <td>Alfi</td>\n",
              "      <td>Alfi@gmail.com</td>\n",
              "      <td>2005</td>\n",
              "      <td>Real me</td>\n",
              "      <td>Content Creator</td>\n",
              "      <td>Tempat Makan</td>\n",
              "      <td>18</td>\n",
              "      <td>TIDAK</td>\n",
              "    </tr>\n",
              "    <tr>\n",
              "      <th>50</th>\n",
              "      <td>62419001</td>\n",
              "      <td>SMP Bima Sakti</td>\n",
              "      <td>10.00</td>\n",
              "      <td>Askara</td>\n",
              "      <td>Askara@gmail.com</td>\n",
              "      <td>2005</td>\n",
              "      <td>Real me</td>\n",
              "      <td>Content Creator</td>\n",
              "      <td>Tempat Makan</td>\n",
              "      <td>18</td>\n",
              "      <td>TIDAK</td>\n",
              "    </tr>\n",
              "    <tr>\n",
              "      <th>52</th>\n",
              "      <td>629999111</td>\n",
              "      <td>SMA Nusantara</td>\n",
              "      <td>10.15</td>\n",
              "      <td>Bian</td>\n",
              "      <td>Bian@gmail.com</td>\n",
              "      <td>2005</td>\n",
              "      <td>Iphone</td>\n",
              "      <td>Programmer</td>\n",
              "      <td>Tempat Makan</td>\n",
              "      <td>18</td>\n",
              "      <td>TIDAK</td>\n",
              "    </tr>\n",
              "    <tr>\n",
              "      <th>54</th>\n",
              "      <td>625381000</td>\n",
              "      <td>SMA Galaxy</td>\n",
              "      <td>10.15</td>\n",
              "      <td>Alga</td>\n",
              "      <td>Alga@gmail.com</td>\n",
              "      <td>2005</td>\n",
              "      <td>Iphone</td>\n",
              "      <td>Marketing</td>\n",
              "      <td>Tempat Makan</td>\n",
              "      <td>18</td>\n",
              "      <td>TIDAK</td>\n",
              "    </tr>\n",
              "    <tr>\n",
              "      <th>61</th>\n",
              "      <td>629999111</td>\n",
              "      <td>SMP Bima Sakti</td>\n",
              "      <td>9.45</td>\n",
              "      <td>Bian</td>\n",
              "      <td>Bian@gmail.com</td>\n",
              "      <td>2005</td>\n",
              "      <td>Iphone</td>\n",
              "      <td>Programmer</td>\n",
              "      <td>Tempat Makan</td>\n",
              "      <td>18</td>\n",
              "      <td>TIDAK</td>\n",
              "    </tr>\n",
              "    <tr>\n",
              "      <th>36</th>\n",
              "      <td>62980001</td>\n",
              "      <td>Resto Cik Liem</td>\n",
              "      <td>16.23</td>\n",
              "      <td>Titi</td>\n",
              "      <td>Titi@gmail.com</td>\n",
              "      <td>2004</td>\n",
              "      <td>Iphone</td>\n",
              "      <td>Banking</td>\n",
              "      <td>Tempat Makan</td>\n",
              "      <td>19</td>\n",
              "      <td>YA</td>\n",
              "    </tr>\n",
              "    <tr>\n",
              "      <th>49</th>\n",
              "      <td>629719161</td>\n",
              "      <td>SMP Binus</td>\n",
              "      <td>8.30</td>\n",
              "      <td>Alfa</td>\n",
              "      <td>Alfa@gmail.com</td>\n",
              "      <td>2004</td>\n",
              "      <td>Real me</td>\n",
              "      <td>Content Creator</td>\n",
              "      <td>Tempat Makan</td>\n",
              "      <td>19</td>\n",
              "      <td>TIDAK</td>\n",
              "    </tr>\n",
              "    <tr>\n",
              "      <th>55</th>\n",
              "      <td>629371001</td>\n",
              "      <td>SMA Tiansi</td>\n",
              "      <td>10.05</td>\n",
              "      <td>Marsya</td>\n",
              "      <td>Marsya@gmail.com</td>\n",
              "      <td>2004</td>\n",
              "      <td>Iphone</td>\n",
              "      <td>Marketing</td>\n",
              "      <td>Tempat Makan</td>\n",
              "      <td>19</td>\n",
              "      <td>YA</td>\n",
              "    </tr>\n",
              "  </tbody>\n",
              "</table>\n",
              "</div>\n",
              "      <button class=\"colab-df-convert\" onclick=\"convertToInteractive('df-2339c8a2-4996-4798-89e5-344baa001f0a')\"\n",
              "              title=\"Convert this dataframe to an interactive table.\"\n",
              "              style=\"display:none;\">\n",
              "        \n",
              "  <svg xmlns=\"http://www.w3.org/2000/svg\" height=\"24px\"viewBox=\"0 0 24 24\"\n",
              "       width=\"24px\">\n",
              "    <path d=\"M0 0h24v24H0V0z\" fill=\"none\"/>\n",
              "    <path d=\"M18.56 5.44l.94 2.06.94-2.06 2.06-.94-2.06-.94-.94-2.06-.94 2.06-2.06.94zm-11 1L8.5 8.5l.94-2.06 2.06-.94-2.06-.94L8.5 2.5l-.94 2.06-2.06.94zm10 10l.94 2.06.94-2.06 2.06-.94-2.06-.94-.94-2.06-.94 2.06-2.06.94z\"/><path d=\"M17.41 7.96l-1.37-1.37c-.4-.4-.92-.59-1.43-.59-.52 0-1.04.2-1.43.59L10.3 9.45l-7.72 7.72c-.78.78-.78 2.05 0 2.83L4 21.41c.39.39.9.59 1.41.59.51 0 1.02-.2 1.41-.59l7.78-7.78 2.81-2.81c.8-.78.8-2.07 0-2.86zM5.41 20L4 18.59l7.72-7.72 1.47 1.35L5.41 20z\"/>\n",
              "  </svg>\n",
              "      </button>\n",
              "      \n",
              "  <style>\n",
              "    .colab-df-container {\n",
              "      display:flex;\n",
              "      flex-wrap:wrap;\n",
              "      gap: 12px;\n",
              "    }\n",
              "\n",
              "    .colab-df-convert {\n",
              "      background-color: #E8F0FE;\n",
              "      border: none;\n",
              "      border-radius: 50%;\n",
              "      cursor: pointer;\n",
              "      display: none;\n",
              "      fill: #1967D2;\n",
              "      height: 32px;\n",
              "      padding: 0 0 0 0;\n",
              "      width: 32px;\n",
              "    }\n",
              "\n",
              "    .colab-df-convert:hover {\n",
              "      background-color: #E2EBFA;\n",
              "      box-shadow: 0px 1px 2px rgba(60, 64, 67, 0.3), 0px 1px 3px 1px rgba(60, 64, 67, 0.15);\n",
              "      fill: #174EA6;\n",
              "    }\n",
              "\n",
              "    [theme=dark] .colab-df-convert {\n",
              "      background-color: #3B4455;\n",
              "      fill: #D2E3FC;\n",
              "    }\n",
              "\n",
              "    [theme=dark] .colab-df-convert:hover {\n",
              "      background-color: #434B5C;\n",
              "      box-shadow: 0px 1px 3px 1px rgba(0, 0, 0, 0.15);\n",
              "      filter: drop-shadow(0px 1px 2px rgba(0, 0, 0, 0.3));\n",
              "      fill: #FFFFFF;\n",
              "    }\n",
              "  </style>\n",
              "\n",
              "      <script>\n",
              "        const buttonEl =\n",
              "          document.querySelector('#df-2339c8a2-4996-4798-89e5-344baa001f0a button.colab-df-convert');\n",
              "        buttonEl.style.display =\n",
              "          google.colab.kernel.accessAllowed ? 'block' : 'none';\n",
              "\n",
              "        async function convertToInteractive(key) {\n",
              "          const element = document.querySelector('#df-2339c8a2-4996-4798-89e5-344baa001f0a');\n",
              "          const dataTable =\n",
              "            await google.colab.kernel.invokeFunction('convertToInteractive',\n",
              "                                                     [key], {});\n",
              "          if (!dataTable) return;\n",
              "\n",
              "          const docLinkHtml = 'Like what you see? Visit the ' +\n",
              "            '<a target=\"_blank\" href=https://colab.research.google.com/notebooks/data_table.ipynb>data table notebook</a>'\n",
              "            + ' to learn more about interactive tables.';\n",
              "          element.innerHTML = '';\n",
              "          dataTable['output_type'] = 'display_data';\n",
              "          await google.colab.output.renderOutput(dataTable, element);\n",
              "          const docLink = document.createElement('div');\n",
              "          docLink.innerHTML = docLinkHtml;\n",
              "          element.appendChild(docLink);\n",
              "        }\n",
              "      </script>\n",
              "    </div>\n",
              "  </div>\n",
              "  "
            ]
          },
          "metadata": {},
          "execution_count": 159
        }
      ]
    },
    {
      "cell_type": "markdown",
      "source": [
        "#10 Data teratas berdasarkan waktu login terakhir."
      ],
      "metadata": {
        "id": "1e8x8_grGo00"
      }
    },
    {
      "cell_type": "code",
      "source": [
        "df.sort_values(by = \"Jam_Login\", ascending = False).head(10)"
      ],
      "metadata": {
        "colab": {
          "base_uri": "https://localhost:8080/",
          "height": 363
        },
        "id": "xzeegOIfGq9f",
        "outputId": "d788ba2a-5b65-42c1-9003-02dd05d387de"
      },
      "execution_count": null,
      "outputs": [
        {
          "output_type": "execute_result",
          "data": {
            "text/plain": [
              "        No_Telp   Nama_Lokasi  Jam_Login      Nama               Email  \\\n",
              "14   6246431788   Cafe Harris      21.00      Fiqi      Fiqi@gmail.com   \n",
              "89    629737610   Cafe Cantik      20.15     Sinta     Sinta@gmail.com   \n",
              "138    62111842    Cafe Fanta      20.15   Jungkok   Jungkok@gmail.com   \n",
              "94     62111842   Cafe Harris      20.15   Jungkok   Jungkok@gmail.com   \n",
              "80    628863888   Cafe Eskula      20.15  Taehyung  Taehyung@gmail.com   \n",
              "20   6293788651   Cafe Cantik      20.00       Ika       Ika@gmail.com   \n",
              "72     62371781   Cafe Doremi      20.00      Kiki      Kiki@gmail.com   \n",
              "40     62300018  Resto Gacoan      20.00     Nurul     Nurul@gmail.com   \n",
              "86    629737610   Cafe Bianca      20.00     Sinta     Sinta@gmail.com   \n",
              "9     621111097   Cafe Junior      20.00     Sinta     Sinta@gmail.com   \n",
              "\n",
              "     Tahun_Lahir Merek_HP Digital_Interest Location_Type  Umur Prioritas  \n",
              "14          1998  Samsung        Marketing  Tempat Makan    25     TIDAK  \n",
              "89          2001   Iphone       Programmer  Tempat Makan    22        YA  \n",
              "138         1997  Samsung  Content Creator  Tempat Makan    26     TIDAK  \n",
              "94          1997  Samsung  Content Creator  Tempat Makan    26     TIDAK  \n",
              "80          1995  Samsung  Content Creator  Tempat Makan    28     TIDAK  \n",
              "20          2001  Real me        Education  Tempat Makan    22        YA  \n",
              "72          2001   Iphone  Content Creator  Tempat Makan    22     TIDAK  \n",
              "40          1999  Samsung       Programmer  Tempat Makan    24        YA  \n",
              "86          2001   Iphone       Programmer  Tempat Makan    22        YA  \n",
              "9           1989   Xiaomi       Programmer  Tempat Makan    34        YA  "
            ],
            "text/html": [
              "\n",
              "  <div id=\"df-0e415c83-812e-4879-b07c-b27ed3a0c8ab\">\n",
              "    <div class=\"colab-df-container\">\n",
              "      <div>\n",
              "<style scoped>\n",
              "    .dataframe tbody tr th:only-of-type {\n",
              "        vertical-align: middle;\n",
              "    }\n",
              "\n",
              "    .dataframe tbody tr th {\n",
              "        vertical-align: top;\n",
              "    }\n",
              "\n",
              "    .dataframe thead th {\n",
              "        text-align: right;\n",
              "    }\n",
              "</style>\n",
              "<table border=\"1\" class=\"dataframe\">\n",
              "  <thead>\n",
              "    <tr style=\"text-align: right;\">\n",
              "      <th></th>\n",
              "      <th>No_Telp</th>\n",
              "      <th>Nama_Lokasi</th>\n",
              "      <th>Jam_Login</th>\n",
              "      <th>Nama</th>\n",
              "      <th>Email</th>\n",
              "      <th>Tahun_Lahir</th>\n",
              "      <th>Merek_HP</th>\n",
              "      <th>Digital_Interest</th>\n",
              "      <th>Location_Type</th>\n",
              "      <th>Umur</th>\n",
              "      <th>Prioritas</th>\n",
              "    </tr>\n",
              "  </thead>\n",
              "  <tbody>\n",
              "    <tr>\n",
              "      <th>14</th>\n",
              "      <td>6246431788</td>\n",
              "      <td>Cafe Harris</td>\n",
              "      <td>21.00</td>\n",
              "      <td>Fiqi</td>\n",
              "      <td>Fiqi@gmail.com</td>\n",
              "      <td>1998</td>\n",
              "      <td>Samsung</td>\n",
              "      <td>Marketing</td>\n",
              "      <td>Tempat Makan</td>\n",
              "      <td>25</td>\n",
              "      <td>TIDAK</td>\n",
              "    </tr>\n",
              "    <tr>\n",
              "      <th>89</th>\n",
              "      <td>629737610</td>\n",
              "      <td>Cafe Cantik</td>\n",
              "      <td>20.15</td>\n",
              "      <td>Sinta</td>\n",
              "      <td>Sinta@gmail.com</td>\n",
              "      <td>2001</td>\n",
              "      <td>Iphone</td>\n",
              "      <td>Programmer</td>\n",
              "      <td>Tempat Makan</td>\n",
              "      <td>22</td>\n",
              "      <td>YA</td>\n",
              "    </tr>\n",
              "    <tr>\n",
              "      <th>138</th>\n",
              "      <td>62111842</td>\n",
              "      <td>Cafe Fanta</td>\n",
              "      <td>20.15</td>\n",
              "      <td>Jungkok</td>\n",
              "      <td>Jungkok@gmail.com</td>\n",
              "      <td>1997</td>\n",
              "      <td>Samsung</td>\n",
              "      <td>Content Creator</td>\n",
              "      <td>Tempat Makan</td>\n",
              "      <td>26</td>\n",
              "      <td>TIDAK</td>\n",
              "    </tr>\n",
              "    <tr>\n",
              "      <th>94</th>\n",
              "      <td>62111842</td>\n",
              "      <td>Cafe Harris</td>\n",
              "      <td>20.15</td>\n",
              "      <td>Jungkok</td>\n",
              "      <td>Jungkok@gmail.com</td>\n",
              "      <td>1997</td>\n",
              "      <td>Samsung</td>\n",
              "      <td>Content Creator</td>\n",
              "      <td>Tempat Makan</td>\n",
              "      <td>26</td>\n",
              "      <td>TIDAK</td>\n",
              "    </tr>\n",
              "    <tr>\n",
              "      <th>80</th>\n",
              "      <td>628863888</td>\n",
              "      <td>Cafe Eskula</td>\n",
              "      <td>20.15</td>\n",
              "      <td>Taehyung</td>\n",
              "      <td>Taehyung@gmail.com</td>\n",
              "      <td>1995</td>\n",
              "      <td>Samsung</td>\n",
              "      <td>Content Creator</td>\n",
              "      <td>Tempat Makan</td>\n",
              "      <td>28</td>\n",
              "      <td>TIDAK</td>\n",
              "    </tr>\n",
              "    <tr>\n",
              "      <th>20</th>\n",
              "      <td>6293788651</td>\n",
              "      <td>Cafe Cantik</td>\n",
              "      <td>20.00</td>\n",
              "      <td>Ika</td>\n",
              "      <td>Ika@gmail.com</td>\n",
              "      <td>2001</td>\n",
              "      <td>Real me</td>\n",
              "      <td>Education</td>\n",
              "      <td>Tempat Makan</td>\n",
              "      <td>22</td>\n",
              "      <td>YA</td>\n",
              "    </tr>\n",
              "    <tr>\n",
              "      <th>72</th>\n",
              "      <td>62371781</td>\n",
              "      <td>Cafe Doremi</td>\n",
              "      <td>20.00</td>\n",
              "      <td>Kiki</td>\n",
              "      <td>Kiki@gmail.com</td>\n",
              "      <td>2001</td>\n",
              "      <td>Iphone</td>\n",
              "      <td>Content Creator</td>\n",
              "      <td>Tempat Makan</td>\n",
              "      <td>22</td>\n",
              "      <td>TIDAK</td>\n",
              "    </tr>\n",
              "    <tr>\n",
              "      <th>40</th>\n",
              "      <td>62300018</td>\n",
              "      <td>Resto Gacoan</td>\n",
              "      <td>20.00</td>\n",
              "      <td>Nurul</td>\n",
              "      <td>Nurul@gmail.com</td>\n",
              "      <td>1999</td>\n",
              "      <td>Samsung</td>\n",
              "      <td>Programmer</td>\n",
              "      <td>Tempat Makan</td>\n",
              "      <td>24</td>\n",
              "      <td>YA</td>\n",
              "    </tr>\n",
              "    <tr>\n",
              "      <th>86</th>\n",
              "      <td>629737610</td>\n",
              "      <td>Cafe Bianca</td>\n",
              "      <td>20.00</td>\n",
              "      <td>Sinta</td>\n",
              "      <td>Sinta@gmail.com</td>\n",
              "      <td>2001</td>\n",
              "      <td>Iphone</td>\n",
              "      <td>Programmer</td>\n",
              "      <td>Tempat Makan</td>\n",
              "      <td>22</td>\n",
              "      <td>YA</td>\n",
              "    </tr>\n",
              "    <tr>\n",
              "      <th>9</th>\n",
              "      <td>621111097</td>\n",
              "      <td>Cafe Junior</td>\n",
              "      <td>20.00</td>\n",
              "      <td>Sinta</td>\n",
              "      <td>Sinta@gmail.com</td>\n",
              "      <td>1989</td>\n",
              "      <td>Xiaomi</td>\n",
              "      <td>Programmer</td>\n",
              "      <td>Tempat Makan</td>\n",
              "      <td>34</td>\n",
              "      <td>YA</td>\n",
              "    </tr>\n",
              "  </tbody>\n",
              "</table>\n",
              "</div>\n",
              "      <button class=\"colab-df-convert\" onclick=\"convertToInteractive('df-0e415c83-812e-4879-b07c-b27ed3a0c8ab')\"\n",
              "              title=\"Convert this dataframe to an interactive table.\"\n",
              "              style=\"display:none;\">\n",
              "        \n",
              "  <svg xmlns=\"http://www.w3.org/2000/svg\" height=\"24px\"viewBox=\"0 0 24 24\"\n",
              "       width=\"24px\">\n",
              "    <path d=\"M0 0h24v24H0V0z\" fill=\"none\"/>\n",
              "    <path d=\"M18.56 5.44l.94 2.06.94-2.06 2.06-.94-2.06-.94-.94-2.06-.94 2.06-2.06.94zm-11 1L8.5 8.5l.94-2.06 2.06-.94-2.06-.94L8.5 2.5l-.94 2.06-2.06.94zm10 10l.94 2.06.94-2.06 2.06-.94-2.06-.94-.94-2.06-.94 2.06-2.06.94z\"/><path d=\"M17.41 7.96l-1.37-1.37c-.4-.4-.92-.59-1.43-.59-.52 0-1.04.2-1.43.59L10.3 9.45l-7.72 7.72c-.78.78-.78 2.05 0 2.83L4 21.41c.39.39.9.59 1.41.59.51 0 1.02-.2 1.41-.59l7.78-7.78 2.81-2.81c.8-.78.8-2.07 0-2.86zM5.41 20L4 18.59l7.72-7.72 1.47 1.35L5.41 20z\"/>\n",
              "  </svg>\n",
              "      </button>\n",
              "      \n",
              "  <style>\n",
              "    .colab-df-container {\n",
              "      display:flex;\n",
              "      flex-wrap:wrap;\n",
              "      gap: 12px;\n",
              "    }\n",
              "\n",
              "    .colab-df-convert {\n",
              "      background-color: #E8F0FE;\n",
              "      border: none;\n",
              "      border-radius: 50%;\n",
              "      cursor: pointer;\n",
              "      display: none;\n",
              "      fill: #1967D2;\n",
              "      height: 32px;\n",
              "      padding: 0 0 0 0;\n",
              "      width: 32px;\n",
              "    }\n",
              "\n",
              "    .colab-df-convert:hover {\n",
              "      background-color: #E2EBFA;\n",
              "      box-shadow: 0px 1px 2px rgba(60, 64, 67, 0.3), 0px 1px 3px 1px rgba(60, 64, 67, 0.15);\n",
              "      fill: #174EA6;\n",
              "    }\n",
              "\n",
              "    [theme=dark] .colab-df-convert {\n",
              "      background-color: #3B4455;\n",
              "      fill: #D2E3FC;\n",
              "    }\n",
              "\n",
              "    [theme=dark] .colab-df-convert:hover {\n",
              "      background-color: #434B5C;\n",
              "      box-shadow: 0px 1px 3px 1px rgba(0, 0, 0, 0.15);\n",
              "      filter: drop-shadow(0px 1px 2px rgba(0, 0, 0, 0.3));\n",
              "      fill: #FFFFFF;\n",
              "    }\n",
              "  </style>\n",
              "\n",
              "      <script>\n",
              "        const buttonEl =\n",
              "          document.querySelector('#df-0e415c83-812e-4879-b07c-b27ed3a0c8ab button.colab-df-convert');\n",
              "        buttonEl.style.display =\n",
              "          google.colab.kernel.accessAllowed ? 'block' : 'none';\n",
              "\n",
              "        async function convertToInteractive(key) {\n",
              "          const element = document.querySelector('#df-0e415c83-812e-4879-b07c-b27ed3a0c8ab');\n",
              "          const dataTable =\n",
              "            await google.colab.kernel.invokeFunction('convertToInteractive',\n",
              "                                                     [key], {});\n",
              "          if (!dataTable) return;\n",
              "\n",
              "          const docLinkHtml = 'Like what you see? Visit the ' +\n",
              "            '<a target=\"_blank\" href=https://colab.research.google.com/notebooks/data_table.ipynb>data table notebook</a>'\n",
              "            + ' to learn more about interactive tables.';\n",
              "          element.innerHTML = '';\n",
              "          dataTable['output_type'] = 'display_data';\n",
              "          await google.colab.output.renderOutput(dataTable, element);\n",
              "          const docLink = document.createElement('div');\n",
              "          docLink.innerHTML = docLinkHtml;\n",
              "          element.appendChild(docLink);\n",
              "        }\n",
              "      </script>\n",
              "    </div>\n",
              "  </div>\n",
              "  "
            ]
          },
          "metadata": {},
          "execution_count": 160
        }
      ]
    },
    {
      "cell_type": "markdown",
      "source": [
        "#10 Data teratas berdasarkan waktu login terawal."
      ],
      "metadata": {
        "id": "ldil-s6DGt78"
      }
    },
    {
      "cell_type": "code",
      "source": [
        "df.sort_values(by = \"Jam_Login\", ascending = True).head(10)"
      ],
      "metadata": {
        "colab": {
          "base_uri": "https://localhost:8080/",
          "height": 363
        },
        "id": "hXWiN7OnGwWD",
        "outputId": "eb994027-073d-4ce6-e755-5c71db029a0f"
      },
      "execution_count": null,
      "outputs": [
        {
          "output_type": "execute_result",
          "data": {
            "text/plain": [
              "        No_Telp      Nama_Lokasi  Jam_Login   Nama            Email  \\\n",
              "150    62971901   SMP Al Islam 1       8.15    Mia    Mia@gmail.com   \n",
              "151    62971901   SMP Al Islam 1       8.17    Mia    Mia@gmail.com   \n",
              "60      6251991        SMP Binus       8.19   Odin   Odin@gmail.com   \n",
              "49    629719161        SMP Binus       8.30   Alfa   Alfa@gmail.com   \n",
              "57   6263716316  SMP As Sallam 2       8.30  Yumna  Yumna@gmail.com   \n",
              "118    62881911        SMP Binus       8.45  Kafka  Kafka@gmail.com   \n",
              "127  6271588127   SMP Al Islam 1       8.45   Poma   Poma@gmail.com   \n",
              "58     62638191   SMP Al Islam 1       8.55  Didin  Didin@gmail.com   \n",
              "47     62638191   SMP Al Islam 1       9.00  Didin  Didin@gmail.com   \n",
              "149   629999111   SMP Bima Sakti       9.00   Bian   Bian@gmail.com   \n",
              "\n",
              "     Tahun_Lahir Merek_HP Digital_Interest Location_Type  Umur Prioritas  \n",
              "150         1997  Samsung        Education       Sekolah    26        YA  \n",
              "151         1997  Samsung        Education       Sekolah    26        YA  \n",
              "60          1997   Xiaomi        Education  Tempat Makan    26     TIDAK  \n",
              "49          2004  Real me  Content Creator  Tempat Makan    19     TIDAK  \n",
              "57          2000  Samsung        Marketing  Tempat Makan    23        YA  \n",
              "118         1998  Samsung        Education       Sekolah    25     TIDAK  \n",
              "127         1999  Samsung        Education       Sekolah    24     TIDAK  \n",
              "58          1998  Real me        Education  Tempat Makan    25        YA  \n",
              "47          1998  Real me        Education  Tempat Makan    25        YA  \n",
              "149         2005   Iphone       Programmer       Sekolah    18     TIDAK  "
            ],
            "text/html": [
              "\n",
              "  <div id=\"df-c9b78103-7538-46ac-baa2-739dea6f2033\">\n",
              "    <div class=\"colab-df-container\">\n",
              "      <div>\n",
              "<style scoped>\n",
              "    .dataframe tbody tr th:only-of-type {\n",
              "        vertical-align: middle;\n",
              "    }\n",
              "\n",
              "    .dataframe tbody tr th {\n",
              "        vertical-align: top;\n",
              "    }\n",
              "\n",
              "    .dataframe thead th {\n",
              "        text-align: right;\n",
              "    }\n",
              "</style>\n",
              "<table border=\"1\" class=\"dataframe\">\n",
              "  <thead>\n",
              "    <tr style=\"text-align: right;\">\n",
              "      <th></th>\n",
              "      <th>No_Telp</th>\n",
              "      <th>Nama_Lokasi</th>\n",
              "      <th>Jam_Login</th>\n",
              "      <th>Nama</th>\n",
              "      <th>Email</th>\n",
              "      <th>Tahun_Lahir</th>\n",
              "      <th>Merek_HP</th>\n",
              "      <th>Digital_Interest</th>\n",
              "      <th>Location_Type</th>\n",
              "      <th>Umur</th>\n",
              "      <th>Prioritas</th>\n",
              "    </tr>\n",
              "  </thead>\n",
              "  <tbody>\n",
              "    <tr>\n",
              "      <th>150</th>\n",
              "      <td>62971901</td>\n",
              "      <td>SMP Al Islam 1</td>\n",
              "      <td>8.15</td>\n",
              "      <td>Mia</td>\n",
              "      <td>Mia@gmail.com</td>\n",
              "      <td>1997</td>\n",
              "      <td>Samsung</td>\n",
              "      <td>Education</td>\n",
              "      <td>Sekolah</td>\n",
              "      <td>26</td>\n",
              "      <td>YA</td>\n",
              "    </tr>\n",
              "    <tr>\n",
              "      <th>151</th>\n",
              "      <td>62971901</td>\n",
              "      <td>SMP Al Islam 1</td>\n",
              "      <td>8.17</td>\n",
              "      <td>Mia</td>\n",
              "      <td>Mia@gmail.com</td>\n",
              "      <td>1997</td>\n",
              "      <td>Samsung</td>\n",
              "      <td>Education</td>\n",
              "      <td>Sekolah</td>\n",
              "      <td>26</td>\n",
              "      <td>YA</td>\n",
              "    </tr>\n",
              "    <tr>\n",
              "      <th>60</th>\n",
              "      <td>6251991</td>\n",
              "      <td>SMP Binus</td>\n",
              "      <td>8.19</td>\n",
              "      <td>Odin</td>\n",
              "      <td>Odin@gmail.com</td>\n",
              "      <td>1997</td>\n",
              "      <td>Xiaomi</td>\n",
              "      <td>Education</td>\n",
              "      <td>Tempat Makan</td>\n",
              "      <td>26</td>\n",
              "      <td>TIDAK</td>\n",
              "    </tr>\n",
              "    <tr>\n",
              "      <th>49</th>\n",
              "      <td>629719161</td>\n",
              "      <td>SMP Binus</td>\n",
              "      <td>8.30</td>\n",
              "      <td>Alfa</td>\n",
              "      <td>Alfa@gmail.com</td>\n",
              "      <td>2004</td>\n",
              "      <td>Real me</td>\n",
              "      <td>Content Creator</td>\n",
              "      <td>Tempat Makan</td>\n",
              "      <td>19</td>\n",
              "      <td>TIDAK</td>\n",
              "    </tr>\n",
              "    <tr>\n",
              "      <th>57</th>\n",
              "      <td>6263716316</td>\n",
              "      <td>SMP As Sallam 2</td>\n",
              "      <td>8.30</td>\n",
              "      <td>Yumna</td>\n",
              "      <td>Yumna@gmail.com</td>\n",
              "      <td>2000</td>\n",
              "      <td>Samsung</td>\n",
              "      <td>Marketing</td>\n",
              "      <td>Tempat Makan</td>\n",
              "      <td>23</td>\n",
              "      <td>YA</td>\n",
              "    </tr>\n",
              "    <tr>\n",
              "      <th>118</th>\n",
              "      <td>62881911</td>\n",
              "      <td>SMP Binus</td>\n",
              "      <td>8.45</td>\n",
              "      <td>Kafka</td>\n",
              "      <td>Kafka@gmail.com</td>\n",
              "      <td>1998</td>\n",
              "      <td>Samsung</td>\n",
              "      <td>Education</td>\n",
              "      <td>Sekolah</td>\n",
              "      <td>25</td>\n",
              "      <td>TIDAK</td>\n",
              "    </tr>\n",
              "    <tr>\n",
              "      <th>127</th>\n",
              "      <td>6271588127</td>\n",
              "      <td>SMP Al Islam 1</td>\n",
              "      <td>8.45</td>\n",
              "      <td>Poma</td>\n",
              "      <td>Poma@gmail.com</td>\n",
              "      <td>1999</td>\n",
              "      <td>Samsung</td>\n",
              "      <td>Education</td>\n",
              "      <td>Sekolah</td>\n",
              "      <td>24</td>\n",
              "      <td>TIDAK</td>\n",
              "    </tr>\n",
              "    <tr>\n",
              "      <th>58</th>\n",
              "      <td>62638191</td>\n",
              "      <td>SMP Al Islam 1</td>\n",
              "      <td>8.55</td>\n",
              "      <td>Didin</td>\n",
              "      <td>Didin@gmail.com</td>\n",
              "      <td>1998</td>\n",
              "      <td>Real me</td>\n",
              "      <td>Education</td>\n",
              "      <td>Tempat Makan</td>\n",
              "      <td>25</td>\n",
              "      <td>YA</td>\n",
              "    </tr>\n",
              "    <tr>\n",
              "      <th>47</th>\n",
              "      <td>62638191</td>\n",
              "      <td>SMP Al Islam 1</td>\n",
              "      <td>9.00</td>\n",
              "      <td>Didin</td>\n",
              "      <td>Didin@gmail.com</td>\n",
              "      <td>1998</td>\n",
              "      <td>Real me</td>\n",
              "      <td>Education</td>\n",
              "      <td>Tempat Makan</td>\n",
              "      <td>25</td>\n",
              "      <td>YA</td>\n",
              "    </tr>\n",
              "    <tr>\n",
              "      <th>149</th>\n",
              "      <td>629999111</td>\n",
              "      <td>SMP Bima Sakti</td>\n",
              "      <td>9.00</td>\n",
              "      <td>Bian</td>\n",
              "      <td>Bian@gmail.com</td>\n",
              "      <td>2005</td>\n",
              "      <td>Iphone</td>\n",
              "      <td>Programmer</td>\n",
              "      <td>Sekolah</td>\n",
              "      <td>18</td>\n",
              "      <td>TIDAK</td>\n",
              "    </tr>\n",
              "  </tbody>\n",
              "</table>\n",
              "</div>\n",
              "      <button class=\"colab-df-convert\" onclick=\"convertToInteractive('df-c9b78103-7538-46ac-baa2-739dea6f2033')\"\n",
              "              title=\"Convert this dataframe to an interactive table.\"\n",
              "              style=\"display:none;\">\n",
              "        \n",
              "  <svg xmlns=\"http://www.w3.org/2000/svg\" height=\"24px\"viewBox=\"0 0 24 24\"\n",
              "       width=\"24px\">\n",
              "    <path d=\"M0 0h24v24H0V0z\" fill=\"none\"/>\n",
              "    <path d=\"M18.56 5.44l.94 2.06.94-2.06 2.06-.94-2.06-.94-.94-2.06-.94 2.06-2.06.94zm-11 1L8.5 8.5l.94-2.06 2.06-.94-2.06-.94L8.5 2.5l-.94 2.06-2.06.94zm10 10l.94 2.06.94-2.06 2.06-.94-2.06-.94-.94-2.06-.94 2.06-2.06.94z\"/><path d=\"M17.41 7.96l-1.37-1.37c-.4-.4-.92-.59-1.43-.59-.52 0-1.04.2-1.43.59L10.3 9.45l-7.72 7.72c-.78.78-.78 2.05 0 2.83L4 21.41c.39.39.9.59 1.41.59.51 0 1.02-.2 1.41-.59l7.78-7.78 2.81-2.81c.8-.78.8-2.07 0-2.86zM5.41 20L4 18.59l7.72-7.72 1.47 1.35L5.41 20z\"/>\n",
              "  </svg>\n",
              "      </button>\n",
              "      \n",
              "  <style>\n",
              "    .colab-df-container {\n",
              "      display:flex;\n",
              "      flex-wrap:wrap;\n",
              "      gap: 12px;\n",
              "    }\n",
              "\n",
              "    .colab-df-convert {\n",
              "      background-color: #E8F0FE;\n",
              "      border: none;\n",
              "      border-radius: 50%;\n",
              "      cursor: pointer;\n",
              "      display: none;\n",
              "      fill: #1967D2;\n",
              "      height: 32px;\n",
              "      padding: 0 0 0 0;\n",
              "      width: 32px;\n",
              "    }\n",
              "\n",
              "    .colab-df-convert:hover {\n",
              "      background-color: #E2EBFA;\n",
              "      box-shadow: 0px 1px 2px rgba(60, 64, 67, 0.3), 0px 1px 3px 1px rgba(60, 64, 67, 0.15);\n",
              "      fill: #174EA6;\n",
              "    }\n",
              "\n",
              "    [theme=dark] .colab-df-convert {\n",
              "      background-color: #3B4455;\n",
              "      fill: #D2E3FC;\n",
              "    }\n",
              "\n",
              "    [theme=dark] .colab-df-convert:hover {\n",
              "      background-color: #434B5C;\n",
              "      box-shadow: 0px 1px 3px 1px rgba(0, 0, 0, 0.15);\n",
              "      filter: drop-shadow(0px 1px 2px rgba(0, 0, 0, 0.3));\n",
              "      fill: #FFFFFF;\n",
              "    }\n",
              "  </style>\n",
              "\n",
              "      <script>\n",
              "        const buttonEl =\n",
              "          document.querySelector('#df-c9b78103-7538-46ac-baa2-739dea6f2033 button.colab-df-convert');\n",
              "        buttonEl.style.display =\n",
              "          google.colab.kernel.accessAllowed ? 'block' : 'none';\n",
              "\n",
              "        async function convertToInteractive(key) {\n",
              "          const element = document.querySelector('#df-c9b78103-7538-46ac-baa2-739dea6f2033');\n",
              "          const dataTable =\n",
              "            await google.colab.kernel.invokeFunction('convertToInteractive',\n",
              "                                                     [key], {});\n",
              "          if (!dataTable) return;\n",
              "\n",
              "          const docLinkHtml = 'Like what you see? Visit the ' +\n",
              "            '<a target=\"_blank\" href=https://colab.research.google.com/notebooks/data_table.ipynb>data table notebook</a>'\n",
              "            + ' to learn more about interactive tables.';\n",
              "          element.innerHTML = '';\n",
              "          dataTable['output_type'] = 'display_data';\n",
              "          await google.colab.output.renderOutput(dataTable, element);\n",
              "          const docLink = document.createElement('div');\n",
              "          docLink.innerHTML = docLinkHtml;\n",
              "          element.appendChild(docLink);\n",
              "        }\n",
              "      </script>\n",
              "    </div>\n",
              "  </div>\n",
              "  "
            ]
          },
          "metadata": {},
          "execution_count": 161
        }
      ]
    },
    {
      "cell_type": "markdown",
      "source": [
        "#The mean and count \"Jam-Login\" and \"Umur\" for different levels of \"Prioritas\"."
      ],
      "metadata": {
        "id": "r0DoW31sGzxM"
      }
    },
    {
      "cell_type": "code",
      "source": [
        "df.pivot_table(\n",
        "    [\"Jam_Login\", \"Umur\"],\n",
        "    [\"Prioritas\"],\n",
        "    aggfunc = [\"mean\", \"count\"],\n",
        ")"
      ],
      "metadata": {
        "colab": {
          "base_uri": "https://localhost:8080/",
          "height": 175
        },
        "id": "mnIvtZbBG1WX",
        "outputId": "9f66384e-5515-4607-b7a0-797ed8907555"
      },
      "execution_count": null,
      "outputs": [
        {
          "output_type": "execute_result",
          "data": {
            "text/plain": [
              "               mean           count     \n",
              "          Jam_Login  Umur Jam_Login Umur\n",
              "Prioritas                               \n",
              "TIDAK         14.29 26.93        80   80\n",
              "YA            15.08 24.99        73   73"
            ],
            "text/html": [
              "\n",
              "  <div id=\"df-de9c873a-2af1-4378-8beb-2ebb66fe2d6c\">\n",
              "    <div class=\"colab-df-container\">\n",
              "      <div>\n",
              "<style scoped>\n",
              "    .dataframe tbody tr th:only-of-type {\n",
              "        vertical-align: middle;\n",
              "    }\n",
              "\n",
              "    .dataframe tbody tr th {\n",
              "        vertical-align: top;\n",
              "    }\n",
              "\n",
              "    .dataframe thead tr th {\n",
              "        text-align: left;\n",
              "    }\n",
              "\n",
              "    .dataframe thead tr:last-of-type th {\n",
              "        text-align: right;\n",
              "    }\n",
              "</style>\n",
              "<table border=\"1\" class=\"dataframe\">\n",
              "  <thead>\n",
              "    <tr>\n",
              "      <th></th>\n",
              "      <th colspan=\"2\" halign=\"left\">mean</th>\n",
              "      <th colspan=\"2\" halign=\"left\">count</th>\n",
              "    </tr>\n",
              "    <tr>\n",
              "      <th></th>\n",
              "      <th>Jam_Login</th>\n",
              "      <th>Umur</th>\n",
              "      <th>Jam_Login</th>\n",
              "      <th>Umur</th>\n",
              "    </tr>\n",
              "    <tr>\n",
              "      <th>Prioritas</th>\n",
              "      <th></th>\n",
              "      <th></th>\n",
              "      <th></th>\n",
              "      <th></th>\n",
              "    </tr>\n",
              "  </thead>\n",
              "  <tbody>\n",
              "    <tr>\n",
              "      <th>TIDAK</th>\n",
              "      <td>14.29</td>\n",
              "      <td>26.93</td>\n",
              "      <td>80</td>\n",
              "      <td>80</td>\n",
              "    </tr>\n",
              "    <tr>\n",
              "      <th>YA</th>\n",
              "      <td>15.08</td>\n",
              "      <td>24.99</td>\n",
              "      <td>73</td>\n",
              "      <td>73</td>\n",
              "    </tr>\n",
              "  </tbody>\n",
              "</table>\n",
              "</div>\n",
              "      <button class=\"colab-df-convert\" onclick=\"convertToInteractive('df-de9c873a-2af1-4378-8beb-2ebb66fe2d6c')\"\n",
              "              title=\"Convert this dataframe to an interactive table.\"\n",
              "              style=\"display:none;\">\n",
              "        \n",
              "  <svg xmlns=\"http://www.w3.org/2000/svg\" height=\"24px\"viewBox=\"0 0 24 24\"\n",
              "       width=\"24px\">\n",
              "    <path d=\"M0 0h24v24H0V0z\" fill=\"none\"/>\n",
              "    <path d=\"M18.56 5.44l.94 2.06.94-2.06 2.06-.94-2.06-.94-.94-2.06-.94 2.06-2.06.94zm-11 1L8.5 8.5l.94-2.06 2.06-.94-2.06-.94L8.5 2.5l-.94 2.06-2.06.94zm10 10l.94 2.06.94-2.06 2.06-.94-2.06-.94-.94-2.06-.94 2.06-2.06.94z\"/><path d=\"M17.41 7.96l-1.37-1.37c-.4-.4-.92-.59-1.43-.59-.52 0-1.04.2-1.43.59L10.3 9.45l-7.72 7.72c-.78.78-.78 2.05 0 2.83L4 21.41c.39.39.9.59 1.41.59.51 0 1.02-.2 1.41-.59l7.78-7.78 2.81-2.81c.8-.78.8-2.07 0-2.86zM5.41 20L4 18.59l7.72-7.72 1.47 1.35L5.41 20z\"/>\n",
              "  </svg>\n",
              "      </button>\n",
              "      \n",
              "  <style>\n",
              "    .colab-df-container {\n",
              "      display:flex;\n",
              "      flex-wrap:wrap;\n",
              "      gap: 12px;\n",
              "    }\n",
              "\n",
              "    .colab-df-convert {\n",
              "      background-color: #E8F0FE;\n",
              "      border: none;\n",
              "      border-radius: 50%;\n",
              "      cursor: pointer;\n",
              "      display: none;\n",
              "      fill: #1967D2;\n",
              "      height: 32px;\n",
              "      padding: 0 0 0 0;\n",
              "      width: 32px;\n",
              "    }\n",
              "\n",
              "    .colab-df-convert:hover {\n",
              "      background-color: #E2EBFA;\n",
              "      box-shadow: 0px 1px 2px rgba(60, 64, 67, 0.3), 0px 1px 3px 1px rgba(60, 64, 67, 0.15);\n",
              "      fill: #174EA6;\n",
              "    }\n",
              "\n",
              "    [theme=dark] .colab-df-convert {\n",
              "      background-color: #3B4455;\n",
              "      fill: #D2E3FC;\n",
              "    }\n",
              "\n",
              "    [theme=dark] .colab-df-convert:hover {\n",
              "      background-color: #434B5C;\n",
              "      box-shadow: 0px 1px 3px 1px rgba(0, 0, 0, 0.15);\n",
              "      filter: drop-shadow(0px 1px 2px rgba(0, 0, 0, 0.3));\n",
              "      fill: #FFFFFF;\n",
              "    }\n",
              "  </style>\n",
              "\n",
              "      <script>\n",
              "        const buttonEl =\n",
              "          document.querySelector('#df-de9c873a-2af1-4378-8beb-2ebb66fe2d6c button.colab-df-convert');\n",
              "        buttonEl.style.display =\n",
              "          google.colab.kernel.accessAllowed ? 'block' : 'none';\n",
              "\n",
              "        async function convertToInteractive(key) {\n",
              "          const element = document.querySelector('#df-de9c873a-2af1-4378-8beb-2ebb66fe2d6c');\n",
              "          const dataTable =\n",
              "            await google.colab.kernel.invokeFunction('convertToInteractive',\n",
              "                                                     [key], {});\n",
              "          if (!dataTable) return;\n",
              "\n",
              "          const docLinkHtml = 'Like what you see? Visit the ' +\n",
              "            '<a target=\"_blank\" href=https://colab.research.google.com/notebooks/data_table.ipynb>data table notebook</a>'\n",
              "            + ' to learn more about interactive tables.';\n",
              "          element.innerHTML = '';\n",
              "          dataTable['output_type'] = 'display_data';\n",
              "          await google.colab.output.renderOutput(dataTable, element);\n",
              "          const docLink = document.createElement('div');\n",
              "          docLink.innerHTML = docLinkHtml;\n",
              "          element.appendChild(docLink);\n",
              "        }\n",
              "      </script>\n",
              "    </div>\n",
              "  </div>\n",
              "  "
            ]
          },
          "metadata": {},
          "execution_count": 162
        }
      ]
    },
    {
      "cell_type": "markdown",
      "source": [
        "#Data distribution of continuous variables'"
      ],
      "metadata": {
        "id": "BbwJSlNsHgPl"
      }
    },
    {
      "cell_type": "code",
      "source": [
        "c = 1 \n",
        "nrows = round(len(df[numericals].columns) / 3) + 1\n",
        "fig = plt.figure(figsize=(18,18))\n",
        "for i in df[numericals].columns:\n",
        "    plt.subplot(nrows, 3, c)\n",
        "    sns.histplot(x=i, hue='Prioritas', data=df)\n",
        "    c += 1 \n",
        "plt.suptitle('Data distribution of continuous variables', fontsize=25, y=0.91)\n",
        "plt.show()"
      ],
      "metadata": {
        "colab": {
          "base_uri": "https://localhost:8080/",
          "height": 546
        },
        "id": "tukt46DoG9C2",
        "outputId": "dcf6782f-cf87-426a-a672-d974886c0be8"
      },
      "execution_count": null,
      "outputs": [
        {
          "output_type": "display_data",
          "data": {
            "text/plain": [
              "<Figure size 1296x1296 with 3 Axes>"
            ],
            "image/png": "[encoded data removed]"
          },
          "metadata": {
            "needs_background": "light"
          }
        }
      ]
    },
    {
      "cell_type": "markdown",
      "source": [
        "#Data distribution of continuous variables"
      ],
      "metadata": {
        "id": "I2u88UuwHmPU"
      }
    },
    {
      "cell_type": "code",
      "source": [
        "plt.figure(figsize=(15, 5))\n",
        "for i in range(0, len(numericals)):\n",
        "    plt.subplot(1, len(numericals), i+1)\n",
        "    sns.distplot(df[numericals[i]], color='red')\n",
        "plt.suptitle('Data distribution of continuous variables', fontsize=25, y=1.03)\n",
        "plt.tight_layout()"
      ],
      "metadata": {
        "colab": {
          "base_uri": "https://localhost:8080/",
          "height": 391
        },
        "id": "E6dMn7-9Hc1e",
        "outputId": "b71961cd-cb33-46d1-8f5e-2d88aa1693fb"
      },
      "execution_count": null,
      "outputs": [
        {
          "output_type": "display_data",
          "data": {
            "text/plain": [
              "<Figure size 1080x360 with 3 Axes>"
            ],
            "image/png": "[encoded data removed]"
          },
          "metadata": {
            "needs_background": "light"
          }
        }
      ]
    },
    {
      "cell_type": "code",
      "source": [
        "for i in range(0, len(numericals)):\n",
        "    plt.subplot(3, len(numericals)/2, i+1)\n",
        "    mean=df[numericals[i]].mean()\n",
        "    median=df[numericals[i]].median()\n",
        "    mode=df[numericals[i]].mode().values[0]\n",
        "    sns.distplot(df[numericals[i]],hist=False)\n",
        "    plt.axvline(mean, color='r', linestyle='-.', label=\"Mean\")\n",
        "    plt.axvline(median, color='g', linestyle='-.', label=\"Median\")\n",
        "    plt.axvline(mode, color='b', linestyle='-.', label=\"Mode\")\n",
        "    plt.tight_layout()\n",
        "plt.legend(bbox_to_anchor=(1.05, 1),loc='lower left')\n",
        "plt.show()"
      ],
      "metadata": {
        "colab": {
          "base_uri": "https://localhost:8080/",
          "height": 297
        },
        "id": "yrgmDt5oHq_8",
        "outputId": "eac27e1e-be19-4d32-904b-9266e8208c1e"
      },
      "execution_count": null,
      "outputs": [
        {
          "output_type": "display_data",
          "data": {
            "text/plain": [
              "<Figure size 432x288 with 3 Axes>"
            ],
            "image/png": "[encoded data removed]"
          },
          "metadata": {
            "needs_background": "light"
          }
        }
      ]
    },
    {
      "cell_type": "markdown",
      "source": [
        "# Count Outlier"
      ],
      "metadata": {
        "id": "1-zPT89CHzBC"
      }
    },
    {
      "cell_type": "code",
      "source": [
        "Q1 = df[numericals].quantile(0.25)\n",
        "Q3 = df[numericals].quantile(0.75)\n",
        "IQR = Q3 - Q1 # Inter quartile range (IQR)\n",
        "\n",
        "print('Total Outliers:')\n",
        "((df[numericals] < (Q1 - 1.5 * IQR)) | (df[numericals] > (Q3 + 1.5 * IQR))).sum()"
      ],
      "metadata": {
        "colab": {
          "base_uri": "https://localhost:8080/"
        },
        "id": "YMkchytdHw7R",
        "outputId": "9b8d0a18-9d3f-4f9f-ddc3-393fc0ddd22b"
      },
      "execution_count": null,
      "outputs": [
        {
          "output_type": "stream",
          "name": "stdout",
          "text": [
            "Total Outliers:\n"
          ]
        },
        {
          "output_type": "execute_result",
          "data": {
            "text/plain": [
              "Jam_Login       0\n",
              "Tahun_Lahir    10\n",
              "Umur           10\n",
              "dtype: int64"
            ]
          },
          "metadata": {},
          "execution_count": 166
        }
      ]
    },
    {
      "cell_type": "markdown",
      "source": [
        "* Terlihat bahwa Jam_Login merupakan grafik bimodal\n",
        "* Terlihat bahwa Tahun_Lahir merupakan distribusi negatif skewness (skeweness ke kiri). Selain itu juga mempunyai outlier 10.\n",
        "* Terlihat bahwa Umur merupakan distribusi positif skewness (skeweness ke kanan). Selain itu juga mempunyai outliers 10"
      ],
      "metadata": {
        "id": "gaBbR0K9H5Dt"
      }
    },
    {
      "cell_type": "markdown",
      "source": [
        "#\"Umur\" Count Distribution"
      ],
      "metadata": {
        "id": "zKzIjywWH9OJ"
      }
    },
    {
      "cell_type": "code",
      "source": [
        "fig, ax = plt.subplots()\n",
        "fig.set_size_inches(20, 8)\n",
        "sns.countplot(x = 'Umur',  hue='Prioritas', data = df)\n",
        "ax.set_xlabel('Umur', fontsize=15)\n",
        "ax.set_ylabel('Count', fontsize=15)\n",
        "ax.set_title('Umur Count Distribution', fontsize=15)"
      ],
      "metadata": {
        "colab": {
          "base_uri": "https://localhost:8080/",
          "height": 537
        },
        "id": "voQaAH1AICSx",
        "outputId": "5cea8eef-41c5-4ab2-ac31-0c15acf7912b"
      },
      "execution_count": null,
      "outputs": [
        {
          "output_type": "execute_result",
          "data": {
            "text/plain": [
              "Text(0.5, 1.0, 'Umur Count Distribution')"
            ]
          },
          "metadata": {},
          "execution_count": 167
        },
        {
          "output_type": "display_data",
          "data": {
            "text/plain": [
              "<Figure size 1440x576 with 1 Axes>"
            ],
            "image/png": "[encoded data removed]"
          },
          "metadata": {
            "needs_background": "light"
          }
        }
      ]
    },
    {
      "cell_type": "code",
      "source": [
        "df['Umur'].value_counts()"
      ],
      "metadata": {
        "colab": {
          "base_uri": "https://localhost:8080/"
        },
        "id": "PqwU1drYIH4h",
        "outputId": "1acf0e99-7cfd-4da9-b000-6b753af838d1"
      },
      "execution_count": null,
      "outputs": [
        {
          "output_type": "execute_result",
          "data": {
            "text/plain": [
              "22    26\n",
              "26    18\n",
              "23    14\n",
              "25    14\n",
              "24    13\n",
              "28    10\n",
              "38     9\n",
              "18     6\n",
              "31     6\n",
              "20     5\n",
              "27     4\n",
              "19     4\n",
              "33     4\n",
              "29     3\n",
              "21     3\n",
              "35     3\n",
              "34     3\n",
              "32     2\n",
              "36     2\n",
              "17     1\n",
              "37     1\n",
              "30     1\n",
              "45     1\n",
              "Name: Umur, dtype: int64"
            ]
          },
          "metadata": {},
          "execution_count": 168
        }
      ]
    },
    {
      "cell_type": "markdown",
      "source": [
        "#Box Plot"
      ],
      "metadata": {
        "id": "0dStniZlIMZF"
      }
    },
    {
      "cell_type": "code",
      "source": [
        "for col in range(0, len(numericals)):\n",
        "    plt.subplot(1, len(numericals), col+1)\n",
        "    sns.boxplot(y=df[numericals[col]], color='indianred', orient='v')\n",
        "    plt.tight_layout()"
      ],
      "metadata": {
        "colab": {
          "base_uri": "https://localhost:8080/",
          "height": 297
        },
        "id": "cY9hqUz9IP8S",
        "outputId": "6863a0bd-7e3d-43e2-cf98-68c20ffe0094"
      },
      "execution_count": null,
      "outputs": [
        {
          "output_type": "display_data",
          "data": {
            "text/plain": [
              "<Figure size 432x288 with 3 Axes>"
            ],
            "image/png": "[encoded data removed]"
          },
          "metadata": {
            "needs_background": "light"
          }
        }
      ]
    },
    {
      "cell_type": "markdown",
      "source": [
        "#Heatmap"
      ],
      "metadata": {
        "id": "fkHTlfuNIXR5"
      }
    },
    {
      "cell_type": "code",
      "source": [
        "plt.figure(figsize=(15,10))\n",
        "sns.heatmap(df[numericals].select_dtypes(include=['int','float']).corr(),annot=True,center = 0)\n",
        "plt.show()"
      ],
      "metadata": {
        "colab": {
          "base_uri": "https://localhost:8080/",
          "height": 596
        },
        "id": "TTFDEthFIYy4",
        "outputId": "a4eb6173-6332-4cc5-8a20-e2edb554c9f6"
      },
      "execution_count": null,
      "outputs": [
        {
          "output_type": "display_data",
          "data": {
            "text/plain": [
              "<Figure size 1080x720 with 2 Axes>"
            ],
            "image/png": "[encoded data removed]"
          },
          "metadata": {
            "needs_background": "light"
          }
        }
      ]
    },
    {
      "cell_type": "markdown",
      "source": [
        "# Categoricals"
      ],
      "metadata": {
        "id": "jUMAR9OEIsSd"
      }
    },
    {
      "cell_type": "code",
      "source": [
        "df[categoricals].describe()"
      ],
      "metadata": {
        "colab": {
          "base_uri": "https://localhost:8080/",
          "height": 175
        },
        "id": "A7tNm_rBIukk",
        "outputId": "ba102266-4198-438c-ca77-000427588635"
      },
      "execution_count": null,
      "outputs": [
        {
          "output_type": "execute_result",
          "data": {
            "text/plain": [
              "           Nama_Lokasi   Nama            Email Merek_HP Digital_Interest  \\\n",
              "count              153    153              153      153              153   \n",
              "unique              30     92               92        5                5   \n",
              "top     SMP Al Islam 2  Sinta  Sinta@gmail.com  Samsung        Education   \n",
              "freq                 9     17               17       74               47   \n",
              "\n",
              "       Location_Type Prioritas  \n",
              "count            153       153  \n",
              "unique             2         2  \n",
              "top     Tempat Makan     TIDAK  \n",
              "freq             119        80  "
            ],
            "text/html": [
              "\n",
              "  <div id=\"df-67021c76-8231-42ce-b264-49cde134aefc\">\n",
              "    <div class=\"colab-df-container\">\n",
              "      <div>\n",
              "<style scoped>\n",
              "    .dataframe tbody tr th:only-of-type {\n",
              "        vertical-align: middle;\n",
              "    }\n",
              "\n",
              "    .dataframe tbody tr th {\n",
              "        vertical-align: top;\n",
              "    }\n",
              "\n",
              "    .dataframe thead th {\n",
              "        text-align: right;\n",
              "    }\n",
              "</style>\n",
              "<table border=\"1\" class=\"dataframe\">\n",
              "  <thead>\n",
              "    <tr style=\"text-align: right;\">\n",
              "      <th></th>\n",
              "      <th>Nama_Lokasi</th>\n",
              "      <th>Nama</th>\n",
              "      <th>Email</th>\n",
              "      <th>Merek_HP</th>\n",
              "      <th>Digital_Interest</th>\n",
              "      <th>Location_Type</th>\n",
              "      <th>Prioritas</th>\n",
              "    </tr>\n",
              "  </thead>\n",
              "  <tbody>\n",
              "    <tr>\n",
              "      <th>count</th>\n",
              "      <td>153</td>\n",
              "      <td>153</td>\n",
              "      <td>153</td>\n",
              "      <td>153</td>\n",
              "      <td>153</td>\n",
              "      <td>153</td>\n",
              "      <td>153</td>\n",
              "    </tr>\n",
              "    <tr>\n",
              "      <th>unique</th>\n",
              "      <td>30</td>\n",
              "      <td>92</td>\n",
              "      <td>92</td>\n",
              "      <td>5</td>\n",
              "      <td>5</td>\n",
              "      <td>2</td>\n",
              "      <td>2</td>\n",
              "    </tr>\n",
              "    <tr>\n",
              "      <th>top</th>\n",
              "      <td>SMP Al Islam 2</td>\n",
              "      <td>Sinta</td>\n",
              "      <td>Sinta@gmail.com</td>\n",
              "      <td>Samsung</td>\n",
              "      <td>Education</td>\n",
              "      <td>Tempat Makan</td>\n",
              "      <td>TIDAK</td>\n",
              "    </tr>\n",
              "    <tr>\n",
              "      <th>freq</th>\n",
              "      <td>9</td>\n",
              "      <td>17</td>\n",
              "      <td>17</td>\n",
              "      <td>74</td>\n",
              "      <td>47</td>\n",
              "      <td>119</td>\n",
              "      <td>80</td>\n",
              "    </tr>\n",
              "  </tbody>\n",
              "</table>\n",
              "</div>\n",
              "      <button class=\"colab-df-convert\" onclick=\"convertToInteractive('df-67021c76-8231-42ce-b264-49cde134aefc')\"\n",
              "              title=\"Convert this dataframe to an interactive table.\"\n",
              "              style=\"display:none;\">\n",
              "        \n",
              "  <svg xmlns=\"http://www.w3.org/2000/svg\" height=\"24px\"viewBox=\"0 0 24 24\"\n",
              "       width=\"24px\">\n",
              "    <path d=\"M0 0h24v24H0V0z\" fill=\"none\"/>\n",
              "    <path d=\"M18.56 5.44l.94 2.06.94-2.06 2.06-.94-2.06-.94-.94-2.06-.94 2.06-2.06.94zm-11 1L8.5 8.5l.94-2.06 2.06-.94-2.06-.94L8.5 2.5l-.94 2.06-2.06.94zm10 10l.94 2.06.94-2.06 2.06-.94-2.06-.94-.94-2.06-.94 2.06-2.06.94z\"/><path d=\"M17.41 7.96l-1.37-1.37c-.4-.4-.92-.59-1.43-.59-.52 0-1.04.2-1.43.59L10.3 9.45l-7.72 7.72c-.78.78-.78 2.05 0 2.83L4 21.41c.39.39.9.59 1.41.59.51 0 1.02-.2 1.41-.59l7.78-7.78 2.81-2.81c.8-.78.8-2.07 0-2.86zM5.41 20L4 18.59l7.72-7.72 1.47 1.35L5.41 20z\"/>\n",
              "  </svg>\n",
              "      </button>\n",
              "      \n",
              "  <style>\n",
              "    .colab-df-container {\n",
              "      display:flex;\n",
              "      flex-wrap:wrap;\n",
              "      gap: 12px;\n",
              "    }\n",
              "\n",
              "    .colab-df-convert {\n",
              "      background-color: #E8F0FE;\n",
              "      border: none;\n",
              "      border-radius: 50%;\n",
              "      cursor: pointer;\n",
              "      display: none;\n",
              "      fill: #1967D2;\n",
              "      height: 32px;\n",
              "      padding: 0 0 0 0;\n",
              "      width: 32px;\n",
              "    }\n",
              "\n",
              "    .colab-df-convert:hover {\n",
              "      background-color: #E2EBFA;\n",
              "      box-shadow: 0px 1px 2px rgba(60, 64, 67, 0.3), 0px 1px 3px 1px rgba(60, 64, 67, 0.15);\n",
              "      fill: #174EA6;\n",
              "    }\n",
              "\n",
              "    [theme=dark] .colab-df-convert {\n",
              "      background-color: #3B4455;\n",
              "      fill: #D2E3FC;\n",
              "    }\n",
              "\n",
              "    [theme=dark] .colab-df-convert:hover {\n",
              "      background-color: #434B5C;\n",
              "      box-shadow: 0px 1px 3px 1px rgba(0, 0, 0, 0.15);\n",
              "      filter: drop-shadow(0px 1px 2px rgba(0, 0, 0, 0.3));\n",
              "      fill: #FFFFFF;\n",
              "    }\n",
              "  </style>\n",
              "\n",
              "      <script>\n",
              "        const buttonEl =\n",
              "          document.querySelector('#df-67021c76-8231-42ce-b264-49cde134aefc button.colab-df-convert');\n",
              "        buttonEl.style.display =\n",
              "          google.colab.kernel.accessAllowed ? 'block' : 'none';\n",
              "\n",
              "        async function convertToInteractive(key) {\n",
              "          const element = document.querySelector('#df-67021c76-8231-42ce-b264-49cde134aefc');\n",
              "          const dataTable =\n",
              "            await google.colab.kernel.invokeFunction('convertToInteractive',\n",
              "                                                     [key], {});\n",
              "          if (!dataTable) return;\n",
              "\n",
              "          const docLinkHtml = 'Like what you see? Visit the ' +\n",
              "            '<a target=\"_blank\" href=https://colab.research.google.com/notebooks/data_table.ipynb>data table notebook</a>'\n",
              "            + ' to learn more about interactive tables.';\n",
              "          element.innerHTML = '';\n",
              "          dataTable['output_type'] = 'display_data';\n",
              "          await google.colab.output.renderOutput(dataTable, element);\n",
              "          const docLink = document.createElement('div');\n",
              "          docLink.innerHTML = docLinkHtml;\n",
              "          element.appendChild(docLink);\n",
              "        }\n",
              "      </script>\n",
              "    </div>\n",
              "  </div>\n",
              "  "
            ]
          },
          "metadata": {},
          "execution_count": 171
        }
      ]
    },
    {
      "cell_type": "markdown",
      "source": [
        "##Bar Chart"
      ],
      "metadata": {
        "id": "LYni8BTNI0eG"
      }
    },
    {
      "cell_type": "code",
      "source": [
        "plt.figure(figsize=(20,10))\n",
        "for i in range(0, len(categoricals)):\n",
        "    plt.subplot(2, round(len(categoricals)/2,0), i+1)\n",
        "    if i+1 in (4,6):\n",
        "      sns.countplot(df[categoricals[i]], orient='v')\n",
        "      plt.xticks(\n",
        "      rotation=45, \n",
        "      horizontalalignment='right',\n",
        "      fontweight='light',\n",
        "      fontsize='small'  \n",
        ")\n",
        "    else:\n",
        "       sns.countplot(df[categoricals[i]], orient='v')\n",
        "    plt.tight_layout()"
      ],
      "metadata": {
        "colab": {
          "base_uri": "https://localhost:8080/",
          "height": 729
        },
        "id": "FZ1PnCLxI2Cr",
        "outputId": "084acc15-58b1-4a32-cb2c-3d07db7f98c9"
      },
      "execution_count": null,
      "outputs": [
        {
          "output_type": "display_data",
          "data": {
            "text/plain": [
              "<Figure size 1440x720 with 7 Axes>"
            ],
            "image/png": "[encoded data removed]"
          },
          "metadata": {
            "needs_background": "light"
          }
        }
      ]
    },
    {
      "cell_type": "code",
      "source": [
        "plt.figure(figsize=(20,10))\n",
        "for i in range(0, len(categoricals)-1):\n",
        "    plt.subplot(2, round((len(categoricals)-1)/2,0), i+1)\n",
        "    if i+1 in (4,6):\n",
        "      sns.countplot(x=categoricals[i],hue='Prioritas', hue_order=['YA', 'TIDAK'], data=df[categoricals], palette='hls', orient='v')\n",
        "      plt.xticks(\n",
        "      rotation=45, \n",
        "      horizontalalignment='right',\n",
        "      fontweight='light',\n",
        "      fontsize='small'  \n",
        ")\n",
        "    else:\n",
        "       sns.countplot(x=categoricals[i],hue='Prioritas', hue_order=['YA', 'TIDAK'], data=df[categoricals], palette='hls', orient='v')\n",
        "    plt.tight_layout()"
      ],
      "metadata": {
        "colab": {
          "base_uri": "https://localhost:8080/",
          "height": 729
        },
        "id": "wKwEH360I7oc",
        "outputId": "4e90fcba-963a-4c09-ecf3-57037d33e19c"
      },
      "execution_count": null,
      "outputs": [
        {
          "output_type": "display_data",
          "data": {
            "text/plain": [
              "<Figure size 1440x720 with 6 Axes>"
            ],
            "image/png": "[encoded data removed]"
          },
          "metadata": {
            "needs_background": "light"
          }
        }
      ]
    },
    {
      "cell_type": "markdown",
      "source": [
        "#10 Besar Data Nama by Umur"
      ],
      "metadata": {
        "id": "y0rr0X_aJPGZ"
      }
    },
    {
      "cell_type": "code",
      "source": [
        "df.groupby(['Nama'])['Umur'].count().sort_values(ascending = True).tail(10).plot(kind = 'barh')\n",
        "plt.title('10 Besar Data Nama by Umur', loc='center',pad=30, fontsize=20, color='blue')\n",
        "plt.xlabel('Total Transaksi', fontsize = 15)\n",
        "plt.ylabel('Detail', fontsize = 15)\n",
        "plt.grid(color='darkgray', linestyle=':',linewidth=0.5)\n",
        "plt.ylim(ymin=0)\n",
        "plt.gcf().set_size_inches(10,5)\n",
        "plt.tight_layout()\n",
        "plt.show()"
      ],
      "metadata": {
        "colab": {
          "base_uri": "https://localhost:8080/",
          "height": 369
        },
        "id": "5o0t4ypgJOWt",
        "outputId": "ae8bf8b4-1016-4404-db43-ca62259ab6d5"
      },
      "execution_count": null,
      "outputs": [
        {
          "output_type": "display_data",
          "data": {
            "text/plain": [
              "<Figure size 720x360 with 1 Axes>"
            ],
            "image/png": "[encoded data removed]"
          },
          "metadata": {
            "needs_background": "light"
          }
        }
      ]
    },
    {
      "cell_type": "markdown",
      "source": [
        "##Cek Nama Sinta"
      ],
      "metadata": {
        "id": "aTI9-chUWFDB"
      }
    },
    {
      "cell_type": "code",
      "source": [
        "temp = df[df['Nama'] == 'Sinta'][['Nama_Lokasi', 'Umur']]\n",
        "print(f\"Lokasi yang dikunjungi: {temp['Nama_Lokasi'].unique()}, Total transacted: {temp['Umur'].count()}\")"
      ],
      "metadata": {
        "colab": {
          "base_uri": "https://localhost:8080/"
        },
        "id": "IGFMRJvLTdhW",
        "outputId": "49c52d10-5c92-432e-d80b-8108f437f095"
      },
      "execution_count": null,
      "outputs": [
        {
          "output_type": "stream",
          "name": "stdout",
          "text": [
            "Lokasi yang dikunjungi: ['Cafe Junior' 'Cafe Gio' 'Cafe Ianka' 'Cafe Cantik' 'Cafe Aska'\n",
            " 'Cafe Bianca' 'Cafe Doremi'], Total transacted: 17\n"
          ]
        }
      ]
    },
    {
      "cell_type": "code",
      "source": [
        "Sinta_name= df[df['Nama'] == 'Sinta']\n",
        "Sinta_name"
      ],
      "metadata": {
        "colab": {
          "base_uri": "https://localhost:8080/",
          "height": 582
        },
        "id": "JkaMMOmhVoNh",
        "outputId": "dfb8e1dc-7046-40b7-f83e-d8a71fd708b9"
      },
      "execution_count": null,
      "outputs": [
        {
          "output_type": "execute_result",
          "data": {
            "text/plain": [
              "       No_Telp  Nama_Lokasi  Jam_Login   Nama            Email  Tahun_Lahir  \\\n",
              "9    621111097  Cafe Junior      20.00  Sinta  Sinta@gmail.com         1989   \n",
              "24   629737610     Cafe Gio      19.37  Sinta  Sinta@gmail.com         2001   \n",
              "75   629737610     Cafe Gio      19.25  Sinta  Sinta@gmail.com         2001   \n",
              "77   629737610   Cafe Ianka      20.00  Sinta  Sinta@gmail.com         2001   \n",
              "78   629737610  Cafe Junior      19.44  Sinta  Sinta@gmail.com         2001   \n",
              "79   629737610  Cafe Cantik      19.23  Sinta  Sinta@gmail.com         2001   \n",
              "82   629737610    Cafe Aska      18.55  Sinta  Sinta@gmail.com         2001   \n",
              "84   629737610   Cafe Ianka      19.05  Sinta  Sinta@gmail.com         2001   \n",
              "85   629737610  Cafe Junior      18.16  Sinta  Sinta@gmail.com         2001   \n",
              "86   629737610  Cafe Bianca      20.00  Sinta  Sinta@gmail.com         2001   \n",
              "87   629737610    Cafe Aska      19.44  Sinta  Sinta@gmail.com         2001   \n",
              "88   629737610  Cafe Bianca      19.23  Sinta  Sinta@gmail.com         2001   \n",
              "89   629737610  Cafe Cantik      20.15  Sinta  Sinta@gmail.com         2001   \n",
              "90   629737610  Cafe Doremi      18.35  Sinta  Sinta@gmail.com         2001   \n",
              "93   629737610     Cafe Gio      19.05  Sinta  Sinta@gmail.com         2001   \n",
              "95   629737610   Cafe Ianka      18.35  Sinta  Sinta@gmail.com         2001   \n",
              "139  629737610     Cafe Gio      18.35  Sinta  Sinta@gmail.com         2001   \n",
              "\n",
              "    Merek_HP Digital_Interest Location_Type  Umur Prioritas  \n",
              "9     Xiaomi       Programmer  Tempat Makan    34        YA  \n",
              "24    Iphone       Programmer  Tempat Makan    22        YA  \n",
              "75    Iphone       Programmer  Tempat Makan    22        YA  \n",
              "77    Iphone       Programmer  Tempat Makan    22        YA  \n",
              "78    Iphone       Programmer  Tempat Makan    22        YA  \n",
              "79    Iphone       Programmer  Tempat Makan    22        YA  \n",
              "82    Iphone       Programmer  Tempat Makan    22        YA  \n",
              "84    Iphone       Programmer  Tempat Makan    22        YA  \n",
              "85    Iphone       Programmer  Tempat Makan    22        YA  \n",
              "86    Iphone       Programmer  Tempat Makan    22        YA  \n",
              "87    Iphone       Programmer  Tempat Makan    22        YA  \n",
              "88    Iphone       Programmer  Tempat Makan    22        YA  \n",
              "89    Iphone       Programmer  Tempat Makan    22        YA  \n",
              "90    Iphone       Programmer  Tempat Makan    22        YA  \n",
              "93    Iphone       Programmer  Tempat Makan    22        YA  \n",
              "95    Iphone       Programmer  Tempat Makan    22        YA  \n",
              "139   Iphone       Programmer  Tempat Makan    22        YA  "
            ],
            "text/html": [
              "\n",
              "  <div id=\"df-c03cfeac-bd83-444a-885e-9f7e149f90f5\">\n",
              "    <div class=\"colab-df-container\">\n",
              "      <div>\n",
              "<style scoped>\n",
              "    .dataframe tbody tr th:only-of-type {\n",
              "        vertical-align: middle;\n",
              "    }\n",
              "\n",
              "    .dataframe tbody tr th {\n",
              "        vertical-align: top;\n",
              "    }\n",
              "\n",
              "    .dataframe thead th {\n",
              "        text-align: right;\n",
              "    }\n",
              "</style>\n",
              "<table border=\"1\" class=\"dataframe\">\n",
              "  <thead>\n",
              "    <tr style=\"text-align: right;\">\n",
              "      <th></th>\n",
              "      <th>No_Telp</th>\n",
              "      <th>Nama_Lokasi</th>\n",
              "      <th>Jam_Login</th>\n",
              "      <th>Nama</th>\n",
              "      <th>Email</th>\n",
              "      <th>Tahun_Lahir</th>\n",
              "      <th>Merek_HP</th>\n",
              "      <th>Digital_Interest</th>\n",
              "      <th>Location_Type</th>\n",
              "      <th>Umur</th>\n",
              "      <th>Prioritas</th>\n",
              "    </tr>\n",
              "  </thead>\n",
              "  <tbody>\n",
              "    <tr>\n",
              "      <th>9</th>\n",
              "      <td>621111097</td>\n",
              "      <td>Cafe Junior</td>\n",
              "      <td>20.00</td>\n",
              "      <td>Sinta</td>\n",
              "      <td>Sinta@gmail.com</td>\n",
              "      <td>1989</td>\n",
              "      <td>Xiaomi</td>\n",
              "      <td>Programmer</td>\n",
              "      <td>Tempat Makan</td>\n",
              "      <td>34</td>\n",
              "      <td>YA</td>\n",
              "    </tr>\n",
              "    <tr>\n",
              "      <th>24</th>\n",
              "      <td>629737610</td>\n",
              "      <td>Cafe Gio</td>\n",
              "      <td>19.37</td>\n",
              "      <td>Sinta</td>\n",
              "      <td>Sinta@gmail.com</td>\n",
              "      <td>2001</td>\n",
              "      <td>Iphone</td>\n",
              "      <td>Programmer</td>\n",
              "      <td>Tempat Makan</td>\n",
              "      <td>22</td>\n",
              "      <td>YA</td>\n",
              "    </tr>\n",
              "    <tr>\n",
              "      <th>75</th>\n",
              "      <td>629737610</td>\n",
              "      <td>Cafe Gio</td>\n",
              "      <td>19.25</td>\n",
              "      <td>Sinta</td>\n",
              "      <td>Sinta@gmail.com</td>\n",
              "      <td>2001</td>\n",
              "      <td>Iphone</td>\n",
              "      <td>Programmer</td>\n",
              "      <td>Tempat Makan</td>\n",
              "      <td>22</td>\n",
              "      <td>YA</td>\n",
              "    </tr>\n",
              "    <tr>\n",
              "      <th>77</th>\n",
              "      <td>629737610</td>\n",
              "      <td>Cafe Ianka</td>\n",
              "      <td>20.00</td>\n",
              "      <td>Sinta</td>\n",
              "      <td>Sinta@gmail.com</td>\n",
              "      <td>2001</td>\n",
              "      <td>Iphone</td>\n",
              "      <td>Programmer</td>\n",
              "      <td>Tempat Makan</td>\n",
              "      <td>22</td>\n",
              "      <td>YA</td>\n",
              "    </tr>\n",
              "    <tr>\n",
              "      <th>78</th>\n",
              "      <td>629737610</td>\n",
              "      <td>Cafe Junior</td>\n",
              "      <td>19.44</td>\n",
              "      <td>Sinta</td>\n",
              "      <td>Sinta@gmail.com</td>\n",
              "      <td>2001</td>\n",
              "      <td>Iphone</td>\n",
              "      <td>Programmer</td>\n",
              "      <td>Tempat Makan</td>\n",
              "      <td>22</td>\n",
              "      <td>YA</td>\n",
              "    </tr>\n",
              "    <tr>\n",
              "      <th>79</th>\n",
              "      <td>629737610</td>\n",
              "      <td>Cafe Cantik</td>\n",
              "      <td>19.23</td>\n",
              "      <td>Sinta</td>\n",
              "      <td>Sinta@gmail.com</td>\n",
              "      <td>2001</td>\n",
              "      <td>Iphone</td>\n",
              "      <td>Programmer</td>\n",
              "      <td>Tempat Makan</td>\n",
              "      <td>22</td>\n",
              "      <td>YA</td>\n",
              "    </tr>\n",
              "    <tr>\n",
              "      <th>82</th>\n",
              "      <td>629737610</td>\n",
              "      <td>Cafe Aska</td>\n",
              "      <td>18.55</td>\n",
              "      <td>Sinta</td>\n",
              "      <td>Sinta@gmail.com</td>\n",
              "      <td>2001</td>\n",
              "      <td>Iphone</td>\n",
              "      <td>Programmer</td>\n",
              "      <td>Tempat Makan</td>\n",
              "      <td>22</td>\n",
              "      <td>YA</td>\n",
              "    </tr>\n",
              "    <tr>\n",
              "      <th>84</th>\n",
              "      <td>629737610</td>\n",
              "      <td>Cafe Ianka</td>\n",
              "      <td>19.05</td>\n",
              "      <td>Sinta</td>\n",
              "      <td>Sinta@gmail.com</td>\n",
              "      <td>2001</td>\n",
              "      <td>Iphone</td>\n",
              "      <td>Programmer</td>\n",
              "      <td>Tempat Makan</td>\n",
              "      <td>22</td>\n",
              "      <td>YA</td>\n",
              "    </tr>\n",
              "    <tr>\n",
              "      <th>85</th>\n",
              "      <td>629737610</td>\n",
              "      <td>Cafe Junior</td>\n",
              "      <td>18.16</td>\n",
              "      <td>Sinta</td>\n",
              "      <td>Sinta@gmail.com</td>\n",
              "      <td>2001</td>\n",
              "      <td>Iphone</td>\n",
              "      <td>Programmer</td>\n",
              "      <td>Tempat Makan</td>\n",
              "      <td>22</td>\n",
              "      <td>YA</td>\n",
              "    </tr>\n",
              "    <tr>\n",
              "      <th>86</th>\n",
              "      <td>629737610</td>\n",
              "      <td>Cafe Bianca</td>\n",
              "      <td>20.00</td>\n",
              "      <td>Sinta</td>\n",
              "      <td>Sinta@gmail.com</td>\n",
              "      <td>2001</td>\n",
              "      <td>Iphone</td>\n",
              "      <td>Programmer</td>\n",
              "      <td>Tempat Makan</td>\n",
              "      <td>22</td>\n",
              "      <td>YA</td>\n",
              "    </tr>\n",
              "    <tr>\n",
              "      <th>87</th>\n",
              "      <td>629737610</td>\n",
              "      <td>Cafe Aska</td>\n",
              "      <td>19.44</td>\n",
              "      <td>Sinta</td>\n",
              "      <td>Sinta@gmail.com</td>\n",
              "      <td>2001</td>\n",
              "      <td>Iphone</td>\n",
              "      <td>Programmer</td>\n",
              "      <td>Tempat Makan</td>\n",
              "      <td>22</td>\n",
              "      <td>YA</td>\n",
              "    </tr>\n",
              "    <tr>\n",
              "      <th>88</th>\n",
              "      <td>629737610</td>\n",
              "      <td>Cafe Bianca</td>\n",
              "      <td>19.23</td>\n",
              "      <td>Sinta</td>\n",
              "      <td>Sinta@gmail.com</td>\n",
              "      <td>2001</td>\n",
              "      <td>Iphone</td>\n",
              "      <td>Programmer</td>\n",
              "      <td>Tempat Makan</td>\n",
              "      <td>22</td>\n",
              "      <td>YA</td>\n",
              "    </tr>\n",
              "    <tr>\n",
              "      <th>89</th>\n",
              "      <td>629737610</td>\n",
              "      <td>Cafe Cantik</td>\n",
              "      <td>20.15</td>\n",
              "      <td>Sinta</td>\n",
              "      <td>Sinta@gmail.com</td>\n",
              "      <td>2001</td>\n",
              "      <td>Iphone</td>\n",
              "      <td>Programmer</td>\n",
              "      <td>Tempat Makan</td>\n",
              "      <td>22</td>\n",
              "      <td>YA</td>\n",
              "    </tr>\n",
              "    <tr>\n",
              "      <th>90</th>\n",
              "      <td>629737610</td>\n",
              "      <td>Cafe Doremi</td>\n",
              "      <td>18.35</td>\n",
              "      <td>Sinta</td>\n",
              "      <td>Sinta@gmail.com</td>\n",
              "      <td>2001</td>\n",
              "      <td>Iphone</td>\n",
              "      <td>Programmer</td>\n",
              "      <td>Tempat Makan</td>\n",
              "      <td>22</td>\n",
              "      <td>YA</td>\n",
              "    </tr>\n",
              "    <tr>\n",
              "      <th>93</th>\n",
              "      <td>629737610</td>\n",
              "      <td>Cafe Gio</td>\n",
              "      <td>19.05</td>\n",
              "      <td>Sinta</td>\n",
              "      <td>Sinta@gmail.com</td>\n",
              "      <td>2001</td>\n",
              "      <td>Iphone</td>\n",
              "      <td>Programmer</td>\n",
              "      <td>Tempat Makan</td>\n",
              "      <td>22</td>\n",
              "      <td>YA</td>\n",
              "    </tr>\n",
              "    <tr>\n",
              "      <th>95</th>\n",
              "      <td>629737610</td>\n",
              "      <td>Cafe Ianka</td>\n",
              "      <td>18.35</td>\n",
              "      <td>Sinta</td>\n",
              "      <td>Sinta@gmail.com</td>\n",
              "      <td>2001</td>\n",
              "      <td>Iphone</td>\n",
              "      <td>Programmer</td>\n",
              "      <td>Tempat Makan</td>\n",
              "      <td>22</td>\n",
              "      <td>YA</td>\n",
              "    </tr>\n",
              "    <tr>\n",
              "      <th>139</th>\n",
              "      <td>629737610</td>\n",
              "      <td>Cafe Gio</td>\n",
              "      <td>18.35</td>\n",
              "      <td>Sinta</td>\n",
              "      <td>Sinta@gmail.com</td>\n",
              "      <td>2001</td>\n",
              "      <td>Iphone</td>\n",
              "      <td>Programmer</td>\n",
              "      <td>Tempat Makan</td>\n",
              "      <td>22</td>\n",
              "      <td>YA</td>\n",
              "    </tr>\n",
              "  </tbody>\n",
              "</table>\n",
              "</div>\n",
              "      <button class=\"colab-df-convert\" onclick=\"convertToInteractive('df-c03cfeac-bd83-444a-885e-9f7e149f90f5')\"\n",
              "              title=\"Convert this dataframe to an interactive table.\"\n",
              "              style=\"display:none;\">\n",
              "        \n",
              "  <svg xmlns=\"http://www.w3.org/2000/svg\" height=\"24px\"viewBox=\"0 0 24 24\"\n",
              "       width=\"24px\">\n",
              "    <path d=\"M0 0h24v24H0V0z\" fill=\"none\"/>\n",
              "    <path d=\"M18.56 5.44l.94 2.06.94-2.06 2.06-.94-2.06-.94-.94-2.06-.94 2.06-2.06.94zm-11 1L8.5 8.5l.94-2.06 2.06-.94-2.06-.94L8.5 2.5l-.94 2.06-2.06.94zm10 10l.94 2.06.94-2.06 2.06-.94-2.06-.94-.94-2.06-.94 2.06-2.06.94z\"/><path d=\"M17.41 7.96l-1.37-1.37c-.4-.4-.92-.59-1.43-.59-.52 0-1.04.2-1.43.59L10.3 9.45l-7.72 7.72c-.78.78-.78 2.05 0 2.83L4 21.41c.39.39.9.59 1.41.59.51 0 1.02-.2 1.41-.59l7.78-7.78 2.81-2.81c.8-.78.8-2.07 0-2.86zM5.41 20L4 18.59l7.72-7.72 1.47 1.35L5.41 20z\"/>\n",
              "  </svg>\n",
              "      </button>\n",
              "      \n",
              "  <style>\n",
              "    .colab-df-container {\n",
              "      display:flex;\n",
              "      flex-wrap:wrap;\n",
              "      gap: 12px;\n",
              "    }\n",
              "\n",
              "    .colab-df-convert {\n",
              "      background-color: #E8F0FE;\n",
              "      border: none;\n",
              "      border-radius: 50%;\n",
              "      cursor: pointer;\n",
              "      display: none;\n",
              "      fill: #1967D2;\n",
              "      height: 32px;\n",
              "      padding: 0 0 0 0;\n",
              "      width: 32px;\n",
              "    }\n",
              "\n",
              "    .colab-df-convert:hover {\n",
              "      background-color: #E2EBFA;\n",
              "      box-shadow: 0px 1px 2px rgba(60, 64, 67, 0.3), 0px 1px 3px 1px rgba(60, 64, 67, 0.15);\n",
              "      fill: #174EA6;\n",
              "    }\n",
              "\n",
              "    [theme=dark] .colab-df-convert {\n",
              "      background-color: #3B4455;\n",
              "      fill: #D2E3FC;\n",
              "    }\n",
              "\n",
              "    [theme=dark] .colab-df-convert:hover {\n",
              "      background-color: #434B5C;\n",
              "      box-shadow: 0px 1px 3px 1px rgba(0, 0, 0, 0.15);\n",
              "      filter: drop-shadow(0px 1px 2px rgba(0, 0, 0, 0.3));\n",
              "      fill: #FFFFFF;\n",
              "    }\n",
              "  </style>\n",
              "\n",
              "      <script>\n",
              "        const buttonEl =\n",
              "          document.querySelector('#df-c03cfeac-bd83-444a-885e-9f7e149f90f5 button.colab-df-convert');\n",
              "        buttonEl.style.display =\n",
              "          google.colab.kernel.accessAllowed ? 'block' : 'none';\n",
              "\n",
              "        async function convertToInteractive(key) {\n",
              "          const element = document.querySelector('#df-c03cfeac-bd83-444a-885e-9f7e149f90f5');\n",
              "          const dataTable =\n",
              "            await google.colab.kernel.invokeFunction('convertToInteractive',\n",
              "                                                     [key], {});\n",
              "          if (!dataTable) return;\n",
              "\n",
              "          const docLinkHtml = 'Like what you see? Visit the ' +\n",
              "            '<a target=\"_blank\" href=https://colab.research.google.com/notebooks/data_table.ipynb>data table notebook</a>'\n",
              "            + ' to learn more about interactive tables.';\n",
              "          element.innerHTML = '';\n",
              "          dataTable['output_type'] = 'display_data';\n",
              "          await google.colab.output.renderOutput(dataTable, element);\n",
              "          const docLink = document.createElement('div');\n",
              "          docLink.innerHTML = docLinkHtml;\n",
              "          element.appendChild(docLink);\n",
              "        }\n",
              "      </script>\n",
              "    </div>\n",
              "  </div>\n",
              "  "
            ]
          },
          "metadata": {},
          "execution_count": 176
        }
      ]
    },
    {
      "cell_type": "markdown",
      "source": [
        "##Cek Nama Jungkok"
      ],
      "metadata": {
        "id": "lTlBiA283iNO"
      }
    },
    {
      "cell_type": "code",
      "source": [
        "temp2 = df[df['Nama'] == 'Jungkok'][['Nama_Lokasi', 'Umur']]\n",
        "print(f\"Lokasi yang dikunjungi: {temp2['Nama_Lokasi'].unique()}, Total transacted: {temp2['Umur'].count()}\")"
      ],
      "metadata": {
        "colab": {
          "base_uri": "https://localhost:8080/"
        },
        "id": "135GhQNH3YmG",
        "outputId": "f8111129-4729-4000-fbb8-8885564978b5"
      },
      "execution_count": null,
      "outputs": [
        {
          "output_type": "stream",
          "name": "stdout",
          "text": [
            "Lokasi yang dikunjungi: ['Cafe Fanta' 'Cafe Harris' 'SMP As Sallam 1'], Total transacted: 10\n"
          ]
        }
      ]
    },
    {
      "cell_type": "code",
      "source": [
        "Jungkok_name= df[df['Nama'] == 'Jungkok']\n",
        "Jungkok_name"
      ],
      "metadata": {
        "colab": {
          "base_uri": "https://localhost:8080/",
          "height": 363
        },
        "id": "oBitDBZ83k7I",
        "outputId": "eec4365d-e340-4096-8ea2-0572b0e23339"
      },
      "execution_count": null,
      "outputs": [
        {
          "output_type": "execute_result",
          "data": {
            "text/plain": [
              "      No_Telp      Nama_Lokasi  Jam_Login     Nama              Email  \\\n",
              "5    62111842       Cafe Fanta      18.00  Jungkok  Jungkok@gmail.com   \n",
              "74   62111842       Cafe Fanta      18.50  Jungkok  Jungkok@gmail.com   \n",
              "76   62111842      Cafe Harris      18.16  Jungkok  Jungkok@gmail.com   \n",
              "81   62111842       Cafe Fanta      18.35  Jungkok  Jungkok@gmail.com   \n",
              "83   62111842      Cafe Harris      18.45  Jungkok  Jungkok@gmail.com   \n",
              "92   62111842       Cafe Fanta      18.45  Jungkok  Jungkok@gmail.com   \n",
              "94   62111842      Cafe Harris      20.15  Jungkok  Jungkok@gmail.com   \n",
              "138  62111842       Cafe Fanta      20.15  Jungkok  Jungkok@gmail.com   \n",
              "140  62111842      Cafe Harris      18.39  Jungkok  Jungkok@gmail.com   \n",
              "147  62111842  SMP As Sallam 1       9.24  Jungkok  Jungkok@gmail.com   \n",
              "\n",
              "     Tahun_Lahir Merek_HP Digital_Interest Location_Type  Umur Prioritas  \n",
              "5           1997  Samsung  Content Creator  Tempat Makan    26     TIDAK  \n",
              "74          1997  Samsung  Content Creator  Tempat Makan    26     TIDAK  \n",
              "76          1997  Samsung  Content Creator  Tempat Makan    26     TIDAK  \n",
              "81          1997  Samsung  Content Creator  Tempat Makan    26     TIDAK  \n",
              "83          1997  Samsung  Content Creator  Tempat Makan    26     TIDAK  \n",
              "92          1997  Samsung  Content Creator  Tempat Makan    26     TIDAK  \n",
              "94          1997  Samsung  Content Creator  Tempat Makan    26     TIDAK  \n",
              "138         1997  Samsung  Content Creator  Tempat Makan    26     TIDAK  \n",
              "140         1997  Samsung  Content Creator  Tempat Makan    26     TIDAK  \n",
              "147         1997  Samsung  Content Creator       Sekolah    26     TIDAK  "
            ],
            "text/html": [
              "\n",
              "  <div id=\"df-716edb67-ba93-496f-a2c9-d1a428b2c341\">\n",
              "    <div class=\"colab-df-container\">\n",
              "      <div>\n",
              "<style scoped>\n",
              "    .dataframe tbody tr th:only-of-type {\n",
              "        vertical-align: middle;\n",
              "    }\n",
              "\n",
              "    .dataframe tbody tr th {\n",
              "        vertical-align: top;\n",
              "    }\n",
              "\n",
              "    .dataframe thead th {\n",
              "        text-align: right;\n",
              "    }\n",
              "</style>\n",
              "<table border=\"1\" class=\"dataframe\">\n",
              "  <thead>\n",
              "    <tr style=\"text-align: right;\">\n",
              "      <th></th>\n",
              "      <th>No_Telp</th>\n",
              "      <th>Nama_Lokasi</th>\n",
              "      <th>Jam_Login</th>\n",
              "      <th>Nama</th>\n",
              "      <th>Email</th>\n",
              "      <th>Tahun_Lahir</th>\n",
              "      <th>Merek_HP</th>\n",
              "      <th>Digital_Interest</th>\n",
              "      <th>Location_Type</th>\n",
              "      <th>Umur</th>\n",
              "      <th>Prioritas</th>\n",
              "    </tr>\n",
              "  </thead>\n",
              "  <tbody>\n",
              "    <tr>\n",
              "      <th>5</th>\n",
              "      <td>62111842</td>\n",
              "      <td>Cafe Fanta</td>\n",
              "      <td>18.00</td>\n",
              "      <td>Jungkok</td>\n",
              "      <td>Jungkok@gmail.com</td>\n",
              "      <td>1997</td>\n",
              "      <td>Samsung</td>\n",
              "      <td>Content Creator</td>\n",
              "      <td>Tempat Makan</td>\n",
              "      <td>26</td>\n",
              "      <td>TIDAK</td>\n",
              "    </tr>\n",
              "    <tr>\n",
              "      <th>74</th>\n",
              "      <td>62111842</td>\n",
              "      <td>Cafe Fanta</td>\n",
              "      <td>18.50</td>\n",
              "      <td>Jungkok</td>\n",
              "      <td>Jungkok@gmail.com</td>\n",
              "      <td>1997</td>\n",
              "      <td>Samsung</td>\n",
              "      <td>Content Creator</td>\n",
              "      <td>Tempat Makan</td>\n",
              "      <td>26</td>\n",
              "      <td>TIDAK</td>\n",
              "    </tr>\n",
              "    <tr>\n",
              "      <th>76</th>\n",
              "      <td>62111842</td>\n",
              "      <td>Cafe Harris</td>\n",
              "      <td>18.16</td>\n",
              "      <td>Jungkok</td>\n",
              "      <td>Jungkok@gmail.com</td>\n",
              "      <td>1997</td>\n",
              "      <td>Samsung</td>\n",
              "      <td>Content Creator</td>\n",
              "      <td>Tempat Makan</td>\n",
              "      <td>26</td>\n",
              "      <td>TIDAK</td>\n",
              "    </tr>\n",
              "    <tr>\n",
              "      <th>81</th>\n",
              "      <td>62111842</td>\n",
              "      <td>Cafe Fanta</td>\n",
              "      <td>18.35</td>\n",
              "      <td>Jungkok</td>\n",
              "      <td>Jungkok@gmail.com</td>\n",
              "      <td>1997</td>\n",
              "      <td>Samsung</td>\n",
              "      <td>Content Creator</td>\n",
              "      <td>Tempat Makan</td>\n",
              "      <td>26</td>\n",
              "      <td>TIDAK</td>\n",
              "    </tr>\n",
              "    <tr>\n",
              "      <th>83</th>\n",
              "      <td>62111842</td>\n",
              "      <td>Cafe Harris</td>\n",
              "      <td>18.45</td>\n",
              "      <td>Jungkok</td>\n",
              "      <td>Jungkok@gmail.com</td>\n",
              "      <td>1997</td>\n",
              "      <td>Samsung</td>\n",
              "      <td>Content Creator</td>\n",
              "      <td>Tempat Makan</td>\n",
              "      <td>26</td>\n",
              "      <td>TIDAK</td>\n",
              "    </tr>\n",
              "    <tr>\n",
              "      <th>92</th>\n",
              "      <td>62111842</td>\n",
              "      <td>Cafe Fanta</td>\n",
              "      <td>18.45</td>\n",
              "      <td>Jungkok</td>\n",
              "      <td>Jungkok@gmail.com</td>\n",
              "      <td>1997</td>\n",
              "      <td>Samsung</td>\n",
              "      <td>Content Creator</td>\n",
              "      <td>Tempat Makan</td>\n",
              "      <td>26</td>\n",
              "      <td>TIDAK</td>\n",
              "    </tr>\n",
              "    <tr>\n",
              "      <th>94</th>\n",
              "      <td>62111842</td>\n",
              "      <td>Cafe Harris</td>\n",
              "      <td>20.15</td>\n",
              "      <td>Jungkok</td>\n",
              "      <td>Jungkok@gmail.com</td>\n",
              "      <td>1997</td>\n",
              "      <td>Samsung</td>\n",
              "      <td>Content Creator</td>\n",
              "      <td>Tempat Makan</td>\n",
              "      <td>26</td>\n",
              "      <td>TIDAK</td>\n",
              "    </tr>\n",
              "    <tr>\n",
              "      <th>138</th>\n",
              "      <td>62111842</td>\n",
              "      <td>Cafe Fanta</td>\n",
              "      <td>20.15</td>\n",
              "      <td>Jungkok</td>\n",
              "      <td>Jungkok@gmail.com</td>\n",
              "      <td>1997</td>\n",
              "      <td>Samsung</td>\n",
              "      <td>Content Creator</td>\n",
              "      <td>Tempat Makan</td>\n",
              "      <td>26</td>\n",
              "      <td>TIDAK</td>\n",
              "    </tr>\n",
              "    <tr>\n",
              "      <th>140</th>\n",
              "      <td>62111842</td>\n",
              "      <td>Cafe Harris</td>\n",
              "      <td>18.39</td>\n",
              "      <td>Jungkok</td>\n",
              "      <td>Jungkok@gmail.com</td>\n",
              "      <td>1997</td>\n",
              "      <td>Samsung</td>\n",
              "      <td>Content Creator</td>\n",
              "      <td>Tempat Makan</td>\n",
              "      <td>26</td>\n",
              "      <td>TIDAK</td>\n",
              "    </tr>\n",
              "    <tr>\n",
              "      <th>147</th>\n",
              "      <td>62111842</td>\n",
              "      <td>SMP As Sallam 1</td>\n",
              "      <td>9.24</td>\n",
              "      <td>Jungkok</td>\n",
              "      <td>Jungkok@gmail.com</td>\n",
              "      <td>1997</td>\n",
              "      <td>Samsung</td>\n",
              "      <td>Content Creator</td>\n",
              "      <td>Sekolah</td>\n",
              "      <td>26</td>\n",
              "      <td>TIDAK</td>\n",
              "    </tr>\n",
              "  </tbody>\n",
              "</table>\n",
              "</div>\n",
              "      <button class=\"colab-df-convert\" onclick=\"convertToInteractive('df-716edb67-ba93-496f-a2c9-d1a428b2c341')\"\n",
              "              title=\"Convert this dataframe to an interactive table.\"\n",
              "              style=\"display:none;\">\n",
              "        \n",
              "  <svg xmlns=\"http://www.w3.org/2000/svg\" height=\"24px\"viewBox=\"0 0 24 24\"\n",
              "       width=\"24px\">\n",
              "    <path d=\"M0 0h24v24H0V0z\" fill=\"none\"/>\n",
              "    <path d=\"M18.56 5.44l.94 2.06.94-2.06 2.06-.94-2.06-.94-.94-2.06-.94 2.06-2.06.94zm-11 1L8.5 8.5l.94-2.06 2.06-.94-2.06-.94L8.5 2.5l-.94 2.06-2.06.94zm10 10l.94 2.06.94-2.06 2.06-.94-2.06-.94-.94-2.06-.94 2.06-2.06.94z\"/><path d=\"M17.41 7.96l-1.37-1.37c-.4-.4-.92-.59-1.43-.59-.52 0-1.04.2-1.43.59L10.3 9.45l-7.72 7.72c-.78.78-.78 2.05 0 2.83L4 21.41c.39.39.9.59 1.41.59.51 0 1.02-.2 1.41-.59l7.78-7.78 2.81-2.81c.8-.78.8-2.07 0-2.86zM5.41 20L4 18.59l7.72-7.72 1.47 1.35L5.41 20z\"/>\n",
              "  </svg>\n",
              "      </button>\n",
              "      \n",
              "  <style>\n",
              "    .colab-df-container {\n",
              "      display:flex;\n",
              "      flex-wrap:wrap;\n",
              "      gap: 12px;\n",
              "    }\n",
              "\n",
              "    .colab-df-convert {\n",
              "      background-color: #E8F0FE;\n",
              "      border: none;\n",
              "      border-radius: 50%;\n",
              "      cursor: pointer;\n",
              "      display: none;\n",
              "      fill: #1967D2;\n",
              "      height: 32px;\n",
              "      padding: 0 0 0 0;\n",
              "      width: 32px;\n",
              "    }\n",
              "\n",
              "    .colab-df-convert:hover {\n",
              "      background-color: #E2EBFA;\n",
              "      box-shadow: 0px 1px 2px rgba(60, 64, 67, 0.3), 0px 1px 3px 1px rgba(60, 64, 67, 0.15);\n",
              "      fill: #174EA6;\n",
              "    }\n",
              "\n",
              "    [theme=dark] .colab-df-convert {\n",
              "      background-color: #3B4455;\n",
              "      fill: #D2E3FC;\n",
              "    }\n",
              "\n",
              "    [theme=dark] .colab-df-convert:hover {\n",
              "      background-color: #434B5C;\n",
              "      box-shadow: 0px 1px 3px 1px rgba(0, 0, 0, 0.15);\n",
              "      filter: drop-shadow(0px 1px 2px rgba(0, 0, 0, 0.3));\n",
              "      fill: #FFFFFF;\n",
              "    }\n",
              "  </style>\n",
              "\n",
              "      <script>\n",
              "        const buttonEl =\n",
              "          document.querySelector('#df-716edb67-ba93-496f-a2c9-d1a428b2c341 button.colab-df-convert');\n",
              "        buttonEl.style.display =\n",
              "          google.colab.kernel.accessAllowed ? 'block' : 'none';\n",
              "\n",
              "        async function convertToInteractive(key) {\n",
              "          const element = document.querySelector('#df-716edb67-ba93-496f-a2c9-d1a428b2c341');\n",
              "          const dataTable =\n",
              "            await google.colab.kernel.invokeFunction('convertToInteractive',\n",
              "                                                     [key], {});\n",
              "          if (!dataTable) return;\n",
              "\n",
              "          const docLinkHtml = 'Like what you see? Visit the ' +\n",
              "            '<a target=\"_blank\" href=https://colab.research.google.com/notebooks/data_table.ipynb>data table notebook</a>'\n",
              "            + ' to learn more about interactive tables.';\n",
              "          element.innerHTML = '';\n",
              "          dataTable['output_type'] = 'display_data';\n",
              "          await google.colab.output.renderOutput(dataTable, element);\n",
              "          const docLink = document.createElement('div');\n",
              "          docLink.innerHTML = docLinkHtml;\n",
              "          element.appendChild(docLink);\n",
              "        }\n",
              "      </script>\n",
              "    </div>\n",
              "  </div>\n",
              "  "
            ]
          },
          "metadata": {},
          "execution_count": 178
        }
      ]
    },
    {
      "cell_type": "markdown",
      "source": [
        "##Cek Nama Coky"
      ],
      "metadata": {
        "id": "UT6p192Z57dx"
      }
    },
    {
      "cell_type": "code",
      "source": [
        "temp3 = df[df['Nama'] == 'Coky'][['Nama_Lokasi', 'Umur']]\n",
        "print(f\"Lokasi yang dikunjungi: {temp3['Nama_Lokasi'].unique()}, Total transacted: {temp3['Umur'].count()}\")"
      ],
      "metadata": {
        "colab": {
          "base_uri": "https://localhost:8080/"
        },
        "id": "IgPAxh826Agk",
        "outputId": "ee388622-5dc1-4867-c094-4246767063a5"
      },
      "execution_count": null,
      "outputs": [
        {
          "output_type": "stream",
          "name": "stdout",
          "text": [
            "Lokasi yang dikunjungi: ['Cafe Cantik' 'Resto Pagi Sore' 'Resto Sederhana' 'Resto Cendana'\n",
            " 'Resto Simpang Raya'], Total transacted: 9\n"
          ]
        }
      ]
    },
    {
      "cell_type": "code",
      "source": [
        "Coky_name= df[df['Nama'] == 'Coky']\n",
        "Coky_name"
      ],
      "metadata": {
        "colab": {
          "base_uri": "https://localhost:8080/",
          "height": 332
        },
        "id": "rTgCGx4U6JWL",
        "outputId": "077e52fa-db8b-4078-8a18-c4ecdf1db570"
      },
      "execution_count": null,
      "outputs": [
        {
          "output_type": "execute_result",
          "data": {
            "text/plain": [
              "     No_Telp         Nama_Lokasi  Jam_Login  Nama           Email  \\\n",
              "2   62000286         Cafe Cantik      12.30  Coky  Coky@gmail.com   \n",
              "28  62000286     Resto Pagi Sore      12.30  Coky  Coky@gmail.com   \n",
              "29  62000286     Resto Sederhana      11.30  Coky  Coky@gmail.com   \n",
              "34  62000286       Resto Cendana      11.45  Coky  Coky@gmail.com   \n",
              "35  62000286  Resto Simpang Raya      12.15  Coky  Coky@gmail.com   \n",
              "38  62000286     Resto Pagi Sore      11.43  Coky  Coky@gmail.com   \n",
              "39  62000286     Resto Sederhana      11.30  Coky  Coky@gmail.com   \n",
              "44  62000286       Resto Cendana      12.16  Coky  Coky@gmail.com   \n",
              "45  62000286  Resto Simpang Raya      12.23  Coky  Coky@gmail.com   \n",
              "\n",
              "    Tahun_Lahir Merek_HP Digital_Interest Location_Type  Umur Prioritas  \n",
              "2          1985  Samsung        Marketing  Tempat Makan    38     TIDAK  \n",
              "28         1985  Samsung        Marketing  Tempat Makan    38     TIDAK  \n",
              "29         1985  Samsung        Marketing  Tempat Makan    38     TIDAK  \n",
              "34         1985  Samsung        Marketing  Tempat Makan    38     TIDAK  \n",
              "35         1985  Samsung        Marketing  Tempat Makan    38     TIDAK  \n",
              "38         1985  Samsung        Marketing  Tempat Makan    38     TIDAK  \n",
              "39         1985  Samsung        Marketing  Tempat Makan    38     TIDAK  \n",
              "44         1985  Samsung        Marketing  Tempat Makan    38     TIDAK  \n",
              "45         1985  Samsung        Marketing  Tempat Makan    38     TIDAK  "
            ],
            "text/html": [
              "\n",
              "  <div id=\"df-0aecfe25-17be-4344-b10a-f9b843bec9bd\">\n",
              "    <div class=\"colab-df-container\">\n",
              "      <div>\n",
              "<style scoped>\n",
              "    .dataframe tbody tr th:only-of-type {\n",
              "        vertical-align: middle;\n",
              "    }\n",
              "\n",
              "    .dataframe tbody tr th {\n",
              "        vertical-align: top;\n",
              "    }\n",
              "\n",
              "    .dataframe thead th {\n",
              "        text-align: right;\n",
              "    }\n",
              "</style>\n",
              "<table border=\"1\" class=\"dataframe\">\n",
              "  <thead>\n",
              "    <tr style=\"text-align: right;\">\n",
              "      <th></th>\n",
              "      <th>No_Telp</th>\n",
              "      <th>Nama_Lokasi</th>\n",
              "      <th>Jam_Login</th>\n",
              "      <th>Nama</th>\n",
              "      <th>Email</th>\n",
              "      <th>Tahun_Lahir</th>\n",
              "      <th>Merek_HP</th>\n",
              "      <th>Digital_Interest</th>\n",
              "      <th>Location_Type</th>\n",
              "      <th>Umur</th>\n",
              "      <th>Prioritas</th>\n",
              "    </tr>\n",
              "  </thead>\n",
              "  <tbody>\n",
              "    <tr>\n",
              "      <th>2</th>\n",
              "      <td>62000286</td>\n",
              "      <td>Cafe Cantik</td>\n",
              "      <td>12.30</td>\n",
              "      <td>Coky</td>\n",
              "      <td>Coky@gmail.com</td>\n",
              "      <td>1985</td>\n",
              "      <td>Samsung</td>\n",
              "      <td>Marketing</td>\n",
              "      <td>Tempat Makan</td>\n",
              "      <td>38</td>\n",
              "      <td>TIDAK</td>\n",
              "    </tr>\n",
              "    <tr>\n",
              "      <th>28</th>\n",
              "      <td>62000286</td>\n",
              "      <td>Resto Pagi Sore</td>\n",
              "      <td>12.30</td>\n",
              "      <td>Coky</td>\n",
              "      <td>Coky@gmail.com</td>\n",
              "      <td>1985</td>\n",
              "      <td>Samsung</td>\n",
              "      <td>Marketing</td>\n",
              "      <td>Tempat Makan</td>\n",
              "      <td>38</td>\n",
              "      <td>TIDAK</td>\n",
              "    </tr>\n",
              "    <tr>\n",
              "      <th>29</th>\n",
              "      <td>62000286</td>\n",
              "      <td>Resto Sederhana</td>\n",
              "      <td>11.30</td>\n",
              "      <td>Coky</td>\n",
              "      <td>Coky@gmail.com</td>\n",
              "      <td>1985</td>\n",
              "      <td>Samsung</td>\n",
              "      <td>Marketing</td>\n",
              "      <td>Tempat Makan</td>\n",
              "      <td>38</td>\n",
              "      <td>TIDAK</td>\n",
              "    </tr>\n",
              "    <tr>\n",
              "      <th>34</th>\n",
              "      <td>62000286</td>\n",
              "      <td>Resto Cendana</td>\n",
              "      <td>11.45</td>\n",
              "      <td>Coky</td>\n",
              "      <td>Coky@gmail.com</td>\n",
              "      <td>1985</td>\n",
              "      <td>Samsung</td>\n",
              "      <td>Marketing</td>\n",
              "      <td>Tempat Makan</td>\n",
              "      <td>38</td>\n",
              "      <td>TIDAK</td>\n",
              "    </tr>\n",
              "    <tr>\n",
              "      <th>35</th>\n",
              "      <td>62000286</td>\n",
              "      <td>Resto Simpang Raya</td>\n",
              "      <td>12.15</td>\n",
              "      <td>Coky</td>\n",
              "      <td>Coky@gmail.com</td>\n",
              "      <td>1985</td>\n",
              "      <td>Samsung</td>\n",
              "      <td>Marketing</td>\n",
              "      <td>Tempat Makan</td>\n",
              "      <td>38</td>\n",
              "      <td>TIDAK</td>\n",
              "    </tr>\n",
              "    <tr>\n",
              "      <th>38</th>\n",
              "      <td>62000286</td>\n",
              "      <td>Resto Pagi Sore</td>\n",
              "      <td>11.43</td>\n",
              "      <td>Coky</td>\n",
              "      <td>Coky@gmail.com</td>\n",
              "      <td>1985</td>\n",
              "      <td>Samsung</td>\n",
              "      <td>Marketing</td>\n",
              "      <td>Tempat Makan</td>\n",
              "      <td>38</td>\n",
              "      <td>TIDAK</td>\n",
              "    </tr>\n",
              "    <tr>\n",
              "      <th>39</th>\n",
              "      <td>62000286</td>\n",
              "      <td>Resto Sederhana</td>\n",
              "      <td>11.30</td>\n",
              "      <td>Coky</td>\n",
              "      <td>Coky@gmail.com</td>\n",
              "      <td>1985</td>\n",
              "      <td>Samsung</td>\n",
              "      <td>Marketing</td>\n",
              "      <td>Tempat Makan</td>\n",
              "      <td>38</td>\n",
              "      <td>TIDAK</td>\n",
              "    </tr>\n",
              "    <tr>\n",
              "      <th>44</th>\n",
              "      <td>62000286</td>\n",
              "      <td>Resto Cendana</td>\n",
              "      <td>12.16</td>\n",
              "      <td>Coky</td>\n",
              "      <td>Coky@gmail.com</td>\n",
              "      <td>1985</td>\n",
              "      <td>Samsung</td>\n",
              "      <td>Marketing</td>\n",
              "      <td>Tempat Makan</td>\n",
              "      <td>38</td>\n",
              "      <td>TIDAK</td>\n",
              "    </tr>\n",
              "    <tr>\n",
              "      <th>45</th>\n",
              "      <td>62000286</td>\n",
              "      <td>Resto Simpang Raya</td>\n",
              "      <td>12.23</td>\n",
              "      <td>Coky</td>\n",
              "      <td>Coky@gmail.com</td>\n",
              "      <td>1985</td>\n",
              "      <td>Samsung</td>\n",
              "      <td>Marketing</td>\n",
              "      <td>Tempat Makan</td>\n",
              "      <td>38</td>\n",
              "      <td>TIDAK</td>\n",
              "    </tr>\n",
              "  </tbody>\n",
              "</table>\n",
              "</div>\n",
              "      <button class=\"colab-df-convert\" onclick=\"convertToInteractive('df-0aecfe25-17be-4344-b10a-f9b843bec9bd')\"\n",
              "              title=\"Convert this dataframe to an interactive table.\"\n",
              "              style=\"display:none;\">\n",
              "        \n",
              "  <svg xmlns=\"http://www.w3.org/2000/svg\" height=\"24px\"viewBox=\"0 0 24 24\"\n",
              "       width=\"24px\">\n",
              "    <path d=\"M0 0h24v24H0V0z\" fill=\"none\"/>\n",
              "    <path d=\"M18.56 5.44l.94 2.06.94-2.06 2.06-.94-2.06-.94-.94-2.06-.94 2.06-2.06.94zm-11 1L8.5 8.5l.94-2.06 2.06-.94-2.06-.94L8.5 2.5l-.94 2.06-2.06.94zm10 10l.94 2.06.94-2.06 2.06-.94-2.06-.94-.94-2.06-.94 2.06-2.06.94z\"/><path d=\"M17.41 7.96l-1.37-1.37c-.4-.4-.92-.59-1.43-.59-.52 0-1.04.2-1.43.59L10.3 9.45l-7.72 7.72c-.78.78-.78 2.05 0 2.83L4 21.41c.39.39.9.59 1.41.59.51 0 1.02-.2 1.41-.59l7.78-7.78 2.81-2.81c.8-.78.8-2.07 0-2.86zM5.41 20L4 18.59l7.72-7.72 1.47 1.35L5.41 20z\"/>\n",
              "  </svg>\n",
              "      </button>\n",
              "      \n",
              "  <style>\n",
              "    .colab-df-container {\n",
              "      display:flex;\n",
              "      flex-wrap:wrap;\n",
              "      gap: 12px;\n",
              "    }\n",
              "\n",
              "    .colab-df-convert {\n",
              "      background-color: #E8F0FE;\n",
              "      border: none;\n",
              "      border-radius: 50%;\n",
              "      cursor: pointer;\n",
              "      display: none;\n",
              "      fill: #1967D2;\n",
              "      height: 32px;\n",
              "      padding: 0 0 0 0;\n",
              "      width: 32px;\n",
              "    }\n",
              "\n",
              "    .colab-df-convert:hover {\n",
              "      background-color: #E2EBFA;\n",
              "      box-shadow: 0px 1px 2px rgba(60, 64, 67, 0.3), 0px 1px 3px 1px rgba(60, 64, 67, 0.15);\n",
              "      fill: #174EA6;\n",
              "    }\n",
              "\n",
              "    [theme=dark] .colab-df-convert {\n",
              "      background-color: #3B4455;\n",
              "      fill: #D2E3FC;\n",
              "    }\n",
              "\n",
              "    [theme=dark] .colab-df-convert:hover {\n",
              "      background-color: #434B5C;\n",
              "      box-shadow: 0px 1px 3px 1px rgba(0, 0, 0, 0.15);\n",
              "      filter: drop-shadow(0px 1px 2px rgba(0, 0, 0, 0.3));\n",
              "      fill: #FFFFFF;\n",
              "    }\n",
              "  </style>\n",
              "\n",
              "      <script>\n",
              "        const buttonEl =\n",
              "          document.querySelector('#df-0aecfe25-17be-4344-b10a-f9b843bec9bd button.colab-df-convert');\n",
              "        buttonEl.style.display =\n",
              "          google.colab.kernel.accessAllowed ? 'block' : 'none';\n",
              "\n",
              "        async function convertToInteractive(key) {\n",
              "          const element = document.querySelector('#df-0aecfe25-17be-4344-b10a-f9b843bec9bd');\n",
              "          const dataTable =\n",
              "            await google.colab.kernel.invokeFunction('convertToInteractive',\n",
              "                                                     [key], {});\n",
              "          if (!dataTable) return;\n",
              "\n",
              "          const docLinkHtml = 'Like what you see? Visit the ' +\n",
              "            '<a target=\"_blank\" href=https://colab.research.google.com/notebooks/data_table.ipynb>data table notebook</a>'\n",
              "            + ' to learn more about interactive tables.';\n",
              "          element.innerHTML = '';\n",
              "          dataTable['output_type'] = 'display_data';\n",
              "          await google.colab.output.renderOutput(dataTable, element);\n",
              "          const docLink = document.createElement('div');\n",
              "          docLink.innerHTML = docLinkHtml;\n",
              "          element.appendChild(docLink);\n",
              "        }\n",
              "      </script>\n",
              "    </div>\n",
              "  </div>\n",
              "  "
            ]
          },
          "metadata": {},
          "execution_count": 180
        }
      ]
    },
    {
      "cell_type": "markdown",
      "source": [
        "#10 Besar Data Nama_Lokasi by Umur"
      ],
      "metadata": {
        "id": "cJfS3-BRJVkv"
      }
    },
    {
      "cell_type": "code",
      "source": [
        "df.groupby(['Nama_Lokasi'])['Umur'].count().sort_values(ascending = True).tail(10).plot(kind = 'barh')\n",
        "plt.title('10 Besar Data Nama_Lokasi by Umur', loc='center',pad=30, fontsize=20, color='blue')\n",
        "plt.xlabel('Total Transaksi', fontsize = 15)\n",
        "plt.ylabel('Detail', fontsize = 15)\n",
        "plt.grid(color='darkgray', linestyle=':',linewidth=0.5)\n",
        "plt.ylim(ymin=0)\n",
        "plt.gcf().set_size_inches(10,5)\n",
        "plt.tight_layout()\n",
        "plt.show()"
      ],
      "metadata": {
        "colab": {
          "base_uri": "https://localhost:8080/",
          "height": 369
        },
        "id": "UPLpu4x2JVNE",
        "outputId": "6d014c79-fc6d-40ae-f95d-c7046d20a119"
      },
      "execution_count": null,
      "outputs": [
        {
          "output_type": "display_data",
          "data": {
            "text/plain": [
              "<Figure size 720x360 with 1 Axes>"
            ],
            "image/png": "[encoded data removed]"
          },
          "metadata": {
            "needs_background": "light"
          }
        }
      ]
    },
    {
      "cell_type": "markdown",
      "source": [
        "##Cek SMP Al Islam 2"
      ],
      "metadata": {
        "id": "pPHTZUJi9hHK"
      }
    },
    {
      "cell_type": "code",
      "source": [
        "smp1_name= df[df['Nama_Lokasi'] == 'SMP Al Islam 2']\n",
        "smp1_name"
      ],
      "metadata": {
        "colab": {
          "base_uri": "https://localhost:8080/",
          "height": 332
        },
        "id": "HegJKTRA8mxN",
        "outputId": "2953e9e9-83be-47c8-d967-665d8dbb747f"
      },
      "execution_count": null,
      "outputs": [
        {
          "output_type": "execute_result",
          "data": {
            "text/plain": [
              "        No_Telp     Nama_Lokasi  Jam_Login     Nama              Email  \\\n",
              "51    629792871  SMP Al Islam 2       9.30     Dion     Dion@gmail.com   \n",
              "56     62991811  SMP Al Islam 2       9.20    Maria    Maria@gmail.com   \n",
              "62   6246431788  SMP Al Islam 2      10.27     Fiqi     Fiqi@gmail.com   \n",
              "67    629999111  SMP Al Islam 2       9.12    Janes    Janes@gmail.com   \n",
              "120  6246431788  SMP Al Islam 2       9.55     Fiqi     Fiqi@gmail.com   \n",
              "125  6271588125  SMP Al Islam 2       9.30    Ahmad    Ahmad@gmail.com   \n",
              "131    62188883  SMP Al Islam 2       9.44  Komaira  Komaira@gmail.com   \n",
              "136    62188887  SMP Al Islam 2       9.55     Esyu     Esyu@gmail.com   \n",
              "141  6258019999  SMP Al Islam 2       9.24   Poisma   Poisma@gmail.com   \n",
              "\n",
              "     Tahun_Lahir Merek_HP Digital_Interest Location_Type  Umur Prioritas  \n",
              "51          2001  Real me        Education  Tempat Makan    22     TIDAK  \n",
              "56          2001   Iphone        Marketing  Tempat Makan    22        YA  \n",
              "62          1998  Samsung        Marketing  Tempat Makan    25     TIDAK  \n",
              "67          1999  Samsung        Education  Tempat Makan    24     TIDAK  \n",
              "120         1998  Samsung        Marketing       Sekolah    25     TIDAK  \n",
              "125         1999  Samsung        Education       Sekolah    24     TIDAK  \n",
              "131         2000  Samsung        Education       Sekolah    23        YA  \n",
              "136         2000  Samsung        Education       Sekolah    23        YA  \n",
              "141         1998   Xiaomi        Education       Sekolah    25        YA  "
            ],
            "text/html": [
              "\n",
              "  <div id=\"df-eb10cb2a-b799-4933-92be-6b174ea4fdb5\">\n",
              "    <div class=\"colab-df-container\">\n",
              "      <div>\n",
              "<style scoped>\n",
              "    .dataframe tbody tr th:only-of-type {\n",
              "        vertical-align: middle;\n",
              "    }\n",
              "\n",
              "    .dataframe tbody tr th {\n",
              "        vertical-align: top;\n",
              "    }\n",
              "\n",
              "    .dataframe thead th {\n",
              "        text-align: right;\n",
              "    }\n",
              "</style>\n",
              "<table border=\"1\" class=\"dataframe\">\n",
              "  <thead>\n",
              "    <tr style=\"text-align: right;\">\n",
              "      <th></th>\n",
              "      <th>No_Telp</th>\n",
              "      <th>Nama_Lokasi</th>\n",
              "      <th>Jam_Login</th>\n",
              "      <th>Nama</th>\n",
              "      <th>Email</th>\n",
              "      <th>Tahun_Lahir</th>\n",
              "      <th>Merek_HP</th>\n",
              "      <th>Digital_Interest</th>\n",
              "      <th>Location_Type</th>\n",
              "      <th>Umur</th>\n",
              "      <th>Prioritas</th>\n",
              "    </tr>\n",
              "  </thead>\n",
              "  <tbody>\n",
              "    <tr>\n",
              "      <th>51</th>\n",
              "      <td>629792871</td>\n",
              "      <td>SMP Al Islam 2</td>\n",
              "      <td>9.30</td>\n",
              "      <td>Dion</td>\n",
              "      <td>Dion@gmail.com</td>\n",
              "      <td>2001</td>\n",
              "      <td>Real me</td>\n",
              "      <td>Education</td>\n",
              "      <td>Tempat Makan</td>\n",
              "      <td>22</td>\n",
              "      <td>TIDAK</td>\n",
              "    </tr>\n",
              "    <tr>\n",
              "      <th>56</th>\n",
              "      <td>62991811</td>\n",
              "      <td>SMP Al Islam 2</td>\n",
              "      <td>9.20</td>\n",
              "      <td>Maria</td>\n",
              "      <td>Maria@gmail.com</td>\n",
              "      <td>2001</td>\n",
              "      <td>Iphone</td>\n",
              "      <td>Marketing</td>\n",
              "      <td>Tempat Makan</td>\n",
              "      <td>22</td>\n",
              "      <td>YA</td>\n",
              "    </tr>\n",
              "    <tr>\n",
              "      <th>62</th>\n",
              "      <td>6246431788</td>\n",
              "      <td>SMP Al Islam 2</td>\n",
              "      <td>10.27</td>\n",
              "      <td>Fiqi</td>\n",
              "      <td>Fiqi@gmail.com</td>\n",
              "      <td>1998</td>\n",
              "      <td>Samsung</td>\n",
              "      <td>Marketing</td>\n",
              "      <td>Tempat Makan</td>\n",
              "      <td>25</td>\n",
              "      <td>TIDAK</td>\n",
              "    </tr>\n",
              "    <tr>\n",
              "      <th>67</th>\n",
              "      <td>629999111</td>\n",
              "      <td>SMP Al Islam 2</td>\n",
              "      <td>9.12</td>\n",
              "      <td>Janes</td>\n",
              "      <td>Janes@gmail.com</td>\n",
              "      <td>1999</td>\n",
              "      <td>Samsung</td>\n",
              "      <td>Education</td>\n",
              "      <td>Tempat Makan</td>\n",
              "      <td>24</td>\n",
              "      <td>TIDAK</td>\n",
              "    </tr>\n",
              "    <tr>\n",
              "      <th>120</th>\n",
              "      <td>6246431788</td>\n",
              "      <td>SMP Al Islam 2</td>\n",
              "      <td>9.55</td>\n",
              "      <td>Fiqi</td>\n",
              "      <td>Fiqi@gmail.com</td>\n",
              "      <td>1998</td>\n",
              "      <td>Samsung</td>\n",
              "      <td>Marketing</td>\n",
              "      <td>Sekolah</td>\n",
              "      <td>25</td>\n",
              "      <td>TIDAK</td>\n",
              "    </tr>\n",
              "    <tr>\n",
              "      <th>125</th>\n",
              "      <td>6271588125</td>\n",
              "      <td>SMP Al Islam 2</td>\n",
              "      <td>9.30</td>\n",
              "      <td>Ahmad</td>\n",
              "      <td>Ahmad@gmail.com</td>\n",
              "      <td>1999</td>\n",
              "      <td>Samsung</td>\n",
              "      <td>Education</td>\n",
              "      <td>Sekolah</td>\n",
              "      <td>24</td>\n",
              "      <td>TIDAK</td>\n",
              "    </tr>\n",
              "    <tr>\n",
              "      <th>131</th>\n",
              "      <td>62188883</td>\n",
              "      <td>SMP Al Islam 2</td>\n",
              "      <td>9.44</td>\n",
              "      <td>Komaira</td>\n",
              "      <td>Komaira@gmail.com</td>\n",
              "      <td>2000</td>\n",
              "      <td>Samsung</td>\n",
              "      <td>Education</td>\n",
              "      <td>Sekolah</td>\n",
              "      <td>23</td>\n",
              "      <td>YA</td>\n",
              "    </tr>\n",
              "    <tr>\n",
              "      <th>136</th>\n",
              "      <td>62188887</td>\n",
              "      <td>SMP Al Islam 2</td>\n",
              "      <td>9.55</td>\n",
              "      <td>Esyu</td>\n",
              "      <td>Esyu@gmail.com</td>\n",
              "      <td>2000</td>\n",
              "      <td>Samsung</td>\n",
              "      <td>Education</td>\n",
              "      <td>Sekolah</td>\n",
              "      <td>23</td>\n",
              "      <td>YA</td>\n",
              "    </tr>\n",
              "    <tr>\n",
              "      <th>141</th>\n",
              "      <td>6258019999</td>\n",
              "      <td>SMP Al Islam 2</td>\n",
              "      <td>9.24</td>\n",
              "      <td>Poisma</td>\n",
              "      <td>Poisma@gmail.com</td>\n",
              "      <td>1998</td>\n",
              "      <td>Xiaomi</td>\n",
              "      <td>Education</td>\n",
              "      <td>Sekolah</td>\n",
              "      <td>25</td>\n",
              "      <td>YA</td>\n",
              "    </tr>\n",
              "  </tbody>\n",
              "</table>\n",
              "</div>\n",
              "      <button class=\"colab-df-convert\" onclick=\"convertToInteractive('df-eb10cb2a-b799-4933-92be-6b174ea4fdb5')\"\n",
              "              title=\"Convert this dataframe to an interactive table.\"\n",
              "              style=\"display:none;\">\n",
              "        \n",
              "  <svg xmlns=\"http://www.w3.org/2000/svg\" height=\"24px\"viewBox=\"0 0 24 24\"\n",
              "       width=\"24px\">\n",
              "    <path d=\"M0 0h24v24H0V0z\" fill=\"none\"/>\n",
              "    <path d=\"M18.56 5.44l.94 2.06.94-2.06 2.06-.94-2.06-.94-.94-2.06-.94 2.06-2.06.94zm-11 1L8.5 8.5l.94-2.06 2.06-.94-2.06-.94L8.5 2.5l-.94 2.06-2.06.94zm10 10l.94 2.06.94-2.06 2.06-.94-2.06-.94-.94-2.06-.94 2.06-2.06.94z\"/><path d=\"M17.41 7.96l-1.37-1.37c-.4-.4-.92-.59-1.43-.59-.52 0-1.04.2-1.43.59L10.3 9.45l-7.72 7.72c-.78.78-.78 2.05 0 2.83L4 21.41c.39.39.9.59 1.41.59.51 0 1.02-.2 1.41-.59l7.78-7.78 2.81-2.81c.8-.78.8-2.07 0-2.86zM5.41 20L4 18.59l7.72-7.72 1.47 1.35L5.41 20z\"/>\n",
              "  </svg>\n",
              "      </button>\n",
              "      \n",
              "  <style>\n",
              "    .colab-df-container {\n",
              "      display:flex;\n",
              "      flex-wrap:wrap;\n",
              "      gap: 12px;\n",
              "    }\n",
              "\n",
              "    .colab-df-convert {\n",
              "      background-color: #E8F0FE;\n",
              "      border: none;\n",
              "      border-radius: 50%;\n",
              "      cursor: pointer;\n",
              "      display: none;\n",
              "      fill: #1967D2;\n",
              "      height: 32px;\n",
              "      padding: 0 0 0 0;\n",
              "      width: 32px;\n",
              "    }\n",
              "\n",
              "    .colab-df-convert:hover {\n",
              "      background-color: #E2EBFA;\n",
              "      box-shadow: 0px 1px 2px rgba(60, 64, 67, 0.3), 0px 1px 3px 1px rgba(60, 64, 67, 0.15);\n",
              "      fill: #174EA6;\n",
              "    }\n",
              "\n",
              "    [theme=dark] .colab-df-convert {\n",
              "      background-color: #3B4455;\n",
              "      fill: #D2E3FC;\n",
              "    }\n",
              "\n",
              "    [theme=dark] .colab-df-convert:hover {\n",
              "      background-color: #434B5C;\n",
              "      box-shadow: 0px 1px 3px 1px rgba(0, 0, 0, 0.15);\n",
              "      filter: drop-shadow(0px 1px 2px rgba(0, 0, 0, 0.3));\n",
              "      fill: #FFFFFF;\n",
              "    }\n",
              "  </style>\n",
              "\n",
              "      <script>\n",
              "        const buttonEl =\n",
              "          document.querySelector('#df-eb10cb2a-b799-4933-92be-6b174ea4fdb5 button.colab-df-convert');\n",
              "        buttonEl.style.display =\n",
              "          google.colab.kernel.accessAllowed ? 'block' : 'none';\n",
              "\n",
              "        async function convertToInteractive(key) {\n",
              "          const element = document.querySelector('#df-eb10cb2a-b799-4933-92be-6b174ea4fdb5');\n",
              "          const dataTable =\n",
              "            await google.colab.kernel.invokeFunction('convertToInteractive',\n",
              "                                                     [key], {});\n",
              "          if (!dataTable) return;\n",
              "\n",
              "          const docLinkHtml = 'Like what you see? Visit the ' +\n",
              "            '<a target=\"_blank\" href=https://colab.research.google.com/notebooks/data_table.ipynb>data table notebook</a>'\n",
              "            + ' to learn more about interactive tables.';\n",
              "          element.innerHTML = '';\n",
              "          dataTable['output_type'] = 'display_data';\n",
              "          await google.colab.output.renderOutput(dataTable, element);\n",
              "          const docLink = document.createElement('div');\n",
              "          docLink.innerHTML = docLinkHtml;\n",
              "          element.appendChild(docLink);\n",
              "        }\n",
              "      </script>\n",
              "    </div>\n",
              "  </div>\n",
              "  "
            ]
          },
          "metadata": {},
          "execution_count": 182
        }
      ]
    },
    {
      "cell_type": "markdown",
      "source": [
        "##Cek SMP Al Islam 1"
      ],
      "metadata": {
        "id": "rdsSntZ99kmK"
      }
    },
    {
      "cell_type": "code",
      "source": [
        "smp2_name= df[df['Nama_Lokasi'] == 'SMP Al Islam 1']\n",
        "smp2_name"
      ],
      "metadata": {
        "colab": {
          "base_uri": "https://localhost:8080/",
          "height": 300
        },
        "id": "I07IwfiZ9Gmb",
        "outputId": "1b367798-b4ef-4541-c048-46fc288d8255"
      },
      "execution_count": null,
      "outputs": [
        {
          "output_type": "execute_result",
          "data": {
            "text/plain": [
              "        No_Telp     Nama_Lokasi  Jam_Login   Nama            Email  \\\n",
              "47     62638191  SMP Al Islam 1       9.00  Didin  Didin@gmail.com   \n",
              "58     62638191  SMP Al Islam 1       8.55  Didin  Didin@gmail.com   \n",
              "116    62638191  SMP Al Islam 1       9.30  Didin  Didin@gmail.com   \n",
              "127  6271588127  SMP Al Islam 1       8.45   Poma   Poma@gmail.com   \n",
              "146    62638191  SMP Al Islam 1       9.23  Didin  Didin@gmail.com   \n",
              "150    62971901  SMP Al Islam 1       8.15    Mia    Mia@gmail.com   \n",
              "151    62971901  SMP Al Islam 1       8.17    Mia    Mia@gmail.com   \n",
              "152   622221901  SMP Al Islam 1       9.12  Gagah  Gagah@gmail.com   \n",
              "\n",
              "     Tahun_Lahir Merek_HP Digital_Interest Location_Type  Umur Prioritas  \n",
              "47          1998  Real me        Education  Tempat Makan    25        YA  \n",
              "58          1998  Real me        Education  Tempat Makan    25        YA  \n",
              "116         1998  Real me        Education       Sekolah    25        YA  \n",
              "127         1999  Samsung        Education       Sekolah    24     TIDAK  \n",
              "146         1998  Real me        Education       Sekolah    25        YA  \n",
              "150         1997  Samsung        Education       Sekolah    26        YA  \n",
              "151         1997  Samsung        Education       Sekolah    26        YA  \n",
              "152         1998  Samsung        Education       Sekolah    25     TIDAK  "
            ],
            "text/html": [
              "\n",
              "  <div id=\"df-55bcb8d5-9d78-48cf-8c31-29bc204fc142\">\n",
              "    <div class=\"colab-df-container\">\n",
              "      <div>\n",
              "<style scoped>\n",
              "    .dataframe tbody tr th:only-of-type {\n",
              "        vertical-align: middle;\n",
              "    }\n",
              "\n",
              "    .dataframe tbody tr th {\n",
              "        vertical-align: top;\n",
              "    }\n",
              "\n",
              "    .dataframe thead th {\n",
              "        text-align: right;\n",
              "    }\n",
              "</style>\n",
              "<table border=\"1\" class=\"dataframe\">\n",
              "  <thead>\n",
              "    <tr style=\"text-align: right;\">\n",
              "      <th></th>\n",
              "      <th>No_Telp</th>\n",
              "      <th>Nama_Lokasi</th>\n",
              "      <th>Jam_Login</th>\n",
              "      <th>Nama</th>\n",
              "      <th>Email</th>\n",
              "      <th>Tahun_Lahir</th>\n",
              "      <th>Merek_HP</th>\n",
              "      <th>Digital_Interest</th>\n",
              "      <th>Location_Type</th>\n",
              "      <th>Umur</th>\n",
              "      <th>Prioritas</th>\n",
              "    </tr>\n",
              "  </thead>\n",
              "  <tbody>\n",
              "    <tr>\n",
              "      <th>47</th>\n",
              "      <td>62638191</td>\n",
              "      <td>SMP Al Islam 1</td>\n",
              "      <td>9.00</td>\n",
              "      <td>Didin</td>\n",
              "      <td>Didin@gmail.com</td>\n",
              "      <td>1998</td>\n",
              "      <td>Real me</td>\n",
              "      <td>Education</td>\n",
              "      <td>Tempat Makan</td>\n",
              "      <td>25</td>\n",
              "      <td>YA</td>\n",
              "    </tr>\n",
              "    <tr>\n",
              "      <th>58</th>\n",
              "      <td>62638191</td>\n",
              "      <td>SMP Al Islam 1</td>\n",
              "      <td>8.55</td>\n",
              "      <td>Didin</td>\n",
              "      <td>Didin@gmail.com</td>\n",
              "      <td>1998</td>\n",
              "      <td>Real me</td>\n",
              "      <td>Education</td>\n",
              "      <td>Tempat Makan</td>\n",
              "      <td>25</td>\n",
              "      <td>YA</td>\n",
              "    </tr>\n",
              "    <tr>\n",
              "      <th>116</th>\n",
              "      <td>62638191</td>\n",
              "      <td>SMP Al Islam 1</td>\n",
              "      <td>9.30</td>\n",
              "      <td>Didin</td>\n",
              "      <td>Didin@gmail.com</td>\n",
              "      <td>1998</td>\n",
              "      <td>Real me</td>\n",
              "      <td>Education</td>\n",
              "      <td>Sekolah</td>\n",
              "      <td>25</td>\n",
              "      <td>YA</td>\n",
              "    </tr>\n",
              "    <tr>\n",
              "      <th>127</th>\n",
              "      <td>6271588127</td>\n",
              "      <td>SMP Al Islam 1</td>\n",
              "      <td>8.45</td>\n",
              "      <td>Poma</td>\n",
              "      <td>Poma@gmail.com</td>\n",
              "      <td>1999</td>\n",
              "      <td>Samsung</td>\n",
              "      <td>Education</td>\n",
              "      <td>Sekolah</td>\n",
              "      <td>24</td>\n",
              "      <td>TIDAK</td>\n",
              "    </tr>\n",
              "    <tr>\n",
              "      <th>146</th>\n",
              "      <td>62638191</td>\n",
              "      <td>SMP Al Islam 1</td>\n",
              "      <td>9.23</td>\n",
              "      <td>Didin</td>\n",
              "      <td>Didin@gmail.com</td>\n",
              "      <td>1998</td>\n",
              "      <td>Real me</td>\n",
              "      <td>Education</td>\n",
              "      <td>Sekolah</td>\n",
              "      <td>25</td>\n",
              "      <td>YA</td>\n",
              "    </tr>\n",
              "    <tr>\n",
              "      <th>150</th>\n",
              "      <td>62971901</td>\n",
              "      <td>SMP Al Islam 1</td>\n",
              "      <td>8.15</td>\n",
              "      <td>Mia</td>\n",
              "      <td>Mia@gmail.com</td>\n",
              "      <td>1997</td>\n",
              "      <td>Samsung</td>\n",
              "      <td>Education</td>\n",
              "      <td>Sekolah</td>\n",
              "      <td>26</td>\n",
              "      <td>YA</td>\n",
              "    </tr>\n",
              "    <tr>\n",
              "      <th>151</th>\n",
              "      <td>62971901</td>\n",
              "      <td>SMP Al Islam 1</td>\n",
              "      <td>8.17</td>\n",
              "      <td>Mia</td>\n",
              "      <td>Mia@gmail.com</td>\n",
              "      <td>1997</td>\n",
              "      <td>Samsung</td>\n",
              "      <td>Education</td>\n",
              "      <td>Sekolah</td>\n",
              "      <td>26</td>\n",
              "      <td>YA</td>\n",
              "    </tr>\n",
              "    <tr>\n",
              "      <th>152</th>\n",
              "      <td>622221901</td>\n",
              "      <td>SMP Al Islam 1</td>\n",
              "      <td>9.12</td>\n",
              "      <td>Gagah</td>\n",
              "      <td>Gagah@gmail.com</td>\n",
              "      <td>1998</td>\n",
              "      <td>Samsung</td>\n",
              "      <td>Education</td>\n",
              "      <td>Sekolah</td>\n",
              "      <td>25</td>\n",
              "      <td>TIDAK</td>\n",
              "    </tr>\n",
              "  </tbody>\n",
              "</table>\n",
              "</div>\n",
              "      <button class=\"colab-df-convert\" onclick=\"convertToInteractive('df-55bcb8d5-9d78-48cf-8c31-29bc204fc142')\"\n",
              "              title=\"Convert this dataframe to an interactive table.\"\n",
              "              style=\"display:none;\">\n",
              "        \n",
              "  <svg xmlns=\"http://www.w3.org/2000/svg\" height=\"24px\"viewBox=\"0 0 24 24\"\n",
              "       width=\"24px\">\n",
              "    <path d=\"M0 0h24v24H0V0z\" fill=\"none\"/>\n",
              "    <path d=\"M18.56 5.44l.94 2.06.94-2.06 2.06-.94-2.06-.94-.94-2.06-.94 2.06-2.06.94zm-11 1L8.5 8.5l.94-2.06 2.06-.94-2.06-.94L8.5 2.5l-.94 2.06-2.06.94zm10 10l.94 2.06.94-2.06 2.06-.94-2.06-.94-.94-2.06-.94 2.06-2.06.94z\"/><path d=\"M17.41 7.96l-1.37-1.37c-.4-.4-.92-.59-1.43-.59-.52 0-1.04.2-1.43.59L10.3 9.45l-7.72 7.72c-.78.78-.78 2.05 0 2.83L4 21.41c.39.39.9.59 1.41.59.51 0 1.02-.2 1.41-.59l7.78-7.78 2.81-2.81c.8-.78.8-2.07 0-2.86zM5.41 20L4 18.59l7.72-7.72 1.47 1.35L5.41 20z\"/>\n",
              "  </svg>\n",
              "      </button>\n",
              "      \n",
              "  <style>\n",
              "    .colab-df-container {\n",
              "      display:flex;\n",
              "      flex-wrap:wrap;\n",
              "      gap: 12px;\n",
              "    }\n",
              "\n",
              "    .colab-df-convert {\n",
              "      background-color: #E8F0FE;\n",
              "      border: none;\n",
              "      border-radius: 50%;\n",
              "      cursor: pointer;\n",
              "      display: none;\n",
              "      fill: #1967D2;\n",
              "      height: 32px;\n",
              "      padding: 0 0 0 0;\n",
              "      width: 32px;\n",
              "    }\n",
              "\n",
              "    .colab-df-convert:hover {\n",
              "      background-color: #E2EBFA;\n",
              "      box-shadow: 0px 1px 2px rgba(60, 64, 67, 0.3), 0px 1px 3px 1px rgba(60, 64, 67, 0.15);\n",
              "      fill: #174EA6;\n",
              "    }\n",
              "\n",
              "    [theme=dark] .colab-df-convert {\n",
              "      background-color: #3B4455;\n",
              "      fill: #D2E3FC;\n",
              "    }\n",
              "\n",
              "    [theme=dark] .colab-df-convert:hover {\n",
              "      background-color: #434B5C;\n",
              "      box-shadow: 0px 1px 3px 1px rgba(0, 0, 0, 0.15);\n",
              "      filter: drop-shadow(0px 1px 2px rgba(0, 0, 0, 0.3));\n",
              "      fill: #FFFFFF;\n",
              "    }\n",
              "  </style>\n",
              "\n",
              "      <script>\n",
              "        const buttonEl =\n",
              "          document.querySelector('#df-55bcb8d5-9d78-48cf-8c31-29bc204fc142 button.colab-df-convert');\n",
              "        buttonEl.style.display =\n",
              "          google.colab.kernel.accessAllowed ? 'block' : 'none';\n",
              "\n",
              "        async function convertToInteractive(key) {\n",
              "          const element = document.querySelector('#df-55bcb8d5-9d78-48cf-8c31-29bc204fc142');\n",
              "          const dataTable =\n",
              "            await google.colab.kernel.invokeFunction('convertToInteractive',\n",
              "                                                     [key], {});\n",
              "          if (!dataTable) return;\n",
              "\n",
              "          const docLinkHtml = 'Like what you see? Visit the ' +\n",
              "            '<a target=\"_blank\" href=https://colab.research.google.com/notebooks/data_table.ipynb>data table notebook</a>'\n",
              "            + ' to learn more about interactive tables.';\n",
              "          element.innerHTML = '';\n",
              "          dataTable['output_type'] = 'display_data';\n",
              "          await google.colab.output.renderOutput(dataTable, element);\n",
              "          const docLink = document.createElement('div');\n",
              "          docLink.innerHTML = docLinkHtml;\n",
              "          element.appendChild(docLink);\n",
              "        }\n",
              "      </script>\n",
              "    </div>\n",
              "  </div>\n",
              "  "
            ]
          },
          "metadata": {},
          "execution_count": 183
        }
      ]
    },
    {
      "cell_type": "markdown",
      "source": [
        "##Cek Cafe Fanta"
      ],
      "metadata": {
        "id": "lqU16pQZ9nfl"
      }
    },
    {
      "cell_type": "code",
      "source": [
        "cafe_fanta= df[df['Nama_Lokasi'] == 'Cafe Fanta']\n",
        "cafe_fanta"
      ],
      "metadata": {
        "colab": {
          "base_uri": "https://localhost:8080/",
          "height": 269
        },
        "id": "0C-8VKGT9RIG",
        "outputId": "ca558a8d-cfa8-4f5c-9fd2-a575cf235214"
      },
      "execution_count": null,
      "outputs": [
        {
          "output_type": "execute_result",
          "data": {
            "text/plain": [
              "       No_Telp Nama_Lokasi  Jam_Login     Nama              Email  \\\n",
              "5     62111842  Cafe Fanta      18.00  Jungkok  Jungkok@gmail.com   \n",
              "12   629137181  Cafe Fanta      19.45    Zulfa    Zulfa@gmail.com   \n",
              "23   623086161  Cafe Fanta      19.05    Barra    Barra@gmail.com   \n",
              "74    62111842  Cafe Fanta      18.50  Jungkok  Jungkok@gmail.com   \n",
              "81    62111842  Cafe Fanta      18.35  Jungkok  Jungkok@gmail.com   \n",
              "92    62111842  Cafe Fanta      18.45  Jungkok  Jungkok@gmail.com   \n",
              "138   62111842  Cafe Fanta      20.15  Jungkok  Jungkok@gmail.com   \n",
              "\n",
              "     Tahun_Lahir Merek_HP Digital_Interest Location_Type  Umur Prioritas  \n",
              "5           1997  Samsung  Content Creator  Tempat Makan    26     TIDAK  \n",
              "12          2002   Xiaomi        Marketing  Tempat Makan    21        YA  \n",
              "23          1990   Xiaomi       Programmer  Tempat Makan    33     TIDAK  \n",
              "74          1997  Samsung  Content Creator  Tempat Makan    26     TIDAK  \n",
              "81          1997  Samsung  Content Creator  Tempat Makan    26     TIDAK  \n",
              "92          1997  Samsung  Content Creator  Tempat Makan    26     TIDAK  \n",
              "138         1997  Samsung  Content Creator  Tempat Makan    26     TIDAK  "
            ],
            "text/html": [
              "\n",
              "  <div id=\"df-b69ab65b-6ba4-40d1-ad26-f738623fa8ab\">\n",
              "    <div class=\"colab-df-container\">\n",
              "      <div>\n",
              "<style scoped>\n",
              "    .dataframe tbody tr th:only-of-type {\n",
              "        vertical-align: middle;\n",
              "    }\n",
              "\n",
              "    .dataframe tbody tr th {\n",
              "        vertical-align: top;\n",
              "    }\n",
              "\n",
              "    .dataframe thead th {\n",
              "        text-align: right;\n",
              "    }\n",
              "</style>\n",
              "<table border=\"1\" class=\"dataframe\">\n",
              "  <thead>\n",
              "    <tr style=\"text-align: right;\">\n",
              "      <th></th>\n",
              "      <th>No_Telp</th>\n",
              "      <th>Nama_Lokasi</th>\n",
              "      <th>Jam_Login</th>\n",
              "      <th>Nama</th>\n",
              "      <th>Email</th>\n",
              "      <th>Tahun_Lahir</th>\n",
              "      <th>Merek_HP</th>\n",
              "      <th>Digital_Interest</th>\n",
              "      <th>Location_Type</th>\n",
              "      <th>Umur</th>\n",
              "      <th>Prioritas</th>\n",
              "    </tr>\n",
              "  </thead>\n",
              "  <tbody>\n",
              "    <tr>\n",
              "      <th>5</th>\n",
              "      <td>62111842</td>\n",
              "      <td>Cafe Fanta</td>\n",
              "      <td>18.00</td>\n",
              "      <td>Jungkok</td>\n",
              "      <td>Jungkok@gmail.com</td>\n",
              "      <td>1997</td>\n",
              "      <td>Samsung</td>\n",
              "      <td>Content Creator</td>\n",
              "      <td>Tempat Makan</td>\n",
              "      <td>26</td>\n",
              "      <td>TIDAK</td>\n",
              "    </tr>\n",
              "    <tr>\n",
              "      <th>12</th>\n",
              "      <td>629137181</td>\n",
              "      <td>Cafe Fanta</td>\n",
              "      <td>19.45</td>\n",
              "      <td>Zulfa</td>\n",
              "      <td>Zulfa@gmail.com</td>\n",
              "      <td>2002</td>\n",
              "      <td>Xiaomi</td>\n",
              "      <td>Marketing</td>\n",
              "      <td>Tempat Makan</td>\n",
              "      <td>21</td>\n",
              "      <td>YA</td>\n",
              "    </tr>\n",
              "    <tr>\n",
              "      <th>23</th>\n",
              "      <td>623086161</td>\n",
              "      <td>Cafe Fanta</td>\n",
              "      <td>19.05</td>\n",
              "      <td>Barra</td>\n",
              "      <td>Barra@gmail.com</td>\n",
              "      <td>1990</td>\n",
              "      <td>Xiaomi</td>\n",
              "      <td>Programmer</td>\n",
              "      <td>Tempat Makan</td>\n",
              "      <td>33</td>\n",
              "      <td>TIDAK</td>\n",
              "    </tr>\n",
              "    <tr>\n",
              "      <th>74</th>\n",
              "      <td>62111842</td>\n",
              "      <td>Cafe Fanta</td>\n",
              "      <td>18.50</td>\n",
              "      <td>Jungkok</td>\n",
              "      <td>Jungkok@gmail.com</td>\n",
              "      <td>1997</td>\n",
              "      <td>Samsung</td>\n",
              "      <td>Content Creator</td>\n",
              "      <td>Tempat Makan</td>\n",
              "      <td>26</td>\n",
              "      <td>TIDAK</td>\n",
              "    </tr>\n",
              "    <tr>\n",
              "      <th>81</th>\n",
              "      <td>62111842</td>\n",
              "      <td>Cafe Fanta</td>\n",
              "      <td>18.35</td>\n",
              "      <td>Jungkok</td>\n",
              "      <td>Jungkok@gmail.com</td>\n",
              "      <td>1997</td>\n",
              "      <td>Samsung</td>\n",
              "      <td>Content Creator</td>\n",
              "      <td>Tempat Makan</td>\n",
              "      <td>26</td>\n",
              "      <td>TIDAK</td>\n",
              "    </tr>\n",
              "    <tr>\n",
              "      <th>92</th>\n",
              "      <td>62111842</td>\n",
              "      <td>Cafe Fanta</td>\n",
              "      <td>18.45</td>\n",
              "      <td>Jungkok</td>\n",
              "      <td>Jungkok@gmail.com</td>\n",
              "      <td>1997</td>\n",
              "      <td>Samsung</td>\n",
              "      <td>Content Creator</td>\n",
              "      <td>Tempat Makan</td>\n",
              "      <td>26</td>\n",
              "      <td>TIDAK</td>\n",
              "    </tr>\n",
              "    <tr>\n",
              "      <th>138</th>\n",
              "      <td>62111842</td>\n",
              "      <td>Cafe Fanta</td>\n",
              "      <td>20.15</td>\n",
              "      <td>Jungkok</td>\n",
              "      <td>Jungkok@gmail.com</td>\n",
              "      <td>1997</td>\n",
              "      <td>Samsung</td>\n",
              "      <td>Content Creator</td>\n",
              "      <td>Tempat Makan</td>\n",
              "      <td>26</td>\n",
              "      <td>TIDAK</td>\n",
              "    </tr>\n",
              "  </tbody>\n",
              "</table>\n",
              "</div>\n",
              "      <button class=\"colab-df-convert\" onclick=\"convertToInteractive('df-b69ab65b-6ba4-40d1-ad26-f738623fa8ab')\"\n",
              "              title=\"Convert this dataframe to an interactive table.\"\n",
              "              style=\"display:none;\">\n",
              "        \n",
              "  <svg xmlns=\"http://www.w3.org/2000/svg\" height=\"24px\"viewBox=\"0 0 24 24\"\n",
              "       width=\"24px\">\n",
              "    <path d=\"M0 0h24v24H0V0z\" fill=\"none\"/>\n",
              "    <path d=\"M18.56 5.44l.94 2.06.94-2.06 2.06-.94-2.06-.94-.94-2.06-.94 2.06-2.06.94zm-11 1L8.5 8.5l.94-2.06 2.06-.94-2.06-.94L8.5 2.5l-.94 2.06-2.06.94zm10 10l.94 2.06.94-2.06 2.06-.94-2.06-.94-.94-2.06-.94 2.06-2.06.94z\"/><path d=\"M17.41 7.96l-1.37-1.37c-.4-.4-.92-.59-1.43-.59-.52 0-1.04.2-1.43.59L10.3 9.45l-7.72 7.72c-.78.78-.78 2.05 0 2.83L4 21.41c.39.39.9.59 1.41.59.51 0 1.02-.2 1.41-.59l7.78-7.78 2.81-2.81c.8-.78.8-2.07 0-2.86zM5.41 20L4 18.59l7.72-7.72 1.47 1.35L5.41 20z\"/>\n",
              "  </svg>\n",
              "      </button>\n",
              "      \n",
              "  <style>\n",
              "    .colab-df-container {\n",
              "      display:flex;\n",
              "      flex-wrap:wrap;\n",
              "      gap: 12px;\n",
              "    }\n",
              "\n",
              "    .colab-df-convert {\n",
              "      background-color: #E8F0FE;\n",
              "      border: none;\n",
              "      border-radius: 50%;\n",
              "      cursor: pointer;\n",
              "      display: none;\n",
              "      fill: #1967D2;\n",
              "      height: 32px;\n",
              "      padding: 0 0 0 0;\n",
              "      width: 32px;\n",
              "    }\n",
              "\n",
              "    .colab-df-convert:hover {\n",
              "      background-color: #E2EBFA;\n",
              "      box-shadow: 0px 1px 2px rgba(60, 64, 67, 0.3), 0px 1px 3px 1px rgba(60, 64, 67, 0.15);\n",
              "      fill: #174EA6;\n",
              "    }\n",
              "\n",
              "    [theme=dark] .colab-df-convert {\n",
              "      background-color: #3B4455;\n",
              "      fill: #D2E3FC;\n",
              "    }\n",
              "\n",
              "    [theme=dark] .colab-df-convert:hover {\n",
              "      background-color: #434B5C;\n",
              "      box-shadow: 0px 1px 3px 1px rgba(0, 0, 0, 0.15);\n",
              "      filter: drop-shadow(0px 1px 2px rgba(0, 0, 0, 0.3));\n",
              "      fill: #FFFFFF;\n",
              "    }\n",
              "  </style>\n",
              "\n",
              "      <script>\n",
              "        const buttonEl =\n",
              "          document.querySelector('#df-b69ab65b-6ba4-40d1-ad26-f738623fa8ab button.colab-df-convert');\n",
              "        buttonEl.style.display =\n",
              "          google.colab.kernel.accessAllowed ? 'block' : 'none';\n",
              "\n",
              "        async function convertToInteractive(key) {\n",
              "          const element = document.querySelector('#df-b69ab65b-6ba4-40d1-ad26-f738623fa8ab');\n",
              "          const dataTable =\n",
              "            await google.colab.kernel.invokeFunction('convertToInteractive',\n",
              "                                                     [key], {});\n",
              "          if (!dataTable) return;\n",
              "\n",
              "          const docLinkHtml = 'Like what you see? Visit the ' +\n",
              "            '<a target=\"_blank\" href=https://colab.research.google.com/notebooks/data_table.ipynb>data table notebook</a>'\n",
              "            + ' to learn more about interactive tables.';\n",
              "          element.innerHTML = '';\n",
              "          dataTable['output_type'] = 'display_data';\n",
              "          await google.colab.output.renderOutput(dataTable, element);\n",
              "          const docLink = document.createElement('div');\n",
              "          docLink.innerHTML = docLinkHtml;\n",
              "          element.appendChild(docLink);\n",
              "        }\n",
              "      </script>\n",
              "    </div>\n",
              "  </div>\n",
              "  "
            ]
          },
          "metadata": {},
          "execution_count": 184
        }
      ]
    },
    {
      "cell_type": "markdown",
      "source": [
        "#10 Besar Email by Umur"
      ],
      "metadata": {
        "id": "la3Jay-PJbU0"
      }
    },
    {
      "cell_type": "code",
      "source": [
        "df.groupby(['Email'])['Umur'].count().sort_values(ascending = True).tail(10).plot(kind = 'barh')\n",
        "plt.title('10 Besar Email by Umur', loc='center',pad=30, fontsize=20, color='blue')\n",
        "plt.xlabel('Total Transaksi', fontsize = 15)\n",
        "plt.ylabel('Detail', fontsize = 15)\n",
        "plt.grid(color='darkgray', linestyle=':',linewidth=0.5)\n",
        "plt.ylim(ymin=0)\n",
        "plt.gcf().set_size_inches(10,5)\n",
        "plt.tight_layout()\n",
        "plt.show()"
      ],
      "metadata": {
        "colab": {
          "base_uri": "https://localhost:8080/",
          "height": 369
        },
        "id": "no0g1q3YJdcP",
        "outputId": "3d98f87e-46a7-485a-f6a9-11e75651f01a"
      },
      "execution_count": null,
      "outputs": [
        {
          "output_type": "display_data",
          "data": {
            "text/plain": [
              "<Figure size 720x360 with 1 Axes>"
            ],
            "image/png": "[encoded data removed]"
          },
          "metadata": {
            "needs_background": "light"
          }
        }
      ]
    },
    {
      "cell_type": "markdown",
      "source": [
        "#20 Besar Data Nama & Nama Lokasi by Umur"
      ],
      "metadata": {
        "id": "e00t95u_Jhdq"
      }
    },
    {
      "cell_type": "code",
      "source": [
        "df.groupby(['Nama','Nama_Lokasi'])['Umur'].count().sort_values(ascending = True).tail(20).plot(kind = 'barh')\n",
        "plt.title('20 Besar Data Nama & Nama Lokasi by Umur', loc='center',pad=30, fontsize=20, color='blue')\n",
        "plt.xlabel('Total Transaksi', fontsize = 15)\n",
        "plt.ylabel('Detail', fontsize = 15)\n",
        "plt.grid(color='darkgray', linestyle=':',linewidth=0.5)\n",
        "plt.ylim(ymin=0)\n",
        "plt.gcf().set_size_inches(10,5)\n",
        "plt.tight_layout()\n",
        "plt.show()"
      ],
      "metadata": {
        "colab": {
          "base_uri": "https://localhost:8080/",
          "height": 369
        },
        "id": "9raK7ykfJjfJ",
        "outputId": "6e48c225-fe34-4594-b540-591c70ca345c"
      },
      "execution_count": null,
      "outputs": [
        {
          "output_type": "display_data",
          "data": {
            "text/plain": [
              "<Figure size 720x360 with 1 Axes>"
            ],
            "image/png": "[encoded data removed]"
          },
          "metadata": {
            "needs_background": "light"
          }
        }
      ]
    },
    {
      "cell_type": "markdown",
      "source": [
        "#10 Besar Data Nama & Digital Interest by Umur"
      ],
      "metadata": {
        "id": "X-UnHVlJJoUw"
      }
    },
    {
      "cell_type": "code",
      "source": [
        "df.groupby(['Nama','Merek_HP','Digital_Interest'])['Umur'].count().sort_values(ascending = True).tail(10).plot(kind = 'barh')\n",
        "plt.title('10 Besar Data Nama, Merk_HP & Digital Interest by Umur', loc='center',pad=30, fontsize=20, color='blue')\n",
        "plt.xlabel('Total Transaksi', fontsize = 15)\n",
        "plt.ylabel('Detail', fontsize = 15)\n",
        "plt.grid(color='darkgray', linestyle=':',linewidth=0.5)\n",
        "plt.ylim(ymin=0)\n",
        "plt.gcf().set_size_inches(10,5)\n",
        "plt.tight_layout()\n",
        "plt.show()"
      ],
      "metadata": {
        "colab": {
          "base_uri": "https://localhost:8080/",
          "height": 369
        },
        "id": "oxfvoPxmJqkz",
        "outputId": "754f4fb3-5af4-4f3e-86d7-f5169cbb1a13"
      },
      "execution_count": null,
      "outputs": [
        {
          "output_type": "display_data",
          "data": {
            "text/plain": [
              "<Figure size 720x360 with 1 Axes>"
            ],
            "image/png": "[encoded data removed]"
          },
          "metadata": {
            "needs_background": "light"
          }
        }
      ]
    },
    {
      "cell_type": "code",
      "source": [
        "df.groupby(['Prioritas']).Prioritas.agg('count')"
      ],
      "metadata": {
        "colab": {
          "base_uri": "https://localhost:8080/"
        },
        "id": "BWE-PluyJust",
        "outputId": "b92e1764-19b2-41b9-9cfe-c48dd8a81d95"
      },
      "execution_count": null,
      "outputs": [
        {
          "output_type": "execute_result",
          "data": {
            "text/plain": [
              "Prioritas\n",
              "TIDAK    80\n",
              "YA       73\n",
              "Name: Prioritas, dtype: int64"
            ]
          },
          "metadata": {},
          "execution_count": 188
        }
      ]
    },
    {
      "cell_type": "markdown",
      "source": [
        "#Checking Target Imbalance"
      ],
      "metadata": {
        "id": "Bik8m_UdXqrT"
      }
    },
    {
      "cell_type": "code",
      "source": [
        "Segmentasi = df['Prioritas'].value_counts()*100 / len(df.index)\n",
        "\n",
        "fig, ax = plt.subplots(nrows=1, ncols=1, figsize=(8,4), sharey=True)\n",
        "ax = sns.barplot(x=Segmentasi.index, y=Segmentasi.values)\n",
        "for p in ax.patches:\n",
        "    ax.annotate('{:.2f}%'.format(p.get_height()), \n",
        "                   (p.get_x() + p.get_width() / 2, p.get_height()), \n",
        "                   ha = 'center', va = 'center', \n",
        "                   xytext = (0, 9), \n",
        "                   textcoords = 'offset points')\n",
        "\n",
        "ax.set(xlabel='Prioritas', ylabel='Percentage')\n",
        "plt.title('Checking Target Imbalance', loc='center',pad=30, fontsize=14, color='black')\n",
        "#plt.text(-0.5, 105, 'Checking Target Imbalance', style = 'normal', fontsize=14)\n",
        "ax.set(ylim=(0, 100))\n",
        "\n",
        "warnings.filterwarnings(\"ignore\")"
      ],
      "metadata": {
        "colab": {
          "base_uri": "https://localhost:8080/",
          "height": 320
        },
        "id": "uHd0SstwJ3s7",
        "outputId": "5f78f105-c901-48cb-a685-65ced9d66092"
      },
      "execution_count": null,
      "outputs": [
        {
          "output_type": "display_data",
          "data": {
            "text/plain": [
              "<Figure size 576x288 with 1 Axes>"
            ],
            "image/png": "[encoded data removed]"
          },
          "metadata": {
            "needs_background": "light"
          }
        }
      ]
    },
    {
      "cell_type": "code",
      "source": [
        "df['Prioritas']=df['Prioritas'].map({'YA':0,'TIDAK':1})"
      ],
      "metadata": {
        "id": "n1tEQKIDKMqu"
      },
      "execution_count": null,
      "outputs": []
    },
    {
      "cell_type": "markdown",
      "source": [
        "#Outliers Removal"
      ],
      "metadata": {
        "id": "4541vkOmKW1I"
      }
    },
    {
      "cell_type": "code",
      "source": [
        "Q1 = df.quantile(0.05)\n",
        "Q3 = df.quantile(0.95)\n",
        "df = df[~((df< (Q1)) |(df> (Q3))).any(axis=1)]"
      ],
      "metadata": {
        "id": "rqt-MJEGKZdw"
      },
      "execution_count": null,
      "outputs": []
    },
    {
      "cell_type": "code",
      "source": [
        "df.drop_duplicates() #drop duplicate"
      ],
      "metadata": {
        "colab": {
          "base_uri": "https://localhost:8080/",
          "height": 424
        },
        "id": "9RHCMNlmLPPq",
        "outputId": "cb409a17-a3b4-4cd8-dc1d-fdd4829e7ce1"
      },
      "execution_count": null,
      "outputs": [
        {
          "output_type": "execute_result",
          "data": {
            "text/plain": [
              "       No_Telp      Nama_Lokasi  Jam_Login      Nama               Email  \\\n",
              "1     62964618      Cafe Bianca      11.30      Rony      Rony@gmail.com   \n",
              "2     62000286      Cafe Cantik      12.30      Coky      Coky@gmail.com   \n",
              "3     62310982      Cafe Doremi      16.00     Jimin     Jimin@gmail.com   \n",
              "4    628863888      Cafe Eskula      18.00  Taehyung  Taehyung@gmail.com   \n",
              "5     62111842       Cafe Fanta      18.00   Jungkok   Jungkok@gmail.com   \n",
              "..         ...              ...        ...       ...                 ...   \n",
              "145  625437199       SMA Tiansi      13.00     Dizma     Dizma@gmail.com   \n",
              "146   62638191   SMP Al Islam 1       9.23     Didin     Didin@gmail.com   \n",
              "147   62111842  SMP As Sallam 1       9.24   Jungkok   Jungkok@gmail.com   \n",
              "148   62878881        SMP Binus       9.15     Wisma     Wisma@gmail.com   \n",
              "152  622221901   SMP Al Islam 1       9.12     Gagah     Gagah@gmail.com   \n",
              "\n",
              "     Tahun_Lahir Merek_HP Digital_Interest Location_Type  Umur  Prioritas  \n",
              "1           1992  Samsung        Marketing  Tempat Makan    31          1  \n",
              "2           1985  Samsung        Marketing  Tempat Makan    38          1  \n",
              "3           1987  Real me        Education  Tempat Makan    36          1  \n",
              "4           1995  Samsung  Content Creator  Tempat Makan    28          1  \n",
              "5           1997  Samsung  Content Creator  Tempat Makan    26          1  \n",
              "..           ...      ...              ...           ...   ...        ...  \n",
              "145         1989  Samsung        Education       Sekolah    34          0  \n",
              "146         1998  Real me        Education       Sekolah    25          0  \n",
              "147         1997  Samsung  Content Creator       Sekolah    26          1  \n",
              "148         1988  Real me        Education       Sekolah    35          1  \n",
              "152         1998  Samsung        Education       Sekolah    25          1  \n",
              "\n",
              "[122 rows x 11 columns]"
            ],
            "text/html": [
              "\n",
              "  <div id=\"df-8272860d-d26b-41f6-8da1-95c83b9973a2\">\n",
              "    <div class=\"colab-df-container\">\n",
              "      <div>\n",
              "<style scoped>\n",
              "    .dataframe tbody tr th:only-of-type {\n",
              "        vertical-align: middle;\n",
              "    }\n",
              "\n",
              "    .dataframe tbody tr th {\n",
              "        vertical-align: top;\n",
              "    }\n",
              "\n",
              "    .dataframe thead th {\n",
              "        text-align: right;\n",
              "    }\n",
              "</style>\n",
              "<table border=\"1\" class=\"dataframe\">\n",
              "  <thead>\n",
              "    <tr style=\"text-align: right;\">\n",
              "      <th></th>\n",
              "      <th>No_Telp</th>\n",
              "      <th>Nama_Lokasi</th>\n",
              "      <th>Jam_Login</th>\n",
              "      <th>Nama</th>\n",
              "      <th>Email</th>\n",
              "      <th>Tahun_Lahir</th>\n",
              "      <th>Merek_HP</th>\n",
              "      <th>Digital_Interest</th>\n",
              "      <th>Location_Type</th>\n",
              "      <th>Umur</th>\n",
              "      <th>Prioritas</th>\n",
              "    </tr>\n",
              "  </thead>\n",
              "  <tbody>\n",
              "    <tr>\n",
              "      <th>1</th>\n",
              "      <td>62964618</td>\n",
              "      <td>Cafe Bianca</td>\n",
              "      <td>11.30</td>\n",
              "      <td>Rony</td>\n",
              "      <td>Rony@gmail.com</td>\n",
              "      <td>1992</td>\n",
              "      <td>Samsung</td>\n",
              "      <td>Marketing</td>\n",
              "      <td>Tempat Makan</td>\n",
              "      <td>31</td>\n",
              "      <td>1</td>\n",
              "    </tr>\n",
              "    <tr>\n",
              "      <th>2</th>\n",
              "      <td>62000286</td>\n",
              "      <td>Cafe Cantik</td>\n",
              "      <td>12.30</td>\n",
              "      <td>Coky</td>\n",
              "      <td>Coky@gmail.com</td>\n",
              "      <td>1985</td>\n",
              "      <td>Samsung</td>\n",
              "      <td>Marketing</td>\n",
              "      <td>Tempat Makan</td>\n",
              "      <td>38</td>\n",
              "      <td>1</td>\n",
              "    </tr>\n",
              "    <tr>\n",
              "      <th>3</th>\n",
              "      <td>62310982</td>\n",
              "      <td>Cafe Doremi</td>\n",
              "      <td>16.00</td>\n",
              "      <td>Jimin</td>\n",
              "      <td>Jimin@gmail.com</td>\n",
              "      <td>1987</td>\n",
              "      <td>Real me</td>\n",
              "      <td>Education</td>\n",
              "      <td>Tempat Makan</td>\n",
              "      <td>36</td>\n",
              "      <td>1</td>\n",
              "    </tr>\n",
              "    <tr>\n",
              "      <th>4</th>\n",
              "      <td>628863888</td>\n",
              "      <td>Cafe Eskula</td>\n",
              "      <td>18.00</td>\n",
              "      <td>Taehyung</td>\n",
              "      <td>Taehyung@gmail.com</td>\n",
              "      <td>1995</td>\n",
              "      <td>Samsung</td>\n",
              "      <td>Content Creator</td>\n",
              "      <td>Tempat Makan</td>\n",
              "      <td>28</td>\n",
              "      <td>1</td>\n",
              "    </tr>\n",
              "    <tr>\n",
              "      <th>5</th>\n",
              "      <td>62111842</td>\n",
              "      <td>Cafe Fanta</td>\n",
              "      <td>18.00</td>\n",
              "      <td>Jungkok</td>\n",
              "      <td>Jungkok@gmail.com</td>\n",
              "      <td>1997</td>\n",
              "      <td>Samsung</td>\n",
              "      <td>Content Creator</td>\n",
              "      <td>Tempat Makan</td>\n",
              "      <td>26</td>\n",
              "      <td>1</td>\n",
              "    </tr>\n",
              "    <tr>\n",
              "      <th>...</th>\n",
              "      <td>...</td>\n",
              "      <td>...</td>\n",
              "      <td>...</td>\n",
              "      <td>...</td>\n",
              "      <td>...</td>\n",
              "      <td>...</td>\n",
              "      <td>...</td>\n",
              "      <td>...</td>\n",
              "      <td>...</td>\n",
              "      <td>...</td>\n",
              "      <td>...</td>\n",
              "    </tr>\n",
              "    <tr>\n",
              "      <th>145</th>\n",
              "      <td>625437199</td>\n",
              "      <td>SMA Tiansi</td>\n",
              "      <td>13.00</td>\n",
              "      <td>Dizma</td>\n",
              "      <td>Dizma@gmail.com</td>\n",
              "      <td>1989</td>\n",
              "      <td>Samsung</td>\n",
              "      <td>Education</td>\n",
              "      <td>Sekolah</td>\n",
              "      <td>34</td>\n",
              "      <td>0</td>\n",
              "    </tr>\n",
              "    <tr>\n",
              "      <th>146</th>\n",
              "      <td>62638191</td>\n",
              "      <td>SMP Al Islam 1</td>\n",
              "      <td>9.23</td>\n",
              "      <td>Didin</td>\n",
              "      <td>Didin@gmail.com</td>\n",
              "      <td>1998</td>\n",
              "      <td>Real me</td>\n",
              "      <td>Education</td>\n",
              "      <td>Sekolah</td>\n",
              "      <td>25</td>\n",
              "      <td>0</td>\n",
              "    </tr>\n",
              "    <tr>\n",
              "      <th>147</th>\n",
              "      <td>62111842</td>\n",
              "      <td>SMP As Sallam 1</td>\n",
              "      <td>9.24</td>\n",
              "      <td>Jungkok</td>\n",
              "      <td>Jungkok@gmail.com</td>\n",
              "      <td>1997</td>\n",
              "      <td>Samsung</td>\n",
              "      <td>Content Creator</td>\n",
              "      <td>Sekolah</td>\n",
              "      <td>26</td>\n",
              "      <td>1</td>\n",
              "    </tr>\n",
              "    <tr>\n",
              "      <th>148</th>\n",
              "      <td>62878881</td>\n",
              "      <td>SMP Binus</td>\n",
              "      <td>9.15</td>\n",
              "      <td>Wisma</td>\n",
              "      <td>Wisma@gmail.com</td>\n",
              "      <td>1988</td>\n",
              "      <td>Real me</td>\n",
              "      <td>Education</td>\n",
              "      <td>Sekolah</td>\n",
              "      <td>35</td>\n",
              "      <td>1</td>\n",
              "    </tr>\n",
              "    <tr>\n",
              "      <th>152</th>\n",
              "      <td>622221901</td>\n",
              "      <td>SMP Al Islam 1</td>\n",
              "      <td>9.12</td>\n",
              "      <td>Gagah</td>\n",
              "      <td>Gagah@gmail.com</td>\n",
              "      <td>1998</td>\n",
              "      <td>Samsung</td>\n",
              "      <td>Education</td>\n",
              "      <td>Sekolah</td>\n",
              "      <td>25</td>\n",
              "      <td>1</td>\n",
              "    </tr>\n",
              "  </tbody>\n",
              "</table>\n",
              "<p>122 rows × 11 columns</p>\n",
              "</div>\n",
              "      <button class=\"colab-df-convert\" onclick=\"convertToInteractive('df-8272860d-d26b-41f6-8da1-95c83b9973a2')\"\n",
              "              title=\"Convert this dataframe to an interactive table.\"\n",
              "              style=\"display:none;\">\n",
              "        \n",
              "  <svg xmlns=\"http://www.w3.org/2000/svg\" height=\"24px\"viewBox=\"0 0 24 24\"\n",
              "       width=\"24px\">\n",
              "    <path d=\"M0 0h24v24H0V0z\" fill=\"none\"/>\n",
              "    <path d=\"M18.56 5.44l.94 2.06.94-2.06 2.06-.94-2.06-.94-.94-2.06-.94 2.06-2.06.94zm-11 1L8.5 8.5l.94-2.06 2.06-.94-2.06-.94L8.5 2.5l-.94 2.06-2.06.94zm10 10l.94 2.06.94-2.06 2.06-.94-2.06-.94-.94-2.06-.94 2.06-2.06.94z\"/><path d=\"M17.41 7.96l-1.37-1.37c-.4-.4-.92-.59-1.43-.59-.52 0-1.04.2-1.43.59L10.3 9.45l-7.72 7.72c-.78.78-.78 2.05 0 2.83L4 21.41c.39.39.9.59 1.41.59.51 0 1.02-.2 1.41-.59l7.78-7.78 2.81-2.81c.8-.78.8-2.07 0-2.86zM5.41 20L4 18.59l7.72-7.72 1.47 1.35L5.41 20z\"/>\n",
              "  </svg>\n",
              "      </button>\n",
              "      \n",
              "  <style>\n",
              "    .colab-df-container {\n",
              "      display:flex;\n",
              "      flex-wrap:wrap;\n",
              "      gap: 12px;\n",
              "    }\n",
              "\n",
              "    .colab-df-convert {\n",
              "      background-color: #E8F0FE;\n",
              "      border: none;\n",
              "      border-radius: 50%;\n",
              "      cursor: pointer;\n",
              "      display: none;\n",
              "      fill: #1967D2;\n",
              "      height: 32px;\n",
              "      padding: 0 0 0 0;\n",
              "      width: 32px;\n",
              "    }\n",
              "\n",
              "    .colab-df-convert:hover {\n",
              "      background-color: #E2EBFA;\n",
              "      box-shadow: 0px 1px 2px rgba(60, 64, 67, 0.3), 0px 1px 3px 1px rgba(60, 64, 67, 0.15);\n",
              "      fill: #174EA6;\n",
              "    }\n",
              "\n",
              "    [theme=dark] .colab-df-convert {\n",
              "      background-color: #3B4455;\n",
              "      fill: #D2E3FC;\n",
              "    }\n",
              "\n",
              "    [theme=dark] .colab-df-convert:hover {\n",
              "      background-color: #434B5C;\n",
              "      box-shadow: 0px 1px 3px 1px rgba(0, 0, 0, 0.15);\n",
              "      filter: drop-shadow(0px 1px 2px rgba(0, 0, 0, 0.3));\n",
              "      fill: #FFFFFF;\n",
              "    }\n",
              "  </style>\n",
              "\n",
              "      <script>\n",
              "        const buttonEl =\n",
              "          document.querySelector('#df-8272860d-d26b-41f6-8da1-95c83b9973a2 button.colab-df-convert');\n",
              "        buttonEl.style.display =\n",
              "          google.colab.kernel.accessAllowed ? 'block' : 'none';\n",
              "\n",
              "        async function convertToInteractive(key) {\n",
              "          const element = document.querySelector('#df-8272860d-d26b-41f6-8da1-95c83b9973a2');\n",
              "          const dataTable =\n",
              "            await google.colab.kernel.invokeFunction('convertToInteractive',\n",
              "                                                     [key], {});\n",
              "          if (!dataTable) return;\n",
              "\n",
              "          const docLinkHtml = 'Like what you see? Visit the ' +\n",
              "            '<a target=\"_blank\" href=https://colab.research.google.com/notebooks/data_table.ipynb>data table notebook</a>'\n",
              "            + ' to learn more about interactive tables.';\n",
              "          element.innerHTML = '';\n",
              "          dataTable['output_type'] = 'display_data';\n",
              "          await google.colab.output.renderOutput(dataTable, element);\n",
              "          const docLink = document.createElement('div');\n",
              "          docLink.innerHTML = docLinkHtml;\n",
              "          element.appendChild(docLink);\n",
              "        }\n",
              "      </script>\n",
              "    </div>\n",
              "  </div>\n",
              "  "
            ]
          },
          "metadata": {},
          "execution_count": 134
        }
      ]
    },
    {
      "cell_type": "markdown",
      "source": [
        "#One-Hot Encoding"
      ],
      "metadata": {
        "id": "i49PYzERLj5J"
      }
    },
    {
      "cell_type": "code",
      "source": [
        "df1=pd.get_dummies(df,drop_first=True)#applying One-Hot Encoding"
      ],
      "metadata": {
        "id": "pg3ojtdELmX0"
      },
      "execution_count": null,
      "outputs": []
    },
    {
      "cell_type": "code",
      "source": [
        "X=df1.drop(['Prioritas'],axis=1)\n",
        "y=df1['Prioritas']"
      ],
      "metadata": {
        "id": "C8QixdyRLrec"
      },
      "execution_count": null,
      "outputs": []
    },
    {
      "cell_type": "code",
      "source": [
        "X.head()"
      ],
      "metadata": {
        "colab": {
          "base_uri": "https://localhost:8080/",
          "height": 317
        },
        "id": "h3UNb8T_LxwA",
        "outputId": "01fa85af-fb4c-4381-f6f1-7bcf60150758"
      },
      "execution_count": null,
      "outputs": [
        {
          "output_type": "execute_result",
          "data": {
            "text/plain": [
              "     No_Telp  Jam_Login  Tahun_Lahir  Umur  Nama_Lokasi_Cafe Bianca  \\\n",
              "1   62964618      11.30         1992    31                        1   \n",
              "2   62000286      12.30         1985    38                        0   \n",
              "3   62310982      16.00         1987    36                        0   \n",
              "4  628863888      18.00         1995    28                        0   \n",
              "5   62111842      18.00         1997    26                        0   \n",
              "\n",
              "   Nama_Lokasi_Cafe Cantik  Nama_Lokasi_Cafe Doremi  Nama_Lokasi_Cafe Eskula  \\\n",
              "1                        0                        0                        0   \n",
              "2                        1                        0                        0   \n",
              "3                        0                        1                        0   \n",
              "4                        0                        0                        1   \n",
              "5                        0                        0                        0   \n",
              "\n",
              "   Nama_Lokasi_Cafe Fanta  Nama_Lokasi_Cafe Gio  ...  Email_Zulfa@gmail.com  \\\n",
              "1                       0                     0  ...                      0   \n",
              "2                       0                     0  ...                      0   \n",
              "3                       0                     0  ...                      0   \n",
              "4                       0                     0  ...                      0   \n",
              "5                       1                     0  ...                      0   \n",
              "\n",
              "   Merek_HP_Real me  Merek_HP_Samsung  Merek_HP_Xiaomi  Merek_HP_vivo  \\\n",
              "1                 0                 1                0              0   \n",
              "2                 0                 1                0              0   \n",
              "3                 1                 0                0              0   \n",
              "4                 0                 1                0              0   \n",
              "5                 0                 1                0              0   \n",
              "\n",
              "   Digital_Interest_Content Creator  Digital_Interest_Education  \\\n",
              "1                                 0                           0   \n",
              "2                                 0                           0   \n",
              "3                                 0                           1   \n",
              "4                                 1                           0   \n",
              "5                                 1                           0   \n",
              "\n",
              "   Digital_Interest_Marketing  Digital_Interest_Programmer  \\\n",
              "1                           1                            0   \n",
              "2                           1                            0   \n",
              "3                           0                            0   \n",
              "4                           0                            0   \n",
              "5                           0                            0   \n",
              "\n",
              "   Location_Type_Tempat Makan  \n",
              "1                           1  \n",
              "2                           1  \n",
              "3                           1  \n",
              "4                           1  \n",
              "5                           1  \n",
              "\n",
              "[5 rows x 186 columns]"
            ],
            "text/html": [
              "\n",
              "  <div id=\"df-21f5174b-f9c0-4aa9-8492-9e236c52469a\">\n",
              "    <div class=\"colab-df-container\">\n",
              "      <div>\n",
              "<style scoped>\n",
              "    .dataframe tbody tr th:only-of-type {\n",
              "        vertical-align: middle;\n",
              "    }\n",
              "\n",
              "    .dataframe tbody tr th {\n",
              "        vertical-align: top;\n",
              "    }\n",
              "\n",
              "    .dataframe thead th {\n",
              "        text-align: right;\n",
              "    }\n",
              "</style>\n",
              "<table border=\"1\" class=\"dataframe\">\n",
              "  <thead>\n",
              "    <tr style=\"text-align: right;\">\n",
              "      <th></th>\n",
              "      <th>No_Telp</th>\n",
              "      <th>Jam_Login</th>\n",
              "      <th>Tahun_Lahir</th>\n",
              "      <th>Umur</th>\n",
              "      <th>Nama_Lokasi_Cafe Bianca</th>\n",
              "      <th>Nama_Lokasi_Cafe Cantik</th>\n",
              "      <th>Nama_Lokasi_Cafe Doremi</th>\n",
              "      <th>Nama_Lokasi_Cafe Eskula</th>\n",
              "      <th>Nama_Lokasi_Cafe Fanta</th>\n",
              "      <th>Nama_Lokasi_Cafe Gio</th>\n",
              "      <th>...</th>\n",
              "      <th>Email_Zulfa@gmail.com</th>\n",
              "      <th>Merek_HP_Real me</th>\n",
              "      <th>Merek_HP_Samsung</th>\n",
              "      <th>Merek_HP_Xiaomi</th>\n",
              "      <th>Merek_HP_vivo</th>\n",
              "      <th>Digital_Interest_Content Creator</th>\n",
              "      <th>Digital_Interest_Education</th>\n",
              "      <th>Digital_Interest_Marketing</th>\n",
              "      <th>Digital_Interest_Programmer</th>\n",
              "      <th>Location_Type_Tempat Makan</th>\n",
              "    </tr>\n",
              "  </thead>\n",
              "  <tbody>\n",
              "    <tr>\n",
              "      <th>1</th>\n",
              "      <td>62964618</td>\n",
              "      <td>11.30</td>\n",
              "      <td>1992</td>\n",
              "      <td>31</td>\n",
              "      <td>1</td>\n",
              "      <td>0</td>\n",
              "      <td>0</td>\n",
              "      <td>0</td>\n",
              "      <td>0</td>\n",
              "      <td>0</td>\n",
              "      <td>...</td>\n",
              "      <td>0</td>\n",
              "      <td>0</td>\n",
              "      <td>1</td>\n",
              "      <td>0</td>\n",
              "      <td>0</td>\n",
              "      <td>0</td>\n",
              "      <td>0</td>\n",
              "      <td>1</td>\n",
              "      <td>0</td>\n",
              "      <td>1</td>\n",
              "    </tr>\n",
              "    <tr>\n",
              "      <th>2</th>\n",
              "      <td>62000286</td>\n",
              "      <td>12.30</td>\n",
              "      <td>1985</td>\n",
              "      <td>38</td>\n",
              "      <td>0</td>\n",
              "      <td>1</td>\n",
              "      <td>0</td>\n",
              "      <td>0</td>\n",
              "      <td>0</td>\n",
              "      <td>0</td>\n",
              "      <td>...</td>\n",
              "      <td>0</td>\n",
              "      <td>0</td>\n",
              "      <td>1</td>\n",
              "      <td>0</td>\n",
              "      <td>0</td>\n",
              "      <td>0</td>\n",
              "      <td>0</td>\n",
              "      <td>1</td>\n",
              "      <td>0</td>\n",
              "      <td>1</td>\n",
              "    </tr>\n",
              "    <tr>\n",
              "      <th>3</th>\n",
              "      <td>62310982</td>\n",
              "      <td>16.00</td>\n",
              "      <td>1987</td>\n",
              "      <td>36</td>\n",
              "      <td>0</td>\n",
              "      <td>0</td>\n",
              "      <td>1</td>\n",
              "      <td>0</td>\n",
              "      <td>0</td>\n",
              "      <td>0</td>\n",
              "      <td>...</td>\n",
              "      <td>0</td>\n",
              "      <td>1</td>\n",
              "      <td>0</td>\n",
              "      <td>0</td>\n",
              "      <td>0</td>\n",
              "      <td>0</td>\n",
              "      <td>1</td>\n",
              "      <td>0</td>\n",
              "      <td>0</td>\n",
              "      <td>1</td>\n",
              "    </tr>\n",
              "    <tr>\n",
              "      <th>4</th>\n",
              "      <td>628863888</td>\n",
              "      <td>18.00</td>\n",
              "      <td>1995</td>\n",
              "      <td>28</td>\n",
              "      <td>0</td>\n",
              "      <td>0</td>\n",
              "      <td>0</td>\n",
              "      <td>1</td>\n",
              "      <td>0</td>\n",
              "      <td>0</td>\n",
              "      <td>...</td>\n",
              "      <td>0</td>\n",
              "      <td>0</td>\n",
              "      <td>1</td>\n",
              "      <td>0</td>\n",
              "      <td>0</td>\n",
              "      <td>1</td>\n",
              "      <td>0</td>\n",
              "      <td>0</td>\n",
              "      <td>0</td>\n",
              "      <td>1</td>\n",
              "    </tr>\n",
              "    <tr>\n",
              "      <th>5</th>\n",
              "      <td>62111842</td>\n",
              "      <td>18.00</td>\n",
              "      <td>1997</td>\n",
              "      <td>26</td>\n",
              "      <td>0</td>\n",
              "      <td>0</td>\n",
              "      <td>0</td>\n",
              "      <td>0</td>\n",
              "      <td>1</td>\n",
              "      <td>0</td>\n",
              "      <td>...</td>\n",
              "      <td>0</td>\n",
              "      <td>0</td>\n",
              "      <td>1</td>\n",
              "      <td>0</td>\n",
              "      <td>0</td>\n",
              "      <td>1</td>\n",
              "      <td>0</td>\n",
              "      <td>0</td>\n",
              "      <td>0</td>\n",
              "      <td>1</td>\n",
              "    </tr>\n",
              "  </tbody>\n",
              "</table>\n",
              "<p>5 rows × 186 columns</p>\n",
              "</div>\n",
              "      <button class=\"colab-df-convert\" onclick=\"convertToInteractive('df-21f5174b-f9c0-4aa9-8492-9e236c52469a')\"\n",
              "              title=\"Convert this dataframe to an interactive table.\"\n",
              "              style=\"display:none;\">\n",
              "        \n",
              "  <svg xmlns=\"http://www.w3.org/2000/svg\" height=\"24px\"viewBox=\"0 0 24 24\"\n",
              "       width=\"24px\">\n",
              "    <path d=\"M0 0h24v24H0V0z\" fill=\"none\"/>\n",
              "    <path d=\"M18.56 5.44l.94 2.06.94-2.06 2.06-.94-2.06-.94-.94-2.06-.94 2.06-2.06.94zm-11 1L8.5 8.5l.94-2.06 2.06-.94-2.06-.94L8.5 2.5l-.94 2.06-2.06.94zm10 10l.94 2.06.94-2.06 2.06-.94-2.06-.94-.94-2.06-.94 2.06-2.06.94z\"/><path d=\"M17.41 7.96l-1.37-1.37c-.4-.4-.92-.59-1.43-.59-.52 0-1.04.2-1.43.59L10.3 9.45l-7.72 7.72c-.78.78-.78 2.05 0 2.83L4 21.41c.39.39.9.59 1.41.59.51 0 1.02-.2 1.41-.59l7.78-7.78 2.81-2.81c.8-.78.8-2.07 0-2.86zM5.41 20L4 18.59l7.72-7.72 1.47 1.35L5.41 20z\"/>\n",
              "  </svg>\n",
              "      </button>\n",
              "      \n",
              "  <style>\n",
              "    .colab-df-container {\n",
              "      display:flex;\n",
              "      flex-wrap:wrap;\n",
              "      gap: 12px;\n",
              "    }\n",
              "\n",
              "    .colab-df-convert {\n",
              "      background-color: #E8F0FE;\n",
              "      border: none;\n",
              "      border-radius: 50%;\n",
              "      cursor: pointer;\n",
              "      display: none;\n",
              "      fill: #1967D2;\n",
              "      height: 32px;\n",
              "      padding: 0 0 0 0;\n",
              "      width: 32px;\n",
              "    }\n",
              "\n",
              "    .colab-df-convert:hover {\n",
              "      background-color: #E2EBFA;\n",
              "      box-shadow: 0px 1px 2px rgba(60, 64, 67, 0.3), 0px 1px 3px 1px rgba(60, 64, 67, 0.15);\n",
              "      fill: #174EA6;\n",
              "    }\n",
              "\n",
              "    [theme=dark] .colab-df-convert {\n",
              "      background-color: #3B4455;\n",
              "      fill: #D2E3FC;\n",
              "    }\n",
              "\n",
              "    [theme=dark] .colab-df-convert:hover {\n",
              "      background-color: #434B5C;\n",
              "      box-shadow: 0px 1px 3px 1px rgba(0, 0, 0, 0.15);\n",
              "      filter: drop-shadow(0px 1px 2px rgba(0, 0, 0, 0.3));\n",
              "      fill: #FFFFFF;\n",
              "    }\n",
              "  </style>\n",
              "\n",
              "      <script>\n",
              "        const buttonEl =\n",
              "          document.querySelector('#df-21f5174b-f9c0-4aa9-8492-9e236c52469a button.colab-df-convert');\n",
              "        buttonEl.style.display =\n",
              "          google.colab.kernel.accessAllowed ? 'block' : 'none';\n",
              "\n",
              "        async function convertToInteractive(key) {\n",
              "          const element = document.querySelector('#df-21f5174b-f9c0-4aa9-8492-9e236c52469a');\n",
              "          const dataTable =\n",
              "            await google.colab.kernel.invokeFunction('convertToInteractive',\n",
              "                                                     [key], {});\n",
              "          if (!dataTable) return;\n",
              "\n",
              "          const docLinkHtml = 'Like what you see? Visit the ' +\n",
              "            '<a target=\"_blank\" href=https://colab.research.google.com/notebooks/data_table.ipynb>data table notebook</a>'\n",
              "            + ' to learn more about interactive tables.';\n",
              "          element.innerHTML = '';\n",
              "          dataTable['output_type'] = 'display_data';\n",
              "          await google.colab.output.renderOutput(dataTable, element);\n",
              "          const docLink = document.createElement('div');\n",
              "          docLink.innerHTML = docLinkHtml;\n",
              "          element.appendChild(docLink);\n",
              "        }\n",
              "      </script>\n",
              "    </div>\n",
              "  </div>\n",
              "  "
            ]
          },
          "metadata": {},
          "execution_count": 194
        }
      ]
    },
    {
      "cell_type": "markdown",
      "source": [
        "#Feature Selection"
      ],
      "metadata": {
        "id": "knwkFJNCL0u7"
      }
    },
    {
      "cell_type": "markdown",
      "source": [
        "Feature selection is a method of filtering out the important features as all the features present in the dataset are not equally important. There are some features that have no effect on the output. So we can skip them. As our motive is to reduce the data before feeding it to the training model"
      ],
      "metadata": {
        "id": "wPdb8yTcBV6X"
      }
    },
    {
      "cell_type": "code",
      "source": [
        "from sklearn.ensemble import ExtraTreesClassifier\n",
        "from sklearn.feature_selection import SelectFromModel\n",
        "clf = ExtraTreesClassifier(n_estimators=100)\n",
        "clf = clf.fit(X.values, y)\n",
        "clf.feature_importances_  \n",
        "model = SelectFromModel(clf, prefit=True)\n",
        "X_new = model.transform(X.values)"
      ],
      "metadata": {
        "id": "tRSKi8LzL22L"
      },
      "execution_count": null,
      "outputs": []
    },
    {
      "cell_type": "markdown",
      "source": [
        "##Splitting our dataset into train and test set"
      ],
      "metadata": {
        "id": "5fzYnsktL6c5"
      }
    },
    {
      "cell_type": "code",
      "source": [
        "from sklearn.model_selection import train_test_split"
      ],
      "metadata": {
        "id": "5mQQDJ2QL84U"
      },
      "execution_count": null,
      "outputs": []
    },
    {
      "cell_type": "code",
      "source": [
        "X_train,X_test,y_train,y_test=train_test_split(X_new,y,test_size=0.25,stratify=y,random_state=0)"
      ],
      "metadata": {
        "id": "BPh2mR6gMGt-"
      },
      "execution_count": null,
      "outputs": []
    },
    {
      "cell_type": "markdown",
      "source": [
        "Parameter test_size digunakan untuk mendefinisikan ukuran data testing. Dalam contoh di atas, test_size=0.25 berarti data yang digunakan sebagai data testing adalah sebesar 25% dari keseluruhan dataset."
      ],
      "metadata": {
        "id": "FD58JepECLQs"
      }
    },
    {
      "cell_type": "markdown",
      "source": [
        "##SMOTE(Synthetic Minority Oversampling Technique)"
      ],
      "metadata": {
        "id": "BlRvBAn4MKV4"
      }
    },
    {
      "cell_type": "code",
      "source": [
        "sm = SMOTE(sampling_strategy='auto', random_state=42)"
      ],
      "metadata": {
        "id": "v4caURynMMVS"
      },
      "execution_count": null,
      "outputs": []
    },
    {
      "cell_type": "code",
      "source": [
        "X_train,y_train=sm.fit_resample(X_train,y_train)"
      ],
      "metadata": {
        "id": "zalfNMhPMVsm"
      },
      "execution_count": null,
      "outputs": []
    },
    {
      "cell_type": "markdown",
      "source": [
        "###Count plot after applying SMOTE"
      ],
      "metadata": {
        "id": "QocCQFbiMZQp"
      }
    },
    {
      "cell_type": "code",
      "source": [
        "sns.countplot(y_train)\n",
        "plt.show()"
      ],
      "metadata": {
        "colab": {
          "base_uri": "https://localhost:8080/",
          "height": 279
        },
        "id": "gUrZK3OQMbIP",
        "outputId": "e1969dca-5956-4124-9e9f-2888dc06864f"
      },
      "execution_count": null,
      "outputs": [
        {
          "output_type": "display_data",
          "data": {
            "text/plain": [
              "<Figure size 432x288 with 1 Axes>"
            ],
            "image/png": "[encoded data removed]"
          },
          "metadata": {
            "needs_background": "light"
          }
        }
      ]
    },
    {
      "cell_type": "markdown",
      "source": [
        "#Feature Scaling"
      ],
      "metadata": {
        "id": "lWdUqR8ZMeoi"
      }
    },
    {
      "cell_type": "code",
      "source": [
        "from sklearn.preprocessing import StandardScaler"
      ],
      "metadata": {
        "id": "jwDYpTaNMiQp"
      },
      "execution_count": null,
      "outputs": []
    },
    {
      "cell_type": "code",
      "source": [
        "sc=StandardScaler()\n",
        "X_train=sc.fit_transform(X_train)\n",
        "X_test=sc.transform(X_test)"
      ],
      "metadata": {
        "id": "x8CDKf5fMn20"
      },
      "execution_count": null,
      "outputs": []
    },
    {
      "cell_type": "markdown",
      "source": [
        "#Modeling "
      ],
      "metadata": {
        "id": "ZuiSHY0PMquv"
      }
    },
    {
      "cell_type": "code",
      "source": [
        "#creating dictionary for storing different models accuracy\n",
        "model_comparison={}"
      ],
      "metadata": {
        "id": "G77QjOZvMsza"
      },
      "execution_count": null,
      "outputs": []
    },
    {
      "cell_type": "code",
      "source": [
        "# %% Function for plotting ROC_AUC curve\n",
        "\n",
        "def plot_roc_auc_score(y_test, preds):\n",
        "    '''\n",
        "    Takes actual and predicted(probabilities) as input and plots the Receiver\n",
        "    Operating Characteristic (ROC) curve\n",
        "    '''\n",
        "    fpr, tpr, threshold = roc_curve(y_test, preds)\n",
        "    roc_auc = auc(fpr, tpr)\n",
        "    plt.title('Receiver Operating Characteristic')\n",
        "    plt.plot(fpr, tpr, 'b', label = 'AUC = %0.2f' % roc_auc)\n",
        "    plt.legend(loc = 'lower right')\n",
        "    plt.plot([0, 1], [0, 1],'r--')\n",
        "    plt.xlim([0, 1])\n",
        "    plt.ylim([0, 1])\n",
        "    plt.ylabel('True Positive Rate')\n",
        "    plt.xlabel('False Positive Rate')\n",
        "    plt.show()"
      ],
      "metadata": {
        "id": "gnycEc-vMv3x"
      },
      "execution_count": null,
      "outputs": []
    },
    {
      "cell_type": "markdown",
      "source": [
        "##Logistic Regression"
      ],
      "metadata": {
        "id": "0sdX1f9kMywv"
      }
    },
    {
      "cell_type": "code",
      "source": [
        "classifier=LogisticRegression()\n",
        "classifier.fit(X_train,y_train)\n",
        "y_pred=classifier.predict(X_test)\n",
        "print(f\"Model Accuracy : {accuracy_score(y_pred,y_test)*100:.2f}%\")\n",
        "print(f\"Model F1-Score : {f1_score(y_pred,y_test,average='weighted')*100:.2f}%\")\n",
        "accuracies = cross_val_score(estimator = classifier, X = X_train, y = y_train, cv = 5,scoring=\"recall\")\n",
        "print(\"Cross Val Accuracy: {:.2f} %\".format(accuracies.mean()*100))\n",
        "print(\"Cross Val Standard Deviation: {:.2f} %\".format(accuracies.std()*100))\n",
        "print(classification_report(y_pred,y_test,zero_division=1))\n",
        "model_comparison['Logistic Regression']=[accuracy_score(y_pred,y_test),f1_score(y_pred,y_test,average='weighted'),(accuracies.mean()),(accuracies.std())]"
      ],
      "metadata": {
        "colab": {
          "base_uri": "https://localhost:8080/"
        },
        "id": "AuHPjJoEM1T-",
        "outputId": "5e51db44-53df-49e8-8ddf-e65ad81097e2"
      },
      "execution_count": null,
      "outputs": [
        {
          "output_type": "stream",
          "name": "stdout",
          "text": [
            "Model Accuracy : 74.19%\n",
            "Model F1-Score : 74.36%\n",
            "Cross Val Accuracy: 81.11 %\n",
            "Cross Val Standard Deviation: 11.46 %\n",
            "              precision    recall  f1-score   support\n",
            "\n",
            "           0       0.81      0.72      0.76        18\n",
            "           1       0.67      0.77      0.71        13\n",
            "\n",
            "    accuracy                           0.74        31\n",
            "   macro avg       0.74      0.75      0.74        31\n",
            "weighted avg       0.75      0.74      0.74        31\n",
            "\n"
          ]
        }
      ]
    },
    {
      "cell_type": "code",
      "source": [
        "print(\"Confusion Matrix of Logistic Regression Classifier: \\n\", confusion_matrix(y_test,y_pred))\n",
        "plot_roc_auc_score(y_test, classifier.predict_proba(X_test)[:,1])"
      ],
      "metadata": {
        "colab": {
          "base_uri": "https://localhost:8080/",
          "height": 347
        },
        "id": "Adb7oZ3JNGza",
        "outputId": "69cd0f35-9e65-4eb7-b3ac-1a226e01237f"
      },
      "execution_count": null,
      "outputs": [
        {
          "output_type": "stream",
          "name": "stdout",
          "text": [
            "Confusion Matrix of Logistic Regression Classifier: \n",
            " [[13  3]\n",
            " [ 5 10]]\n"
          ]
        },
        {
          "output_type": "display_data",
          "data": {
            "text/plain": [
              "<Figure size 432x288 with 1 Axes>"
            ],
            "image/png": "[encoded data removed]"
          },
          "metadata": {
            "needs_background": "light"
          }
        }
      ]
    },
    {
      "cell_type": "code",
      "source": [
        "#from sklearn.metrics import precision_score, recall_score, f1_score, accuracy_score\n",
        "#print('Precision: %.3f' % precision_score(y_test, y_pred))"
      ],
      "metadata": {
        "id": "djt4SA8ZBOBJ"
      },
      "execution_count": null,
      "outputs": []
    },
    {
      "cell_type": "markdown",
      "source": [
        "##Decision Tree"
      ],
      "metadata": {
        "id": "y0pagrORNKFS"
      }
    },
    {
      "cell_type": "code",
      "source": [
        "classifier=DecisionTreeClassifier(criterion = 'entropy', random_state = 0)\n",
        "classifier.fit(X_train,y_train)\n",
        "y_pred=classifier.predict(X_test)\n",
        "print(f\"Model Accuracy : {accuracy_score(y_pred,y_test)*100:.2f}%\")\n",
        "print(f\"Model F1-Score : {f1_score(y_pred,y_test,average='weighted')*100:.2f}%\")\n",
        "accuracies = cross_val_score(estimator = classifier, X = X_train, y = y_train, cv = 5,scoring=\"recall\")\n",
        "print(\"Cross Val Accuracy: {:.2f} %\".format(accuracies.mean()*100))\n",
        "print(\"Cross Val Standard Deviation: {:.2f} %\".format(accuracies.std()*100))\n",
        "print(classification_report(y_pred,y_test,zero_division=1))\n",
        "model_comparison['Decision Tree']=[accuracy_score(y_pred,y_test),f1_score(y_pred,y_test,average='weighted'),(accuracies.mean()),(accuracies.std())]"
      ],
      "metadata": {
        "colab": {
          "base_uri": "https://localhost:8080/"
        },
        "id": "6JHHlhsQNNFs",
        "outputId": "ca226dfe-9dfd-46be-da72-78dafae0dc3d"
      },
      "execution_count": null,
      "outputs": [
        {
          "output_type": "stream",
          "name": "stdout",
          "text": [
            "Model Accuracy : 64.52%\n",
            "Model F1-Score : 64.97%\n",
            "Cross Val Accuracy: 87.11 %\n",
            "Cross Val Standard Deviation: 8.45 %\n",
            "              precision    recall  f1-score   support\n",
            "\n",
            "           0       0.75      0.63      0.69        19\n",
            "           1       0.53      0.67      0.59        12\n",
            "\n",
            "    accuracy                           0.65        31\n",
            "   macro avg       0.64      0.65      0.64        31\n",
            "weighted avg       0.67      0.65      0.65        31\n",
            "\n"
          ]
        }
      ]
    },
    {
      "cell_type": "code",
      "source": [
        "print(\"Confusion Matrix of Decision Tree Classifier: \\n\", confusion_matrix(y_test,y_pred))\n",
        "plot_roc_auc_score(y_test, classifier.predict_proba(X_test)[:,1])"
      ],
      "metadata": {
        "colab": {
          "base_uri": "https://localhost:8080/",
          "height": 347
        },
        "id": "y5KIfqSiNP79",
        "outputId": "22cbeb34-2d7d-4c69-c075-b26d12ea3af0"
      },
      "execution_count": null,
      "outputs": [
        {
          "output_type": "stream",
          "name": "stdout",
          "text": [
            "Confusion Matrix of Decision Tree Classifier: \n",
            " [[12  4]\n",
            " [ 7  8]]\n"
          ]
        },
        {
          "output_type": "display_data",
          "data": {
            "text/plain": [
              "<Figure size 432x288 with 1 Axes>"
            ],
            "image/png": "[encoded data removed]"
          },
          "metadata": {
            "needs_background": "light"
          }
        }
      ]
    },
    {
      "cell_type": "markdown",
      "source": [
        "##KNN"
      ],
      "metadata": {
        "id": "nznaGdFYNTFc"
      }
    },
    {
      "cell_type": "code",
      "source": [
        "classifier=KNeighborsClassifier(n_neighbors=5,p=1)\n",
        "classifier.fit(X_train,y_train)\n",
        "y_pred=classifier.predict(X_test)\n",
        "print(f\"Model Accuracy : {accuracy_score(y_pred,y_test)*100:.2f}%\")\n",
        "print(f\"Model F1-Score : {f1_score(y_pred,y_test,average='weighted')*100:.2f}%\")\n",
        "accuracies = cross_val_score(estimator = classifier, X = X_train, y = y_train, cv = 5)\n",
        "print(\"Cross Val Accuracy: {:.2f} %\".format(accuracies.mean()*100))\n",
        "print(\"Cross Val Standard Deviation: {:.2f} %\".format(accuracies.std()*100))\n",
        "print(classification_report(y_pred,y_test,zero_division=1))\n",
        "model_comparison['KNN']=[accuracy_score(y_pred,y_test),f1_score(y_pred,y_test,average='weighted'),(accuracies.mean()),(accuracies.std())]"
      ],
      "metadata": {
        "colab": {
          "base_uri": "https://localhost:8080/"
        },
        "id": "e2qtUlV7NWyx",
        "outputId": "03c5f528-9501-4b58-bf43-11106b98b28a"
      },
      "execution_count": null,
      "outputs": [
        {
          "output_type": "stream",
          "name": "stdout",
          "text": [
            "Model Accuracy : 77.42%\n",
            "Model F1-Score : 77.71%\n",
            "Cross Val Accuracy: 79.77 %\n",
            "Cross Val Standard Deviation: 4.03 %\n",
            "              precision    recall  f1-score   support\n",
            "\n",
            "           0       0.88      0.74      0.80        19\n",
            "           1       0.67      0.83      0.74        12\n",
            "\n",
            "    accuracy                           0.77        31\n",
            "   macro avg       0.77      0.79      0.77        31\n",
            "weighted avg       0.79      0.77      0.78        31\n",
            "\n"
          ]
        }
      ]
    },
    {
      "cell_type": "code",
      "source": [
        "print(\"Confusion Matrix of KNN Classifier: \\n\", confusion_matrix(y_test,y_pred))\n",
        "plot_roc_auc_score(y_test, classifier.predict_proba(X_test)[:,1])"
      ],
      "metadata": {
        "colab": {
          "base_uri": "https://localhost:8080/",
          "height": 347
        },
        "id": "786iv551NbCc",
        "outputId": "731d6059-e4d0-400d-fb1c-414e4a256a04"
      },
      "execution_count": null,
      "outputs": [
        {
          "output_type": "stream",
          "name": "stdout",
          "text": [
            "Confusion Matrix of KNN Classifier: \n",
            " [[14  2]\n",
            " [ 5 10]]\n"
          ]
        },
        {
          "output_type": "display_data",
          "data": {
            "text/plain": [
              "<Figure size 432x288 with 1 Axes>"
            ],
            "image/png": "[encoded data removed]"
          },
          "metadata": {
            "needs_background": "light"
          }
        }
      ]
    },
    {
      "cell_type": "markdown",
      "source": [
        "##Naive Bayes"
      ],
      "metadata": {
        "id": "9bRc8suFNe6G"
      }
    },
    {
      "cell_type": "code",
      "source": [
        "classifier=GaussianNB()\n",
        "classifier.fit(X_train,y_train)\n",
        "y_pred=classifier.predict(X_test)\n",
        "print(f\"Model Accuracy : {accuracy_score(y_pred,y_test)*100:.2f}%\")\n",
        "print(f\"Model F1-Score : {f1_score(y_pred,y_test,average='weighted')*100:.2f}%\")\n",
        "accuracies = cross_val_score(estimator = classifier, X = X_train, y = y_train, cv = 5)\n",
        "print(\"Cross Val Accuracy: {:.2f} %\".format(accuracies.mean()*100))\n",
        "print(\"Cross Val Standard Deviation: {:.2f} %\".format(accuracies.std()*100))\n",
        "print(classification_report(y_pred,y_test,zero_division=1))\n",
        "model_comparison['Naive Bayes']=[accuracy_score(y_pred,y_test),f1_score(y_pred,y_test,average='weighted'),(accuracies.mean()),(accuracies.std())]"
      ],
      "metadata": {
        "colab": {
          "base_uri": "https://localhost:8080/"
        },
        "id": "145Y7Tv2Nh1X",
        "outputId": "9c64c9f1-d116-4c5b-8c92-9c23a7fd18e6"
      },
      "execution_count": null,
      "outputs": [
        {
          "output_type": "stream",
          "name": "stdout",
          "text": [
            "Model Accuracy : 77.42%\n",
            "Model F1-Score : 78.83%\n",
            "Cross Val Accuracy: 81.87 %\n",
            "Cross Val Standard Deviation: 7.98 %\n",
            "              precision    recall  f1-score   support\n",
            "\n",
            "           0       1.00      0.70      0.82        23\n",
            "           1       0.53      1.00      0.70         8\n",
            "\n",
            "    accuracy                           0.77        31\n",
            "   macro avg       0.77      0.85      0.76        31\n",
            "weighted avg       0.88      0.77      0.79        31\n",
            "\n"
          ]
        }
      ]
    },
    {
      "cell_type": "code",
      "source": [
        "print(\"Confusion Matrix of Naive Bayes Classifier: \\n\", confusion_matrix(y_test,y_pred))\n",
        "plot_roc_auc_score(y_test, classifier.predict_proba(X_test)[:,1])"
      ],
      "metadata": {
        "colab": {
          "base_uri": "https://localhost:8080/",
          "height": 347
        },
        "id": "MRXGTU9gNlV8",
        "outputId": "65b62e07-669b-402e-8377-fb66557df5c1"
      },
      "execution_count": null,
      "outputs": [
        {
          "output_type": "stream",
          "name": "stdout",
          "text": [
            "Confusion Matrix of Naive Bayes Classifier: \n",
            " [[16  0]\n",
            " [ 7  8]]\n"
          ]
        },
        {
          "output_type": "display_data",
          "data": {
            "text/plain": [
              "<Figure size 432x288 with 1 Axes>"
            ],
            "image/png": "[encoded data removed]"
          },
          "metadata": {
            "needs_background": "light"
          }
        }
      ]
    },
    {
      "cell_type": "markdown",
      "source": [
        "##Random Forest"
      ],
      "metadata": {
        "id": "_sNvOfCTNpBy"
      }
    },
    {
      "cell_type": "code",
      "source": [
        "classifier=RandomForestClassifier(n_estimators = 10, criterion = 'entropy', random_state = 0)\n",
        "classifier.fit(X_train,y_train)\n",
        "y_pred=classifier.predict(X_test)\n",
        "print(f\"Model Accuracy : {accuracy_score(y_pred,y_test)*100:.2f}%\")\n",
        "print(f\"Model F1-Score : {f1_score(y_pred,y_test,average='weighted')*100:.2f}%\")\n",
        "accuracies = cross_val_score(estimator = classifier, X = X_train, y = y_train, cv = 5)\n",
        "print(\"Cross Val Accuracy: {:.2f} %\".format(accuracies.mean()*100))\n",
        "print(\"Cross Val Standard Deviation: {:.2f} %\".format(accuracies.std()*100))\n",
        "print(classification_report(y_pred,y_test,zero_division=1))\n",
        "model_comparison['Random Forest']=[accuracy_score(y_pred,y_test),f1_score(y_pred,y_test,average='weighted'),(accuracies.mean()),(accuracies.std())]"
      ],
      "metadata": {
        "colab": {
          "base_uri": "https://localhost:8080/"
        },
        "id": "dpdGgYElNryd",
        "outputId": "de82e9c3-2c2f-4c50-ed3e-7805351eb0b0"
      },
      "execution_count": null,
      "outputs": [
        {
          "output_type": "stream",
          "name": "stdout",
          "text": [
            "Model Accuracy : 77.42%\n",
            "Model F1-Score : 77.71%\n",
            "Cross Val Accuracy: 79.77 %\n",
            "Cross Val Standard Deviation: 7.03 %\n",
            "              precision    recall  f1-score   support\n",
            "\n",
            "           0       0.88      0.74      0.80        19\n",
            "           1       0.67      0.83      0.74        12\n",
            "\n",
            "    accuracy                           0.77        31\n",
            "   macro avg       0.77      0.79      0.77        31\n",
            "weighted avg       0.79      0.77      0.78        31\n",
            "\n"
          ]
        }
      ]
    },
    {
      "cell_type": "code",
      "source": [
        "print(\"Confusion Matrix of Random Forest Classifier: \\n\", confusion_matrix(y_test,y_pred))\n",
        "plot_roc_auc_score(y_test, classifier.predict_proba(X_test)[:,1])"
      ],
      "metadata": {
        "colab": {
          "base_uri": "https://localhost:8080/",
          "height": 347
        },
        "id": "8K4OTdG4NvVA",
        "outputId": "629dc8f0-5931-4e2b-e8ee-1848f97dbff7"
      },
      "execution_count": null,
      "outputs": [
        {
          "output_type": "stream",
          "name": "stdout",
          "text": [
            "Confusion Matrix of Random Forest Classifier: \n",
            " [[14  2]\n",
            " [ 5 10]]\n"
          ]
        },
        {
          "output_type": "display_data",
          "data": {
            "text/plain": [
              "<Figure size 432x288 with 1 Axes>"
            ],
            "image/png": "[encoded data removed]"
          },
          "metadata": {
            "needs_background": "light"
          }
        }
      ]
    },
    {
      "cell_type": "markdown",
      "source": [
        "##Xg Boost"
      ],
      "metadata": {
        "id": "VA390gs6N0m8"
      }
    },
    {
      "cell_type": "code",
      "source": [
        "classifier = XGBClassifier()\n",
        "classifier.fit(X_train,y_train)\n",
        "y_pred=classifier.predict(X_test)\n",
        "print(f\"Model Accuracy : {accuracy_score(y_pred,y_test)*100:.2f}%\")\n",
        "print(f\"Model F1-Score : {f1_score(y_pred,y_test,average='weighted')*100:.2f}%\")\n",
        "accuracies = cross_val_score(estimator = classifier, X = X_train, y = y_train, cv = 5)\n",
        "print(\"Cross Val Accuracy: {:.2f} %\".format(accuracies.mean()*100))\n",
        "print(\"Cross Val Standard Deviation: {:.2f} %\".format(accuracies.std()*100))\n",
        "print(classification_report(y_pred,y_test,zero_division=1))\n",
        "model_comparison['Xg Boost']=[accuracy_score(y_pred,y_test),f1_score(y_pred,y_test,average='weighted'),(accuracies.mean()),(accuracies.std())]"
      ],
      "metadata": {
        "colab": {
          "base_uri": "https://localhost:8080/"
        },
        "id": "n-4bBuwnN8nh",
        "outputId": "59882f95-09b6-477d-cfa4-c4cd4ab09ccb"
      },
      "execution_count": null,
      "outputs": [
        {
          "output_type": "stream",
          "name": "stdout",
          "text": [
            "Model Accuracy : 64.52%\n",
            "Model F1-Score : 64.52%\n",
            "Cross Val Accuracy: 82.92 %\n",
            "Cross Val Standard Deviation: 6.31 %\n",
            "              precision    recall  f1-score   support\n",
            "\n",
            "           0       0.62      0.67      0.65        15\n",
            "           1       0.67      0.62      0.65        16\n",
            "\n",
            "    accuracy                           0.65        31\n",
            "   macro avg       0.65      0.65      0.65        31\n",
            "weighted avg       0.65      0.65      0.65        31\n",
            "\n"
          ]
        }
      ]
    },
    {
      "cell_type": "code",
      "source": [
        "print(\"Confusion Matrix of XGB Classifier: \\n\", confusion_matrix(y_test,y_pred))\n",
        "plot_roc_auc_score(y_test, classifier.predict_proba(X_test)[:,1])"
      ],
      "metadata": {
        "colab": {
          "base_uri": "https://localhost:8080/",
          "height": 347
        },
        "id": "AAOhm7CBN_6x",
        "outputId": "855a15cb-1de1-4cc0-c045-d132abb72a40"
      },
      "execution_count": null,
      "outputs": [
        {
          "output_type": "stream",
          "name": "stdout",
          "text": [
            "Confusion Matrix of XGB Classifier: \n",
            " [[10  6]\n",
            " [ 5 10]]\n"
          ]
        },
        {
          "output_type": "display_data",
          "data": {
            "text/plain": [
              "<Figure size 432x288 with 1 Axes>"
            ],
            "image/png": "[encoded data removed]"
          },
          "metadata": {
            "needs_background": "light"
          }
        }
      ]
    },
    {
      "cell_type": "markdown",
      "source": [
        "#Models Comparison"
      ],
      "metadata": {
        "id": "i5QrofEqODOB"
      }
    },
    {
      "cell_type": "code",
      "source": [
        "Model_com_df=pd.DataFrame(model_comparison).T\n",
        "Model_com_df.columns=['Model Accuracy','Model F1-Score','CV Accuracy','CV std']\n",
        "Model_com_df=Model_com_df.sort_values(by='Model F1-Score',ascending=False)\n",
        "Model_com_df.style.format(\"{:.2%}\").background_gradient(cmap='Blues')"
      ],
      "metadata": {
        "colab": {
          "base_uri": "https://localhost:8080/",
          "height": 238
        },
        "id": "i40xmYGVOGXd",
        "outputId": "f1629b69-bbda-42f4-c5a6-c2ab2c2cf755"
      },
      "execution_count": null,
      "outputs": [
        {
          "output_type": "execute_result",
          "data": {
            "text/plain": [
              "<pandas.io.formats.style.Styler at 0x7fba391ff160>"
            ],
            "text/html": [
              "<style type=\"text/css\">\n",
              "#T_d0b10_row0_col0, #T_d0b10_row0_col1, #T_d0b10_row1_col0, #T_d0b10_row2_col0, #T_d0b10_row3_col3, #T_d0b10_row4_col2 {\n",
              "  background-color: #08306b;\n",
              "  color: #f1f1f1;\n",
              "}\n",
              "#T_d0b10_row0_col2 {\n",
              "  background-color: #bad6eb;\n",
              "  color: #000000;\n",
              "}\n",
              "#T_d0b10_row0_col3 {\n",
              "  background-color: #60a7d2;\n",
              "  color: #f1f1f1;\n",
              "}\n",
              "#T_d0b10_row1_col1, #T_d0b10_row2_col1 {\n",
              "  background-color: #08458a;\n",
              "  color: #f1f1f1;\n",
              "}\n",
              "#T_d0b10_row1_col2, #T_d0b10_row1_col3, #T_d0b10_row2_col2, #T_d0b10_row4_col0, #T_d0b10_row5_col0, #T_d0b10_row5_col1 {\n",
              "  background-color: #f7fbff;\n",
              "  color: #000000;\n",
              "}\n",
              "#T_d0b10_row2_col3 {\n",
              "  background-color: #92c4de;\n",
              "  color: #000000;\n",
              "}\n",
              "#T_d0b10_row3_col0 {\n",
              "  background-color: #2070b4;\n",
              "  color: #f1f1f1;\n",
              "}\n",
              "#T_d0b10_row3_col1 {\n",
              "  background-color: #3282be;\n",
              "  color: #f1f1f1;\n",
              "}\n",
              "#T_d0b10_row3_col2 {\n",
              "  background-color: #d3e4f3;\n",
              "  color: #000000;\n",
              "}\n",
              "#T_d0b10_row4_col1 {\n",
              "  background-color: #f1f7fd;\n",
              "  color: #000000;\n",
              "}\n",
              "#T_d0b10_row4_col3 {\n",
              "  background-color: #4b98ca;\n",
              "  color: #f1f1f1;\n",
              "}\n",
              "#T_d0b10_row5_col2 {\n",
              "  background-color: #87bddc;\n",
              "  color: #000000;\n",
              "}\n",
              "#T_d0b10_row5_col3 {\n",
              "  background-color: #b4d3e9;\n",
              "  color: #000000;\n",
              "}\n",
              "</style>\n",
              "<table id=\"T_d0b10_\" class=\"dataframe\">\n",
              "  <thead>\n",
              "    <tr>\n",
              "      <th class=\"blank level0\" >&nbsp;</th>\n",
              "      <th class=\"col_heading level0 col0\" >Model Accuracy</th>\n",
              "      <th class=\"col_heading level0 col1\" >Model F1-Score</th>\n",
              "      <th class=\"col_heading level0 col2\" >CV Accuracy</th>\n",
              "      <th class=\"col_heading level0 col3\" >CV std</th>\n",
              "    </tr>\n",
              "  </thead>\n",
              "  <tbody>\n",
              "    <tr>\n",
              "      <th id=\"T_d0b10_level0_row0\" class=\"row_heading level0 row0\" >Naive Bayes</th>\n",
              "      <td id=\"T_d0b10_row0_col0\" class=\"data row0 col0\" >77.42%</td>\n",
              "      <td id=\"T_d0b10_row0_col1\" class=\"data row0 col1\" >78.83%</td>\n",
              "      <td id=\"T_d0b10_row0_col2\" class=\"data row0 col2\" >81.87%</td>\n",
              "      <td id=\"T_d0b10_row0_col3\" class=\"data row0 col3\" >7.98%</td>\n",
              "    </tr>\n",
              "    <tr>\n",
              "      <th id=\"T_d0b10_level0_row1\" class=\"row_heading level0 row1\" >KNN</th>\n",
              "      <td id=\"T_d0b10_row1_col0\" class=\"data row1 col0\" >77.42%</td>\n",
              "      <td id=\"T_d0b10_row1_col1\" class=\"data row1 col1\" >77.71%</td>\n",
              "      <td id=\"T_d0b10_row1_col2\" class=\"data row1 col2\" >79.77%</td>\n",
              "      <td id=\"T_d0b10_row1_col3\" class=\"data row1 col3\" >4.03%</td>\n",
              "    </tr>\n",
              "    <tr>\n",
              "      <th id=\"T_d0b10_level0_row2\" class=\"row_heading level0 row2\" >Random Forest</th>\n",
              "      <td id=\"T_d0b10_row2_col0\" class=\"data row2 col0\" >77.42%</td>\n",
              "      <td id=\"T_d0b10_row2_col1\" class=\"data row2 col1\" >77.71%</td>\n",
              "      <td id=\"T_d0b10_row2_col2\" class=\"data row2 col2\" >79.77%</td>\n",
              "      <td id=\"T_d0b10_row2_col3\" class=\"data row2 col3\" >7.03%</td>\n",
              "    </tr>\n",
              "    <tr>\n",
              "      <th id=\"T_d0b10_level0_row3\" class=\"row_heading level0 row3\" >Logistic Regression</th>\n",
              "      <td id=\"T_d0b10_row3_col0\" class=\"data row3 col0\" >74.19%</td>\n",
              "      <td id=\"T_d0b10_row3_col1\" class=\"data row3 col1\" >74.36%</td>\n",
              "      <td id=\"T_d0b10_row3_col2\" class=\"data row3 col2\" >81.11%</td>\n",
              "      <td id=\"T_d0b10_row3_col3\" class=\"data row3 col3\" >11.46%</td>\n",
              "    </tr>\n",
              "    <tr>\n",
              "      <th id=\"T_d0b10_level0_row4\" class=\"row_heading level0 row4\" >Decision Tree</th>\n",
              "      <td id=\"T_d0b10_row4_col0\" class=\"data row4 col0\" >64.52%</td>\n",
              "      <td id=\"T_d0b10_row4_col1\" class=\"data row4 col1\" >64.97%</td>\n",
              "      <td id=\"T_d0b10_row4_col2\" class=\"data row4 col2\" >87.11%</td>\n",
              "      <td id=\"T_d0b10_row4_col3\" class=\"data row4 col3\" >8.45%</td>\n",
              "    </tr>\n",
              "    <tr>\n",
              "      <th id=\"T_d0b10_level0_row5\" class=\"row_heading level0 row5\" >Xg Boost</th>\n",
              "      <td id=\"T_d0b10_row5_col0\" class=\"data row5 col0\" >64.52%</td>\n",
              "      <td id=\"T_d0b10_row5_col1\" class=\"data row5 col1\" >64.52%</td>\n",
              "      <td id=\"T_d0b10_row5_col2\" class=\"data row5 col2\" >82.92%</td>\n",
              "      <td id=\"T_d0b10_row5_col3\" class=\"data row5 col3\" >6.31%</td>\n",
              "    </tr>\n",
              "  </tbody>\n",
              "</table>\n"
            ]
          },
          "metadata": {},
          "execution_count": 217
        }
      ]
    },
    {
      "cell_type": "markdown",
      "source": [
        "##Maximum Accuracies in each Column"
      ],
      "metadata": {
        "id": "RZub8DpwONaT"
      }
    },
    {
      "cell_type": "code",
      "source": [
        "Model_com_df.style.highlight_max().set_caption(\"Maximum Score in each Column\").format(\"{:.2%}\")"
      ],
      "metadata": {
        "colab": {
          "base_uri": "https://localhost:8080/",
          "height": 255
        },
        "id": "90RaKjl-OTAD",
        "outputId": "75cbb023-914b-4d1f-dfb5-8a110e407312"
      },
      "execution_count": null,
      "outputs": [
        {
          "output_type": "execute_result",
          "data": {
            "text/plain": [
              "<pandas.io.formats.style.Styler at 0x7fba391ff730>"
            ],
            "text/html": [
              "<style type=\"text/css\">\n",
              "#T_b4c75_row0_col0, #T_b4c75_row0_col1, #T_b4c75_row1_col0, #T_b4c75_row2_col0, #T_b4c75_row3_col3, #T_b4c75_row4_col2 {\n",
              "  background-color: yellow;\n",
              "}\n",
              "</style>\n",
              "<table id=\"T_b4c75_\" class=\"dataframe\">\n",
              "  <caption>Maximum Score in each Column</caption>\n",
              "  <thead>\n",
              "    <tr>\n",
              "      <th class=\"blank level0\" >&nbsp;</th>\n",
              "      <th class=\"col_heading level0 col0\" >Model Accuracy</th>\n",
              "      <th class=\"col_heading level0 col1\" >Model F1-Score</th>\n",
              "      <th class=\"col_heading level0 col2\" >CV Accuracy</th>\n",
              "      <th class=\"col_heading level0 col3\" >CV std</th>\n",
              "    </tr>\n",
              "  </thead>\n",
              "  <tbody>\n",
              "    <tr>\n",
              "      <th id=\"T_b4c75_level0_row0\" class=\"row_heading level0 row0\" >Naive Bayes</th>\n",
              "      <td id=\"T_b4c75_row0_col0\" class=\"data row0 col0\" >77.42%</td>\n",
              "      <td id=\"T_b4c75_row0_col1\" class=\"data row0 col1\" >78.83%</td>\n",
              "      <td id=\"T_b4c75_row0_col2\" class=\"data row0 col2\" >81.87%</td>\n",
              "      <td id=\"T_b4c75_row0_col3\" class=\"data row0 col3\" >7.98%</td>\n",
              "    </tr>\n",
              "    <tr>\n",
              "      <th id=\"T_b4c75_level0_row1\" class=\"row_heading level0 row1\" >KNN</th>\n",
              "      <td id=\"T_b4c75_row1_col0\" class=\"data row1 col0\" >77.42%</td>\n",
              "      <td id=\"T_b4c75_row1_col1\" class=\"data row1 col1\" >77.71%</td>\n",
              "      <td id=\"T_b4c75_row1_col2\" class=\"data row1 col2\" >79.77%</td>\n",
              "      <td id=\"T_b4c75_row1_col3\" class=\"data row1 col3\" >4.03%</td>\n",
              "    </tr>\n",
              "    <tr>\n",
              "      <th id=\"T_b4c75_level0_row2\" class=\"row_heading level0 row2\" >Random Forest</th>\n",
              "      <td id=\"T_b4c75_row2_col0\" class=\"data row2 col0\" >77.42%</td>\n",
              "      <td id=\"T_b4c75_row2_col1\" class=\"data row2 col1\" >77.71%</td>\n",
              "      <td id=\"T_b4c75_row2_col2\" class=\"data row2 col2\" >79.77%</td>\n",
              "      <td id=\"T_b4c75_row2_col3\" class=\"data row2 col3\" >7.03%</td>\n",
              "    </tr>\n",
              "    <tr>\n",
              "      <th id=\"T_b4c75_level0_row3\" class=\"row_heading level0 row3\" >Logistic Regression</th>\n",
              "      <td id=\"T_b4c75_row3_col0\" class=\"data row3 col0\" >74.19%</td>\n",
              "      <td id=\"T_b4c75_row3_col1\" class=\"data row3 col1\" >74.36%</td>\n",
              "      <td id=\"T_b4c75_row3_col2\" class=\"data row3 col2\" >81.11%</td>\n",
              "      <td id=\"T_b4c75_row3_col3\" class=\"data row3 col3\" >11.46%</td>\n",
              "    </tr>\n",
              "    <tr>\n",
              "      <th id=\"T_b4c75_level0_row4\" class=\"row_heading level0 row4\" >Decision Tree</th>\n",
              "      <td id=\"T_b4c75_row4_col0\" class=\"data row4 col0\" >64.52%</td>\n",
              "      <td id=\"T_b4c75_row4_col1\" class=\"data row4 col1\" >64.97%</td>\n",
              "      <td id=\"T_b4c75_row4_col2\" class=\"data row4 col2\" >87.11%</td>\n",
              "      <td id=\"T_b4c75_row4_col3\" class=\"data row4 col3\" >8.45%</td>\n",
              "    </tr>\n",
              "    <tr>\n",
              "      <th id=\"T_b4c75_level0_row5\" class=\"row_heading level0 row5\" >Xg Boost</th>\n",
              "      <td id=\"T_b4c75_row5_col0\" class=\"data row5 col0\" >64.52%</td>\n",
              "      <td id=\"T_b4c75_row5_col1\" class=\"data row5 col1\" >64.52%</td>\n",
              "      <td id=\"T_b4c75_row5_col2\" class=\"data row5 col2\" >82.92%</td>\n",
              "      <td id=\"T_b4c75_row5_col3\" class=\"data row5 col3\" >6.31%</td>\n",
              "    </tr>\n",
              "  </tbody>\n",
              "</table>\n"
            ]
          },
          "metadata": {},
          "execution_count": 218
        }
      ]
    },
    {
      "cell_type": "markdown",
      "source": [
        "##Minimum Accuracies in each Column"
      ],
      "metadata": {
        "id": "lGDNXhaNO1iz"
      }
    },
    {
      "cell_type": "code",
      "source": [
        "Model_com_df.style.highlight_min().set_caption(\"Minimum Score in each Column\").format(\"{:.2%}\")"
      ],
      "metadata": {
        "colab": {
          "base_uri": "https://localhost:8080/",
          "height": 255
        },
        "id": "6IrrJKi9O4ON",
        "outputId": "e0c64503-0a85-4e84-d08e-fb48cd3f78ee"
      },
      "execution_count": null,
      "outputs": [
        {
          "output_type": "execute_result",
          "data": {
            "text/plain": [
              "<pandas.io.formats.style.Styler at 0x7fba318da880>"
            ],
            "text/html": [
              "<style type=\"text/css\">\n",
              "#T_e9f7e_row1_col2, #T_e9f7e_row1_col3, #T_e9f7e_row2_col2, #T_e9f7e_row4_col0, #T_e9f7e_row5_col0, #T_e9f7e_row5_col1 {\n",
              "  background-color: yellow;\n",
              "}\n",
              "</style>\n",
              "<table id=\"T_e9f7e_\" class=\"dataframe\">\n",
              "  <caption>Minimum Score in each Column</caption>\n",
              "  <thead>\n",
              "    <tr>\n",
              "      <th class=\"blank level0\" >&nbsp;</th>\n",
              "      <th class=\"col_heading level0 col0\" >Model Accuracy</th>\n",
              "      <th class=\"col_heading level0 col1\" >Model F1-Score</th>\n",
              "      <th class=\"col_heading level0 col2\" >CV Accuracy</th>\n",
              "      <th class=\"col_heading level0 col3\" >CV std</th>\n",
              "    </tr>\n",
              "  </thead>\n",
              "  <tbody>\n",
              "    <tr>\n",
              "      <th id=\"T_e9f7e_level0_row0\" class=\"row_heading level0 row0\" >Naive Bayes</th>\n",
              "      <td id=\"T_e9f7e_row0_col0\" class=\"data row0 col0\" >77.42%</td>\n",
              "      <td id=\"T_e9f7e_row0_col1\" class=\"data row0 col1\" >78.83%</td>\n",
              "      <td id=\"T_e9f7e_row0_col2\" class=\"data row0 col2\" >81.87%</td>\n",
              "      <td id=\"T_e9f7e_row0_col3\" class=\"data row0 col3\" >7.98%</td>\n",
              "    </tr>\n",
              "    <tr>\n",
              "      <th id=\"T_e9f7e_level0_row1\" class=\"row_heading level0 row1\" >KNN</th>\n",
              "      <td id=\"T_e9f7e_row1_col0\" class=\"data row1 col0\" >77.42%</td>\n",
              "      <td id=\"T_e9f7e_row1_col1\" class=\"data row1 col1\" >77.71%</td>\n",
              "      <td id=\"T_e9f7e_row1_col2\" class=\"data row1 col2\" >79.77%</td>\n",
              "      <td id=\"T_e9f7e_row1_col3\" class=\"data row1 col3\" >4.03%</td>\n",
              "    </tr>\n",
              "    <tr>\n",
              "      <th id=\"T_e9f7e_level0_row2\" class=\"row_heading level0 row2\" >Random Forest</th>\n",
              "      <td id=\"T_e9f7e_row2_col0\" class=\"data row2 col0\" >77.42%</td>\n",
              "      <td id=\"T_e9f7e_row2_col1\" class=\"data row2 col1\" >77.71%</td>\n",
              "      <td id=\"T_e9f7e_row2_col2\" class=\"data row2 col2\" >79.77%</td>\n",
              "      <td id=\"T_e9f7e_row2_col3\" class=\"data row2 col3\" >7.03%</td>\n",
              "    </tr>\n",
              "    <tr>\n",
              "      <th id=\"T_e9f7e_level0_row3\" class=\"row_heading level0 row3\" >Logistic Regression</th>\n",
              "      <td id=\"T_e9f7e_row3_col0\" class=\"data row3 col0\" >74.19%</td>\n",
              "      <td id=\"T_e9f7e_row3_col1\" class=\"data row3 col1\" >74.36%</td>\n",
              "      <td id=\"T_e9f7e_row3_col2\" class=\"data row3 col2\" >81.11%</td>\n",
              "      <td id=\"T_e9f7e_row3_col3\" class=\"data row3 col3\" >11.46%</td>\n",
              "    </tr>\n",
              "    <tr>\n",
              "      <th id=\"T_e9f7e_level0_row4\" class=\"row_heading level0 row4\" >Decision Tree</th>\n",
              "      <td id=\"T_e9f7e_row4_col0\" class=\"data row4 col0\" >64.52%</td>\n",
              "      <td id=\"T_e9f7e_row4_col1\" class=\"data row4 col1\" >64.97%</td>\n",
              "      <td id=\"T_e9f7e_row4_col2\" class=\"data row4 col2\" >87.11%</td>\n",
              "      <td id=\"T_e9f7e_row4_col3\" class=\"data row4 col3\" >8.45%</td>\n",
              "    </tr>\n",
              "    <tr>\n",
              "      <th id=\"T_e9f7e_level0_row5\" class=\"row_heading level0 row5\" >Xg Boost</th>\n",
              "      <td id=\"T_e9f7e_row5_col0\" class=\"data row5 col0\" >64.52%</td>\n",
              "      <td id=\"T_e9f7e_row5_col1\" class=\"data row5 col1\" >64.52%</td>\n",
              "      <td id=\"T_e9f7e_row5_col2\" class=\"data row5 col2\" >82.92%</td>\n",
              "      <td id=\"T_e9f7e_row5_col3\" class=\"data row5 col3\" >6.31%</td>\n",
              "    </tr>\n",
              "  </tbody>\n",
              "</table>\n"
            ]
          },
          "metadata": {},
          "execution_count": 219
        }
      ]
    }
  ]
}